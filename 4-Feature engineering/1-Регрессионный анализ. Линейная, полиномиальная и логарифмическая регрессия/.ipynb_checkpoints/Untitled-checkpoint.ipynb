{
 "cells": [
  {
   "cell_type": "code",
   "execution_count": 1,
   "metadata": {},
   "outputs": [
    {
     "name": "stdout",
     "output_type": "stream",
     "text": [
      "Connection successful\n",
      "Your database successfully created.\n",
      "Table has been created\n"
     ]
    }
   ],
   "source": [
    "import mysql.connector as sql \n",
    "con=sql.connect(host='localhost',user='root',passwd='')\n",
    "if con.is_connected():\n",
    "  print(\"Connection successful\")\n",
    "c=con.cursor()\n",
    "c.execute(\"Create database School\")\n",
    "print(\"Your database successfully created.\")\n",
    "c.execute(\"Use School; \")\n",
    "c.execute(\"Create table Class_12 (Sno int primary key, Name varchar(20), Class int, Fathers_name varchar(20), Percentage float); \")\n",
    "\n",
    "print (\"Table has been created\")\n",
    "con.commit()\n"
   ]
  },
  {
   "cell_type": "code",
   "execution_count": 4,
   "metadata": {},
   "outputs": [
    {
     "name": "stdout",
     "output_type": "stream",
     "text": [
      "Connection successful\n",
      "table created\n",
      "Enter the empIoyee ID: 1023\n",
      "Enter the employee name: John Sharma\n",
      "Enter the employee DOB: 1980-01-03\n",
      "Enter the employee gender: M\n",
      "Enter the employee address: 9-6, Whitechapel Road, London\n",
      "Enter the employee salary: 5000\n",
      "Do you want to in out more data?(y/n)  y\n",
      "Enter the empIoyee ID: 1007\n",
      "Enter the employee name: Archna Gupta\n",
      "Enter the employee DOB: 1985-05-05\n",
      "Enter the employee gender: F\n",
      "Enter the employee address: 60-8, Trafalgar Square, London\n",
      "Enter the employee salary: 4700\n",
      "Do you want to in out more data?(y/n)  n\n",
      "Employee details successfully filled!\n"
     ]
    }
   ],
   "source": [
    "import mysql.connector as sql \n",
    "con=sql.connect(host='localhost',user='root',passwd='',database='Company')\n",
    "if con.is_connected():\n",
    "    print(\"Connection successful\")\n",
    "c=con.cursor()\n",
    "# c.execute('Create table Employee_details(Emp_ID int primary key, Name varchar(20), DOB date, Gender char(1), Address varchar(30), Salary float)')\n",
    "print ('table created')\n",
    "con.commit()\n",
    "\n",
    "c=con.cursor()\n",
    "while True:\n",
    "    Id=input(\"Enter the empIoyee ID: \")\n",
    "    name=input(\"Enter the employee name: \")\n",
    "    dob=input(\"Enter the employee DOB: \")\n",
    "    gender=input(\"Enter the employee gender: \")\n",
    "    address=input(\"Enter the employee address: \")\n",
    "    sal=input(\"Enter the employee salary: \")\n",
    "    Insert = (\"Insert into Employee_details values (%s, '%s', '%s', '%s', '%s', %s); \"% (Id, name, dob, gender, address, sal))\n",
    "    c.execute(Insert)\n",
    "\n",
    "    x=input(\"Do you want to in out more data?(y/n)  \")\n",
    "    if x==\"n\" or x==\"N\":\n",
    "        break\n",
    "print(\"Employee details successfully filled!\")\n",
    "con.commit()"
   ]
  },
  {
   "cell_type": "code",
   "execution_count": 16,
   "metadata": {},
   "outputs": [
    {
     "name": "stdout",
     "output_type": "stream",
     "text": [
      "Connection successful\n",
      "Enter Employee number to search :1007\n",
      "(1007, 'Archna Gupta', datetime.date(1985, 5, 5), 'F', '60-8, Trafalgar Square, London', 4700.0)\n",
      "Do you want to in out more data?(y/n)  n\n",
      "\n"
     ]
    }
   ],
   "source": [
    "import mysql.connector as sql \n",
    "con=sql.connect(host='localhost',user='root',passwd='',database='Company')\n",
    "if con.is_connected():\n",
    "  print(\"Connection successful\")\n",
    "c=con.cursor()\n",
    "\n",
    "def searchEmp():\n",
    "    while True:\n",
    "        x = input(\"Enter Employee number to search :\")\n",
    "        query=(\"select * from Employee_details where Emp_ID=%s; \"% (x))\n",
    "        c.execute(query)\n",
    "        results = c.fetchall()\n",
    "        if c.rowcount == 0:\n",
    "            print(\"Sorry, No data fetched matching your criteria\")\n",
    "        else:\n",
    "            for row in results:\n",
    "                print(row)\n",
    "        y=input(\"Do you want to in out more data?(y/n)  \")\n",
    "        print()\n",
    "        if y==\"n\" or y==\"N\":\n",
    "            break\n",
    "\n",
    "searchEmp()"
   ]
  },
  {
   "cell_type": "code",
   "execution_count": null,
   "metadata": {},
   "outputs": [],
   "source": []
  }
 ],
 "metadata": {
  "kernelspec": {
   "display_name": "Python 3",
   "language": "python",
   "name": "python3"
  },
  "language_info": {
   "codemirror_mode": {
    "name": "ipython",
    "version": 3
   },
   "file_extension": ".py",
   "mimetype": "text/x-python",
   "name": "python",
   "nbconvert_exporter": "python",
   "pygments_lexer": "ipython3",
   "version": "3.7.6"
  }
 },
 "nbformat": 4,
 "nbformat_minor": 4
}
