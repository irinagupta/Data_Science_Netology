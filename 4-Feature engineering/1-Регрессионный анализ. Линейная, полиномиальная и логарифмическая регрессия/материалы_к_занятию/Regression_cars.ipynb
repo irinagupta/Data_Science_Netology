{
 "cells": [
  {
   "cell_type": "markdown",
   "metadata": {},
   "source": [
    "## Модель цен на автомобили\n",
    "\n",
    "Имеется набор данных с признаками автомобилей и ценами на них. Необходимо построить предсказание цены"
   ]
  },
  {
   "cell_type": "code",
   "execution_count": 14,
   "metadata": {
    "ExecuteTime": {
     "end_time": "2020-06-15T16:39:24.557548Z",
     "start_time": "2020-06-15T16:39:24.516336Z"
    }
   },
   "outputs": [],
   "source": [
    "import pandas as pd\n",
    "import matplotlib.pyplot as plt\n",
    "%matplotlib inline"
   ]
  },
  {
   "cell_type": "code",
   "execution_count": 15,
   "metadata": {
    "ExecuteTime": {
     "end_time": "2020-06-15T16:39:24.822784Z",
     "start_time": "2020-06-15T16:39:24.757594Z"
    }
   },
   "outputs": [
    {
     "data": {
      "text/html": [
       "<div>\n",
       "<style scoped>\n",
       "    .dataframe tbody tr th:only-of-type {\n",
       "        vertical-align: middle;\n",
       "    }\n",
       "\n",
       "    .dataframe tbody tr th {\n",
       "        vertical-align: top;\n",
       "    }\n",
       "\n",
       "    .dataframe thead th {\n",
       "        text-align: right;\n",
       "    }\n",
       "</style>\n",
       "<table border=\"1\" class=\"dataframe\">\n",
       "  <thead>\n",
       "    <tr style=\"text-align: right;\">\n",
       "      <th></th>\n",
       "      <th>Price</th>\n",
       "      <th>Mileage</th>\n",
       "      <th>Make</th>\n",
       "      <th>Model</th>\n",
       "      <th>Trim</th>\n",
       "      <th>Type</th>\n",
       "      <th>Cylinder</th>\n",
       "      <th>Liter</th>\n",
       "      <th>Doors</th>\n",
       "      <th>Cruise</th>\n",
       "      <th>Sound</th>\n",
       "      <th>Leather</th>\n",
       "    </tr>\n",
       "  </thead>\n",
       "  <tbody>\n",
       "    <tr>\n",
       "      <th>0</th>\n",
       "      <td>17314.103129</td>\n",
       "      <td>8221.0</td>\n",
       "      <td>Buick</td>\n",
       "      <td>Century</td>\n",
       "      <td>Sedan 4D</td>\n",
       "      <td>Sedan</td>\n",
       "      <td>6.0</td>\n",
       "      <td>3.1</td>\n",
       "      <td>4.0</td>\n",
       "      <td>1.0</td>\n",
       "      <td>1.0</td>\n",
       "      <td>1.0</td>\n",
       "    </tr>\n",
       "    <tr>\n",
       "      <th>1</th>\n",
       "      <td>17542.036083</td>\n",
       "      <td>9135.0</td>\n",
       "      <td>Buick</td>\n",
       "      <td>Century</td>\n",
       "      <td>Sedan 4D</td>\n",
       "      <td>Sedan</td>\n",
       "      <td>6.0</td>\n",
       "      <td>3.1</td>\n",
       "      <td>4.0</td>\n",
       "      <td>1.0</td>\n",
       "      <td>1.0</td>\n",
       "      <td>0.0</td>\n",
       "    </tr>\n",
       "    <tr>\n",
       "      <th>2</th>\n",
       "      <td>16218.847862</td>\n",
       "      <td>13196.0</td>\n",
       "      <td>Buick</td>\n",
       "      <td>Century</td>\n",
       "      <td>Sedan 4D</td>\n",
       "      <td>Sedan</td>\n",
       "      <td>6.0</td>\n",
       "      <td>3.1</td>\n",
       "      <td>4.0</td>\n",
       "      <td>1.0</td>\n",
       "      <td>1.0</td>\n",
       "      <td>0.0</td>\n",
       "    </tr>\n",
       "    <tr>\n",
       "      <th>3</th>\n",
       "      <td>16336.913140</td>\n",
       "      <td>16342.0</td>\n",
       "      <td>Buick</td>\n",
       "      <td>Century</td>\n",
       "      <td>Sedan 4D</td>\n",
       "      <td>Sedan</td>\n",
       "      <td>6.0</td>\n",
       "      <td>3.1</td>\n",
       "      <td>4.0</td>\n",
       "      <td>1.0</td>\n",
       "      <td>0.0</td>\n",
       "      <td>0.0</td>\n",
       "    </tr>\n",
       "    <tr>\n",
       "      <th>4</th>\n",
       "      <td>16339.170324</td>\n",
       "      <td>19832.0</td>\n",
       "      <td>Buick</td>\n",
       "      <td>Century</td>\n",
       "      <td>Sedan 4D</td>\n",
       "      <td>Sedan</td>\n",
       "      <td>6.0</td>\n",
       "      <td>3.1</td>\n",
       "      <td>4.0</td>\n",
       "      <td>1.0</td>\n",
       "      <td>0.0</td>\n",
       "      <td>1.0</td>\n",
       "    </tr>\n",
       "  </tbody>\n",
       "</table>\n",
       "</div>"
      ],
      "text/plain": [
       "          Price  Mileage   Make    Model      Trim   Type  Cylinder  Liter  \\\n",
       "0  17314.103129   8221.0  Buick  Century  Sedan 4D  Sedan       6.0    3.1   \n",
       "1  17542.036083   9135.0  Buick  Century  Sedan 4D  Sedan       6.0    3.1   \n",
       "2  16218.847862  13196.0  Buick  Century  Sedan 4D  Sedan       6.0    3.1   \n",
       "3  16336.913140  16342.0  Buick  Century  Sedan 4D  Sedan       6.0    3.1   \n",
       "4  16339.170324  19832.0  Buick  Century  Sedan 4D  Sedan       6.0    3.1   \n",
       "\n",
       "   Doors  Cruise  Sound  Leather  \n",
       "0    4.0     1.0    1.0      1.0  \n",
       "1    4.0     1.0    1.0      0.0  \n",
       "2    4.0     1.0    1.0      0.0  \n",
       "3    4.0     1.0    0.0      0.0  \n",
       "4    4.0     1.0    0.0      1.0  "
      ]
     },
     "execution_count": 15,
     "metadata": {},
     "output_type": "execute_result"
    }
   ],
   "source": [
    "data = pd.read_csv( 'cars.csv', delimiter = '\\t' )\n",
    "data.head()"
   ]
  },
  {
   "cell_type": "markdown",
   "metadata": {},
   "source": [
    "Самое простое предположение, чтобы рисовать было удобнее"
   ]
  },
  {
   "cell_type": "code",
   "execution_count": 25,
   "metadata": {
    "ExecuteTime": {
     "end_time": "2020-06-15T16:40:00.438474Z",
     "start_time": "2020-06-15T16:40:00.434537Z"
    }
   },
   "outputs": [],
   "source": [
    "X = data[['Mileage']]\n",
    "Y = data['Price']"
   ]
  },
  {
   "cell_type": "code",
   "execution_count": 29,
   "metadata": {
    "ExecuteTime": {
     "end_time": "2020-06-15T16:42:40.112745Z",
     "start_time": "2020-06-15T16:42:40.106051Z"
    }
   },
   "outputs": [
    {
     "data": {
      "text/plain": [
       "pandas.core.series.Series"
      ]
     },
     "execution_count": 29,
     "metadata": {},
     "output_type": "execute_result"
    }
   ],
   "source": [
    "type(Y)"
   ]
  },
  {
   "cell_type": "code",
   "execution_count": 31,
   "metadata": {
    "ExecuteTime": {
     "end_time": "2020-06-15T16:42:50.413549Z",
     "start_time": "2020-06-15T16:42:50.408964Z"
    }
   },
   "outputs": [
    {
     "data": {
      "text/plain": [
       "pandas.core.frame.DataFrame"
      ]
     },
     "execution_count": 31,
     "metadata": {},
     "output_type": "execute_result"
    }
   ],
   "source": [
    "type(X)"
   ]
  },
  {
   "cell_type": "code",
   "execution_count": 26,
   "metadata": {
    "ExecuteTime": {
     "end_time": "2020-06-15T16:40:03.200352Z",
     "start_time": "2020-06-15T16:40:03.195060Z"
    }
   },
   "outputs": [
    {
     "data": {
      "text/plain": [
       "(804,)"
      ]
     },
     "execution_count": 26,
     "metadata": {},
     "output_type": "execute_result"
    }
   ],
   "source": [
    "Y.values.shape"
   ]
  },
  {
   "cell_type": "code",
   "execution_count": 27,
   "metadata": {
    "ExecuteTime": {
     "end_time": "2020-06-15T16:40:14.270843Z",
     "start_time": "2020-06-15T16:40:14.266168Z"
    }
   },
   "outputs": [
    {
     "data": {
      "text/plain": [
       "(804, 1)"
      ]
     },
     "execution_count": 27,
     "metadata": {},
     "output_type": "execute_result"
    }
   ],
   "source": [
    "X.values.shape"
   ]
  },
  {
   "cell_type": "code",
   "execution_count": 22,
   "metadata": {
    "ExecuteTime": {
     "end_time": "2020-06-15T16:39:52.538531Z",
     "start_time": "2020-06-15T16:39:52.529125Z"
    }
   },
   "outputs": [],
   "source": [
    "from sklearn.linear_model import LinearRegression"
   ]
  },
  {
   "cell_type": "code",
   "execution_count": 23,
   "metadata": {
    "ExecuteTime": {
     "end_time": "2020-06-15T16:39:52.829826Z",
     "start_time": "2020-06-15T16:39:52.818726Z"
    }
   },
   "outputs": [],
   "source": [
    "model = LinearRegression()"
   ]
  },
  {
   "cell_type": "code",
   "execution_count": 24,
   "metadata": {
    "ExecuteTime": {
     "end_time": "2020-06-15T16:39:53.574591Z",
     "start_time": "2020-06-15T16:39:53.141756Z"
    }
   },
   "outputs": [
    {
     "ename": "ValueError",
     "evalue": "Expected 2D array, got 1D array instead:\narray=[ 8221.  9135. 13196. 16342. 19832. 22236. 22576. 22964. 24021. 27325.\n 10237. 15066. 16633. 19800. 23359. 23765. 24008. 26034. 32896. 34665.\n  8970. 10577. 14363. 16508. 18908. 19467. 21394. 22596. 24469. 25245.\n 15755. 16235. 18147. 22102. 23612. 24439. 25212. 26779. 27096. 29649.\n  2992. 10036. 18339. 19592. 21797. 23852. 25040. 25052. 25464. 27830.\n 17353. 17787. 19562. 20137. 20158. 23767. 24323. 27839. 29187. 31324.\n  2308. 10014. 18910. 20105. 20453. 22287. 23237. 23798. 25489. 25564.\n  4695.  9795. 12052. 13050. 17335. 17480. 24027. 25387. 25869. 37128.\n  2202.  6685. 15343. 21341. 21367. 23371. 23751. 24052. 25199. 30082.\n  6598. 10625. 11013. 14937. 17094. 17870. 18449. 21039. 21056. 27484.\n 14095. 14743. 16041. 17138. 18661. 21966. 24415. 25163. 25339. 25421.\n  5499.  8125. 12791. 14452. 21593. 22211. 25153. 26250. 36074. 41829.\n  6447. 10555. 11975. 13449. 17508. 18661. 20910. 23124. 26222. 27544.\n  2846.  7476. 13973. 16754. 19100. 21778. 22042. 23056. 25796. 35326.\n   788.  2616. 13829. 15104. 18581. 20575. 23861. 25717. 31303. 31587.\n   583.  6420.  7892. 12021. 15600. 18200. 23193. 29260. 31805. 42691.\n 10011. 12101. 19699. 20100. 20334. 22225. 22484. 24568. 27906. 29680.\n  3629.  4142. 11156. 11981. 13404. 15253. 19945. 23963. 30948. 37345.\n 20156. 20186. 21421. 21427. 23119. 23121. 25107. 25476. 25746. 30056.\n  7278. 10213. 14627. 19014. 21013. 22380. 25065. 25869. 27776. 34621.\n   266.  4716.  6699. 14200. 14521. 16521. 20836. 22169. 22986. 29992.\n  7091. 14438. 19183. 19273. 19565. 24842. 25216. 26191. 32914. 35299.\n  7372. 13607. 19136. 19712. 22405. 23103. 23512. 27364. 31436. 34447.\n  1160. 10210. 17741. 19347. 19612. 22571. 22771. 24568. 25816. 30297.\n  2464. 11322. 11488. 14630. 18910. 25048. 25069. 25862. 36855. 39946.\n  4652.  5189.  6224. 14231. 17971. 19715. 19898. 20682. 21386. 28408.\n  8427.  8615. 16958. 18040. 18533. 18766. 20043. 20512. 21684. 27560.\n  4922. 14311. 19816. 21492. 21525. 24163. 25014. 25727. 29410. 38866.\n  7695. 12305. 17343. 17445. 20309. 20530. 21145. 23069. 31199. 36566.\n 13776. 19461. 21796. 21910. 22382. 22479. 23200. 27394. 27521. 28492.\n  1169.  6048. 15768. 20374. 25845. 26143. 27249. 27942. 29891. 32844.\n  8880. 12980. 13828. 14504. 18790. 21128. 21611. 23748. 27431. 34815.\n   865.  9882. 14824. 17158. 18210. 18910. 19818. 21181. 21527. 21627.\n  6114.  6709.  7115.  9561. 15233. 17270. 17594. 22740. 26204. 28683.\n  3625.  5239. 12115. 14546. 20000. 23826. 25169. 25960. 30502. 32039.\n  7054.  8967.  9410. 10717. 11619. 21350. 22740. 24259. 25747. 34191.\n  1853. 14115. 18198. 18795. 19874. 21512. 25453. 26980. 29368. 29420.\n  1787.  8211. 14054. 19498. 21567. 22383. 26070. 27460. 31202. 33357.\n   636.  5379. 14461. 16111. 22964. 26272. 27384. 27940. 28242. 33892.\n  5936.  8687. 17020. 19386. 19740. 21829. 23460. 24583. 26532. 33906.\n  1480.  7961. 15144. 21417. 21675. 23621. 25697. 27476. 32462. 32535.\n  6608. 15190. 16335. 17441. 18451. 18771. 19490. 24461. 24905. 25874.\n   932. 18277. 19593. 19883. 21420. 23133. 24218. 25394. 26328. 28239.\n  5632.  7397.  7645. 14754. 17488. 18721. 20200. 21452. 22841. 22889.\n  8732. 11393. 14579. 15903. 17451. 18562. 20154. 21272. 25787. 25956.\n  5827.  8345. 10414. 11647. 15898. 18602. 23491. 25931. 26700. 33345.\n  7065. 13457. 14788. 16950. 17337. 18021. 22152. 22729. 27218. 39049.\n 12466. 14948. 21992. 22626. 24067. 24665. 25020. 25240. 25550. 26223.\n 11892. 17273. 19148. 19521. 20472. 21929. 25651. 25794. 27168. 31197.\n 11554. 16496. 17583. 18419. 20510. 21121. 22423. 24747. 27574. 28385.\n  2295.  5653.  8928. 11069. 15516. 19419. 22891. 26252. 27077. 27966.\n  4537.  5690.  9049. 11221. 12313. 20770. 22628. 26477. 28354. 30063.\n  7287. 10338. 11204. 19539. 20870. 21702. 25516. 30404. 35624. 41566.\n   881.  5131.  6761.  9380. 12071. 18315. 20917. 22414. 22641. 23335.\n  3946.  4188.  4318.  5350.  5788. 12420. 13262. 19602. 23976. 24542.\n 16554. 18720. 20829. 21304. 25295. 25777. 25830. 26511. 29925. 31471.\n 11229. 12314. 12772. 17417. 21132. 21211. 24992. 25557. 26028. 27721.\n  1592.  2189. 17959. 20751. 21974. 22637. 23989. 25598. 27800. 29325.\n  9185. 10915. 13678. 16193. 21418. 23886. 24960. 26126. 27199. 36480.\n 13145. 17830. 19081. 19225. 20618. 21891. 23931. 24318. 25285. 26097.\n 18096. 18391. 19465. 19531. 19894. 22779. 23062. 24239. 27887. 33374.\n 12303. 16078. 17053. 18206. 21307. 21391. 21461. 27438. 31424. 31791.\n  2973.  4463.  8754.  9150. 12610. 14304. 21688. 23217. 23323. 24270.\n 10340. 12251. 17711. 19112. 20925. 21208. 21661. 23553. 24559. 35157.\n  3907. 16068. 16688. 19569. 21266. 21433. 26345. 27674. 27686. 50387.\n  3828. 17381. 17590. 18930. 22479. 23635. 25049. 27558. 31655. 32477.\n 10003. 10014. 14281. 17319. 20208. 21160. 22272. 22814. 27015. 27600.\n 12090. 13162. 16088. 18195. 21167. 21293. 24031. 25420. 27051. 48991.\n  3867.  5144. 10800. 11273. 14568. 22189. 22328. 22598. 26400. 34175.\n  1676.  7924.  9795. 15087. 22052. 23143. 25247. 26276. 28598. 38717.\n 16956. 16975. 20015. 20103. 22105. 22298. 23426. 25380. 26503. 31773.\n  6409. 14278. 15050. 16225. 17317. 18187. 18805. 21960. 36557. 40719.\n  8017. 14613. 19854. 22021. 22590. 22881. 23055. 23204. 24738. 31344.\n 17673. 18464. 19830. 20685. 20907. 21545. 21822. 25357. 26786. 34269.\n  4836. 17431. 21616. 25218.  2879.  8507. 10555. 12920. 14376. 16951.\n 17656. 19455. 21020. 22255. 23645. 24349. 25981. 26034. 26236. 26788.\n 26986. 27231. 30108. 38958.  1737.  2392. 11836. 12412. 12878. 13318.\n 14938. 16163. 17139. 18257. 18511. 19101. 19500. 19853. 21770. 21877.\n 22758. 22826. 23388. 24069. 24664. 24740. 26328. 28298. 28398. 29707.\n 32458. 32619. 33962. 34998.  5826.  7755. 10102. 10986. 14242. 16229.\n 19095. 20484. 25979. 35662.].\nReshape your data either using array.reshape(-1, 1) if your data has a single feature or array.reshape(1, -1) if it contains a single sample.",
     "output_type": "error",
     "traceback": [
      "\u001b[0;31m---------------------------------------------------------------------------\u001b[0m",
      "\u001b[0;31mValueError\u001b[0m                                Traceback (most recent call last)",
      "\u001b[0;32m<ipython-input-24-8afbdfdda993>\u001b[0m in \u001b[0;36m<module>\u001b[0;34m\u001b[0m\n\u001b[0;32m----> 1\u001b[0;31m \u001b[0mmodel\u001b[0m\u001b[0;34m.\u001b[0m\u001b[0mfit\u001b[0m\u001b[0;34m(\u001b[0m\u001b[0mX\u001b[0m\u001b[0;34m,\u001b[0m \u001b[0mY\u001b[0m\u001b[0;34m)\u001b[0m\u001b[0;34m\u001b[0m\u001b[0;34m\u001b[0m\u001b[0m\n\u001b[0m",
      "\u001b[0;32m~/anaconda3/lib/python3.7/site-packages/sklearn/linear_model/base.py\u001b[0m in \u001b[0;36mfit\u001b[0;34m(self, X, y, sample_weight)\u001b[0m\n\u001b[1;32m    456\u001b[0m         \u001b[0mn_jobs_\u001b[0m \u001b[0;34m=\u001b[0m \u001b[0mself\u001b[0m\u001b[0;34m.\u001b[0m\u001b[0mn_jobs\u001b[0m\u001b[0;34m\u001b[0m\u001b[0;34m\u001b[0m\u001b[0m\n\u001b[1;32m    457\u001b[0m         X, y = check_X_y(X, y, accept_sparse=['csr', 'csc', 'coo'],\n\u001b[0;32m--> 458\u001b[0;31m                          y_numeric=True, multi_output=True)\n\u001b[0m\u001b[1;32m    459\u001b[0m \u001b[0;34m\u001b[0m\u001b[0m\n\u001b[1;32m    460\u001b[0m         \u001b[0;32mif\u001b[0m \u001b[0msample_weight\u001b[0m \u001b[0;32mis\u001b[0m \u001b[0;32mnot\u001b[0m \u001b[0;32mNone\u001b[0m \u001b[0;32mand\u001b[0m \u001b[0mnp\u001b[0m\u001b[0;34m.\u001b[0m\u001b[0matleast_1d\u001b[0m\u001b[0;34m(\u001b[0m\u001b[0msample_weight\u001b[0m\u001b[0;34m)\u001b[0m\u001b[0;34m.\u001b[0m\u001b[0mndim\u001b[0m \u001b[0;34m>\u001b[0m \u001b[0;36m1\u001b[0m\u001b[0;34m:\u001b[0m\u001b[0;34m\u001b[0m\u001b[0;34m\u001b[0m\u001b[0m\n",
      "\u001b[0;32m~/anaconda3/lib/python3.7/site-packages/sklearn/utils/validation.py\u001b[0m in \u001b[0;36mcheck_X_y\u001b[0;34m(X, y, accept_sparse, accept_large_sparse, dtype, order, copy, force_all_finite, ensure_2d, allow_nd, multi_output, ensure_min_samples, ensure_min_features, y_numeric, warn_on_dtype, estimator)\u001b[0m\n\u001b[1;32m    754\u001b[0m                     \u001b[0mensure_min_features\u001b[0m\u001b[0;34m=\u001b[0m\u001b[0mensure_min_features\u001b[0m\u001b[0;34m,\u001b[0m\u001b[0;34m\u001b[0m\u001b[0;34m\u001b[0m\u001b[0m\n\u001b[1;32m    755\u001b[0m                     \u001b[0mwarn_on_dtype\u001b[0m\u001b[0;34m=\u001b[0m\u001b[0mwarn_on_dtype\u001b[0m\u001b[0;34m,\u001b[0m\u001b[0;34m\u001b[0m\u001b[0;34m\u001b[0m\u001b[0m\n\u001b[0;32m--> 756\u001b[0;31m                     estimator=estimator)\n\u001b[0m\u001b[1;32m    757\u001b[0m     \u001b[0;32mif\u001b[0m \u001b[0mmulti_output\u001b[0m\u001b[0;34m:\u001b[0m\u001b[0;34m\u001b[0m\u001b[0;34m\u001b[0m\u001b[0m\n\u001b[1;32m    758\u001b[0m         y = check_array(y, 'csr', force_all_finite=True, ensure_2d=False,\n",
      "\u001b[0;32m~/anaconda3/lib/python3.7/site-packages/sklearn/utils/validation.py\u001b[0m in \u001b[0;36mcheck_array\u001b[0;34m(array, accept_sparse, accept_large_sparse, dtype, order, copy, force_all_finite, ensure_2d, allow_nd, ensure_min_samples, ensure_min_features, warn_on_dtype, estimator)\u001b[0m\n\u001b[1;32m    550\u001b[0m                     \u001b[0;34m\"Reshape your data either using array.reshape(-1, 1) if \"\u001b[0m\u001b[0;34m\u001b[0m\u001b[0;34m\u001b[0m\u001b[0m\n\u001b[1;32m    551\u001b[0m                     \u001b[0;34m\"your data has a single feature or array.reshape(1, -1) \"\u001b[0m\u001b[0;34m\u001b[0m\u001b[0;34m\u001b[0m\u001b[0m\n\u001b[0;32m--> 552\u001b[0;31m                     \"if it contains a single sample.\".format(array))\n\u001b[0m\u001b[1;32m    553\u001b[0m \u001b[0;34m\u001b[0m\u001b[0m\n\u001b[1;32m    554\u001b[0m         \u001b[0;31m# in the future np.flexible dtypes will be handled like object dtypes\u001b[0m\u001b[0;34m\u001b[0m\u001b[0;34m\u001b[0m\u001b[0;34m\u001b[0m\u001b[0m\n",
      "\u001b[0;31mValueError\u001b[0m: Expected 2D array, got 1D array instead:\narray=[ 8221.  9135. 13196. 16342. 19832. 22236. 22576. 22964. 24021. 27325.\n 10237. 15066. 16633. 19800. 23359. 23765. 24008. 26034. 32896. 34665.\n  8970. 10577. 14363. 16508. 18908. 19467. 21394. 22596. 24469. 25245.\n 15755. 16235. 18147. 22102. 23612. 24439. 25212. 26779. 27096. 29649.\n  2992. 10036. 18339. 19592. 21797. 23852. 25040. 25052. 25464. 27830.\n 17353. 17787. 19562. 20137. 20158. 23767. 24323. 27839. 29187. 31324.\n  2308. 10014. 18910. 20105. 20453. 22287. 23237. 23798. 25489. 25564.\n  4695.  9795. 12052. 13050. 17335. 17480. 24027. 25387. 25869. 37128.\n  2202.  6685. 15343. 21341. 21367. 23371. 23751. 24052. 25199. 30082.\n  6598. 10625. 11013. 14937. 17094. 17870. 18449. 21039. 21056. 27484.\n 14095. 14743. 16041. 17138. 18661. 21966. 24415. 25163. 25339. 25421.\n  5499.  8125. 12791. 14452. 21593. 22211. 25153. 26250. 36074. 41829.\n  6447. 10555. 11975. 13449. 17508. 18661. 20910. 23124. 26222. 27544.\n  2846.  7476. 13973. 16754. 19100. 21778. 22042. 23056. 25796. 35326.\n   788.  2616. 13829. 15104. 18581. 20575. 23861. 25717. 31303. 31587.\n   583.  6420.  7892. 12021. 15600. 18200. 23193. 29260. 31805. 42691.\n 10011. 12101. 19699. 20100. 20334. 22225. 22484. 24568. 27906. 29680.\n  3629.  4142. 11156. 11981. 13404. 15253. 19945. 23963. 30948. 37345.\n 20156. 20186. 21421. 21427. 23119. 23121. 25107. 25476. 25746. 30056.\n  7278. 10213. 14627. 19014. 21013. 22380. 25065. 25869. 27776. 34621.\n   266.  4716.  6699. 14200. 14521. 16521. 20836. 22169. 22986. 29992.\n  7091. 14438. 19183. 19273. 19565. 24842. 25216. 26191. 32914. 35299.\n  7372. 13607. 19136. 19712. 22405. 23103. 23512. 27364. 31436. 34447.\n  1160. 10210. 17741. 19347. 19612. 22571. 22771. 24568. 25816. 30297.\n  2464. 11322. 11488. 14630. 18910. 25048. 25069. 25862. 36855. 39946.\n  4652.  5189.  6224. 14231. 17971. 19715. 19898. 20682. 21386. 28408.\n  8427.  8615. 16958. 18040. 18533. 18766. 20043. 20512. 21684. 27560.\n  4922. 14311. 19816. 21492. 21525. 24163. 25014. 25727. 29410. 38866.\n  7695. 12305. 17343. 17445. 20309. 20530. 21145. 23069. 31199. 36566.\n 13776. 19461. 21796. 21910. 22382. 22479. 23200. 27394. 27521. 28492.\n  1169.  6048. 15768. 20374. 25845. 26143. 27249. 27942. 29891. 32844.\n  8880. 12980. 13828. 14504. 18790. 21128. 21611. 23748. 27431. 34815.\n   865.  9882. 14824. 17158. 18210. 18910. 19818. 21181. 21527. 21627.\n  6114.  6709.  7115.  9561. 15233. 17270. 17594. 22740. 26204. 28683.\n  3625.  5239. 12115. 14546. 20000. 23826. 25169. 25960. 30502. 32039.\n  7054.  8967.  9410. 10717. 11619. 21350. 22740. 24259. 25747. 34191.\n  1853. 14115. 18198. 18795. 19874. 21512. 25453. 26980. 29368. 29420.\n  1787.  8211. 14054. 19498. 21567. 22383. 26070. 27460. 31202. 33357.\n   636.  5379. 14461. 16111. 22964. 26272. 27384. 27940. 28242. 33892.\n  5936.  8687. 17020. 19386. 19740. 21829. 23460. 24583. 26532. 33906.\n  1480.  7961. 15144. 21417. 21675. 23621. 25697. 27476. 32462. 32535.\n  6608. 15190. 16335. 17441. 18451. 18771. 19490. 24461. 24905. 25874.\n   932. 18277. 19593. 19883. 21420. 23133. 24218. 25394. 26328. 28239.\n  5632.  7397.  7645. 14754. 17488. 18721. 20200. 21452. 22841. 22889.\n  8732. 11393. 14579. 15903. 17451. 18562. 20154. 21272. 25787. 25956.\n  5827.  8345. 10414. 11647. 15898. 18602. 23491. 25931. 26700. 33345.\n  7065. 13457. 14788. 16950. 17337. 18021. 22152. 22729. 27218. 39049.\n 12466. 14948. 21992. 22626. 24067. 24665. 25020. 25240. 25550. 26223.\n 11892. 17273. 19148. 19521. 20472. 21929. 25651. 25794. 27168. 31197.\n 11554. 16496. 17583. 18419. 20510. 21121. 22423. 24747. 27574. 28385.\n  2295.  5653.  8928. 11069. 15516. 19419. 22891. 26252. 27077. 27966.\n  4537.  5690.  9049. 11221. 12313. 20770. 22628. 26477. 28354. 30063.\n  7287. 10338. 11204. 19539. 20870. 21702. 25516. 30404. 35624. 41566.\n   881.  5131.  6761.  9380. 12071. 18315. 20917. 22414. 22641. 23335.\n  3946.  4188.  4318.  5350.  5788. 12420. 13262. 19602. 23976. 24542.\n 16554. 18720. 20829. 21304. 25295. 25777. 25830. 26511. 29925. 31471.\n 11229. 12314. 12772. 17417. 21132. 21211. 24992. 25557. 26028. 27721.\n  1592.  2189. 17959. 20751. 21974. 22637. 23989. 25598. 27800. 29325.\n  9185. 10915. 13678. 16193. 21418. 23886. 24960. 26126. 27199. 36480.\n 13145. 17830. 19081. 19225. 20618. 21891. 23931. 24318. 25285. 26097.\n 18096. 18391. 19465. 19531. 19894. 22779. 23062. 24239. 27887. 33374.\n 12303. 16078. 17053. 18206. 21307. 21391. 21461. 27438. 31424. 31791.\n  2973.  4463.  8754.  9150. 12610. 14304. 21688. 23217. 23323. 24270.\n 10340. 12251. 17711. 19112. 20925. 21208. 21661. 23553. 24559. 35157.\n  3907. 16068. 16688. 19569. 21266. 21433. 26345. 27674. 27686. 50387.\n  3828. 17381. 17590. 18930. 22479. 23635. 25049. 27558. 31655. 32477.\n 10003. 10014. 14281. 17319. 20208. 21160. 22272. 22814. 27015. 27600.\n 12090. 13162. 16088. 18195. 21167. 21293. 24031. 25420. 27051. 48991.\n  3867.  5144. 10800. 11273. 14568. 22189. 22328. 22598. 26400. 34175.\n  1676.  7924.  9795. 15087. 22052. 23143. 25247. 26276. 28598. 38717.\n 16956. 16975. 20015. 20103. 22105. 22298. 23426. 25380. 26503. 31773.\n  6409. 14278. 15050. 16225. 17317. 18187. 18805. 21960. 36557. 40719.\n  8017. 14613. 19854. 22021. 22590. 22881. 23055. 23204. 24738. 31344.\n 17673. 18464. 19830. 20685. 20907. 21545. 21822. 25357. 26786. 34269.\n  4836. 17431. 21616. 25218.  2879.  8507. 10555. 12920. 14376. 16951.\n 17656. 19455. 21020. 22255. 23645. 24349. 25981. 26034. 26236. 26788.\n 26986. 27231. 30108. 38958.  1737.  2392. 11836. 12412. 12878. 13318.\n 14938. 16163. 17139. 18257. 18511. 19101. 19500. 19853. 21770. 21877.\n 22758. 22826. 23388. 24069. 24664. 24740. 26328. 28298. 28398. 29707.\n 32458. 32619. 33962. 34998.  5826.  7755. 10102. 10986. 14242. 16229.\n 19095. 20484. 25979. 35662.].\nReshape your data either using array.reshape(-1, 1) if your data has a single feature or array.reshape(1, -1) if it contains a single sample."
     ]
    }
   ],
   "source": [
    "model.fit(X, Y)"
   ]
  },
  {
   "cell_type": "code",
   "execution_count": 7,
   "metadata": {
    "ExecuteTime": {
     "end_time": "2020-06-15T09:40:17.151613Z",
     "start_time": "2020-06-15T09:40:17.147560Z"
    }
   },
   "outputs": [],
   "source": [
    "y_predict = model.predict(X)"
   ]
  },
  {
   "cell_type": "code",
   "execution_count": 8,
   "metadata": {
    "ExecuteTime": {
     "end_time": "2020-06-15T09:40:17.909311Z",
     "start_time": "2020-06-15T09:40:17.780842Z"
    }
   },
   "outputs": [
    {
     "data": {
      "image/png": "[encoded data removed]",
      "text/plain": [
       "<Figure size 432x288 with 1 Axes>"
      ]
     },
     "metadata": {
      "needs_background": "light"
     },
     "output_type": "display_data"
    }
   ],
   "source": [
    "plt.plot(X, Y, 'o')\n",
    "plt.plot(X, y_predict, 'k-')\n",
    "plt.show()"
   ]
  },
  {
   "cell_type": "markdown",
   "metadata": {},
   "source": [
    "Нужно что-то поумнее"
   ]
  },
  {
   "cell_type": "code",
   "execution_count": 9,
   "metadata": {
    "ExecuteTime": {
     "end_time": "2020-06-15T09:40:18.736967Z",
     "start_time": "2020-06-15T09:40:18.717148Z"
    }
   },
   "outputs": [
    {
     "data": {
      "text/html": [
       "<div>\n",
       "<style scoped>\n",
       "    .dataframe tbody tr th:only-of-type {\n",
       "        vertical-align: middle;\n",
       "    }\n",
       "\n",
       "    .dataframe tbody tr th {\n",
       "        vertical-align: top;\n",
       "    }\n",
       "\n",
       "    .dataframe thead th {\n",
       "        text-align: right;\n",
       "    }\n",
       "</style>\n",
       "<table border=\"1\" class=\"dataframe\">\n",
       "  <thead>\n",
       "    <tr style=\"text-align: right;\">\n",
       "      <th></th>\n",
       "      <th>Mileage</th>\n",
       "      <th>Liter</th>\n",
       "      <th>Make_Buick</th>\n",
       "      <th>Make_Cadillac</th>\n",
       "      <th>Make_Chevrolet</th>\n",
       "      <th>Make_Pontiac</th>\n",
       "      <th>Make_SAAB</th>\n",
       "      <th>Make_Saturn</th>\n",
       "    </tr>\n",
       "  </thead>\n",
       "  <tbody>\n",
       "    <tr>\n",
       "      <th>0</th>\n",
       "      <td>8221.0</td>\n",
       "      <td>3.1</td>\n",
       "      <td>1</td>\n",
       "      <td>0</td>\n",
       "      <td>0</td>\n",
       "      <td>0</td>\n",
       "      <td>0</td>\n",
       "      <td>0</td>\n",
       "    </tr>\n",
       "    <tr>\n",
       "      <th>1</th>\n",
       "      <td>9135.0</td>\n",
       "      <td>3.1</td>\n",
       "      <td>1</td>\n",
       "      <td>0</td>\n",
       "      <td>0</td>\n",
       "      <td>0</td>\n",
       "      <td>0</td>\n",
       "      <td>0</td>\n",
       "    </tr>\n",
       "    <tr>\n",
       "      <th>2</th>\n",
       "      <td>13196.0</td>\n",
       "      <td>3.1</td>\n",
       "      <td>1</td>\n",
       "      <td>0</td>\n",
       "      <td>0</td>\n",
       "      <td>0</td>\n",
       "      <td>0</td>\n",
       "      <td>0</td>\n",
       "    </tr>\n",
       "    <tr>\n",
       "      <th>3</th>\n",
       "      <td>16342.0</td>\n",
       "      <td>3.1</td>\n",
       "      <td>1</td>\n",
       "      <td>0</td>\n",
       "      <td>0</td>\n",
       "      <td>0</td>\n",
       "      <td>0</td>\n",
       "      <td>0</td>\n",
       "    </tr>\n",
       "    <tr>\n",
       "      <th>4</th>\n",
       "      <td>19832.0</td>\n",
       "      <td>3.1</td>\n",
       "      <td>1</td>\n",
       "      <td>0</td>\n",
       "      <td>0</td>\n",
       "      <td>0</td>\n",
       "      <td>0</td>\n",
       "      <td>0</td>\n",
       "    </tr>\n",
       "  </tbody>\n",
       "</table>\n",
       "</div>"
      ],
      "text/plain": [
       "   Mileage  Liter  Make_Buick  Make_Cadillac  Make_Chevrolet  Make_Pontiac  \\\n",
       "0   8221.0    3.1           1              0               0             0   \n",
       "1   9135.0    3.1           1              0               0             0   \n",
       "2  13196.0    3.1           1              0               0             0   \n",
       "3  16342.0    3.1           1              0               0             0   \n",
       "4  19832.0    3.1           1              0               0             0   \n",
       "\n",
       "   Make_SAAB  Make_Saturn  \n",
       "0          0            0  \n",
       "1          0            0  \n",
       "2          0            0  \n",
       "3          0            0  \n",
       "4          0            0  "
      ]
     },
     "execution_count": 9,
     "metadata": {},
     "output_type": "execute_result"
    }
   ],
   "source": [
    "X = pd.get_dummies(data.loc[:, ['Mileage', 'Liter', 'Make']])\n",
    "X.head()"
   ]
  },
  {
   "cell_type": "code",
   "execution_count": 10,
   "metadata": {
    "ExecuteTime": {
     "end_time": "2020-06-15T09:40:19.146355Z",
     "start_time": "2020-06-15T09:40:19.136641Z"
    }
   },
   "outputs": [
    {
     "data": {
      "text/html": [
       "<div>\n",
       "<style scoped>\n",
       "    .dataframe tbody tr th:only-of-type {\n",
       "        vertical-align: middle;\n",
       "    }\n",
       "\n",
       "    .dataframe tbody tr th {\n",
       "        vertical-align: top;\n",
       "    }\n",
       "\n",
       "    .dataframe thead th {\n",
       "        text-align: right;\n",
       "    }\n",
       "</style>\n",
       "<table border=\"1\" class=\"dataframe\">\n",
       "  <thead>\n",
       "    <tr style=\"text-align: right;\">\n",
       "      <th></th>\n",
       "      <th>Price</th>\n",
       "    </tr>\n",
       "  </thead>\n",
       "  <tbody>\n",
       "    <tr>\n",
       "      <th>0</th>\n",
       "      <td>17314.103129</td>\n",
       "    </tr>\n",
       "    <tr>\n",
       "      <th>1</th>\n",
       "      <td>17542.036083</td>\n",
       "    </tr>\n",
       "    <tr>\n",
       "      <th>2</th>\n",
       "      <td>16218.847862</td>\n",
       "    </tr>\n",
       "    <tr>\n",
       "      <th>3</th>\n",
       "      <td>16336.913140</td>\n",
       "    </tr>\n",
       "    <tr>\n",
       "      <th>4</th>\n",
       "      <td>16339.170324</td>\n",
       "    </tr>\n",
       "  </tbody>\n",
       "</table>\n",
       "</div>"
      ],
      "text/plain": [
       "          Price\n",
       "0  17314.103129\n",
       "1  17542.036083\n",
       "2  16218.847862\n",
       "3  16336.913140\n",
       "4  16339.170324"
      ]
     },
     "execution_count": 10,
     "metadata": {},
     "output_type": "execute_result"
    }
   ],
   "source": [
    "Y = data.loc[ :, ['Price'] ]\n",
    "Y.head()"
   ]
  },
  {
   "cell_type": "code",
   "execution_count": 37,
   "metadata": {
    "ExecuteTime": {
     "end_time": "2020-06-15T16:44:28.837874Z",
     "start_time": "2020-06-15T16:44:28.834282Z"
    }
   },
   "outputs": [],
   "source": [
    "model = LinearRegression()"
   ]
  },
  {
   "cell_type": "code",
   "execution_count": 38,
   "metadata": {
    "ExecuteTime": {
     "end_time": "2020-06-15T16:44:29.170416Z",
     "start_time": "2020-06-15T16:44:29.158436Z"
    }
   },
   "outputs": [],
   "source": [
    "model.fit(X, Y)\n",
    "y_predict = model.predict(X)"
   ]
  },
  {
   "cell_type": "markdown",
   "metadata": {},
   "source": [
    "Попробуем нарисовать как расходится факт с предсказаниями"
   ]
  },
  {
   "cell_type": "code",
   "execution_count": 39,
   "metadata": {
    "ExecuteTime": {
     "end_time": "2020-06-15T16:44:30.487519Z",
     "start_time": "2020-06-15T16:44:30.325076Z"
    }
   },
   "outputs": [
    {
     "data": {
      "image/png": "[encoded data removed]",
      "text/plain": [
       "<Figure size 432x288 with 1 Axes>"
      ]
     },
     "metadata": {
      "needs_background": "light"
     },
     "output_type": "display_data"
    }
   ],
   "source": [
    "plt.plot(Y.index, Y, 'o', markersize = 5)\n",
    "plt.plot(Y.index, y_predict, 'y^', markersize = 3)\n",
    "plt.show()"
   ]
  },
  {
   "cell_type": "code",
   "execution_count": 40,
   "metadata": {
    "ExecuteTime": {
     "end_time": "2020-06-15T16:44:31.384299Z",
     "start_time": "2020-06-15T16:44:31.378137Z"
    }
   },
   "outputs": [
    {
     "data": {
      "text/plain": [
       "['__abstractmethods__',\n",
       " '__class__',\n",
       " '__delattr__',\n",
       " '__dict__',\n",
       " '__dir__',\n",
       " '__doc__',\n",
       " '__eq__',\n",
       " '__format__',\n",
       " '__ge__',\n",
       " '__getattribute__',\n",
       " '__getstate__',\n",
       " '__gt__',\n",
       " '__hash__',\n",
       " '__init__',\n",
       " '__init_subclass__',\n",
       " '__le__',\n",
       " '__lt__',\n",
       " '__module__',\n",
       " '__ne__',\n",
       " '__new__',\n",
       " '__reduce__',\n",
       " '__reduce_ex__',\n",
       " '__repr__',\n",
       " '__setattr__',\n",
       " '__setstate__',\n",
       " '__sizeof__',\n",
       " '__str__',\n",
       " '__subclasshook__',\n",
       " '__weakref__',\n",
       " '_abc_impl',\n",
       " '_decision_function',\n",
       " '_estimator_type',\n",
       " '_get_param_names',\n",
       " '_preprocess_data',\n",
       " '_residues',\n",
       " '_set_intercept',\n",
       " 'coef_',\n",
       " 'copy_X',\n",
       " 'fit',\n",
       " 'fit_intercept',\n",
       " 'get_params',\n",
       " 'intercept_',\n",
       " 'n_jobs',\n",
       " 'normalize',\n",
       " 'predict',\n",
       " 'rank_',\n",
       " 'score',\n",
       " 'set_params',\n",
       " 'singular_']"
      ]
     },
     "execution_count": 40,
     "metadata": {},
     "output_type": "execute_result"
    }
   ],
   "source": [
    "dir(model)"
   ]
  },
  {
   "cell_type": "code",
   "execution_count": 41,
   "metadata": {
    "ExecuteTime": {
     "end_time": "2020-06-15T16:44:46.896591Z",
     "start_time": "2020-06-15T16:44:46.891045Z"
    }
   },
   "outputs": [
    {
     "data": {
      "text/plain": [
       "24764.559006060575"
      ]
     },
     "execution_count": 41,
     "metadata": {},
     "output_type": "execute_result"
    }
   ],
   "source": [
    "model.intercept_"
   ]
  },
  {
   "cell_type": "code",
   "execution_count": 42,
   "metadata": {
    "ExecuteTime": {
     "end_time": "2020-06-15T16:44:56.124356Z",
     "start_time": "2020-06-15T16:44:56.118091Z"
    }
   },
   "outputs": [
    {
     "data": {
      "text/plain": [
       "array([-0.1725205])"
      ]
     },
     "execution_count": 42,
     "metadata": {},
     "output_type": "execute_result"
    }
   ],
   "source": [
    "model.coef_"
   ]
  },
  {
   "cell_type": "code",
   "execution_count": null,
   "metadata": {},
   "outputs": [],
   "source": []
  }
 ],
 "metadata": {
  "kernelspec": {
   "display_name": "Python 3",
   "language": "python",
   "name": "python3"
  },
  "language_info": {
   "codemirror_mode": {
    "name": "ipython",
    "version": 3
   },
   "file_extension": ".py",
   "mimetype": "text/x-python",
   "name": "python",
   "nbconvert_exporter": "python",
   "pygments_lexer": "ipython3",
   "version": "3.7.1"
  }
 },
 "nbformat": 4,
 "nbformat_minor": 2
}
