{
 "cells": [
  {
   "cell_type": "markdown",
   "metadata": {},
   "source": [
    "###  Домашняя работа\n",
    "\n",
    "Взять boston house-prices datase (sklearn.datasets.load_boston). Возмите 7 любых регрессоров (попробовать разные алгоритмы, поподбирать параметры, вывести итоговое качество)."
   ]
  },
  {
   "cell_type": "code",
   "execution_count": 1,
   "metadata": {},
   "outputs": [],
   "source": [
    "import pandas as pd\n",
    "import numpy as np\n",
    "from sklearn.datasets import load_boston\n",
    "from sklearn.preprocessing import StandardScaler\n",
    "from sklearn.model_selection import train_test_split, GridSearchCV\n",
    "from sklearn.linear_model import LinearRegression, Lasso, Ridge, BayesianRidge, HuberRegressor, ElasticNet\n",
    "from sklearn.tree import DecisionTreeRegressor"
   ]
  },
  {
   "cell_type": "code",
   "execution_count": 2,
   "metadata": {},
   "outputs": [],
   "source": [
    "boston = load_boston()\n",
    "X, y = boston['data'], boston['target']\n",
    "X_train, X_test, y_train, y_test = train_test_split(X, y, test_size=0.2)"
   ]
  },
  {
   "cell_type": "code",
   "execution_count": 3,
   "metadata": {},
   "outputs": [],
   "source": [
    "# Нормализуем данные\n",
    "\n",
    "sc = StandardScaler()\n",
    "X_train = sc.fit_transform(X_train)\n",
    "X_test = sc.transform(X_test)"
   ]
  },
  {
   "cell_type": "code",
   "execution_count": 4,
   "metadata": {},
   "outputs": [],
   "source": [
    "from warnings import filterwarnings\n",
    "filterwarnings('ignore')"
   ]
  },
  {
   "cell_type": "code",
   "execution_count": 5,
   "metadata": {},
   "outputs": [],
   "source": [
    "# Возьмем 7 регрессоров и подберем параметры\n",
    "\n",
    "models=[\n",
    "      {'name':'DTR',\"model\": DecisionTreeRegressor(), 'params':{'max_depth': range(1, 11), 'splitter': ['best', 'random'],\n",
    "                                                                'criterion': ['mse', 'mae', 'friedman_mse'],\n",
    "                                                                'min_samples_leaf': [1, 2, 4, 8, 16]}},  \n",
    "      {'name':'LR',\"model\": LinearRegression(), 'params':{}},\n",
    "      {'name':'LassoR',\"model\": Lasso(), 'params':{'alpha': np.logspace(-7, 2, 100)}},\n",
    "      {'name':'R',\"model\": Ridge(), 'params':{'alpha': np.logspace(-7, 2, 100),\n",
    "                                              'solver': ['svd', 'cholesky', 'lsqr', 'sparse_cg', 'sag', 'saga']}},\n",
    "      {'name':'BR',\"model\": BayesianRidge(), 'params':{'alpha_1': np.logspace(-7, 2, 100), 'alpha_2': np.logspace(-7, 2, 100)}},\n",
    "      {'name':'EN',\"model\": ElasticNet(), 'params':{'alpha': np.logspace(-7, 2, 200), 'l1_ratio': np.linspace(0, 1, 50)}},\n",
    "      {'name':'HR',\"model\": HuberRegressor(), 'params':{'alpha': np.logspace(-7, 2, 100), 'epsilon': np.linspace(1.35, 2, 50)}}\n",
    "]\n",
    "\n",
    "res=[]\n",
    "for v in  models:\n",
    "    res.append((v['name'], GridSearchCV(v['model'], v['params'], cv=10).fit(X_train, y_train)))"
   ]
  },
  {
   "cell_type": "code",
   "execution_count": 6,
   "metadata": {},
   "outputs": [
    {
     "name": "stdout",
     "output_type": "stream",
     "text": [
      "DTR 0.7884861717361151 {'criterion': 'friedman_mse', 'max_depth': 7, 'min_samples_leaf': 1, 'splitter': 'random'}\n",
      "LR 0.6974976674978788 {}\n",
      "LassoR 0.6984540793326766 {'alpha': 0.03511191734215135}\n",
      "R 0.6995576907338856 {'alpha': 12.328467394420684, 'solver': 'lsqr'}\n",
      "BR 0.698979198396044 {'alpha_1': 1e-07, 'alpha_2': 100.0}\n",
      "EN 0.6994340558560649 {'alpha': 0.032929712550971546, 'l1_ratio': 0.0}\n",
      "HR 0.7064439941345317 {'alpha': 1e-07, 'epsilon': 1.8938775510204082}\n"
     ]
    }
   ],
   "source": [
    "# Поcмотрим на результаты\n",
    "\n",
    "for r in res:\n",
    "    print(r[0], r[1].best_score_, r[1].best_params_)"
   ]
  },
  {
   "cell_type": "markdown",
   "metadata": {},
   "source": [
    "#### Лучше всех отработал DecisionTreeRegressor"
   ]
  }
 ],
 "metadata": {
  "kernelspec": {
   "display_name": "Python 3",
   "language": "python",
   "name": "python3"
  },
  "language_info": {
   "codemirror_mode": {
    "name": "ipython",
    "version": 3
   },
   "file_extension": ".py",
   "mimetype": "text/x-python",
   "name": "python",
   "nbconvert_exporter": "python",
   "pygments_lexer": "ipython3",
   "version": "3.7.6"
  }
 },
 "nbformat": 4,
 "nbformat_minor": 4
}
