{
 "cells": [
  {
   "cell_type": "markdown",
   "metadata": {},
   "source": [
    "Домашнее задание\n",
    "\n",
    "Прочитать про методы оптимизации для нейронных сетей https://habr.com/post/318970/\n",
    "\n",
    "В качестве dataset'а взять Iris, оставив 2 класса:\n",
    "\n",
    "Iris Versicolor\n",
    "\n",
    "Iris Virginica\n",
    "\n",
    "Реализовать самостоятельно логистическую регрессию\n",
    "\n",
    "Обучить ее методом градиентного спуска\n",
    "\n",
    "Методом nesterov momentum\n",
    "\n",
    "Методом rmsprop"
   ]
  },
  {
   "cell_type": "code",
   "execution_count": 1,
   "metadata": {},
   "outputs": [],
   "source": [
    "import pandas as pd\n",
    "import numpy as np\n",
    "from sklearn.datasets import load_iris\n",
    "from sklearn.linear_model import LogisticRegression\n",
    "from sklearn.model_selection import train_test_split\n",
    "from sklearn.metrics import accuracy_score, roc_auc_score, precision_score, recall_score, confusion_matrix"
   ]
  },
  {
   "cell_type": "code",
   "execution_count": 2,
   "metadata": {},
   "outputs": [],
   "source": [
    "iris = load_iris()"
   ]
  },
  {
   "cell_type": "code",
   "execution_count": 3,
   "metadata": {},
   "outputs": [
    {
     "data": {
      "text/html": [
       "<div>\n",
       "<style scoped>\n",
       "    .dataframe tbody tr th:only-of-type {\n",
       "        vertical-align: middle;\n",
       "    }\n",
       "\n",
       "    .dataframe tbody tr th {\n",
       "        vertical-align: top;\n",
       "    }\n",
       "\n",
       "    .dataframe thead th {\n",
       "        text-align: right;\n",
       "    }\n",
       "</style>\n",
       "<table border=\"1\" class=\"dataframe\">\n",
       "  <thead>\n",
       "    <tr style=\"text-align: right;\">\n",
       "      <th></th>\n",
       "      <th>sepal length (cm)</th>\n",
       "      <th>sepal width (cm)</th>\n",
       "      <th>petal length (cm)</th>\n",
       "      <th>petal width (cm)</th>\n",
       "    </tr>\n",
       "  </thead>\n",
       "  <tbody>\n",
       "    <tr>\n",
       "      <th>0</th>\n",
       "      <td>5.1</td>\n",
       "      <td>3.5</td>\n",
       "      <td>1.4</td>\n",
       "      <td>0.2</td>\n",
       "    </tr>\n",
       "    <tr>\n",
       "      <th>1</th>\n",
       "      <td>4.9</td>\n",
       "      <td>3.0</td>\n",
       "      <td>1.4</td>\n",
       "      <td>0.2</td>\n",
       "    </tr>\n",
       "    <tr>\n",
       "      <th>2</th>\n",
       "      <td>4.7</td>\n",
       "      <td>3.2</td>\n",
       "      <td>1.3</td>\n",
       "      <td>0.2</td>\n",
       "    </tr>\n",
       "    <tr>\n",
       "      <th>3</th>\n",
       "      <td>4.6</td>\n",
       "      <td>3.1</td>\n",
       "      <td>1.5</td>\n",
       "      <td>0.2</td>\n",
       "    </tr>\n",
       "    <tr>\n",
       "      <th>4</th>\n",
       "      <td>5.0</td>\n",
       "      <td>3.6</td>\n",
       "      <td>1.4</td>\n",
       "      <td>0.2</td>\n",
       "    </tr>\n",
       "  </tbody>\n",
       "</table>\n",
       "</div>"
      ],
      "text/plain": [
       "   sepal length (cm)  sepal width (cm)  petal length (cm)  petal width (cm)\n",
       "0                5.1               3.5                1.4               0.2\n",
       "1                4.9               3.0                1.4               0.2\n",
       "2                4.7               3.2                1.3               0.2\n",
       "3                4.6               3.1                1.5               0.2\n",
       "4                5.0               3.6                1.4               0.2"
      ]
     },
     "execution_count": 3,
     "metadata": {},
     "output_type": "execute_result"
    }
   ],
   "source": [
    "df = pd.DataFrame(iris.data, columns=iris.feature_names)\n",
    "df.head()"
   ]
  },
  {
   "cell_type": "code",
   "execution_count": 4,
   "metadata": {},
   "outputs": [
    {
     "data": {
      "text/plain": [
       "array(['setosa', 'versicolor', 'virginica'], dtype='<U10')"
      ]
     },
     "execution_count": 4,
     "metadata": {},
     "output_type": "execute_result"
    }
   ],
   "source": [
    "iris.target_names"
   ]
  },
  {
   "cell_type": "code",
   "execution_count": 5,
   "metadata": {},
   "outputs": [
    {
     "data": {
      "text/plain": [
       "['sepal length (cm)',\n",
       " 'sepal width (cm)',\n",
       " 'petal length (cm)',\n",
       " 'petal width (cm)']"
      ]
     },
     "execution_count": 5,
     "metadata": {},
     "output_type": "execute_result"
    }
   ],
   "source": [
    "iris.feature_names"
   ]
  },
  {
   "cell_type": "code",
   "execution_count": 6,
   "metadata": {},
   "outputs": [
    {
     "data": {
      "text/html": [
       "<div>\n",
       "<style scoped>\n",
       "    .dataframe tbody tr th:only-of-type {\n",
       "        vertical-align: middle;\n",
       "    }\n",
       "\n",
       "    .dataframe tbody tr th {\n",
       "        vertical-align: top;\n",
       "    }\n",
       "\n",
       "    .dataframe thead th {\n",
       "        text-align: right;\n",
       "    }\n",
       "</style>\n",
       "<table border=\"1\" class=\"dataframe\">\n",
       "  <thead>\n",
       "    <tr style=\"text-align: right;\">\n",
       "      <th></th>\n",
       "      <th>sepal length (cm)</th>\n",
       "      <th>sepal width (cm)</th>\n",
       "      <th>petal length (cm)</th>\n",
       "      <th>petal width (cm)</th>\n",
       "      <th>variety</th>\n",
       "    </tr>\n",
       "  </thead>\n",
       "  <tbody>\n",
       "    <tr>\n",
       "      <th>0</th>\n",
       "      <td>5.1</td>\n",
       "      <td>3.5</td>\n",
       "      <td>1.4</td>\n",
       "      <td>0.2</td>\n",
       "      <td>0</td>\n",
       "    </tr>\n",
       "    <tr>\n",
       "      <th>1</th>\n",
       "      <td>4.9</td>\n",
       "      <td>3.0</td>\n",
       "      <td>1.4</td>\n",
       "      <td>0.2</td>\n",
       "      <td>0</td>\n",
       "    </tr>\n",
       "    <tr>\n",
       "      <th>2</th>\n",
       "      <td>4.7</td>\n",
       "      <td>3.2</td>\n",
       "      <td>1.3</td>\n",
       "      <td>0.2</td>\n",
       "      <td>0</td>\n",
       "    </tr>\n",
       "    <tr>\n",
       "      <th>3</th>\n",
       "      <td>4.6</td>\n",
       "      <td>3.1</td>\n",
       "      <td>1.5</td>\n",
       "      <td>0.2</td>\n",
       "      <td>0</td>\n",
       "    </tr>\n",
       "    <tr>\n",
       "      <th>4</th>\n",
       "      <td>5.0</td>\n",
       "      <td>3.6</td>\n",
       "      <td>1.4</td>\n",
       "      <td>0.2</td>\n",
       "      <td>0</td>\n",
       "    </tr>\n",
       "    <tr>\n",
       "      <th>...</th>\n",
       "      <td>...</td>\n",
       "      <td>...</td>\n",
       "      <td>...</td>\n",
       "      <td>...</td>\n",
       "      <td>...</td>\n",
       "    </tr>\n",
       "    <tr>\n",
       "      <th>145</th>\n",
       "      <td>6.7</td>\n",
       "      <td>3.0</td>\n",
       "      <td>5.2</td>\n",
       "      <td>2.3</td>\n",
       "      <td>2</td>\n",
       "    </tr>\n",
       "    <tr>\n",
       "      <th>146</th>\n",
       "      <td>6.3</td>\n",
       "      <td>2.5</td>\n",
       "      <td>5.0</td>\n",
       "      <td>1.9</td>\n",
       "      <td>2</td>\n",
       "    </tr>\n",
       "    <tr>\n",
       "      <th>147</th>\n",
       "      <td>6.5</td>\n",
       "      <td>3.0</td>\n",
       "      <td>5.2</td>\n",
       "      <td>2.0</td>\n",
       "      <td>2</td>\n",
       "    </tr>\n",
       "    <tr>\n",
       "      <th>148</th>\n",
       "      <td>6.2</td>\n",
       "      <td>3.4</td>\n",
       "      <td>5.4</td>\n",
       "      <td>2.3</td>\n",
       "      <td>2</td>\n",
       "    </tr>\n",
       "    <tr>\n",
       "      <th>149</th>\n",
       "      <td>5.9</td>\n",
       "      <td>3.0</td>\n",
       "      <td>5.1</td>\n",
       "      <td>1.8</td>\n",
       "      <td>2</td>\n",
       "    </tr>\n",
       "  </tbody>\n",
       "</table>\n",
       "<p>150 rows × 5 columns</p>\n",
       "</div>"
      ],
      "text/plain": [
       "     sepal length (cm)  sepal width (cm)  petal length (cm)  petal width (cm)  \\\n",
       "0                  5.1               3.5                1.4               0.2   \n",
       "1                  4.9               3.0                1.4               0.2   \n",
       "2                  4.7               3.2                1.3               0.2   \n",
       "3                  4.6               3.1                1.5               0.2   \n",
       "4                  5.0               3.6                1.4               0.2   \n",
       "..                 ...               ...                ...               ...   \n",
       "145                6.7               3.0                5.2               2.3   \n",
       "146                6.3               2.5                5.0               1.9   \n",
       "147                6.5               3.0                5.2               2.0   \n",
       "148                6.2               3.4                5.4               2.3   \n",
       "149                5.9               3.0                5.1               1.8   \n",
       "\n",
       "     variety  \n",
       "0          0  \n",
       "1          0  \n",
       "2          0  \n",
       "3          0  \n",
       "4          0  \n",
       "..       ...  \n",
       "145        2  \n",
       "146        2  \n",
       "147        2  \n",
       "148        2  \n",
       "149        2  \n",
       "\n",
       "[150 rows x 5 columns]"
      ]
     },
     "execution_count": 6,
     "metadata": {},
     "output_type": "execute_result"
    }
   ],
   "source": [
    "df['variety'] = iris.target\n",
    "df"
   ]
  },
  {
   "cell_type": "code",
   "execution_count": 7,
   "metadata": {},
   "outputs": [],
   "source": [
    "# Оставляем только 2 класса: Iris Versicolor, Iris Virginica, уберем те строчки, где target == 0 (это класс setosa)\n",
    "\n",
    "df = df[df.variety != 0]"
   ]
  },
  {
   "cell_type": "code",
   "execution_count": 8,
   "metadata": {},
   "outputs": [],
   "source": [
    "# Выделим target\n",
    "\n",
    "X = df.drop(columns=['variety'])\n",
    "y = df['variety']\n",
    "\n",
    "# Заменим target вместо 1 & 2 на 0 & 1\n",
    "\n",
    "y = np.asarray([0 if x==2 else 1 for x in y])\n",
    "\n",
    "# Разделим данные на train и test\n",
    "\n",
    "X_train, X_test, y_train, y_test = train_test_split(X, y, test_size=0.2)"
   ]
  },
  {
   "cell_type": "markdown",
   "metadata": {},
   "source": [
    "#### Метод градиентного спуска. \n",
    "\n",
    "Алгоритм:\n",
    "\n",
    "1. Задаем $\\gamma$ - \"learning rate\"\n",
    "\n",
    "2. Выбираем начальное приближение $x_0$\n",
    "\n",
    "3. for k = 0, 1, 2 ... do\n",
    "\n",
    "    - $s_k$ = -$\\nabla f(x_k)$\n",
    "\n",
    "    - $x_{k+1} = x_k + \\gamma s_k$"
   ]
  },
  {
   "cell_type": "markdown",
   "metadata": {},
   "source": [
    "#### Метод nesterov momentum \n",
    "\n",
    "Алгоритм:\n",
    "\n",
    "1. считаем старый градиент\n",
    "2. считаем промежуточный градиент в точке старых весов - 0.9 старого градиента\n",
    "3. новые веса будут равны старым весам - взвешанная сумма старого градиента и промежуточного"
   ]
  },
  {
   "cell_type": "markdown",
   "metadata": {},
   "source": [
    "#### Метод rmsprop\n",
    "\n",
    "Алгоритм:\n",
    "\n",
    "1. считаем взвешанную сумму квадратов градиентов\n",
    "2. к старым параметрам градиент с шагом step / корень из взвешанной суммы квадратов"
   ]
  },
  {
   "cell_type": "code",
   "execution_count": 9,
   "metadata": {},
   "outputs": [],
   "source": [
    "class LogRegression():\n",
    "    \n",
    "    def __init__(self, num_iterations=1000, learning_rate=0.01, method='gb', gamma=None, eps=None):\n",
    "        \"\"\"\n",
    "        num_iterations - количество итераций цикла оптимизации\n",
    "        learning_rate - скорость обучения\n",
    "        method - метод оптимизации\n",
    "        \"\"\"\n",
    "        self.num_iterations = num_iterations\n",
    "        self.learning_rate = learning_rate\n",
    "        self.method = method\n",
    "        self.gamma = gamma\n",
    "        self.eps = eps\n",
    "        \n",
    "    def sigmoid(self, x):\n",
    "        s = 1.0 / (1.0 + np.exp(-x))\n",
    "        return s\n",
    "\n",
    "    def propagate(self, w, b, X, y):\n",
    "        \"\"\"\n",
    "        Реализует функцию стоимости и ее градиент.\n",
    "        Принимает на вход:\n",
    "        w - веса\n",
    "        б - смещение, скаляр\n",
    "        X - наши данные \n",
    "        y - целевая функция\n",
    "\n",
    "        Возвращает:\n",
    "        cost - отрицательная логарифмическая вероятность для логистической регрессии\n",
    "        dw - градиент w\n",
    "        db - градиент b\n",
    "        \"\"\"\n",
    "        number_of_features = X.shape[1]\n",
    "        z = np.dot(w.T,X)+b\n",
    "        A = self.sigmoid(z)\n",
    "        dw = 1.0/number_of_features*np.dot(X, (A-y).T)\n",
    "        db = 1.0/number_of_features*np.sum(A-y)\n",
    "        grads = {\"dw\": dw, \n",
    "                 \"db\":db}\n",
    "        return grads\n",
    "\n",
    "    def optimize(self, X, y, method):\n",
    "        \"\"\"\n",
    "        Этот метод оптимизирует w и b, различными алгоритмами. (Гр. спуск, nesterov momentum, rmsprop)\n",
    "\n",
    "        Принимает на вход:\n",
    "        w - веса\n",
    "        б - смещение, скаляр\n",
    "        X - наши данные\n",
    "        y - целевая функция\n",
    "        num_iterations - количество итераций цикла оптимизации\n",
    "        learning_rate - скорость обучения правила обновления градиентного спуска\n",
    "        \n",
    "        Возвращает:\n",
    "        params - словарь, содержащий веса w и смещение b\n",
    "        grads - словарь, содержащий градиенты весов и смещений\n",
    "        \"\"\"\n",
    "        w = np.zeros((X.shape[0],1))\n",
    "        b = 0\n",
    "        costs = []\n",
    "        if self.method == 'gb':\n",
    "            for i in range(self.num_iterations):\n",
    "                grads = self.propagate(w, b, X, y)\n",
    "                dw = grads[\"dw\"]\n",
    "                db = grads[\"db\"]\n",
    "                w = w - self.learning_rate*dw\n",
    "                b = b - self.learning_rate*db\n",
    "        elif self.method == 'nm':\n",
    "            v_w = 0\n",
    "            v_b = 0\n",
    "            for i in range(self.num_iterations):\n",
    "                grads = self.propagate(w, b, X, y)\n",
    "                dw = grads[\"dw\"]\n",
    "                db = grads[\"db\"]\n",
    "                v_w = self.gamma*v_w + self.learning_rate*(1-self.gamma)*dw\n",
    "                v_b = self.gamma*v_b + self.learning_rate*(1-self.gamma)*db\n",
    "                w = w - v_w\n",
    "                b = b - v_b\n",
    "        elif self.method == 'rmsp':\n",
    "            EG_w = 0\n",
    "            EG_b = 0\n",
    "            for i in range(self.num_iterations):\n",
    "                grads = self.propagate(w, b, X, y)\n",
    "                dw = grads[\"dw\"]\n",
    "                db = grads[\"db\"]\n",
    "                EG_w = self.gamma*EG_w + (1-self.gamma)*(dw/self.learning_rate)**2                \n",
    "                EG_b = self.gamma*EG_b + (1-self.gamma)*(db/self.learning_rate)**2\n",
    "                w = w - dw/(EG_w + self.eps)**0.5\n",
    "                b = b - db/(EG_b + self.eps)**0.5\n",
    "        grads = {\"dw\": dw, \"db\": db}\n",
    "        params = {\"w\": w, \"b\": b}\n",
    "        return params\n",
    "    \n",
    "    def predict(self, w, b, X):\n",
    "        \"\"\"\n",
    "        Предсказывает будет значение 0 или 1 (граница 0.5).\n",
    "        \"\"\"\n",
    "        y_prediction = np.zeros((1,X.shape[1]))\n",
    "        w = w.reshape(X.shape[0],1)\n",
    "        A = self.sigmoid(np.dot(w.T, X) + b)\n",
    "        for i in range(A.shape[1]):\n",
    "            if (A[:,i] > 0.5): \n",
    "                y_prediction[:, i] = 1\n",
    "            elif (A[:,i] <= 0.5):\n",
    "                y_prediction[:, i] = 0\n",
    "        return y_prediction[0]\n",
    "    \n",
    "    def fit_predict(self, X_train, y_train, X_test):\n",
    "        \"\"\"\n",
    "        Данный метод совершает оптимизацию и предсказывает значение y_test_predict.\n",
    "        \"\"\"\n",
    "        parameters = self.optimize(X_train, y_train, self.method)\n",
    "        w = parameters[\"w\"]\n",
    "        b = parameters[\"b\"]\n",
    "        y_predict = self.predict(w, b, X_test)\n",
    "        return y_predict"
   ]
  },
  {
   "cell_type": "code",
   "execution_count": 10,
   "metadata": {},
   "outputs": [],
   "source": [
    "# Преобразуем данные для возможности вычислений\n",
    "\n",
    "X_train_tr = X_train.transpose()\n",
    "y_train_tr = np.array(y_train).reshape(1, y_train.shape[0])\n",
    "X_test_tr = X_test.transpose()\n",
    "y_test_tr = np.array(y_test).reshape(1, y_test.shape[0])"
   ]
  },
  {
   "cell_type": "code",
   "execution_count": 11,
   "metadata": {},
   "outputs": [],
   "source": [
    "# Обучим модели и сделаем предсказания\n",
    "\n",
    "model_gb = LogRegression(num_iterations=1000, learning_rate=0.01, method='gb')\n",
    "model_nm = LogRegression(num_iterations=1000, learning_rate=0.01, method='nm', gamma=0.9)\n",
    "model_rmsp = LogRegression(num_iterations=1000, learning_rate=0.01, method='rmsp', gamma=0.9, eps=1e-6)\n",
    "\n",
    "y_predict_gb = model_gb.fit_predict(X_train_tr, y_train_tr, X_test_tr)\n",
    "y_predict_nm = model_nm.fit_predict(X_train_tr, y_train_tr, X_test_tr)\n",
    "y_predict_rmsp = model_rmsp.fit_predict(X_train_tr, y_train_tr, X_test_tr)"
   ]
  },
  {
   "cell_type": "code",
   "execution_count": 12,
   "metadata": {},
   "outputs": [],
   "source": [
    "# Воспользуемся стандартной функцией из sklearn\n",
    "\n",
    "model_sk = LogisticRegression()\n",
    "model_sk.fit(X_train, y_train)\n",
    "y_predict_sk = model_sk.predict(X_test)"
   ]
  },
  {
   "cell_type": "code",
   "execution_count": 13,
   "metadata": {},
   "outputs": [],
   "source": [
    "# Соберем все метрики всех моделей в таблицу\n",
    "\n",
    "models = [model_sk,  model_gb, model_nm, model_rmsp]\n",
    "y_preds = [y_predict_sk, y_predict_gb, y_predict_nm, y_predict_rmsp]\n",
    "index = ['LG_sklearn', 'LG_gb', 'LG_nm', 'LG_rmsp']\n",
    "metrics_columns = ['ROC_AUC', 'RECALL', 'ACCURACY', 'PRECISION']\n",
    "metrics_scores = np.zeros(16).reshape(4,4)"
   ]
  },
  {
   "cell_type": "code",
   "execution_count": 14,
   "metadata": {},
   "outputs": [],
   "source": [
    "def metrics(y_test, y_pred, metric_type):\n",
    "    \n",
    "    if metric_type == 'ROC_AUC':\n",
    "        return roc_auc_score(y_test, y_pred)\n",
    "    \n",
    "    elif metric_type == 'RECALL':\n",
    "        return recall_score(y_test, y_pred)\n",
    "    \n",
    "    elif metric_type == 'ACCURACY':\n",
    "        return accuracy_score(y_test, y_pred)\n",
    "    \n",
    "    elif metric_type == 'PRECISION':\n",
    "        return precision_score(y_test, y_pred)"
   ]
  },
  {
   "cell_type": "code",
   "execution_count": 15,
   "metadata": {},
   "outputs": [],
   "source": [
    "for i in range(0, len(models)):  \n",
    "    for k in range(0, len(metrics_columns)):\n",
    "        metrics_scores[i][k] = metrics(y_test, y_preds[i], metric_type=metrics_columns[k])"
   ]
  },
  {
   "cell_type": "code",
   "execution_count": 16,
   "metadata": {},
   "outputs": [
    {
     "data": {
      "text/html": [
       "<div>\n",
       "<style scoped>\n",
       "    .dataframe tbody tr th:only-of-type {\n",
       "        vertical-align: middle;\n",
       "    }\n",
       "\n",
       "    .dataframe tbody tr th {\n",
       "        vertical-align: top;\n",
       "    }\n",
       "\n",
       "    .dataframe thead th {\n",
       "        text-align: right;\n",
       "    }\n",
       "</style>\n",
       "<table border=\"1\" class=\"dataframe\">\n",
       "  <thead>\n",
       "    <tr style=\"text-align: right;\">\n",
       "      <th></th>\n",
       "      <th>ROC_AUC</th>\n",
       "      <th>RECALL</th>\n",
       "      <th>ACCURACY</th>\n",
       "      <th>PRECISION</th>\n",
       "    </tr>\n",
       "  </thead>\n",
       "  <tbody>\n",
       "    <tr>\n",
       "      <th>LG_sklearn</th>\n",
       "      <td>0.958333</td>\n",
       "      <td>0.916667</td>\n",
       "      <td>0.95</td>\n",
       "      <td>1.0</td>\n",
       "    </tr>\n",
       "    <tr>\n",
       "      <th>LG_gb</th>\n",
       "      <td>0.916667</td>\n",
       "      <td>0.833333</td>\n",
       "      <td>0.90</td>\n",
       "      <td>1.0</td>\n",
       "    </tr>\n",
       "    <tr>\n",
       "      <th>LG_nm</th>\n",
       "      <td>0.916667</td>\n",
       "      <td>0.833333</td>\n",
       "      <td>0.90</td>\n",
       "      <td>1.0</td>\n",
       "    </tr>\n",
       "    <tr>\n",
       "      <th>LG_rmsp</th>\n",
       "      <td>0.958333</td>\n",
       "      <td>0.916667</td>\n",
       "      <td>0.95</td>\n",
       "      <td>1.0</td>\n",
       "    </tr>\n",
       "  </tbody>\n",
       "</table>\n",
       "</div>"
      ],
      "text/plain": [
       "             ROC_AUC    RECALL  ACCURACY  PRECISION\n",
       "LG_sklearn  0.958333  0.916667      0.95        1.0\n",
       "LG_gb       0.916667  0.833333      0.90        1.0\n",
       "LG_nm       0.916667  0.833333      0.90        1.0\n",
       "LG_rmsp     0.958333  0.916667      0.95        1.0"
      ]
     },
     "execution_count": 16,
     "metadata": {},
     "output_type": "execute_result"
    }
   ],
   "source": [
    "metrics_df = pd.DataFrame(metrics_scores, index=index, columns=metrics_columns)\n",
    "metrics_df"
   ]
  },
  {
   "cell_type": "code",
   "execution_count": 17,
   "metadata": {},
   "outputs": [
    {
     "data": {
      "text/plain": [
       "array([[ 8,  0],\n",
       "       [ 1, 11]], dtype=int64)"
      ]
     },
     "execution_count": 17,
     "metadata": {},
     "output_type": "execute_result"
    }
   ],
   "source": [
    "confusion_matrix(y_test, y_predict_sk)"
   ]
  },
  {
   "cell_type": "code",
   "execution_count": 18,
   "metadata": {},
   "outputs": [
    {
     "data": {
      "text/plain": [
       "array([[ 8,  0],\n",
       "       [ 2, 10]], dtype=int64)"
      ]
     },
     "execution_count": 18,
     "metadata": {},
     "output_type": "execute_result"
    }
   ],
   "source": [
    "confusion_matrix(y_test, y_predict_gb)"
   ]
  },
  {
   "cell_type": "code",
   "execution_count": 19,
   "metadata": {},
   "outputs": [
    {
     "data": {
      "text/plain": [
       "array([[ 8,  0],\n",
       "       [ 2, 10]], dtype=int64)"
      ]
     },
     "execution_count": 19,
     "metadata": {},
     "output_type": "execute_result"
    }
   ],
   "source": [
    "confusion_matrix(y_test, y_predict_nm)"
   ]
  },
  {
   "cell_type": "code",
   "execution_count": 20,
   "metadata": {},
   "outputs": [
    {
     "data": {
      "text/plain": [
       "array([[ 8,  0],\n",
       "       [ 1, 11]], dtype=int64)"
      ]
     },
     "execution_count": 20,
     "metadata": {},
     "output_type": "execute_result"
    }
   ],
   "source": [
    "confusion_matrix(y_test, y_predict_rmsp)"
   ]
  },
  {
   "cell_type": "code",
   "execution_count": 21,
   "metadata": {},
   "outputs": [],
   "source": [
    "# Разные модели показали близкие итоги"
   ]
  }
 ],
 "metadata": {
  "kernelspec": {
   "display_name": "Python 3",
   "language": "python",
   "name": "python3"
  },
  "language_info": {
   "codemirror_mode": {
    "name": "ipython",
    "version": 3
   },
   "file_extension": ".py",
   "mimetype": "text/x-python",
   "name": "python",
   "nbconvert_exporter": "python",
   "pygments_lexer": "ipython3",
   "version": "3.7.6"
  }
 },
 "nbformat": 4,
 "nbformat_minor": 4
}
