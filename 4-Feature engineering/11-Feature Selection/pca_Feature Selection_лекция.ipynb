{
  "nbformat": 4,
  "nbformat_minor": 0,
  "metadata": {
    "kernelspec": {
      "display_name": "Python 3",
      "language": "python",
      "name": "python3"
    },
    "language_info": {
      "codemirror_mode": {
        "name": "ipython",
        "version": 3
      },
      "file_extension": ".py",
      "mimetype": "text/x-python",
      "name": "python",
      "nbconvert_exporter": "python",
      "pygments_lexer": "ipython3",
      "version": "3.7.6"
    },
    "colab": {
      "name": "pca_Ð¿ÑÐ°ÐºÑÐ¸ÐºÐ°.ipynb",
      "provenance": [],
      "collapsed_sections": []
    }
  },
  "cells": [
    {
      "cell_type": "code",
      "metadata": {
        "id": "mN0CpUgB_szP"
      },
      "source": [
        "import numpy as np\n",
        "from matplotlib import pyplot as plt"
      ],
      "execution_count": null,
      "outputs": []
    },
    {
      "cell_type": "code",
      "metadata": {
        "colab": {
          "base_uri": "https://localhost:8080/"
        },
        "id": "w4yISdQj_szP",
        "outputId": "89be2a4b-fcf7-42e5-daa0-6097aa1ca7f6"
      },
      "source": [
        "x = np.arange(1,11) * (100 + np.random.randn(10))\n",
        "y = 2 * x + np.random.randn(10)*5\n",
        "X = np.vstack((x,y))\n",
        "print(X)"
      ],
      "execution_count": null,
      "outputs": [
        {
          "output_type": "stream",
          "text": [
            "[[  98.70842929  200.78638413  295.99642677  401.00339587  503.85281248\n",
            "   604.86288313  709.10653833  802.95611117  906.12811082  995.16225731]\n",
            " [ 197.56211248  399.20670964  590.02860863  800.0614098  1013.84524805\n",
            "  1215.25286607 1416.23898799 1609.06919812 1807.31125009 1985.07561528]]\n"
          ],
          "name": "stdout"
        }
      ]
    },
    {
      "cell_type": "code",
      "metadata": {
        "colab": {
          "base_uri": "https://localhost:8080/",
          "height": 265
        },
        "id": "JSdeH-hg_szR",
        "outputId": "7a59e0de-257b-41ad-a2da-a9c185353d6b"
      },
      "source": [
        "plt.scatter(X[0], X[1])\n",
        "plt.show()"
      ],
      "execution_count": null,
      "outputs": [
        {
          "output_type": "display_data",
          "data": {
            "image/png": "[encoded data removed]",
            "text/plain": [
              "<Figure size 432x288 with 1 Axes>"
            ]
          },
          "metadata": {
            "tags": [],
            "needs_background": "light"
          }
        }
      ]
    },
    {
      "cell_type": "code",
      "metadata": {
        "colab": {
          "base_uri": "https://localhost:8080/"
        },
        "id": "j9kCCcgA_szR",
        "outputId": "7fe7e3ef-12a9-4813-d23a-83f1fb2c316b"
      },
      "source": [
        "Xcentered = (X[0] - x.mean(), X[1] - y.mean())\n",
        "m = (x.mean(), y.mean())\n",
        "print(Xcentered)\n",
        "print(\"Mean vector: \", m)"
      ],
      "execution_count": null,
      "outputs": [
        {
          "output_type": "stream",
          "text": [
            "(array([-453.14790564, -351.0699508 , -255.85990816, -150.85293906,\n",
            "        -48.00352245,   53.0065482 ,  157.2502034 ,  251.09977624,\n",
            "        354.27177589,  443.30592238]), array([-905.80308813, -704.15849098, -513.33659199, -303.30379082,\n",
            "        -89.51995256,  111.88766545,  312.87378738,  505.7039975 ,\n",
            "        703.94604948,  881.71041466]))\n",
            "Mean vector:  (551.8563349301119, 1103.3652006133027)\n"
          ],
          "name": "stdout"
        }
      ]
    },
    {
      "cell_type": "code",
      "metadata": {
        "colab": {
          "base_uri": "https://localhost:8080/",
          "height": 265
        },
        "id": "9UjoNi9c_szR",
        "outputId": "a19c77d0-6eaf-4c97-9e42-48a6ea9226f4"
      },
      "source": [
        "plt.scatter(Xcentered[0], Xcentered[1])\n",
        "plt.show()"
      ],
      "execution_count": null,
      "outputs": [
        {
          "output_type": "display_data",
          "data": {
            "image/png": "[encoded data removed]",
            "text/plain": [
              "<Figure size 432x288 with 1 Axes>"
            ]
          },
          "metadata": {
            "tags": [],
            "needs_background": "light"
          }
        }
      ]
    },
    {
      "cell_type": "code",
      "metadata": {
        "colab": {
          "base_uri": "https://localhost:8080/"
        },
        "id": "LUeZ90d-_szR",
        "outputId": "e2948579-4187-4364-f3f3-e0052944ab64"
      },
      "source": [
        "X.T.shape"
      ],
      "execution_count": null,
      "outputs": [
        {
          "output_type": "execute_result",
          "data": {
            "text/plain": [
              "(10, 2)"
            ]
          },
          "metadata": {
            "tags": []
          },
          "execution_count": 20
        }
      ]
    },
    {
      "cell_type": "code",
      "metadata": {
        "colab": {
          "base_uri": "https://localhost:8080/"
        },
        "id": "qutncouZ_szR",
        "outputId": "8322e925-8c06-4838-db0f-d8b467948ed6"
      },
      "source": [
        "covmat = np.cov(Xcentered)\n",
        "print(covmat, \"\\n\")\n",
        "print(\"Variance of X: \", np.cov(Xcentered)[0,0])\n",
        "print(\"Variance of Y: \", np.cov(Xcentered)[1,1])\n",
        "print(\"Covariance X and Y: \", np.cov(Xcentered)[0,1])"
      ],
      "execution_count": null,
      "outputs": [
        {
          "output_type": "stream",
          "text": [
            "[[ 92415.04722077 184603.72507421]\n",
            " [184603.72507421 368770.95205448]] \n",
            "\n",
            "Variance of X:  92415.04722076502\n",
            "Variance of Y:  368770.9520544837\n",
            "Covariance X and Y:  184603.72507421314\n"
          ],
          "name": "stdout"
        }
      ]
    },
    {
      "cell_type": "code",
      "metadata": {
        "colab": {
          "base_uri": "https://localhost:8080/"
        },
        "id": "so7u5ozoB2Rf",
        "outputId": "a7a09366-1cb1-4658-c8c3-8b53a3865077"
      },
      "source": [
        "covmat"
      ],
      "execution_count": null,
      "outputs": [
        {
          "output_type": "execute_result",
          "data": {
            "text/plain": [
              "array([[ 92415.04722077, 184603.72507421],\n",
              "       [184603.72507421, 368770.95205448]])"
            ]
          },
          "metadata": {
            "tags": []
          },
          "execution_count": 22
        }
      ]
    },
    {
      "cell_type": "code",
      "metadata": {
        "colab": {
          "base_uri": "https://localhost:8080/"
        },
        "id": "j2nm2v7V_szS",
        "outputId": "cb005dac-2158-4e6c-d0d8-7d8bf6a72eab"
      },
      "source": [
        "_, vecs = np.linalg.eig(covmat)\n",
        "v = vecs[:,1]\n",
        "Xnew = np.dot(v, Xcentered)\n",
        "print(Xnew)"
      ],
      "execution_count": null,
      "outputs": [
        {
          "output_type": "stream",
          "text": [
            "[1012.82880584  786.82123625  573.56582558  338.74626371  101.53827918\n",
            " -123.77935271 -350.16755866 -564.60982836 -788.06453302 -986.87913781]\n"
          ],
          "name": "stdout"
        }
      ]
    },
    {
      "cell_type": "code",
      "metadata": {
        "id": "S79f35UL_szS",
        "colab": {
          "base_uri": "https://localhost:8080/"
        },
        "outputId": "982ba746-a360-4afe-ffaa-b07594cb703d"
      },
      "source": [
        "v, v.shape"
      ],
      "execution_count": null,
      "outputs": [
        {
          "output_type": "execute_result",
          "data": {
            "text/plain": [
              "(array([-0.44763997, -0.89421387]), (2,))"
            ]
          },
          "metadata": {
            "tags": []
          },
          "execution_count": 24
        }
      ]
    },
    {
      "cell_type": "code",
      "metadata": {
        "id": "Ly3TOqkK_szS",
        "colab": {
          "base_uri": "https://localhost:8080/"
        },
        "outputId": "4083306f-0972-4593-a82c-77cc925b69ed"
      },
      "source": [
        "Xcentered"
      ],
      "execution_count": null,
      "outputs": [
        {
          "output_type": "execute_result",
          "data": {
            "text/plain": [
              "(array([-453.14790564, -351.0699508 , -255.85990816, -150.85293906,\n",
              "         -48.00352245,   53.0065482 ,  157.2502034 ,  251.09977624,\n",
              "         354.27177589,  443.30592238]),\n",
              " array([-905.80308813, -704.15849098, -513.33659199, -303.30379082,\n",
              "         -89.51995256,  111.88766545,  312.87378738,  505.7039975 ,\n",
              "         703.94604948,  881.71041466]))"
            ]
          },
          "metadata": {
            "tags": []
          },
          "execution_count": 25
        }
      ]
    },
    {
      "cell_type": "code",
      "metadata": {
        "id": "KaVxuZMN_szS",
        "colab": {
          "base_uri": "https://localhost:8080/"
        },
        "outputId": "af3bc4c8-fe3f-467a-dafb-c5a88ee2b06e"
      },
      "source": [
        "m"
      ],
      "execution_count": null,
      "outputs": [
        {
          "output_type": "execute_result",
          "data": {
            "text/plain": [
              "(551.8563349301119, 1103.3652006133027)"
            ]
          },
          "metadata": {
            "tags": []
          },
          "execution_count": 26
        }
      ]
    },
    {
      "cell_type": "code",
      "metadata": {
        "id": "oVDso9R9_szS",
        "colab": {
          "base_uri": "https://localhost:8080/"
        },
        "outputId": "fc310385-3cbc-4708-817b-d487007346a2"
      },
      "source": [
        "n = 8     #номер элемента случайной величины\n",
        "Xrestored = np.dot(Xnew[n],v) + m\n",
        "print('Restored: ', Xrestored)\n",
        "print('Original: ', X[:,n])"
      ],
      "execution_count": null,
      "outputs": [
        {
          "output_type": "stream",
          "text": [
            "Restored:  [ 904.62552193 1808.06344022]\n",
            "Original:  [ 906.12811082 1807.31125009]\n"
          ],
          "name": "stdout"
        }
      ]
    },
    {
      "cell_type": "code",
      "metadata": {
        "id": "azA-dFO9_szS"
      },
      "source": [
        ""
      ],
      "execution_count": null,
      "outputs": []
    },
    {
      "cell_type": "code",
      "metadata": {
        "id": "p70ISeRv_szS"
      },
      "source": [
        "from sklearn.decomposition import PCA\n",
        "\n",
        "pca = PCA(n_components = 1)\n",
        "XPCAreduced = pca.fit_transform(np.transpose(X))"
      ],
      "execution_count": null,
      "outputs": []
    },
    {
      "cell_type": "code",
      "metadata": {
        "id": "oBOfn9Jv_szS",
        "colab": {
          "base_uri": "https://localhost:8080/"
        },
        "outputId": "d607d26d-a142-44b7-c4e1-3b1566482aa1"
      },
      "source": [
        "for xn, x_pca in zip(Xnew, XPCAreduced):\n",
        "    print(xn, '-', x_pca[0], '=', np.abs(xn - x_pca[0]))"
      ],
      "execution_count": null,
      "outputs": [
        {
          "output_type": "stream",
          "text": [
            "1012.8288058370882 - 1012.8288058370886 = 3.410605131648481e-13\n",
            "786.8212362544755 - 786.8212362544756 = 1.1368683772161603e-13\n",
            "573.5658255750043 - 573.5658255750044 = 1.1368683772161603e-13\n",
            "338.7462637114687 - 338.7462637114687 = 0.0\n",
            "101.53827918463108 - 101.5382791846311 = 1.4210854715202004e-14\n",
            "-123.77935271205641 - -123.77935271205642 = 1.4210854715202004e-14\n",
            "-350.167558658897 - -350.16755865889706 = 5.684341886080802e-14\n",
            "-564.6098283583107 - -564.6098283583108 = 1.1368683772161603e-13\n",
            "-788.0645330203928 - -788.0645330203929 = 1.1368683772161603e-13\n",
            "-986.8791378130106 - -986.879137813011 = 3.410605131648481e-13\n"
          ],
          "name": "stdout"
        }
      ]
    },
    {
      "cell_type": "code",
      "metadata": {
        "id": "Vh6jF2EXC_SC"
      },
      "source": [
        "p = PCA(n_components=0.99)\n"
      ],
      "execution_count": null,
      "outputs": []
    },
    {
      "cell_type": "code",
      "metadata": {
        "colab": {
          "base_uri": "https://localhost:8080/"
        },
        "id": "nmPPhC4FDMhG",
        "outputId": "98f42a10-de89-4c3e-9b94-7d3281d24526"
      },
      "source": [
        "p.fit_transform(np.transpose(X))"
      ],
      "execution_count": null,
      "outputs": [
        {
          "output_type": "execute_result",
          "data": {
            "text/plain": [
              "array([[1012.82880584],\n",
              "       [ 786.82123625],\n",
              "       [ 573.56582558],\n",
              "       [ 338.74626371],\n",
              "       [ 101.53827918],\n",
              "       [-123.77935271],\n",
              "       [-350.16755866],\n",
              "       [-564.60982836],\n",
              "       [-788.06453302],\n",
              "       [-986.87913781]])"
            ]
          },
          "metadata": {
            "tags": []
          },
          "execution_count": 34
        }
      ]
    },
    {
      "cell_type": "code",
      "metadata": {
        "id": "HTFPk1PBEV71"
      },
      "source": [
        "from sklearn import datasets as dts"
      ],
      "execution_count": null,
      "outputs": []
    },
    {
      "cell_type": "code",
      "metadata": {
        "id": "XWTysy9YEqaZ"
      },
      "source": [
        "data = dts.load_diabetes()"
      ],
      "execution_count": null,
      "outputs": []
    },
    {
      "cell_type": "code",
      "metadata": {
        "colab": {
          "base_uri": "https://localhost:8080/"
        },
        "id": "QjEmNkjZE85G",
        "outputId": "8cb42854-6319-4742-c3c3-e7cbe48d946f"
      },
      "source": [
        "data.feature_names"
      ],
      "execution_count": null,
      "outputs": [
        {
          "output_type": "execute_result",
          "data": {
            "text/plain": [
              "['age', 'sex', 'bmi', 'bp', 's1', 's2', 's3', 's4', 's5', 's6']"
            ]
          },
          "metadata": {
            "tags": []
          },
          "execution_count": 41
        }
      ]
    },
    {
      "cell_type": "code",
      "metadata": {
        "id": "PpSA21WUFVvD"
      },
      "source": [
        "import pandas as pd"
      ],
      "execution_count": null,
      "outputs": []
    },
    {
      "cell_type": "code",
      "metadata": {
        "colab": {
          "base_uri": "https://localhost:8080/"
        },
        "id": "ttqxM3Z4FlU5",
        "outputId": "42268d3d-19ea-4c99-cfd9-a8a084d7c30f"
      },
      "source": [
        "data.data.shape"
      ],
      "execution_count": null,
      "outputs": [
        {
          "output_type": "execute_result",
          "data": {
            "text/plain": [
              "(442, 10)"
            ]
          },
          "metadata": {
            "tags": []
          },
          "execution_count": 45
        }
      ]
    },
    {
      "cell_type": "code",
      "metadata": {
        "id": "Nz3M5jUeJ8Aw"
      },
      "source": [
        "target = data.target"
      ],
      "execution_count": null,
      "outputs": []
    },
    {
      "cell_type": "code",
      "metadata": {
        "id": "EZJYAVrKFaqS"
      },
      "source": [
        "df = pd.DataFrame(data=data.data, columns=data.feature_names)"
      ],
      "execution_count": null,
      "outputs": []
    },
    {
      "cell_type": "code",
      "metadata": {
        "colab": {
          "base_uri": "https://localhost:8080/"
        },
        "id": "n9JBqg2TFhsR",
        "outputId": "0ab439e1-1181-403f-e14f-874f3c0048b6"
      },
      "source": [
        "df.info()"
      ],
      "execution_count": null,
      "outputs": [
        {
          "output_type": "stream",
          "text": [
            "<class 'pandas.core.frame.DataFrame'>\n",
            "RangeIndex: 442 entries, 0 to 441\n",
            "Data columns (total 10 columns):\n",
            " #   Column  Non-Null Count  Dtype  \n",
            "---  ------  --------------  -----  \n",
            " 0   age     442 non-null    float64\n",
            " 1   sex     442 non-null    float64\n",
            " 2   bmi     442 non-null    float64\n",
            " 3   bp      442 non-null    float64\n",
            " 4   s1      442 non-null    float64\n",
            " 5   s2      442 non-null    float64\n",
            " 6   s3      442 non-null    float64\n",
            " 7   s4      442 non-null    float64\n",
            " 8   s5      442 non-null    float64\n",
            " 9   s6      442 non-null    float64\n",
            "dtypes: float64(10)\n",
            "memory usage: 34.7 KB\n"
          ],
          "name": "stdout"
        }
      ]
    },
    {
      "cell_type": "code",
      "metadata": {
        "id": "NWQxeHh-GCOt"
      },
      "source": [
        "p1 = PCA(n_components=0.95)\n",
        "p2 = PCA(n_components=0.5)"
      ],
      "execution_count": null,
      "outputs": []
    },
    {
      "cell_type": "code",
      "metadata": {
        "id": "XcaiVk2-GIQ7"
      },
      "source": [
        "dp1 = p1.fit_transform(df)"
      ],
      "execution_count": null,
      "outputs": []
    },
    {
      "cell_type": "code",
      "metadata": {
        "id": "U7Z5vXukGNBs"
      },
      "source": [
        "dp2 = p2.fit_transform(df)"
      ],
      "execution_count": null,
      "outputs": []
    },
    {
      "cell_type": "code",
      "metadata": {
        "id": "4mEtEZ39GhkA"
      },
      "source": [
        "from sklearn.linear_model import LinearRegression as LR\n",
        "from sklearn.model_selection import train_test_split \n"
      ],
      "execution_count": null,
      "outputs": []
    },
    {
      "cell_type": "code",
      "metadata": {
        "id": "1JYDQZj8GsDP"
      },
      "source": [
        "dp1_d = train_test_split(dp1,target, test_size=0.2)\n",
        "dp2_d = train_test_split(dp2,target, test_size=0.2)\n",
        "df_d = train_test_split(df,target, test_size=0.2)"
      ],
      "execution_count": null,
      "outputs": []
    },
    {
      "cell_type": "code",
      "metadata": {
        "colab": {
          "base_uri": "https://localhost:8080/"
        },
        "id": "i040VAsjKUhb",
        "outputId": "6d4a854a-7832-4cc9-c6ad-2f2bf961668e"
      },
      "source": [
        "reg = LinearRegression()\n",
        "\n",
        "for x_tr, x_ts, y_tr, y_ts in [dp1_d, dp2_d, df_x_d]:\n",
        "    \n",
        "    reg.fit(x_tr, y_tr)\n",
        "    print(f'{reg.score(x_ts,y_ts)}')"
      ],
      "execution_count": null,
      "outputs": [
        {
          "output_type": "stream",
          "text": [
            " : 0.5596013433238893\n",
            " : 0.2848346992757599\n",
            " : 0.4788988737400556\n"
          ],
          "name": "stdout"
        }
      ]
    },
    {
      "cell_type": "code",
      "metadata": {
        "colab": {
          "base_uri": "https://localhost:8080/"
        },
        "id": "LCaJUYS7HL4j",
        "outputId": "d1b7f4f3-ac66-44be-c442-5224c2b63577"
      },
      "source": [
        "p1.explained_variance_"
      ],
      "execution_count": null,
      "outputs": [
        {
          "output_type": "execute_result",
          "data": {
            "text/plain": [
              "array([0.0091252 , 0.00338394])"
            ]
          },
          "metadata": {
            "tags": []
          },
          "execution_count": 72
        }
      ]
    },
    {
      "cell_type": "code",
      "metadata": {
        "colab": {
          "base_uri": "https://localhost:8080/"
        },
        "id": "O2xoCew2Hszf",
        "outputId": "a51f5a26-af7c-4bbc-83fa-ecc87b44c5f2"
      },
      "source": [
        ""
      ],
      "execution_count": null,
      "outputs": [
        {
          "output_type": "execute_result",
          "data": {
            "text/plain": [
              "array([[ 0.21643101,  0.18696711,  0.3031625 ,  0.2717397 ,  0.34325493,\n",
              "         0.35186062, -0.28243639,  0.42883325,  0.37861731,  0.32218282],\n",
              "       [ 0.04437151, -0.38654811, -0.15628061, -0.13825564,  0.57302669,\n",
              "         0.45593985,  0.50624287, -0.06818423, -0.0261893 , -0.0849466 ]])"
            ]
          },
          "metadata": {
            "tags": []
          },
          "execution_count": 73
        }
      ]
    },
    {
      "cell_type": "code",
      "metadata": {
        "id": "XZh0oPuKMZwD"
      },
      "source": [
        "from sklearn.ensemble import RandomForestRegressor as RFR\n",
        "from sklearn.svm import SVR\n",
        "from sklearn.ensemble import AdaBoostRegressor as ABR"
      ],
      "execution_count": null,
      "outputs": []
    },
    {
      "cell_type": "code",
      "metadata": {
        "colab": {
          "base_uri": "https://localhost:8080/"
        },
        "id": "h57dB5CGHy3N",
        "outputId": "3801f887-f686-4201-a1ce-3205576d2215"
      },
      "source": [
        "X = dts.load_boston()['data']\n",
        "y = dts.load_boston()['target']\n",
        "res = []\n",
        "\n",
        "for d in [x for x in range(1,11)]:\n",
        "    X2 = PCA(n_components=d).fit_transform(X)\n",
        "    x_train, x_test, y_train, y_test = train_test_split(X2, y, test_size = 0.3)\n",
        "    model = RFR().fit(x_train, y_train)\n",
        "    print(f'var = {d}, score = {model.score(x_test, y_test)}')\n",
        "    res.append(model.score(x_test, y_test))"
      ],
      "execution_count": null,
      "outputs": [
        {
          "output_type": "stream",
          "text": [
            "var = 1, score = 0.030334717864195948\n",
            "var = 2, score = 0.43095528407054745\n",
            "var = 3, score = 0.3989475376389683\n",
            "var = 4, score = 0.4534100786028794\n",
            "var = 5, score = 0.5298814183004694\n",
            "var = 6, score = 0.7078351101741427\n",
            "var = 7, score = 0.7250841171539342\n",
            "var = 8, score = 0.7811895003033301\n",
            "var = 9, score = 0.7568762714622982\n",
            "var = 10, score = 0.7301145032683707\n"
          ],
          "name": "stdout"
        }
      ]
    },
    {
      "cell_type": "code",
      "metadata": {
        "colab": {
          "base_uri": "https://localhost:8080/",
          "height": 265
        },
        "id": "tKYAZmnoMxnC",
        "outputId": "89c3afe9-a60b-4179-cec9-015bc529edd5"
      },
      "source": [
        "import matplotlib.pyplot as plt\n",
        "plt.plot([x for x in range(1,11)], res)\n",
        "plt.grid()"
      ],
      "execution_count": null,
      "outputs": [
        {
          "output_type": "display_data",
          "data": {
            "image/png": "[encoded data removed]",
            "text/plain": [
              "<Figure size 432x288 with 1 Axes>"
            ]
          },
          "metadata": {
            "tags": [],
            "needs_background": "light"
          }
        }
      ]
    },
    {
      "cell_type": "code",
      "metadata": {
        "id": "oCGwAhgPNJ-e"
      },
      "source": [
        ""
      ],
      "execution_count": null,
      "outputs": []
    }
  ]
}