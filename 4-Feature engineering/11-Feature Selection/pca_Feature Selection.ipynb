{
 "cells": [
  {
   "cell_type": "code",
   "execution_count": 1,
   "metadata": {},
   "outputs": [],
   "source": [
    "import numpy as np\n",
    "from matplotlib import pyplot as plt"
   ]
  },
  {
   "cell_type": "code",
   "execution_count": 2,
   "metadata": {},
   "outputs": [
    {
     "name": "stdout",
     "output_type": "stream",
     "text": [
      "[[ 100.5849456   199.11314144  302.92924366  399.44464956  504.86035376\n",
      "   603.22693504  692.09728466  792.73468496  899.16728148  983.03643326]\n",
      " [ 196.70932032  399.30985091  603.32958098  785.76239386 1011.32623601\n",
      "  1206.21520528 1387.80983293 1585.2468633  1797.3464827  1964.6386063 ]]\n"
     ]
    }
   ],
   "source": [
    "x = np.arange(1,11) * (100 + np.random.randn(10))\n",
    "y = 2 * x + np.random.randn(10)*5\n",
    "X = np.vstack((x,y))\n",
    "print(X)"
   ]
  },
  {
   "cell_type": "code",
   "execution_count": 3,
   "metadata": {},
   "outputs": [
    {
     "data": {
      "image/png": "[encoded data removed]",
      "text/plain": [
       "<Figure size 432x288 with 1 Axes>"
      ]
     },
     "metadata": {
      "needs_background": "light"
     },
     "output_type": "display_data"
    }
   ],
   "source": [
    "plt.scatter(X[0], X[1])\n",
    "plt.show()"
   ]
  },
  {
   "cell_type": "code",
   "execution_count": 5,
   "metadata": {},
   "outputs": [
    {
     "name": "stdout",
     "output_type": "stream",
     "text": [
      "(array([-447.13454974, -348.6063539 , -244.79025169, -148.27484578,\n",
      "        -42.85914158,   55.5074397 ,  144.37778932,  245.01518962,\n",
      "        351.44778613,  435.31693792]), array([-897.06011694, -694.45958635, -490.43985628, -308.0070434 ,\n",
      "        -82.44320125,  112.44576802,  294.04039567,  491.47742604,\n",
      "        703.57704544,  870.86916904]))\n",
      "Mean vector:  (547.7194953410569, 1093.7694372597211)\n"
     ]
    }
   ],
   "source": [
    "Xcentered = (X[0] - x.mean(), X[1] - y.mean())\n",
    "m = (x.mean(), y.mean())\n",
    "print(Xcentered)\n",
    "print(\"Mean vector: \", m)"
   ]
  },
  {
   "cell_type": "code",
   "execution_count": 6,
   "metadata": {},
   "outputs": [
    {
     "data": {
      "image/png": "[encoded data removed]",
      "text/plain": [
       "<Figure size 432x288 with 1 Axes>"
      ]
     },
     "metadata": {
      "needs_background": "light"
     },
     "output_type": "display_data"
    }
   ],
   "source": [
    "plt.scatter(Xcentered[0], Xcentered[1])\n",
    "plt.show()"
   ]
  },
  {
   "cell_type": "code",
   "execution_count": 10,
   "metadata": {},
   "outputs": [
    {
     "data": {
      "text/plain": [
       "(10, 2)"
      ]
     },
     "execution_count": 10,
     "metadata": {},
     "output_type": "execute_result"
    }
   ],
   "source": [
    "X.T.shape"
   ]
  },
  {
   "cell_type": "code",
   "execution_count": 11,
   "metadata": {},
   "outputs": [
    {
     "name": "stdout",
     "output_type": "stream",
     "text": [
      "[[ 89130.57185014 178660.69356259]\n",
      " [178660.69356259 358141.67523453]] \n",
      "\n",
      "Variance of X:  89130.57185013939\n",
      "Variance of Y:  358141.67523452936\n",
      "Covariance X and Y:  178660.6935625875\n"
     ]
    }
   ],
   "source": [
    "covmat = np.cov(Xcentered)\n",
    "print(covmat, \"\\n\")\n",
    "print(\"Variance of X: \", np.cov(Xcentered)[0,0])\n",
    "print(\"Variance of Y: \", np.cov(Xcentered)[1,1])\n",
    "print(\"Covariance X and Y: \", np.cov(Xcentered)[0,1])"
   ]
  },
  {
   "cell_type": "code",
   "execution_count": 12,
   "metadata": {},
   "outputs": [
    {
     "name": "stdout",
     "output_type": "stream",
     "text": [
      "[1002.32033181  777.04359147  548.13639411  341.80493367   92.90525689\n",
      " -125.39876571 -327.5674552  -549.16525936 -786.47061923 -973.60840844]\n"
     ]
    }
   ],
   "source": [
    "_, vecs = np.linalg.eig(covmat)\n",
    "v = vecs[:,1]\n",
    "Xnew = np.dot(v, Xcentered)\n",
    "print(Xnew)"
   ]
  },
  {
   "cell_type": "code",
   "execution_count": 16,
   "metadata": {},
   "outputs": [
    {
     "data": {
      "text/plain": [
       "array([1002.32033181,  777.04359147,  548.13639411,  341.80493367,\n",
       "         92.90525689, -125.39876571, -327.5674552 , -549.16525936,\n",
       "       -786.47061923, -973.60840844])"
      ]
     },
     "execution_count": 16,
     "metadata": {},
     "output_type": "execute_result"
    }
   ],
   "source": [
    "Xnew"
   ]
  },
  {
   "cell_type": "code",
   "execution_count": 13,
   "metadata": {},
   "outputs": [
    {
     "data": {
      "text/plain": [
       "(array([-0.44639745, -0.8948348 ]), (2,))"
      ]
     },
     "execution_count": 13,
     "metadata": {},
     "output_type": "execute_result"
    }
   ],
   "source": [
    "v, v.shape"
   ]
  },
  {
   "cell_type": "code",
   "execution_count": 14,
   "metadata": {},
   "outputs": [
    {
     "data": {
      "text/plain": [
       "(array([-447.13454974, -348.6063539 , -244.79025169, -148.27484578,\n",
       "         -42.85914158,   55.5074397 ,  144.37778932,  245.01518962,\n",
       "         351.44778613,  435.31693792]),\n",
       " array([-897.06011694, -694.45958635, -490.43985628, -308.0070434 ,\n",
       "         -82.44320125,  112.44576802,  294.04039567,  491.47742604,\n",
       "         703.57704544,  870.86916904]))"
      ]
     },
     "execution_count": 14,
     "metadata": {},
     "output_type": "execute_result"
    }
   ],
   "source": [
    "Xcentered"
   ]
  },
  {
   "cell_type": "code",
   "execution_count": 24,
   "metadata": {},
   "outputs": [
    {
     "data": {
      "text/plain": [
       "(553.1054930777199, 1106.2473923267544)"
      ]
     },
     "execution_count": 24,
     "metadata": {},
     "output_type": "execute_result"
    }
   ],
   "source": [
    "m"
   ]
  },
  {
   "cell_type": "code",
   "execution_count": 15,
   "metadata": {},
   "outputs": [
    {
     "name": "stdout",
     "output_type": "stream",
     "text": [
      "Restored:  [ 898.79797548 1797.53071475]\n",
      "Original:  [ 899.16728148 1797.3464827 ]\n"
     ]
    }
   ],
   "source": [
    "n = 8     #номер элемента случайной величины\n",
    "Xrestored = np.dot(Xnew[n],v) + m\n",
    "print('Restored: ', Xrestored)\n",
    "print('Original: ', X[:,n])"
   ]
  },
  {
   "cell_type": "code",
   "execution_count": null,
   "metadata": {},
   "outputs": [],
   "source": []
  },
  {
   "cell_type": "code",
   "execution_count": 17,
   "metadata": {},
   "outputs": [],
   "source": [
    "from sklearn.decomposition import PCA\n",
    "\n",
    "pca = PCA(n_components = 1)\n",
    "XPCAreduced = pca.fit_transform(np.transpose(X))"
   ]
  },
  {
   "cell_type": "code",
   "execution_count": 19,
   "metadata": {},
   "outputs": [
    {
     "name": "stdout",
     "output_type": "stream",
     "text": [
      "1002.320331808979 - 1002.3203318089784 = 5.684341886080801e-13\n",
      "777.0435914675134 - 777.0435914675131 = 2.2737367544323206e-13\n",
      "548.1363941120626 - 548.1363941120622 = 3.410605131648481e-13\n",
      "341.80493366609073 - 341.8049336660906 = 1.1368683772161603e-13\n",
      "92.9052568903985 - 92.90525689039848 = 2.842170943040401e-14\n",
      "-125.39876571131063 - -125.39876571131056 = 7.105427357601002e-14\n",
      "-327.56745519723034 - -327.5674551972302 = 1.7053025658242404e-13\n",
      "-549.1652593594291 - -549.1652593594289 = 2.2737367544323206e-13\n",
      "-786.4706192328831 - -786.4706192328829 = 2.2737367544323206e-13\n",
      "-973.608408444189 - -973.6084084441886 = 3.410605131648481e-13\n"
     ]
    }
   ],
   "source": [
    "for xn, x_pca in zip(Xnew, XPCAreduced):\n",
    "    print(xn, '-', x_pca[0], '=', np.abs(xn - x_pca[0]))"
   ]
  }
 ],
 "metadata": {
  "kernelspec": {
   "display_name": "Python 3",
   "language": "python",
   "name": "python3"
  },
  "language_info": {
   "codemirror_mode": {
    "name": "ipython",
    "version": 3
   },
   "file_extension": ".py",
   "mimetype": "text/x-python",
   "name": "python",
   "nbconvert_exporter": "python",
   "pygments_lexer": "ipython3",
   "version": "3.7.6"
  }
 },
 "nbformat": 4,
 "nbformat_minor": 4
}
