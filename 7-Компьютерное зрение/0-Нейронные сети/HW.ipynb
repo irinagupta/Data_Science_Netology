{
 "cells": [
  {
   "cell_type": "markdown",
   "metadata": {},
   "source": [
    "### Домашнее задание"
   ]
  },
  {
   "cell_type": "markdown",
   "metadata": {},
   "source": [
    "Возьмите датасет https://www.kaggle.com/ajayrana/hymenoptera-data\n",
    "\n",
    "Реализуйте сверточную нейронную сеть с использованием tf.keras или keras. Используйте сверточные, пуллинговые и полносвязанные слои. Обучите на train выборке в течении 10 эпох, оцените качество на отложенной выборке\n",
    "\n",
    "Добавьте в предыдущую архитектуру слои BatchNorm. Обучите на train выборке в течении 10 эпох, оцените качество на отложенной выборке\n",
    "\n",
    "Создайте модель ResNet 50 (https://www.tensorflow.org/api_docs/python/tf/keras/applications/ResNet50), инициализированную случайными весами, и обучите ее на train выборке в течении 10 эпох, оцените качество на отложенной выборке\n",
    "\n",
    "Создайте модель ResNet 50, инициализированную весами ImageNet, и обучите ее на train выборке в течении 10 эпох, оцените качество на отложенной выборке\n",
    "\n",
    "Результат пришлите в виде Jupyter Notebook на github’е или расшаренного Google Colab-блокнота"
   ]
  },
  {
   "cell_type": "code",
   "execution_count": 1,
   "metadata": {
    "id": "bXisA4suh9Ou"
   },
   "outputs": [],
   "source": [
    "import tensorflow as tf\n",
    "import tensorflow.keras as keras\n",
    "\n",
    "import numpy as np\n",
    "from sklearn.preprocessing import StandardScaler\n",
    "from sklearn.metrics import accuracy_score, confusion_matrix\n",
    "import matplotlib.pyplot as plt"
   ]
  },
  {
   "cell_type": "code",
   "execution_count": 25,
   "metadata": {},
   "outputs": [],
   "source": [
    "def loss_plot(m):\n",
    "    plt.plot(m.history['loss'], label='train loss')\n",
    "    plt.plot(m.history['val_loss'], label='val_loss')\n",
    "    plt.legend()\n",
    "    plt.show()\n",
    "    \n",
    "def accuracy_plot(m):\n",
    "    plt.plot(m.history['accuracy'], label='train accuracy')\n",
    "    plt.plot(m.history['val_accuracy'], label='val_accuracy')\n",
    "    plt.legend()\n",
    "    plt.show()"
   ]
  },
  {
   "cell_type": "code",
   "execution_count": 3,
   "metadata": {
    "id": "s-9k9yO0nSD4"
   },
   "outputs": [],
   "source": [
    "train_generator = keras.preprocessing.image.ImageDataGenerator(rescale=1./255.)\n",
    "test_generator = keras.preprocessing.image.ImageDataGenerator(rescale=1./255.)"
   ]
  },
  {
   "cell_type": "code",
   "execution_count": 4,
   "metadata": {
    "colab": {
     "base_uri": "https://localhost:8080/"
    },
    "id": "CWDo0NopoDhH",
    "outputId": "f909d296-e7d5-4773-f132-edf3fbe26e7d"
   },
   "outputs": [
    {
     "name": "stdout",
     "output_type": "stream",
     "text": [
      "Found 244 images belonging to 2 classes.\n",
      "Found 153 images belonging to 2 classes.\n"
     ]
    }
   ],
   "source": [
    "train = train_generator.flow_from_directory('hymenoptera_data/train', target_size=(224, 224), batch_size=64, class_mode='binary')\n",
    "test = test_generator.flow_from_directory('hymenoptera_data/val', target_size=(224, 224), batch_size=64, class_mode='binary')"
   ]
  },
  {
   "cell_type": "markdown",
   "metadata": {},
   "source": [
    "Реализуем сверточную нейронную сеть с использованием keras. Используем сверточные, пуллинговые и полносвязанные слои. Обучим на train выборке в течении 10 эпох, оценим качество на отложенной выборке."
   ]
  },
  {
   "cell_type": "code",
   "execution_count": 6,
   "metadata": {
    "id": "kWoyClddonBk"
   },
   "outputs": [],
   "source": [
    "i = keras.layers.Input(shape=(224,224,3))\n",
    "o = keras.layers.Conv2D(32, (5,5), strides=(3,3))(i)\n",
    "o = keras.layers.MaxPool2D((2,2))(o)\n",
    "o = keras.layers.ReLU()(o)\n",
    "o = keras.layers.Conv2D(64, (3,3))(o)\n",
    "o = keras.layers.MaxPool2D((2,2))(o)\n",
    "o = keras.layers.ReLU()(o)\n",
    "o = keras.layers.Conv2D(16, (3,3), strides=(1,1))(o)\n",
    "o = keras.layers.MaxPool2D((2,2))(o)\n",
    "o = keras.layers.ReLU()(o)\n",
    "o = keras.layers.Flatten()(o)\n",
    "o = keras.layers.Dense(1, activation='sigmoid')(o)"
   ]
  },
  {
   "cell_type": "code",
   "execution_count": 7,
   "metadata": {
    "colab": {
     "base_uri": "https://localhost:8080/"
    },
    "id": "ytS4qGoFprYD",
    "outputId": "06c7885c-d7bf-42a6-a179-b148e327dead"
   },
   "outputs": [
    {
     "name": "stdout",
     "output_type": "stream",
     "text": [
      "Model: \"model\"\n",
      "_________________________________________________________________\n",
      "Layer (type)                 Output Shape              Param #   \n",
      "=================================================================\n",
      "input_1 (InputLayer)         [(None, 224, 224, 3)]     0         \n",
      "_________________________________________________________________\n",
      "conv2d (Conv2D)              (None, 74, 74, 32)        2432      \n",
      "_________________________________________________________________\n",
      "max_pooling2d (MaxPooling2D) (None, 37, 37, 32)        0         \n",
      "_________________________________________________________________\n",
      "re_lu (ReLU)                 (None, 37, 37, 32)        0         \n",
      "_________________________________________________________________\n",
      "conv2d_1 (Conv2D)            (None, 35, 35, 64)        18496     \n",
      "_________________________________________________________________\n",
      "max_pooling2d_1 (MaxPooling2 (None, 17, 17, 64)        0         \n",
      "_________________________________________________________________\n",
      "re_lu_1 (ReLU)               (None, 17, 17, 64)        0         \n",
      "_________________________________________________________________\n",
      "conv2d_2 (Conv2D)            (None, 15, 15, 16)        9232      \n",
      "_________________________________________________________________\n",
      "max_pooling2d_2 (MaxPooling2 (None, 7, 7, 16)          0         \n",
      "_________________________________________________________________\n",
      "re_lu_2 (ReLU)               (None, 7, 7, 16)          0         \n",
      "_________________________________________________________________\n",
      "flatten (Flatten)            (None, 784)               0         \n",
      "_________________________________________________________________\n",
      "dense (Dense)                (None, 1)                 785       \n",
      "=================================================================\n",
      "Total params: 30,945\n",
      "Trainable params: 30,945\n",
      "Non-trainable params: 0\n",
      "_________________________________________________________________\n"
     ]
    }
   ],
   "source": [
    "model = keras.Model(inputs=i, outputs=o)\n",
    "model.compile(optimizer='adam', loss='binary_crossentropy', metrics=['accuracy'])\n",
    "model.summary()"
   ]
  },
  {
   "cell_type": "code",
   "execution_count": 8,
   "metadata": {
    "colab": {
     "base_uri": "https://localhost:8080/"
    },
    "id": "vRfV-p5gqiOR",
    "outputId": "75cbd0f8-3275-4735-ce9e-9efee627c38a"
   },
   "outputs": [
    {
     "name": "stdout",
     "output_type": "stream",
     "text": [
      "Epoch 1/10\n",
      "4/4 [==============================] - 12s 3s/step - loss: 0.6954 - accuracy: 0.4916 - val_loss: 0.6905 - val_accuracy: 0.4706\n",
      "Epoch 2/10\n",
      "4/4 [==============================] - 5s 1s/step - loss: 0.6786 - accuracy: 0.5953 - val_loss: 0.6831 - val_accuracy: 0.5621\n",
      "Epoch 3/10\n",
      "4/4 [==============================] - 5s 1s/step - loss: 0.6764 - accuracy: 0.6083 - val_loss: 0.6717 - val_accuracy: 0.5882\n",
      "Epoch 4/10\n",
      "4/4 [==============================] - 5s 1s/step - loss: 0.6575 - accuracy: 0.6436 - val_loss: 0.7045 - val_accuracy: 0.4641\n",
      "Epoch 5/10\n",
      "4/4 [==============================] - 6s 1s/step - loss: 0.6570 - accuracy: 0.5984 - val_loss: 0.6731 - val_accuracy: 0.5752\n",
      "Epoch 6/10\n",
      "4/4 [==============================] - 5s 1s/step - loss: 0.6510 - accuracy: 0.5828 - val_loss: 0.6622 - val_accuracy: 0.6144\n",
      "Epoch 7/10\n",
      "4/4 [==============================] - 5s 1s/step - loss: 0.6240 - accuracy: 0.6256 - val_loss: 0.6867 - val_accuracy: 0.5621\n",
      "Epoch 8/10\n",
      "4/4 [==============================] - 5s 1s/step - loss: 0.6180 - accuracy: 0.6574 - val_loss: 0.6542 - val_accuracy: 0.6340\n",
      "Epoch 9/10\n",
      "4/4 [==============================] - 5s 1s/step - loss: 0.5776 - accuracy: 0.6825 - val_loss: 0.6719 - val_accuracy: 0.5817\n",
      "Epoch 10/10\n",
      "4/4 [==============================] - 5s 2s/step - loss: 0.5676 - accuracy: 0.7053 - val_loss: 0.6464 - val_accuracy: 0.6340\n",
      "Wall time: 1min 1s\n"
     ]
    }
   ],
   "source": [
    "%%time\n",
    "\n",
    "history = model.fit(train, epochs=10, validation_data=test)"
   ]
  },
  {
   "cell_type": "code",
   "execution_count": 9,
   "metadata": {},
   "outputs": [
    {
     "data": {
      "image/png": "[encoded data removed]",
      "text/plain": [
       "<Figure size 432x288 with 1 Axes>"
      ]
     },
     "metadata": {
      "needs_background": "light"
     },
     "output_type": "display_data"
    }
   ],
   "source": [
    "loss_plot(history)"
   ]
  },
  {
   "cell_type": "code",
   "execution_count": 10,
   "metadata": {},
   "outputs": [
    {
     "data": {
      "image/png": "[encoded data removed]",
      "text/plain": [
       "<Figure size 432x288 with 1 Axes>"
      ]
     },
     "metadata": {
      "needs_background": "light"
     },
     "output_type": "display_data"
    }
   ],
   "source": [
    "accuracy_plot(history)"
   ]
  },
  {
   "cell_type": "markdown",
   "metadata": {
    "id": "TwSgMwmCzDpe"
   },
   "source": [
    "Добавим в предыдущую архитектуру слои BatchNorm. Обучим на train выборке в течении 10 эпох, оценим качество на отложенной выборке"
   ]
  },
  {
   "cell_type": "code",
   "execution_count": 12,
   "metadata": {
    "id": "ZqjJ6f5yrXu_"
   },
   "outputs": [],
   "source": [
    "i = keras.layers.Input(shape=(224,224,3))\n",
    "o = keras.layers.BatchNormalization()(i)\n",
    "o = keras.layers.Conv2D(32, (5,5), strides=(3,3))(o)\n",
    "o = keras.layers.MaxPool2D((2,2))(o)\n",
    "o = keras.layers.BatchNormalization()(o)\n",
    "o = keras.layers.ReLU()(o)\n",
    "o = keras.layers.Conv2D(642, (3,3))(o)\n",
    "o = keras.layers.MaxPool2D((2,2))(o)\n",
    "o = keras.layers.BatchNormalization()(o)\n",
    "o = keras.layers.ReLU()(o)\n",
    "o = keras.layers.Conv2D(16, (3,3), strides=(1,1))(o)\n",
    "o = keras.layers.MaxPool2D((2,2))(o)\n",
    "o = keras.layers.BatchNormalization()(o)\n",
    "o = keras.layers.ReLU()(o)\n",
    "o = keras.layers.Flatten()(o)\n",
    "o = keras.layers.Dense(1, activation='sigmoid')(o)"
   ]
  },
  {
   "cell_type": "code",
   "execution_count": 13,
   "metadata": {
    "colab": {
     "base_uri": "https://localhost:8080/"
    },
    "id": "7IuK1MuUzO3S",
    "outputId": "98bb9dbf-660f-4bce-aae1-700fc7af5825"
   },
   "outputs": [
    {
     "name": "stdout",
     "output_type": "stream",
     "text": [
      "Model: \"model_1\"\n",
      "_________________________________________________________________\n",
      "Layer (type)                 Output Shape              Param #   \n",
      "=================================================================\n",
      "input_2 (InputLayer)         [(None, 224, 224, 3)]     0         \n",
      "_________________________________________________________________\n",
      "batch_normalization (BatchNo (None, 224, 224, 3)       12        \n",
      "_________________________________________________________________\n",
      "conv2d_3 (Conv2D)            (None, 74, 74, 32)        2432      \n",
      "_________________________________________________________________\n",
      "max_pooling2d_3 (MaxPooling2 (None, 37, 37, 32)        0         \n",
      "_________________________________________________________________\n",
      "batch_normalization_1 (Batch (None, 37, 37, 32)        128       \n",
      "_________________________________________________________________\n",
      "re_lu_3 (ReLU)               (None, 37, 37, 32)        0         \n",
      "_________________________________________________________________\n",
      "conv2d_4 (Conv2D)            (None, 35, 35, 642)       185538    \n",
      "_________________________________________________________________\n",
      "max_pooling2d_4 (MaxPooling2 (None, 17, 17, 642)       0         \n",
      "_________________________________________________________________\n",
      "batch_normalization_2 (Batch (None, 17, 17, 642)       2568      \n",
      "_________________________________________________________________\n",
      "re_lu_4 (ReLU)               (None, 17, 17, 642)       0         \n",
      "_________________________________________________________________\n",
      "conv2d_5 (Conv2D)            (None, 15, 15, 16)        92464     \n",
      "_________________________________________________________________\n",
      "max_pooling2d_5 (MaxPooling2 (None, 7, 7, 16)          0         \n",
      "_________________________________________________________________\n",
      "batch_normalization_3 (Batch (None, 7, 7, 16)          64        \n",
      "_________________________________________________________________\n",
      "re_lu_5 (ReLU)               (None, 7, 7, 16)          0         \n",
      "_________________________________________________________________\n",
      "flatten_1 (Flatten)          (None, 784)               0         \n",
      "_________________________________________________________________\n",
      "dense_1 (Dense)              (None, 1)                 785       \n",
      "=================================================================\n",
      "Total params: 283,991\n",
      "Trainable params: 282,605\n",
      "Non-trainable params: 1,386\n",
      "_________________________________________________________________\n"
     ]
    }
   ],
   "source": [
    "model = keras.Model(inputs=i, outputs=o)\n",
    "model.compile(optimizer='adam', loss='binary_crossentropy', metrics=['accuracy'])\n",
    "model.summary()"
   ]
  },
  {
   "cell_type": "code",
   "execution_count": 14,
   "metadata": {
    "colab": {
     "base_uri": "https://localhost:8080/"
    },
    "id": "rVzXs65xzUG5",
    "outputId": "738a7590-9f37-472d-b3a0-c8dac37b5912"
   },
   "outputs": [
    {
     "name": "stdout",
     "output_type": "stream",
     "text": [
      "Epoch 1/10\n",
      "4/4 [==============================] - 26s 7s/step - loss: 0.7152 - accuracy: 0.5537 - val_loss: 0.6831 - val_accuracy: 0.5621\n",
      "Epoch 2/10\n",
      "4/4 [==============================] - 24s 6s/step - loss: 0.4329 - accuracy: 0.8339 - val_loss: 0.6829 - val_accuracy: 0.5752\n",
      "Epoch 3/10\n",
      "4/4 [==============================] - 24s 6s/step - loss: 0.3201 - accuracy: 0.9537 - val_loss: 0.6874 - val_accuracy: 0.5817\n",
      "Epoch 4/10\n",
      "4/4 [==============================] - 23s 6s/step - loss: 0.2393 - accuracy: 0.9700 - val_loss: 0.6949 - val_accuracy: 0.4706\n",
      "Epoch 5/10\n",
      "4/4 [==============================] - 23s 6s/step - loss: 0.1710 - accuracy: 0.9759 - val_loss: 0.7025 - val_accuracy: 0.4575\n",
      "Epoch 6/10\n",
      "4/4 [==============================] - 24s 6s/step - loss: 0.1122 - accuracy: 0.9972 - val_loss: 0.7176 - val_accuracy: 0.4575\n",
      "Epoch 7/10\n",
      "4/4 [==============================] - 23s 6s/step - loss: 0.0733 - accuracy: 0.9957 - val_loss: 0.7334 - val_accuracy: 0.4575\n",
      "Epoch 8/10\n",
      "4/4 [==============================] - 24s 6s/step - loss: 0.0484 - accuracy: 1.0000 - val_loss: 0.7545 - val_accuracy: 0.4575\n",
      "Epoch 9/10\n",
      "4/4 [==============================] - 23s 6s/step - loss: 0.0311 - accuracy: 1.0000 - val_loss: 0.7782 - val_accuracy: 0.4575\n",
      "Epoch 10/10\n",
      "4/4 [==============================] - 24s 6s/step - loss: 0.0195 - accuracy: 1.0000 - val_loss: 0.7985 - val_accuracy: 0.4575\n",
      "Wall time: 3min 59s\n"
     ]
    }
   ],
   "source": [
    "%%time\n",
    "\n",
    "history = model.fit(train, epochs=10, validation_data=test)"
   ]
  },
  {
   "cell_type": "code",
   "execution_count": 15,
   "metadata": {},
   "outputs": [
    {
     "data": {
      "image/png": "[encoded data removed]",
      "text/plain": [
       "<Figure size 432x288 with 1 Axes>"
      ]
     },
     "metadata": {
      "needs_background": "light"
     },
     "output_type": "display_data"
    }
   ],
   "source": [
    "loss_plot(history)"
   ]
  },
  {
   "cell_type": "code",
   "execution_count": 16,
   "metadata": {},
   "outputs": [
    {
     "data": {
      "image/png": "[encoded data removed]",
      "text/plain": [
       "<Figure size 432x288 with 1 Axes>"
      ]
     },
     "metadata": {
      "needs_background": "light"
     },
     "output_type": "display_data"
    }
   ],
   "source": [
    "accuracy_plot(history)"
   ]
  },
  {
   "cell_type": "markdown",
   "metadata": {
    "colab": {
     "base_uri": "https://localhost:8080/"
    },
    "id": "3mUDB47W0LOy",
    "outputId": "13508ca4-cd63-4868-8600-a6288ee4adac"
   },
   "source": [
    "Создадим модель ResNet 50, инициализированную случайными весами, и обучим ее на train выборке в течении 10 эпох, оценим качество на отложенной выборке"
   ]
  },
  {
   "cell_type": "code",
   "execution_count": 27,
   "metadata": {},
   "outputs": [],
   "source": [
    "ResNet50 = keras.applications.ResNet50(\n",
    "    include_top=False, weights=None, input_tensor=None, input_shape=None,\n",
    "    pooling=None, classes=1000\n",
    ")"
   ]
  },
  {
   "cell_type": "code",
   "execution_count": 28,
   "metadata": {},
   "outputs": [],
   "source": [
    "i = keras.layers.Input((224, 224, 3), dtype = tf.uint8)\n",
    "o = tf.cast(i, tf.float32)\n",
    "o = ResNet50(o)\n",
    "o = keras.layers.Flatten()(o)\n",
    "o = keras.layers.Dense(1, activation='sigmoid')(o)"
   ]
  },
  {
   "cell_type": "code",
   "execution_count": 29,
   "metadata": {},
   "outputs": [
    {
     "name": "stdout",
     "output_type": "stream",
     "text": [
      "Model: \"model_3\"\n",
      "_________________________________________________________________\n",
      "Layer (type)                 Output Shape              Param #   \n",
      "=================================================================\n",
      "input_7 (InputLayer)         [(None, 224, 224, 3)]     0         \n",
      "_________________________________________________________________\n",
      "tf.cast_1 (TFOpLambda)       (None, 224, 224, 3)       0         \n",
      "_________________________________________________________________\n",
      "resnet50 (Functional)        (None, None, None, 2048)  23587712  \n",
      "_________________________________________________________________\n",
      "flatten_3 (Flatten)          (None, 100352)            0         \n",
      "_________________________________________________________________\n",
      "dense_3 (Dense)              (None, 1)                 100353    \n",
      "=================================================================\n",
      "Total params: 23,688,065\n",
      "Trainable params: 23,634,945\n",
      "Non-trainable params: 53,120\n",
      "_________________________________________________________________\n"
     ]
    }
   ],
   "source": [
    "model = keras.Model(inputs=i, outputs=o)\n",
    "model.compile(optimizer='adam', loss='binary_crossentropy', metrics=['accuracy'])\n",
    "model.summary()"
   ]
  },
  {
   "cell_type": "code",
   "execution_count": null,
   "metadata": {
    "colab": {
     "base_uri": "https://localhost:8080/"
    },
    "id": "inpNlDtQ1MLC",
    "outputId": "8e2510b0-b0a1-4cc1-bd56-7baa1f432cf8"
   },
   "outputs": [
    {
     "name": "stdout",
     "output_type": "stream",
     "text": [
      "Epoch 1/10\n"
     ]
    }
   ],
   "source": [
    "%%time\n",
    "\n",
    "history = model.fit(train, epochs=10, validation_data=test)"
   ]
  },
  {
   "cell_type": "code",
   "execution_count": null,
   "metadata": {},
   "outputs": [],
   "source": [
    "loss_plot(history)"
   ]
  },
  {
   "cell_type": "code",
   "execution_count": null,
   "metadata": {},
   "outputs": [],
   "source": [
    "accuracy_plot(history)"
   ]
  },
  {
   "cell_type": "markdown",
   "metadata": {},
   "source": [
    "Создадим модель ResNet 50, инициализированную весами ImageNet, и обучим ее на train выборке в течении 10 эпох, оценим качество на отложенной выборке"
   ]
  },
  {
   "cell_type": "code",
   "execution_count": 18,
   "metadata": {},
   "outputs": [],
   "source": [
    "ResNet50 = keras.applications.ResNet50(\n",
    "    include_top=False, weights='imagenet', input_tensor=None, input_shape=None,\n",
    "    pooling=None, classes=1000\n",
    ")\n",
    "\n",
    "ResNet50.trainable = False"
   ]
  },
  {
   "cell_type": "code",
   "execution_count": 19,
   "metadata": {},
   "outputs": [],
   "source": [
    "i = keras.layers.Input((224, 224, 3), dtype = tf.uint8)\n",
    "o = tf.cast(i, tf.float32)\n",
    "o = ResNet50(o)\n",
    "o = keras.layers.Flatten()(o)\n",
    "o = keras.layers.Dense(1, activation='sigmoid')(o)"
   ]
  },
  {
   "cell_type": "code",
   "execution_count": 20,
   "metadata": {},
   "outputs": [
    {
     "name": "stdout",
     "output_type": "stream",
     "text": [
      "Model: \"model_2\"\n",
      "_________________________________________________________________\n",
      "Layer (type)                 Output Shape              Param #   \n",
      "=================================================================\n",
      "input_5 (InputLayer)         [(None, 224, 224, 3)]     0         \n",
      "_________________________________________________________________\n",
      "tf.cast (TFOpLambda)         (None, 224, 224, 3)       0         \n",
      "_________________________________________________________________\n",
      "resnet50 (Functional)        (None, None, None, 2048)  23587712  \n",
      "_________________________________________________________________\n",
      "flatten_2 (Flatten)          (None, 100352)            0         \n",
      "_________________________________________________________________\n",
      "dense_2 (Dense)              (None, 1)                 100353    \n",
      "=================================================================\n",
      "Total params: 23,688,065\n",
      "Trainable params: 100,353\n",
      "Non-trainable params: 23,587,712\n",
      "_________________________________________________________________\n"
     ]
    }
   ],
   "source": [
    "model = keras.Model(inputs=i, outputs=o)\n",
    "model.compile(optimizer='adam', loss='binary_crossentropy', metrics=['accuracy'])\n",
    "model.summary()"
   ]
  },
  {
   "cell_type": "code",
   "execution_count": 21,
   "metadata": {},
   "outputs": [
    {
     "name": "stdout",
     "output_type": "stream",
     "text": [
      "Epoch 1/10\n",
      "4/4 [==============================] - 97s 27s/step - loss: 2.4010 - accuracy: 0.4894 - val_loss: 4.2772 - val_accuracy: 0.4575\n",
      "Epoch 2/10\n",
      "4/4 [==============================] - 91s 25s/step - loss: 2.8665 - accuracy: 0.5430 - val_loss: 2.0374 - val_accuracy: 0.5425\n",
      "Epoch 3/10\n",
      "4/4 [==============================] - 92s 26s/step - loss: 2.1059 - accuracy: 0.5176 - val_loss: 1.1069 - val_accuracy: 0.4575\n",
      "Epoch 4/10\n",
      "4/4 [==============================] - 93s 26s/step - loss: 1.3201 - accuracy: 0.5006 - val_loss: 0.7479 - val_accuracy: 0.4575\n",
      "Epoch 5/10\n",
      "4/4 [==============================] - 91s 25s/step - loss: 0.9974 - accuracy: 0.5119 - val_loss: 0.8327 - val_accuracy: 0.5359\n",
      "Epoch 6/10\n",
      "4/4 [==============================] - 91s 25s/step - loss: 0.7682 - accuracy: 0.5733 - val_loss: 0.9706 - val_accuracy: 0.4575\n",
      "Epoch 7/10\n",
      "4/4 [==============================] - 92s 25s/step - loss: 0.8469 - accuracy: 0.5004 - val_loss: 0.8030 - val_accuracy: 0.5294\n",
      "Epoch 8/10\n",
      "4/4 [==============================] - 91s 26s/step - loss: 0.7519 - accuracy: 0.5573 - val_loss: 0.8312 - val_accuracy: 0.4575\n",
      "Epoch 9/10\n",
      "4/4 [==============================] - 91s 25s/step - loss: 0.7542 - accuracy: 0.5303 - val_loss: 0.7279 - val_accuracy: 0.5229\n",
      "Epoch 10/10\n",
      "4/4 [==============================] - 92s 26s/step - loss: 0.6916 - accuracy: 0.5284 - val_loss: 0.7220 - val_accuracy: 0.5229\n",
      "Wall time: 15min 20s\n"
     ]
    }
   ],
   "source": [
    "%%time\n",
    "\n",
    "history = model.fit(train, epochs=10, validation_data=test)"
   ]
  },
  {
   "cell_type": "code",
   "execution_count": 22,
   "metadata": {},
   "outputs": [
    {
     "data": {
      "image/png": "[encoded data removed]",
      "text/plain": [
       "<Figure size 432x288 with 1 Axes>"
      ]
     },
     "metadata": {
      "needs_background": "light"
     },
     "output_type": "display_data"
    }
   ],
   "source": [
    "loss_plot(history)"
   ]
  },
  {
   "cell_type": "code",
   "execution_count": 23,
   "metadata": {},
   "outputs": [
    {
     "data": {
      "image/png": "[encoded data removed]",
      "text/plain": [
       "<Figure size 432x288 with 1 Axes>"
      ]
     },
     "metadata": {
      "needs_background": "light"
     },
     "output_type": "display_data"
    }
   ],
   "source": [
    "accuracy_plot(history)"
   ]
  }
 ],
 "metadata": {
  "accelerator": "GPU",
  "colab": {
   "collapsed_sections": [],
   "name": "Разбор НС.ipynb",
   "provenance": []
  },
  "kernelspec": {
   "display_name": "Python 3",
   "language": "python",
   "name": "python3"
  },
  "language_info": {
   "codemirror_mode": {
    "name": "ipython",
    "version": 3
   },
   "file_extension": ".py",
   "mimetype": "text/x-python",
   "name": "python",
   "nbconvert_exporter": "python",
   "pygments_lexer": "ipython3",
   "version": "3.7.6"
  }
 },
 "nbformat": 4,
 "nbformat_minor": 1
}
