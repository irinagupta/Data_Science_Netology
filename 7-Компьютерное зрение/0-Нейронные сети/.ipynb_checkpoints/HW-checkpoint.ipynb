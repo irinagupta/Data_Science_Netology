{
 "cells": [
  {
   "cell_type": "markdown",
   "metadata": {
    "id": "cQAlFEV8T2O9"
   },
   "source": [
    "### Домашнее задание"
   ]
  },
  {
   "cell_type": "markdown",
   "metadata": {
    "id": "RAkQnyhqT2PM"
   },
   "source": [
    "Возьмите датасет https://www.kaggle.com/ajayrana/hymenoptera-data\n",
    "\n",
    "Реализуйте сверточную нейронную сеть с использованием tf.keras или keras. Используйте сверточные, пуллинговые и полносвязанные слои. Обучите на train выборке в течении 10 эпох, оцените качество на отложенной выборке\n",
    "\n",
    "Добавьте в предыдущую архитектуру слои BatchNorm. Обучите на train выборке в течении 10 эпох, оцените качество на отложенной выборке\n",
    "\n",
    "Создайте модель ResNet 50 (https://www.tensorflow.org/api_docs/python/tf/keras/applications/ResNet50), инициализированную случайными весами, и обучите ее на train выборке в течении 10 эпох, оцените качество на отложенной выборке\n",
    "\n",
    "Создайте модель ResNet 50, инициализированную весами ImageNet, и обучите ее на train выборке в течении 10 эпох, оцените качество на отложенной выборке\n",
    "\n",
    "Результат пришлите в виде Jupyter Notebook на github’е или расшаренного Google Colab-блокнота"
   ]
  },
  {
   "cell_type": "code",
   "execution_count": 1,
   "metadata": {
    "id": "bXisA4suh9Ou"
   },
   "outputs": [],
   "source": [
    "import tensorflow as tf\n",
    "import tensorflow.keras as keras\n",
    "\n",
    "import numpy as np\n",
    "import matplotlib.pyplot as plt"
   ]
  },
  {
   "cell_type": "code",
   "execution_count": 2,
   "metadata": {
    "id": "1v5vRzlsT2PO"
   },
   "outputs": [],
   "source": [
    "def loss_plot(m):\n",
    "    plt.plot(m.history['loss'], label='train loss')\n",
    "    plt.plot(m.history['val_loss'], label='val_loss')\n",
    "    plt.legend()\n",
    "    plt.show()\n",
    "    \n",
    "def accuracy_plot(m):\n",
    "    plt.plot(m.history['accuracy'], label='train accuracy')\n",
    "    plt.plot(m.history['val_accuracy'], label='val_accuracy')\n",
    "    plt.legend()\n",
    "    plt.show()"
   ]
  },
  {
   "cell_type": "code",
   "execution_count": 3,
   "metadata": {
    "id": "s-9k9yO0nSD4"
   },
   "outputs": [],
   "source": [
    "train_generator = keras.preprocessing.image.ImageDataGenerator(rescale=1./255.)\n",
    "test_generator = keras.preprocessing.image.ImageDataGenerator(rescale=1./255.)"
   ]
  },
  {
   "cell_type": "code",
   "execution_count": 4,
   "metadata": {
    "colab": {
     "base_uri": "https://localhost:8080/"
    },
    "id": "CWDo0NopoDhH",
    "outputId": "b245b30c-5444-459e-b5ba-7f08585d5dbe"
   },
   "outputs": [
    {
     "name": "stdout",
     "output_type": "stream",
     "text": [
      "Found 244 images belonging to 2 classes.\n",
      "Found 153 images belonging to 2 classes.\n"
     ]
    }
   ],
   "source": [
    "train = train_generator.flow_from_directory('hymenoptera_data/train', target_size=(224, 224), batch_size=64, class_mode='binary')\n",
    "test = test_generator.flow_from_directory('hymenoptera_data/val', target_size=(224, 224), batch_size=32, class_mode='binary')"
   ]
  },
  {
   "cell_type": "markdown",
   "metadata": {
    "id": "VqWwXmduT2PR"
   },
   "source": [
    "Реализуем сверточную нейронную сеть с использованием keras. Используем сверточные, пуллинговые и полносвязанные слои. Обучим на train выборке в течении 10 эпох, оценим качество на отложенной выборке."
   ]
  },
  {
   "cell_type": "code",
   "execution_count": 5,
   "metadata": {
    "id": "kWoyClddonBk"
   },
   "outputs": [],
   "source": [
    "i = keras.layers.Input(shape=(224,224,3))\n",
    "o = keras.layers.Conv2D(32, (5,5), strides=(3,3))(i)\n",
    "o = keras.layers.MaxPool2D((2,2))(o)\n",
    "o = keras.layers.ReLU()(o)\n",
    "o = keras.layers.Conv2D(64, (3,3))(o)\n",
    "o = keras.layers.MaxPool2D((2,2))(o)\n",
    "o = keras.layers.ReLU()(o)\n",
    "o = keras.layers.Conv2D(16, (3,3), strides=(1,1))(o)\n",
    "o = keras.layers.MaxPool2D((2,2))(o)\n",
    "o = keras.layers.ReLU()(o)\n",
    "o = keras.layers.Flatten()(o)\n",
    "o = keras.layers.Dense(1, activation='sigmoid')(o)"
   ]
  },
  {
   "cell_type": "code",
   "execution_count": 6,
   "metadata": {
    "colab": {
     "base_uri": "https://localhost:8080/"
    },
    "id": "ytS4qGoFprYD",
    "outputId": "130ef3c2-3789-4969-a4f9-eeab436840fe"
   },
   "outputs": [
    {
     "name": "stdout",
     "output_type": "stream",
     "text": [
      "Model: \"model\"\n",
      "_________________________________________________________________\n",
      "Layer (type)                 Output Shape              Param #   \n",
      "=================================================================\n",
      "input_1 (InputLayer)         [(None, 224, 224, 3)]     0         \n",
      "_________________________________________________________________\n",
      "conv2d (Conv2D)              (None, 74, 74, 32)        2432      \n",
      "_________________________________________________________________\n",
      "max_pooling2d (MaxPooling2D) (None, 37, 37, 32)        0         \n",
      "_________________________________________________________________\n",
      "re_lu (ReLU)                 (None, 37, 37, 32)        0         \n",
      "_________________________________________________________________\n",
      "conv2d_1 (Conv2D)            (None, 35, 35, 64)        18496     \n",
      "_________________________________________________________________\n",
      "max_pooling2d_1 (MaxPooling2 (None, 17, 17, 64)        0         \n",
      "_________________________________________________________________\n",
      "re_lu_1 (ReLU)               (None, 17, 17, 64)        0         \n",
      "_________________________________________________________________\n",
      "conv2d_2 (Conv2D)            (None, 15, 15, 16)        9232      \n",
      "_________________________________________________________________\n",
      "max_pooling2d_2 (MaxPooling2 (None, 7, 7, 16)          0         \n",
      "_________________________________________________________________\n",
      "re_lu_2 (ReLU)               (None, 7, 7, 16)          0         \n",
      "_________________________________________________________________\n",
      "flatten (Flatten)            (None, 784)               0         \n",
      "_________________________________________________________________\n",
      "dense (Dense)                (None, 1)                 785       \n",
      "=================================================================\n",
      "Total params: 30,945\n",
      "Trainable params: 30,945\n",
      "Non-trainable params: 0\n",
      "_________________________________________________________________\n"
     ]
    }
   ],
   "source": [
    "model_1 = keras.Model(inputs=i, outputs=o)\n",
    "model_1.compile(optimizer='adam', loss='binary_crossentropy', metrics=['accuracy'])\n",
    "model_1.summary()"
   ]
  },
  {
   "cell_type": "code",
   "execution_count": 7,
   "metadata": {
    "colab": {
     "base_uri": "https://localhost:8080/"
    },
    "id": "vRfV-p5gqiOR",
    "outputId": "c16232af-7446-48a5-ff6a-bdbe34755257"
   },
   "outputs": [
    {
     "name": "stdout",
     "output_type": "stream",
     "text": [
      "Epoch 1/10\n",
      "4/4 [==============================] - 5s 1s/step - loss: 0.6905 - accuracy: 0.5349 - val_loss: 0.6836 - val_accuracy: 0.5882\n",
      "Epoch 2/10\n",
      "4/4 [==============================] - 3s 838ms/step - loss: 0.6786 - accuracy: 0.5688 - val_loss: 0.6879 - val_accuracy: 0.5229\n",
      "Epoch 3/10\n",
      "4/4 [==============================] - 3s 829ms/step - loss: 0.6674 - accuracy: 0.6305 - val_loss: 0.6851 - val_accuracy: 0.5556\n",
      "Epoch 4/10\n",
      "4/4 [==============================] - 3s 819ms/step - loss: 0.6609 - accuracy: 0.5902 - val_loss: 0.6658 - val_accuracy: 0.5817\n",
      "Epoch 5/10\n",
      "4/4 [==============================] - 3s 833ms/step - loss: 0.6366 - accuracy: 0.6731 - val_loss: 0.6774 - val_accuracy: 0.5490\n",
      "Epoch 6/10\n",
      "4/4 [==============================] - 3s 844ms/step - loss: 0.6193 - accuracy: 0.6653 - val_loss: 0.6696 - val_accuracy: 0.5556\n",
      "Epoch 7/10\n",
      "4/4 [==============================] - 3s 833ms/step - loss: 0.6117 - accuracy: 0.6638 - val_loss: 0.6996 - val_accuracy: 0.5621\n",
      "Epoch 8/10\n",
      "4/4 [==============================] - 3s 832ms/step - loss: 0.6078 - accuracy: 0.6567 - val_loss: 0.6578 - val_accuracy: 0.6209\n",
      "Epoch 9/10\n",
      "4/4 [==============================] - 3s 837ms/step - loss: 0.5953 - accuracy: 0.6800 - val_loss: 0.7491 - val_accuracy: 0.5425\n",
      "Epoch 10/10\n",
      "4/4 [==============================] - 3s 882ms/step - loss: 0.6190 - accuracy: 0.6696 - val_loss: 0.6560 - val_accuracy: 0.6405\n",
      "CPU times: user 27.9 s, sys: 2.52 s, total: 30.5 s\n",
      "Wall time: 33.1 s\n"
     ]
    }
   ],
   "source": [
    "%%time\n",
    "\n",
    "m_1 = model_1.fit(train, epochs=10, validation_data=test)"
   ]
  },
  {
   "cell_type": "code",
   "execution_count": 8,
   "metadata": {
    "colab": {
     "base_uri": "https://localhost:8080/",
     "height": 265
    },
    "id": "SClmAItUT2PT",
    "outputId": "07faa12a-dd3c-4e4c-9939-4b83f00be4bc"
   },
   "outputs": [
    {
     "data": {
      "image/png": "[encoded data removed]",
      "text/plain": [
       "<Figure size 432x288 with 1 Axes>"
      ]
     },
     "metadata": {
      "needs_background": "light",
      "tags": []
     },
     "output_type": "display_data"
    }
   ],
   "source": [
    "loss_plot(m_1)"
   ]
  },
  {
   "cell_type": "code",
   "execution_count": 9,
   "metadata": {
    "colab": {
     "base_uri": "https://localhost:8080/",
     "height": 265
    },
    "id": "GJm8-D4tT2PU",
    "outputId": "38488bce-9030-4e54-8d06-2818b7b3d7b0"
   },
   "outputs": [
    {
     "data": {
      "image/png": "[encoded data removed]",
      "text/plain": [
       "<Figure size 432x288 with 1 Axes>"
      ]
     },
     "metadata": {
      "needs_background": "light",
      "tags": []
     },
     "output_type": "display_data"
    }
   ],
   "source": [
    "accuracy_plot(m_1)"
   ]
  },
  {
   "cell_type": "markdown",
   "metadata": {},
   "source": [
    "Не очень хороший результат."
   ]
  },
  {
   "cell_type": "markdown",
   "metadata": {
    "id": "TwSgMwmCzDpe"
   },
   "source": [
    "Добавим в предыдущую архитектуру слои BatchNorm. Обучим на train выборке в течении 10 эпох, оценим качество на отложенной выборке"
   ]
  },
  {
   "cell_type": "code",
   "execution_count": 10,
   "metadata": {
    "id": "ZqjJ6f5yrXu_"
   },
   "outputs": [],
   "source": [
    "i = keras.layers.Input(shape=(224,224,3))\n",
    "o = keras.layers.BatchNormalization()(i)\n",
    "o = keras.layers.Conv2D(8, (5,5), strides=(3,3))(o)\n",
    "o = keras.layers.MaxPool2D((2,2))(o)\n",
    "o = keras.layers.ReLU()(o)\n",
    "o = keras.layers.BatchNormalization()(o)\n",
    "o = keras.layers.Conv2D(16, (3,3), strides=(2,2))(o)\n",
    "o = keras.layers.MaxPool2D((2,2))(o)\n",
    "o = keras.layers.ReLU()(o)\n",
    "o = keras.layers.BatchNormalization()(o)\n",
    "o = keras.layers.Conv2D(8, (3,3), strides=(1,1))(o)\n",
    "o = keras.layers.MaxPool2D((2,2))(o)\n",
    "o = keras.layers.ReLU()(o)\n",
    "o = keras.layers.BatchNormalization()(o)\n",
    "o = keras.layers.Flatten()(o)\n",
    "o = keras.layers.Dense(1, activation='sigmoid')(o)"
   ]
  },
  {
   "cell_type": "code",
   "execution_count": 11,
   "metadata": {
    "colab": {
     "base_uri": "https://localhost:8080/"
    },
    "id": "7IuK1MuUzO3S",
    "outputId": "260f7d8c-a8ed-4be8-fe2a-1b89da5cf1de"
   },
   "outputs": [
    {
     "name": "stdout",
     "output_type": "stream",
     "text": [
      "Model: \"model_1\"\n",
      "_________________________________________________________________\n",
      "Layer (type)                 Output Shape              Param #   \n",
      "=================================================================\n",
      "input_2 (InputLayer)         [(None, 224, 224, 3)]     0         \n",
      "_________________________________________________________________\n",
      "batch_normalization (BatchNo (None, 224, 224, 3)       12        \n",
      "_________________________________________________________________\n",
      "conv2d_3 (Conv2D)            (None, 74, 74, 8)         608       \n",
      "_________________________________________________________________\n",
      "max_pooling2d_3 (MaxPooling2 (None, 37, 37, 8)         0         \n",
      "_________________________________________________________________\n",
      "re_lu_3 (ReLU)               (None, 37, 37, 8)         0         \n",
      "_________________________________________________________________\n",
      "batch_normalization_1 (Batch (None, 37, 37, 8)         32        \n",
      "_________________________________________________________________\n",
      "conv2d_4 (Conv2D)            (None, 18, 18, 16)        1168      \n",
      "_________________________________________________________________\n",
      "max_pooling2d_4 (MaxPooling2 (None, 9, 9, 16)          0         \n",
      "_________________________________________________________________\n",
      "re_lu_4 (ReLU)               (None, 9, 9, 16)          0         \n",
      "_________________________________________________________________\n",
      "batch_normalization_2 (Batch (None, 9, 9, 16)          64        \n",
      "_________________________________________________________________\n",
      "conv2d_5 (Conv2D)            (None, 7, 7, 8)           1160      \n",
      "_________________________________________________________________\n",
      "max_pooling2d_5 (MaxPooling2 (None, 3, 3, 8)           0         \n",
      "_________________________________________________________________\n",
      "re_lu_5 (ReLU)               (None, 3, 3, 8)           0         \n",
      "_________________________________________________________________\n",
      "batch_normalization_3 (Batch (None, 3, 3, 8)           32        \n",
      "_________________________________________________________________\n",
      "flatten_1 (Flatten)          (None, 72)                0         \n",
      "_________________________________________________________________\n",
      "dense_1 (Dense)              (None, 1)                 73        \n",
      "=================================================================\n",
      "Total params: 3,149\n",
      "Trainable params: 3,079\n",
      "Non-trainable params: 70\n",
      "_________________________________________________________________\n"
     ]
    }
   ],
   "source": [
    "model_2 = keras.Model(inputs=i, outputs=o)\n",
    "model_2.compile(optimizer='adam', loss='binary_crossentropy', metrics=['accuracy'])\n",
    "model_2.summary()"
   ]
  },
  {
   "cell_type": "code",
   "execution_count": 12,
   "metadata": {
    "colab": {
     "base_uri": "https://localhost:8080/"
    },
    "id": "rVzXs65xzUG5",
    "outputId": "3e41dd5e-1e13-4f19-eeae-36903485a08f"
   },
   "outputs": [
    {
     "name": "stdout",
     "output_type": "stream",
     "text": [
      "Epoch 1/10\n",
      "4/4 [==============================] - 4s 1s/step - loss: 0.9645 - accuracy: 0.4599 - val_loss: 0.6962 - val_accuracy: 0.5163\n",
      "Epoch 2/10\n",
      "4/4 [==============================] - 3s 873ms/step - loss: 0.7884 - accuracy: 0.5171 - val_loss: 0.6887 - val_accuracy: 0.5163\n",
      "Epoch 3/10\n",
      "4/4 [==============================] - 3s 841ms/step - loss: 0.6193 - accuracy: 0.6551 - val_loss: 0.6858 - val_accuracy: 0.5294\n",
      "Epoch 4/10\n",
      "4/4 [==============================] - 3s 858ms/step - loss: 0.6128 - accuracy: 0.6876 - val_loss: 0.6849 - val_accuracy: 0.5490\n",
      "Epoch 5/10\n",
      "4/4 [==============================] - 3s 819ms/step - loss: 0.5284 - accuracy: 0.7525 - val_loss: 0.6845 - val_accuracy: 0.6013\n",
      "Epoch 6/10\n",
      "4/4 [==============================] - 3s 833ms/step - loss: 0.4862 - accuracy: 0.7704 - val_loss: 0.6834 - val_accuracy: 0.6144\n",
      "Epoch 7/10\n",
      "4/4 [==============================] - 3s 867ms/step - loss: 0.4460 - accuracy: 0.8092 - val_loss: 0.6826 - val_accuracy: 0.5948\n",
      "Epoch 8/10\n",
      "4/4 [==============================] - 3s 851ms/step - loss: 0.4122 - accuracy: 0.8705 - val_loss: 0.6830 - val_accuracy: 0.6078\n",
      "Epoch 9/10\n",
      "4/4 [==============================] - 3s 872ms/step - loss: 0.3632 - accuracy: 0.9020 - val_loss: 0.6831 - val_accuracy: 0.6013\n",
      "Epoch 10/10\n",
      "4/4 [==============================] - 3s 839ms/step - loss: 0.3473 - accuracy: 0.8892 - val_loss: 0.6823 - val_accuracy: 0.6078\n",
      "CPU times: user 26.8 s, sys: 1.97 s, total: 28.7 s\n",
      "Wall time: 32.1 s\n"
     ]
    }
   ],
   "source": [
    "%%time\n",
    "\n",
    "m_2 = model_2.fit(train, epochs=10, validation_data=test)"
   ]
  },
  {
   "cell_type": "code",
   "execution_count": 13,
   "metadata": {
    "colab": {
     "base_uri": "https://localhost:8080/",
     "height": 265
    },
    "id": "pSMJ-PagT2PW",
    "outputId": "22d955f5-d4e8-4997-ac1e-1348daac026a"
   },
   "outputs": [
    {
     "data": {
      "image/png": "[encoded data removed]",
      "text/plain": [
       "<Figure size 432x288 with 1 Axes>"
      ]
     },
     "metadata": {
      "needs_background": "light",
      "tags": []
     },
     "output_type": "display_data"
    }
   ],
   "source": [
    "loss_plot(m_2)"
   ]
  },
  {
   "cell_type": "code",
   "execution_count": 14,
   "metadata": {
    "colab": {
     "base_uri": "https://localhost:8080/",
     "height": 265
    },
    "id": "iNXTbgeXT2PX",
    "outputId": "eda9e890-1423-4067-b55d-0226be59f987"
   },
   "outputs": [
    {
     "data": {
      "image/png": "[encoded data removed]",
      "text/plain": [
       "<Figure size 432x288 with 1 Axes>"
      ]
     },
     "metadata": {
      "needs_background": "light",
      "tags": []
     },
     "output_type": "display_data"
    }
   ],
   "source": [
    "accuracy_plot(m_2)"
   ]
  },
  {
   "cell_type": "markdown",
   "metadata": {},
   "source": [
    "Не на много лучше получилось."
   ]
  },
  {
   "cell_type": "markdown",
   "metadata": {
    "id": "3mUDB47W0LOy",
    "outputId": "13508ca4-cd63-4868-8600-a6288ee4adac"
   },
   "source": [
    "Создадим модель ResNet 50, инициализированную случайными весами, и обучим ее на train выборке в течении 10 эпох, оценим качество на отложенной выборке"
   ]
  },
  {
   "cell_type": "code",
   "execution_count": 15,
   "metadata": {
    "colab": {
     "base_uri": "https://localhost:8080/"
    },
    "id": "9dyVybnUT2PX",
    "outputId": "07f30cb5-5370-4333-df5c-6077f3ddc1b8"
   },
   "outputs": [
    {
     "name": "stdout",
     "output_type": "stream",
     "text": [
      "Found 244 images belonging to 2 classes.\n",
      "Found 153 images belonging to 2 classes.\n"
     ]
    }
   ],
   "source": [
    "train_generator = keras.preprocessing.image.ImageDataGenerator()\n",
    "test_generator = keras.preprocessing.image.ImageDataGenerator()\n",
    "\n",
    "train = train_generator.flow_from_directory('hymenoptera_data/train', target_size=(224, 224), batch_size=32, class_mode='binary')\n",
    "test = test_generator.flow_from_directory('hymenoptera_data/val', target_size=(224, 224), batch_size=32, class_mode='binary')"
   ]
  },
  {
   "cell_type": "code",
   "execution_count": 16,
   "metadata": {
    "id": "DKSMZNE4T2PY"
   },
   "outputs": [],
   "source": [
    "ResNet50 = keras.applications.ResNet50(include_top=False, weights=None)"
   ]
  },
  {
   "cell_type": "code",
   "execution_count": 17,
   "metadata": {
    "id": "cWTocborT2PY"
   },
   "outputs": [],
   "source": [
    "i = keras.layers.Input((224, 224, 3), dtype = tf.uint8)\n",
    "o = tf.cast(i, tf.float32)\n",
    "o = ResNet50(o)\n",
    "o = keras.layers.Flatten()(o)\n",
    "o = keras.layers.Dense(1, activation='sigmoid')(o)"
   ]
  },
  {
   "cell_type": "code",
   "execution_count": 18,
   "metadata": {
    "colab": {
     "base_uri": "https://localhost:8080/"
    },
    "id": "aXxGXHa3T2PZ",
    "outputId": "6d591a51-7a42-4a15-a024-707ecb4830b4"
   },
   "outputs": [
    {
     "name": "stdout",
     "output_type": "stream",
     "text": [
      "Model: \"model_2\"\n",
      "_________________________________________________________________\n",
      "Layer (type)                 Output Shape              Param #   \n",
      "=================================================================\n",
      "input_4 (InputLayer)         [(None, 224, 224, 3)]     0         \n",
      "_________________________________________________________________\n",
      "tf.cast (TFOpLambda)         (None, 224, 224, 3)       0         \n",
      "_________________________________________________________________\n",
      "resnet50 (Functional)        (None, None, None, 2048)  23587712  \n",
      "_________________________________________________________________\n",
      "flatten_2 (Flatten)          (None, 100352)            0         \n",
      "_________________________________________________________________\n",
      "dense_2 (Dense)              (None, 1)                 100353    \n",
      "=================================================================\n",
      "Total params: 23,688,065\n",
      "Trainable params: 23,634,945\n",
      "Non-trainable params: 53,120\n",
      "_________________________________________________________________\n"
     ]
    }
   ],
   "source": [
    "model_3 = keras.Model(inputs=i, outputs=o)\n",
    "model_3.compile(optimizer='adam', loss='binary_crossentropy', metrics=['accuracy'])\n",
    "model_3.summary()"
   ]
  },
  {
   "cell_type": "code",
   "execution_count": 19,
   "metadata": {
    "colab": {
     "base_uri": "https://localhost:8080/"
    },
    "id": "inpNlDtQ1MLC",
    "outputId": "f6edf902-b084-48ce-b3b6-1962e6b090f2"
   },
   "outputs": [
    {
     "name": "stdout",
     "output_type": "stream",
     "text": [
      "Epoch 1/10\n",
      "8/8 [==============================] - 20s 1s/step - loss: 21.2205 - accuracy: 0.5126 - val_loss: 51864.0547 - val_accuracy: 0.5490\n",
      "Epoch 2/10\n",
      "8/8 [==============================] - 7s 889ms/step - loss: 2.6711 - accuracy: 0.5664 - val_loss: 77646.8047 - val_accuracy: 0.6209\n",
      "Epoch 3/10\n",
      "8/8 [==============================] - 7s 895ms/step - loss: 2.1603 - accuracy: 0.6253 - val_loss: 283516.0938 - val_accuracy: 0.5425\n",
      "Epoch 4/10\n",
      "8/8 [==============================] - 7s 891ms/step - loss: 2.3477 - accuracy: 0.4763 - val_loss: 104911.8047 - val_accuracy: 0.5359\n",
      "Epoch 5/10\n",
      "8/8 [==============================] - 7s 894ms/step - loss: 2.7655 - accuracy: 0.5302 - val_loss: 870253.6875 - val_accuracy: 0.5425\n",
      "Epoch 6/10\n",
      "8/8 [==============================] - 7s 895ms/step - loss: 2.3334 - accuracy: 0.5547 - val_loss: 8204.0371 - val_accuracy: 0.5490\n",
      "Epoch 7/10\n",
      "8/8 [==============================] - 7s 901ms/step - loss: 3.2785 - accuracy: 0.4995 - val_loss: 49.7019 - val_accuracy: 0.5098\n",
      "Epoch 8/10\n",
      "8/8 [==============================] - 7s 899ms/step - loss: 4.1128 - accuracy: 0.4716 - val_loss: 75.3422 - val_accuracy: 0.4967\n",
      "Epoch 9/10\n",
      "8/8 [==============================] - 7s 903ms/step - loss: 2.9655 - accuracy: 0.5313 - val_loss: 100.4024 - val_accuracy: 0.5621\n",
      "Epoch 10/10\n",
      "8/8 [==============================] - 7s 898ms/step - loss: 3.4109 - accuracy: 0.6304 - val_loss: 8.0616 - val_accuracy: 0.5294\n",
      "CPU times: user 1min 6s, sys: 20.7 s, total: 1min 27s\n",
      "Wall time: 1min 24s\n"
     ]
    }
   ],
   "source": [
    "%%time\n",
    "\n",
    "m_3 = model_3.fit(train, epochs=10, validation_data=test)"
   ]
  },
  {
   "cell_type": "code",
   "execution_count": 20,
   "metadata": {
    "colab": {
     "base_uri": "https://localhost:8080/",
     "height": 265
    },
    "id": "yc2S4relT2PZ",
    "outputId": "f9712dc2-8e4f-4308-f603-6ac1217deca9"
   },
   "outputs": [
    {
     "data": {
      "image/png": "[encoded data removed]",
      "text/plain": [
       "<Figure size 432x288 with 1 Axes>"
      ]
     },
     "metadata": {
      "needs_background": "light",
      "tags": []
     },
     "output_type": "display_data"
    }
   ],
   "source": [
    "loss_plot(m_3)"
   ]
  },
  {
   "cell_type": "code",
   "execution_count": 21,
   "metadata": {
    "colab": {
     "base_uri": "https://localhost:8080/",
     "height": 265
    },
    "id": "ooxIt9FhT2Pa",
    "outputId": "f1a35aca-87a2-47a5-ee15-ac8efd01a22b"
   },
   "outputs": [
    {
     "data": {
      "image/png": "[encoded data removed]",
      "text/plain": [
       "<Figure size 432x288 with 1 Axes>"
      ]
     },
     "metadata": {
      "needs_background": "light",
      "tags": []
     },
     "output_type": "display_data"
    }
   ],
   "source": [
    "accuracy_plot(m_3)"
   ]
  },
  {
   "cell_type": "markdown",
   "metadata": {
    "id": "YTQw40QzT2Pa"
   },
   "source": [
    "Создадим модель ResNet 50, инициализированную весами ImageNet, и обучим ее на train выборке в течении 10 эпох, оценим качество на отложенной выборке"
   ]
  },
  {
   "cell_type": "code",
   "execution_count": 22,
   "metadata": {
    "id": "5_Il3FM4T2Pa"
   },
   "outputs": [],
   "source": [
    "ResNet50 = keras.applications.ResNet50(include_top=False, weights='imagenet')\n",
    "\n",
    "ResNet50.trainable = False"
   ]
  },
  {
   "cell_type": "code",
   "execution_count": 23,
   "metadata": {
    "id": "gzRGsJ6hT2Pb"
   },
   "outputs": [],
   "source": [
    "i = keras.layers.Input((224, 224, 3), dtype = tf.uint8)\n",
    "o = tf.cast(i, tf.float32)\n",
    "o = ResNet50(o)\n",
    "o = keras.layers.Flatten()(o)\n",
    "o = keras.layers.Dense(1, activation='sigmoid')(o)"
   ]
  },
  {
   "cell_type": "code",
   "execution_count": 24,
   "metadata": {
    "colab": {
     "base_uri": "https://localhost:8080/"
    },
    "id": "GtAuB-v3T2Pb",
    "outputId": "fa51758f-a0b3-4694-e852-bb1bc0619a76"
   },
   "outputs": [
    {
     "name": "stdout",
     "output_type": "stream",
     "text": [
      "Model: \"model_3\"\n",
      "_________________________________________________________________\n",
      "Layer (type)                 Output Shape              Param #   \n",
      "=================================================================\n",
      "input_6 (InputLayer)         [(None, 224, 224, 3)]     0         \n",
      "_________________________________________________________________\n",
      "tf.cast_1 (TFOpLambda)       (None, 224, 224, 3)       0         \n",
      "_________________________________________________________________\n",
      "resnet50 (Functional)        (None, None, None, 2048)  23587712  \n",
      "_________________________________________________________________\n",
      "flatten_3 (Flatten)          (None, 100352)            0         \n",
      "_________________________________________________________________\n",
      "dense_3 (Dense)              (None, 1)                 100353    \n",
      "=================================================================\n",
      "Total params: 23,688,065\n",
      "Trainable params: 100,353\n",
      "Non-trainable params: 23,587,712\n",
      "_________________________________________________________________\n"
     ]
    }
   ],
   "source": [
    "model_4 = keras.Model(inputs=i, outputs=o)\n",
    "model_4.compile(optimizer='adam', loss='binary_crossentropy', metrics=['accuracy'])\n",
    "model_4.summary()"
   ]
  },
  {
   "cell_type": "code",
   "execution_count": 25,
   "metadata": {
    "colab": {
     "base_uri": "https://localhost:8080/"
    },
    "id": "c5-hDrkAT2Pc",
    "outputId": "43798742-c5ff-41f2-a96a-819c5c78a278"
   },
   "outputs": [
    {
     "name": "stdout",
     "output_type": "stream",
     "text": [
      "Epoch 1/10\n",
      "8/8 [==============================] - 9s 690ms/step - loss: 2.7131 - accuracy: 0.6490 - val_loss: 1.1846 - val_accuracy: 0.8497\n",
      "Epoch 2/10\n",
      "8/8 [==============================] - 4s 506ms/step - loss: 0.7562 - accuracy: 0.8929 - val_loss: 1.4704 - val_accuracy: 0.8824\n",
      "Epoch 3/10\n",
      "8/8 [==============================] - 4s 507ms/step - loss: 0.2707 - accuracy: 0.9665 - val_loss: 1.3574 - val_accuracy: 0.8824\n",
      "Epoch 4/10\n",
      "8/8 [==============================] - 4s 511ms/step - loss: 0.0229 - accuracy: 0.9956 - val_loss: 2.5602 - val_accuracy: 0.8301\n",
      "Epoch 5/10\n",
      "8/8 [==============================] - 4s 512ms/step - loss: 0.0606 - accuracy: 0.9901 - val_loss: 1.8037 - val_accuracy: 0.8627\n",
      "Epoch 6/10\n",
      "8/8 [==============================] - 4s 524ms/step - loss: 3.6990e-07 - accuracy: 1.0000 - val_loss: 1.6301 - val_accuracy: 0.8889\n",
      "Epoch 7/10\n",
      "8/8 [==============================] - 4s 510ms/step - loss: 5.5155e-10 - accuracy: 1.0000 - val_loss: 1.5850 - val_accuracy: 0.8889\n",
      "Epoch 8/10\n",
      "8/8 [==============================] - 4s 527ms/step - loss: 4.2987e-10 - accuracy: 1.0000 - val_loss: 1.5703 - val_accuracy: 0.8954\n",
      "Epoch 9/10\n",
      "8/8 [==============================] - 4s 515ms/step - loss: 8.7893e-10 - accuracy: 1.0000 - val_loss: 1.5649 - val_accuracy: 0.8954\n",
      "Epoch 10/10\n",
      "8/8 [==============================] - 4s 503ms/step - loss: 9.6832e-10 - accuracy: 1.0000 - val_loss: 1.5627 - val_accuracy: 0.8954\n",
      "CPU times: user 39.7 s, sys: 2.86 s, total: 42.5 s\n",
      "Wall time: 45.3 s\n"
     ]
    }
   ],
   "source": [
    "%%time\n",
    "\n",
    "m_4 = model_4.fit(train, epochs=10, validation_data=test)"
   ]
  },
  {
   "cell_type": "code",
   "execution_count": 26,
   "metadata": {
    "colab": {
     "base_uri": "https://localhost:8080/",
     "height": 265
    },
    "id": "0nbnn2bFT2Pc",
    "outputId": "04fcd39a-7991-4a20-f420-55688f57db79"
   },
   "outputs": [
    {
     "data": {
      "image/png": "[encoded data removed]",
      "text/plain": [
       "<Figure size 432x288 with 1 Axes>"
      ]
     },
     "metadata": {
      "needs_background": "light",
      "tags": []
     },
     "output_type": "display_data"
    }
   ],
   "source": [
    "loss_plot(m_4)"
   ]
  },
  {
   "cell_type": "code",
   "execution_count": 27,
   "metadata": {
    "colab": {
     "base_uri": "https://localhost:8080/",
     "height": 265
    },
    "id": "zzej47yoT2Pc",
    "outputId": "720b15cf-cd2e-4fd4-f02f-ca17fa340d14"
   },
   "outputs": [
    {
     "data": {
      "image/png": "[encoded data removed]",
      "text/plain": [
       "<Figure size 432x288 with 1 Axes>"
      ]
     },
     "metadata": {
      "needs_background": "light",
      "tags": []
     },
     "output_type": "display_data"
    }
   ],
   "source": [
    "accuracy_plot(m_4)"
   ]
  },
  {
   "cell_type": "markdown",
   "metadata": {
    "id": "XfdwV1AkT2Pd"
   },
   "source": [
    "Модель явно переобучилась."
   ]
  }
 ],
 "metadata": {
  "accelerator": "GPU",
  "colab": {
   "collapsed_sections": [],
   "name": "HW.ipynb",
   "provenance": []
  },
  "kernelspec": {
   "display_name": "Python 3",
   "language": "python",
   "name": "python3"
  },
  "language_info": {
   "codemirror_mode": {
    "name": "ipython",
    "version": 3
   },
   "file_extension": ".py",
   "mimetype": "text/x-python",
   "name": "python",
   "nbconvert_exporter": "python",
   "pygments_lexer": "ipython3",
   "version": "3.7.6"
  }
 },
 "nbformat": 4,
 "nbformat_minor": 1
}
