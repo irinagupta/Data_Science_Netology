{
 "cells": [
  {
   "cell_type": "markdown",
   "metadata": {},
   "source": [
    "### Домашнее задание"
   ]
  },
  {
   "cell_type": "markdown",
   "metadata": {},
   "source": [
    "Возьмите датасет https://www.kaggle.com/ajayrana/hymenoptera-data\n",
    "\n",
    "Реализуйте сверточную нейронную сеть с использованием tf.keras или keras. Используйте сверточные, пуллинговые и полносвязанные слои. Обучите на train выборке в течении 10 эпох, оцените качество на отложенной выборке\n",
    "\n",
    "Добавьте в предыдущую архитектуру слои BatchNorm. Обучите на train выборке в течении 10 эпох, оцените качество на отложенной выборке\n",
    "\n",
    "Создайте модель ResNet 50 (https://www.tensorflow.org/api_docs/python/tf/keras/applications/ResNet50), инициализированную случайными весами, и обучите ее на train выборке в течении 10 эпох, оцените качество на отложенной выборке\n",
    "\n",
    "Создайте модель ResNet 50, инициализированную весами ImageNet, и обучите ее на train выборке в течении 10 эпох, оцените качество на отложенной выборке\n",
    "\n",
    "Результат пришлите в виде Jupyter Notebook на github’е или расшаренного Google Colab-блокнота"
   ]
  },
  {
   "cell_type": "markdown",
   "metadata": {},
   "source": [
    "## Базовый пример"
   ]
  },
  {
   "cell_type": "code",
   "execution_count": 3,
   "metadata": {},
   "outputs": [
    {
     "name": "stdout",
     "output_type": "stream",
     "text": [
      "Collecting tensorflow\n",
      "  Using cached tensorflow-2.4.1-cp37-cp37m-win_amd64.whl (370.7 MB)\n",
      "Collecting keras-preprocessing~=1.1.2\n",
      "  Using cached Keras_Preprocessing-1.1.2-py2.py3-none-any.whl (42 kB)\n",
      "Requirement already satisfied: h5py~=2.10.0 in c:\\programdata\\anaconda3\\lib\\site-packages (from tensorflow) (2.10.0)\n",
      "Collecting opt-einsum~=3.3.0\n",
      "  Using cached opt_einsum-3.3.0-py3-none-any.whl (65 kB)\n",
      "Requirement already satisfied: tensorflow-estimator<2.5.0,>=2.4.0 in c:\\programdata\\anaconda3\\lib\\site-packages (from tensorflow) (2.4.0)\n",
      "Collecting tensorboard~=2.4\n",
      "  Using cached tensorboard-2.4.1-py3-none-any.whl (10.6 MB)\n",
      "Collecting grpcio~=1.32.0\n",
      "  Using cached grpcio-1.32.0-cp37-cp37m-win_amd64.whl (2.5 MB)\n",
      "Collecting google-pasta~=0.2\n",
      "  Using cached google_pasta-0.2.0-py3-none-any.whl (57 kB)\n",
      "Collecting typing-extensions~=3.7.4\n",
      "  Using cached typing_extensions-3.7.4.3-py3-none-any.whl (22 kB)\n",
      "Collecting absl-py~=0.10\n",
      "  Using cached absl_py-0.11.0-py3-none-any.whl (127 kB)\n",
      "Collecting wheel~=0.35\n",
      "  Using cached wheel-0.36.2-py2.py3-none-any.whl (35 kB)\n",
      "Collecting six~=1.15.0\n",
      "  Using cached six-1.15.0-py2.py3-none-any.whl (10 kB)\n",
      "Collecting numpy~=1.19.2\n",
      "  Using cached numpy-1.19.5-cp37-cp37m-win_amd64.whl (13.2 MB)\n",
      "Collecting flatbuffers~=1.12.0\n",
      "  Using cached flatbuffers-1.12-py2.py3-none-any.whl (15 kB)\n",
      "Requirement already satisfied: protobuf>=3.9.2 in c:\\programdata\\anaconda3\\lib\\site-packages (from tensorflow) (3.14.0)\n",
      "Requirement already satisfied: gast==0.3.3 in c:\\programdata\\anaconda3\\lib\\site-packages (from tensorflow) (0.3.3)\n",
      "Processing c:\\users\\samrat gupta\\appdata\\local\\pip\\cache\\wheels\\62\\76\\4c\\aa25851149f3f6d9785f6c869387ad82b3fd37582fa8147ac6\\wrapt-1.12.1-py3-none-any.whl\n",
      "Requirement already satisfied: termcolor~=1.1.0 in c:\\programdata\\anaconda3\\lib\\site-packages (from tensorflow) (1.1.0)\n",
      "Collecting astunparse~=1.6.3\n",
      "  Using cached astunparse-1.6.3-py2.py3-none-any.whl (12 kB)\n",
      "Requirement already satisfied: setuptools>=41.0.0 in c:\\programdata\\anaconda3\\lib\\site-packages (from tensorboard~=2.4->tensorflow) (45.2.0.post20200210)\n",
      "Requirement already satisfied: werkzeug>=0.11.15 in c:\\programdata\\anaconda3\\lib\\site-packages (from tensorboard~=2.4->tensorflow) (1.0.0)\n",
      "Collecting markdown>=2.6.8\n",
      "  Using cached Markdown-3.3.4-py3-none-any.whl (97 kB)\n",
      "Collecting tensorboard-plugin-wit>=1.6.0\n",
      "  Using cached tensorboard_plugin_wit-1.8.0-py3-none-any.whl (781 kB)\n",
      "Requirement already satisfied: requests<3,>=2.21.0 in c:\\users\\samrat gupta\\appdata\\roaming\\python\\python37\\site-packages (from tensorboard~=2.4->tensorflow) (2.25.0)\n",
      "Collecting google-auth<2,>=1.6.3\n",
      "  Using cached google_auth-1.27.0-py2.py3-none-any.whl (135 kB)\n",
      "Collecting google-auth-oauthlib<0.5,>=0.4.1\n",
      "  Using cached google_auth_oauthlib-0.4.2-py2.py3-none-any.whl (18 kB)\n",
      "Requirement already satisfied: importlib-metadata; python_version < \"3.8\" in c:\\programdata\\anaconda3\\lib\\site-packages (from markdown>=2.6.8->tensorboard~=2.4->tensorflow) (1.5.0)\n",
      "Requirement already satisfied: certifi>=2017.4.17 in c:\\programdata\\anaconda3\\lib\\site-packages (from requests<3,>=2.21.0->tensorboard~=2.4->tensorflow) (2019.11.28)\n",
      "Requirement already satisfied: idna<3,>=2.5 in c:\\programdata\\anaconda3\\lib\\site-packages (from requests<3,>=2.21.0->tensorboard~=2.4->tensorflow) (2.8)\n",
      "Requirement already satisfied: urllib3<1.27,>=1.21.1 in c:\\programdata\\anaconda3\\lib\\site-packages (from requests<3,>=2.21.0->tensorboard~=2.4->tensorflow) (1.25.8)\n",
      "Requirement already satisfied: chardet<4,>=3.0.2 in c:\\programdata\\anaconda3\\lib\\site-packages (from requests<3,>=2.21.0->tensorboard~=2.4->tensorflow) (3.0.4)\n",
      "Collecting rsa<5,>=3.1.4; python_version >= \"3.6\"\n",
      "  Using cached rsa-4.7.2-py3-none-any.whl (34 kB)\n",
      "Collecting pyasn1-modules>=0.2.1\n",
      "  Using cached pyasn1_modules-0.2.8-py2.py3-none-any.whl (155 kB)\n",
      "Collecting cachetools<5.0,>=2.0.0\n",
      "  Using cached cachetools-4.2.1-py3-none-any.whl (12 kB)\n",
      "Collecting requests-oauthlib>=0.7.0\n",
      "  Using cached requests_oauthlib-1.3.0-py2.py3-none-any.whl (23 kB)\n",
      "Requirement already satisfied: zipp>=0.5 in c:\\programdata\\anaconda3\\lib\\site-packages (from importlib-metadata; python_version < \"3.8\"->markdown>=2.6.8->tensorboard~=2.4->tensorflow) (2.2.0)\n",
      "Collecting pyasn1>=0.1.3\n",
      "  Using cached pyasn1-0.4.8-py2.py3-none-any.whl (77 kB)\n",
      "Collecting oauthlib>=3.0.0\n",
      "  Using cached oauthlib-3.1.0-py2.py3-none-any.whl (147 kB)\n",
      "Installing collected packages: numpy, six, keras-preprocessing, opt-einsum, absl-py, grpcio, markdown, wheel, tensorboard-plugin-wit, pyasn1, rsa, pyasn1-modules, cachetools, google-auth, oauthlib, requests-oauthlib, google-auth-oauthlib, tensorboard, google-pasta, typing-extensions, flatbuffers, wrapt, astunparse, tensorflow\n",
      "Successfully installed absl-py-0.11.0 astunparse-1.6.3 cachetools-4.2.1 flatbuffers-1.12 google-auth-1.27.0 google-auth-oauthlib-0.4.2 google-pasta-0.2.0 grpcio-1.32.0 keras-preprocessing-1.1.2 markdown-3.3.4 numpy-1.19.5 oauthlib-3.1.0 opt-einsum-3.3.0 pyasn1-0.4.8 pyasn1-modules-0.2.8 requests-oauthlib-1.3.0 rsa-4.7.2 six-1.15.0 tensorboard-2.4.1 tensorboard-plugin-wit-1.8.0 tensorflow-2.4.1 typing-extensions-3.7.4.3 wheel-0.36.2 wrapt-1.12.1\n"
     ]
    },
    {
     "name": "stderr",
     "output_type": "stream",
     "text": [
      "ERROR: pytest-astropy 0.8.0 requires pytest-cov>=2.0, which is not installed.\n",
      "ERROR: pytest-astropy 0.8.0 requires pytest-filter-subpackage>=0.1, which is not installed.\n",
      "ERROR: astroid 2.3.3 requires typed-ast<1.5,>=1.4.0; implementation_name == \"cpython\" and python_version < \"3.8\", which is not installed.\n",
      "ERROR: astroid 2.3.3 has requirement wrapt==1.11.*, but you'll have wrapt 1.12.1 which is incompatible.\n",
      "  WARNING: The script f2py.exe is installed in 'C:\\Users\\Samrat Gupta\\AppData\\Roaming\\Python\\Python37\\Scripts' which is not on PATH.\n",
      "  Consider adding this directory to PATH or, if you prefer to suppress this warning, use --no-warn-script-location.\n",
      "  WARNING: The script markdown_py.exe is installed in 'C:\\Users\\Samrat Gupta\\AppData\\Roaming\\Python\\Python37\\Scripts' which is not on PATH.\n",
      "  Consider adding this directory to PATH or, if you prefer to suppress this warning, use --no-warn-script-location.\n",
      "  WARNING: The script wheel.exe is installed in 'C:\\Users\\Samrat Gupta\\AppData\\Roaming\\Python\\Python37\\Scripts' which is not on PATH.\n",
      "  Consider adding this directory to PATH or, if you prefer to suppress this warning, use --no-warn-script-location.\n",
      "  WARNING: The scripts pyrsa-decrypt.exe, pyrsa-encrypt.exe, pyrsa-keygen.exe, pyrsa-priv2pub.exe, pyrsa-sign.exe and pyrsa-verify.exe are installed in 'C:\\Users\\Samrat Gupta\\AppData\\Roaming\\Python\\Python37\\Scripts' which is not on PATH.\n",
      "  Consider adding this directory to PATH or, if you prefer to suppress this warning, use --no-warn-script-location.\n",
      "  WARNING: The script google-oauthlib-tool.exe is installed in 'C:\\Users\\Samrat Gupta\\AppData\\Roaming\\Python\\Python37\\Scripts' which is not on PATH.\n",
      "  Consider adding this directory to PATH or, if you prefer to suppress this warning, use --no-warn-script-location.\n",
      "  WARNING: The script tensorboard.exe is installed in 'C:\\Users\\Samrat Gupta\\AppData\\Roaming\\Python\\Python37\\Scripts' which is not on PATH.\n",
      "  Consider adding this directory to PATH or, if you prefer to suppress this warning, use --no-warn-script-location.\n",
      "  WARNING: The scripts estimator_ckpt_converter.exe, import_pb_to_tensorboard.exe, saved_model_cli.exe, tensorboard.exe, tf_upgrade_v2.exe, tflite_convert.exe, toco.exe and toco_from_protos.exe are installed in 'C:\\Users\\Samrat Gupta\\AppData\\Roaming\\Python\\Python37\\Scripts' which is not on PATH.\n",
      "  Consider adding this directory to PATH or, if you prefer to suppress this warning, use --no-warn-script-location.\n"
     ]
    }
   ],
   "source": [
    "!pip install --user tensorflow"
   ]
  },
  {
   "cell_type": "code",
   "execution_count": 4,
   "metadata": {
    "id": "bXisA4suh9Ou"
   },
   "outputs": [],
   "source": [
    "import tensorflow as tf\n",
    "import tensorflow.keras as keras\n",
    "\n",
    "import numpy as np\n",
    "from sklearn.datasets import load_iris\n",
    "from sklearn.model_selection import train_test_split\n",
    "from sklearn.preprocessing import StandardScaler\n",
    "\n",
    "import matplotlib.pyplot as plt"
   ]
  },
  {
   "cell_type": "code",
   "execution_count": 5,
   "metadata": {
    "id": "e14xYswLibba"
   },
   "outputs": [],
   "source": [
    "X, y = load_iris(return_X_y=True)"
   ]
  },
  {
   "cell_type": "code",
   "execution_count": 6,
   "metadata": {
    "id": "8dTeoiB1ih9A"
   },
   "outputs": [],
   "source": [
    "X_train, X_test, y_train, y_test = train_test_split(X, y, test_size=0.2)"
   ]
  },
  {
   "cell_type": "code",
   "execution_count": 7,
   "metadata": {
    "id": "on6r2y3iitrN"
   },
   "outputs": [],
   "source": [
    "sc = StandardScaler()\n",
    "X_train = sc.fit_transform(X_train)\n",
    "X_test = sc.transform(X_test)"
   ]
  },
  {
   "cell_type": "code",
   "execution_count": 8,
   "metadata": {
    "colab": {
     "base_uri": "https://localhost:8080/"
    },
    "id": "QshdWw0359gw",
    "outputId": "02ed868a-5429-408b-d77e-1d2490353578"
   },
   "outputs": [
    {
     "data": {
      "text/plain": [
       "(120, 4)"
      ]
     },
     "execution_count": 8,
     "metadata": {},
     "output_type": "execute_result"
    }
   ],
   "source": [
    "X_train.shape"
   ]
  },
  {
   "cell_type": "code",
   "execution_count": 9,
   "metadata": {
    "colab": {
     "base_uri": "https://localhost:8080/"
    },
    "id": "3yuEvBR95_-1",
    "outputId": "94fc94da-d616-4398-de51-8cbb117880df"
   },
   "outputs": [
    {
     "data": {
      "text/plain": [
       "(120,)"
      ]
     },
     "execution_count": 9,
     "metadata": {},
     "output_type": "execute_result"
    }
   ],
   "source": [
    "y_train.shape"
   ]
  },
  {
   "cell_type": "markdown",
   "metadata": {
    "id": "Y5cWz2KWkwQK"
   },
   "source": [
    "## Способ 1 задать модель - старый"
   ]
  },
  {
   "cell_type": "code",
   "execution_count": 10,
   "metadata": {
    "id": "DQEz-uNckvZi"
   },
   "outputs": [],
   "source": [
    "model = keras.models.Sequential([\n",
    "    keras.layers.Dense(32, activation='relu', input_shape=(4,)),\n",
    "    keras.layers.Dense(64, activation='relu'),\n",
    "    keras.layers.Dense(3),\n",
    "    keras.layers.Softmax()\n",
    "])\n",
    "model.compile(optimizer='adam', loss='sparse_categorical_crossentropy', metrics=['accuracy'])"
   ]
  },
  {
   "cell_type": "code",
   "execution_count": 11,
   "metadata": {
    "colab": {
     "base_uri": "https://localhost:8080/"
    },
    "id": "Tq1Tp8nRlXF-",
    "outputId": "e738d7a4-4d16-4d97-d542-e34bfb2d4b0b"
   },
   "outputs": [
    {
     "name": "stdout",
     "output_type": "stream",
     "text": [
      "Epoch 1/50\n",
      "4/4 [==============================] - 6s 1s/step - loss: 1.1343 - accuracy: 0.3915 - val_loss: 1.0758 - val_accuracy: 0.4667\n",
      "Epoch 2/50\n",
      "4/4 [==============================] - 0s 22ms/step - loss: 1.0533 - accuracy: 0.5221 - val_loss: 0.9898 - val_accuracy: 0.6000\n",
      "Epoch 3/50\n",
      "4/4 [==============================] - 0s 23ms/step - loss: 0.9780 - accuracy: 0.6865 - val_loss: 0.9153 - val_accuracy: 0.7333\n",
      "Epoch 4/50\n",
      "4/4 [==============================] - 0s 24ms/step - loss: 0.9128 - accuracy: 0.7396 - val_loss: 0.8468 - val_accuracy: 0.8333\n",
      "Epoch 5/50\n",
      "4/4 [==============================] - 0s 22ms/step - loss: 0.8537 - accuracy: 0.7954 - val_loss: 0.7841 - val_accuracy: 0.8667\n",
      "Epoch 6/50\n",
      "4/4 [==============================] - 0s 22ms/step - loss: 0.7867 - accuracy: 0.8312 - val_loss: 0.7265 - val_accuracy: 0.8667\n",
      "Epoch 7/50\n",
      "4/4 [==============================] - 0s 22ms/step - loss: 0.7498 - accuracy: 0.8315 - val_loss: 0.6743 - val_accuracy: 0.8667\n",
      "Epoch 8/50\n",
      "4/4 [==============================] - 0s 21ms/step - loss: 0.6998 - accuracy: 0.8333 - val_loss: 0.6258 - val_accuracy: 0.8667\n",
      "Epoch 9/50\n",
      "4/4 [==============================] - 0s 23ms/step - loss: 0.6481 - accuracy: 0.8092 - val_loss: 0.5821 - val_accuracy: 0.8667\n",
      "Epoch 10/50\n",
      "4/4 [==============================] - 0s 23ms/step - loss: 0.6068 - accuracy: 0.8279 - val_loss: 0.5415 - val_accuracy: 0.8667\n",
      "Epoch 11/50\n",
      "4/4 [==============================] - 0s 23ms/step - loss: 0.5601 - accuracy: 0.8425 - val_loss: 0.5040 - val_accuracy: 0.9000\n",
      "Epoch 12/50\n",
      "4/4 [==============================] - 0s 24ms/step - loss: 0.5369 - accuracy: 0.8269 - val_loss: 0.4708 - val_accuracy: 0.9000\n",
      "Epoch 13/50\n",
      "4/4 [==============================] - 0s 25ms/step - loss: 0.4996 - accuracy: 0.8217 - val_loss: 0.4411 - val_accuracy: 0.9000\n",
      "Epoch 14/50\n",
      "4/4 [==============================] - 0s 29ms/step - loss: 0.4599 - accuracy: 0.8300 - val_loss: 0.4144 - val_accuracy: 0.9000\n",
      "Epoch 15/50\n",
      "4/4 [==============================] - 0s 32ms/step - loss: 0.4214 - accuracy: 0.8560 - val_loss: 0.3905 - val_accuracy: 0.9000\n",
      "Epoch 16/50\n",
      "4/4 [==============================] - 0s 26ms/step - loss: 0.4310 - accuracy: 0.8146 - val_loss: 0.3694 - val_accuracy: 0.9000\n",
      "Epoch 17/50\n",
      "4/4 [==============================] - 0s 23ms/step - loss: 0.4151 - accuracy: 0.8496 - val_loss: 0.3507 - val_accuracy: 0.9000\n",
      "Epoch 18/50\n",
      "4/4 [==============================] - 0s 24ms/step - loss: 0.3585 - accuracy: 0.8790 - val_loss: 0.3341 - val_accuracy: 0.9000\n",
      "Epoch 19/50\n",
      "4/4 [==============================] - 0s 23ms/step - loss: 0.3686 - accuracy: 0.8298 - val_loss: 0.3195 - val_accuracy: 0.9000\n",
      "Epoch 20/50\n",
      "4/4 [==============================] - 0s 24ms/step - loss: 0.3206 - accuracy: 0.8758 - val_loss: 0.3060 - val_accuracy: 0.9000\n",
      "Epoch 21/50\n",
      "4/4 [==============================] - 0s 22ms/step - loss: 0.3133 - accuracy: 0.8779 - val_loss: 0.2939 - val_accuracy: 0.9000\n",
      "Epoch 22/50\n",
      "4/4 [==============================] - 0s 24ms/step - loss: 0.3150 - accuracy: 0.8758 - val_loss: 0.2822 - val_accuracy: 0.9000\n",
      "Epoch 23/50\n",
      "4/4 [==============================] - 0s 23ms/step - loss: 0.3323 - accuracy: 0.8540 - val_loss: 0.2718 - val_accuracy: 0.9000\n",
      "Epoch 24/50\n",
      "4/4 [==============================] - 0s 27ms/step - loss: 0.2870 - accuracy: 0.8704 - val_loss: 0.2620 - val_accuracy: 0.9000\n",
      "Epoch 25/50\n",
      "4/4 [==============================] - 0s 28ms/step - loss: 0.3136 - accuracy: 0.8396 - val_loss: 0.2529 - val_accuracy: 0.9000\n",
      "Epoch 26/50\n",
      "4/4 [==============================] - 0s 27ms/step - loss: 0.2579 - accuracy: 0.8794 - val_loss: 0.2442 - val_accuracy: 0.9000\n",
      "Epoch 27/50\n",
      "4/4 [==============================] - 0s 26ms/step - loss: 0.2416 - accuracy: 0.9025 - val_loss: 0.2363 - val_accuracy: 0.9000\n",
      "Epoch 28/50\n",
      "4/4 [==============================] - 0s 29ms/step - loss: 0.2645 - accuracy: 0.9017 - val_loss: 0.2292 - val_accuracy: 0.9000\n",
      "Epoch 29/50\n",
      "4/4 [==============================] - 0s 28ms/step - loss: 0.2260 - accuracy: 0.9142 - val_loss: 0.2219 - val_accuracy: 0.9000\n",
      "Epoch 30/50\n",
      "4/4 [==============================] - 0s 24ms/step - loss: 0.2339 - accuracy: 0.8975 - val_loss: 0.2154 - val_accuracy: 0.9333\n",
      "Epoch 31/50\n",
      "4/4 [==============================] - 0s 73ms/step - loss: 0.2266 - accuracy: 0.9260 - val_loss: 0.2089 - val_accuracy: 0.9333\n",
      "Epoch 32/50\n",
      "4/4 [==============================] - 0s 22ms/step - loss: 0.2189 - accuracy: 0.9260 - val_loss: 0.2027 - val_accuracy: 0.9333\n",
      "Epoch 33/50\n",
      "4/4 [==============================] - 0s 25ms/step - loss: 0.2163 - accuracy: 0.9294 - val_loss: 0.1972 - val_accuracy: 0.9333\n",
      "Epoch 34/50\n",
      "4/4 [==============================] - 0s 26ms/step - loss: 0.2224 - accuracy: 0.9263 - val_loss: 0.1912 - val_accuracy: 0.9333\n",
      "Epoch 35/50\n",
      "4/4 [==============================] - 0s 28ms/step - loss: 0.2223 - accuracy: 0.9033 - val_loss: 0.1855 - val_accuracy: 0.9333\n",
      "Epoch 36/50\n",
      "4/4 [==============================] - 0s 23ms/step - loss: 0.1876 - accuracy: 0.9252 - val_loss: 0.1797 - val_accuracy: 0.9667\n",
      "Epoch 37/50\n",
      "4/4 [==============================] - 0s 25ms/step - loss: 0.1823 - accuracy: 0.9442 - val_loss: 0.1749 - val_accuracy: 0.9667\n",
      "Epoch 38/50\n",
      "4/4 [==============================] - 0s 27ms/step - loss: 0.1899 - accuracy: 0.9285 - val_loss: 0.1708 - val_accuracy: 0.9667\n",
      "Epoch 39/50\n",
      "4/4 [==============================] - 0s 27ms/step - loss: 0.2050 - accuracy: 0.9404 - val_loss: 0.1674 - val_accuracy: 0.9667\n",
      "Epoch 40/50\n",
      "4/4 [==============================] - 0s 25ms/step - loss: 0.1556 - accuracy: 0.9675 - val_loss: 0.1633 - val_accuracy: 0.9667\n",
      "Epoch 41/50\n",
      "4/4 [==============================] - 0s 23ms/step - loss: 0.1760 - accuracy: 0.9446 - val_loss: 0.1586 - val_accuracy: 0.9667\n",
      "Epoch 42/50\n",
      "4/4 [==============================] - 0s 25ms/step - loss: 0.1468 - accuracy: 0.9623 - val_loss: 0.1535 - val_accuracy: 0.9667\n",
      "Epoch 43/50\n",
      "4/4 [==============================] - 0s 27ms/step - loss: 0.1452 - accuracy: 0.9696 - val_loss: 0.1490 - val_accuracy: 0.9667\n",
      "Epoch 44/50\n",
      "4/4 [==============================] - 0s 28ms/step - loss: 0.1744 - accuracy: 0.9471 - val_loss: 0.1463 - val_accuracy: 0.9667\n",
      "Epoch 45/50\n",
      "4/4 [==============================] - 0s 29ms/step - loss: 0.1680 - accuracy: 0.9477 - val_loss: 0.1438 - val_accuracy: 0.9667\n",
      "Epoch 46/50\n",
      "4/4 [==============================] - 0s 26ms/step - loss: 0.1382 - accuracy: 0.9592 - val_loss: 0.1397 - val_accuracy: 0.9667\n",
      "Epoch 47/50\n",
      "4/4 [==============================] - 0s 23ms/step - loss: 0.1523 - accuracy: 0.9500 - val_loss: 0.1380 - val_accuracy: 0.9667\n",
      "Epoch 48/50\n",
      "4/4 [==============================] - 0s 22ms/step - loss: 0.1447 - accuracy: 0.9498 - val_loss: 0.1341 - val_accuracy: 0.9667\n",
      "Epoch 49/50\n",
      "4/4 [==============================] - 0s 28ms/step - loss: 0.1374 - accuracy: 0.9394 - val_loss: 0.1304 - val_accuracy: 0.9667\n",
      "Epoch 50/50\n",
      "4/4 [==============================] - 0s 25ms/step - loss: 0.1472 - accuracy: 0.9573 - val_loss: 0.1267 - val_accuracy: 0.9667\n"
     ]
    }
   ],
   "source": [
    "r = model.fit(X_train, y_train, validation_data=(X_test, y_test), epochs=50)"
   ]
  },
  {
   "cell_type": "code",
   "execution_count": 12,
   "metadata": {
    "colab": {
     "base_uri": "https://localhost:8080/",
     "height": 286
    },
    "id": "wY5_BPVulbFh",
    "outputId": "4c208a12-78c2-423b-d19d-89b3ae4261d4"
   },
   "outputs": [
    {
     "data": {
      "image/png": "[encoded data removed]",
      "text/plain": [
       "<Figure size 432x288 with 1 Axes>"
      ]
     },
     "metadata": {
      "needs_background": "light"
     },
     "output_type": "display_data"
    }
   ],
   "source": [
    "plt.plot(r.history['loss'], label='train loss')\n",
    "plt.plot(r.history['val_loss'], label='val loss')\n",
    "plt.legend()\n",
    "plt.show()"
   ]
  },
  {
   "cell_type": "code",
   "execution_count": 13,
   "metadata": {
    "colab": {
     "base_uri": "https://localhost:8080/",
     "height": 286
    },
    "id": "HsH233Tylzlp",
    "outputId": "a592b319-7e84-4e9c-abd6-c21f46d03864"
   },
   "outputs": [
    {
     "data": {
      "image/png": "[encoded data removed]",
      "text/plain": [
       "<Figure size 432x288 with 1 Axes>"
      ]
     },
     "metadata": {
      "needs_background": "light"
     },
     "output_type": "display_data"
    }
   ],
   "source": [
    "plt.plot(r.history['accuracy'], label='train accuracy')\n",
    "plt.plot(r.history['val_accuracy'], label='val accuracy')\n",
    "plt.legend()\n",
    "plt.show()"
   ]
  },
  {
   "cell_type": "markdown",
   "metadata": {
    "id": "kdDxdZcOl7J5"
   },
   "source": [
    "## Способ 2 задать модель - functional api"
   ]
  },
  {
   "cell_type": "code",
   "execution_count": null,
   "metadata": {
    "id": "L5jEv83ki3EF"
   },
   "outputs": [],
   "source": [
    "i = keras.layers.Input(shape=(4,))\n",
    "o = keras.layers.Dense(16, activation='relu')(i)\n",
    "o = keras.layers.Dense(32, activation='relu')(o)\n",
    "o = keras.layers.Dense(3)(o)\n",
    "o = keras.layers.Softmax()(o)"
   ]
  },
  {
   "cell_type": "code",
   "execution_count": null,
   "metadata": {
    "id": "302jPrX2jVC8"
   },
   "outputs": [],
   "source": [
    "model = keras.Model(inputs=i, outputs=o)"
   ]
  },
  {
   "cell_type": "code",
   "execution_count": null,
   "metadata": {
    "id": "swls-apVja5d"
   },
   "outputs": [],
   "source": [
    "model.compile(optimizer='adam', loss='sparse_categorical_crossentropy', metrics=['accuracy'])"
   ]
  },
  {
   "cell_type": "code",
   "execution_count": null,
   "metadata": {
    "colab": {
     "base_uri": "https://localhost:8080/"
    },
    "id": "jrEVqe-vkF_y",
    "outputId": "6655f21a-c334-4b7e-b39e-4a64f622da7c"
   },
   "outputs": [],
   "source": [
    "model.summary()"
   ]
  },
  {
   "cell_type": "code",
   "execution_count": null,
   "metadata": {
    "colab": {
     "base_uri": "https://localhost:8080/"
    },
    "id": "zUst38Ckj3Cx",
    "outputId": "13aa2583-19d5-4b3b-b960-8c4c02df0da9"
   },
   "outputs": [],
   "source": [
    "r = model.fit(X_train, y_train, validation_data=(X_test, y_test), epochs=50)"
   ]
  },
  {
   "cell_type": "code",
   "execution_count": null,
   "metadata": {
    "colab": {
     "base_uri": "https://localhost:8080/",
     "height": 286
    },
    "id": "2TluTVPBkBap",
    "outputId": "2df624d1-de45-47dd-a189-084fa6f0e90c"
   },
   "outputs": [],
   "source": [
    "plt.plot(r.history['loss'], label='train loss')\n",
    "plt.plot(r.history['val_loss'], label='val loss')\n",
    "plt.legend()\n",
    "plt.show()"
   ]
  },
  {
   "cell_type": "code",
   "execution_count": null,
   "metadata": {
    "colab": {
     "base_uri": "https://localhost:8080/",
     "height": 286
    },
    "id": "sWg9LoqKmD48",
    "outputId": "fa3db4a2-a8b7-436f-8723-42dba980a3ee"
   },
   "outputs": [],
   "source": [
    "plt.plot(r.history['accuracy'], label='train accuracy')\n",
    "plt.plot(r.history['val_accuracy'], label='val accuracy')\n",
    "plt.legend()\n",
    "plt.show()"
   ]
  },
  {
   "cell_type": "markdown",
   "metadata": {
    "id": "rEEYAMzZmuQs"
   },
   "source": [
    "## Работа с картинками"
   ]
  },
  {
   "cell_type": "code",
   "execution_count": null,
   "metadata": {
    "colab": {
     "base_uri": "https://localhost:8080/"
    },
    "id": "9nKyQ3Ffmf9O",
    "outputId": "b41131ad-0090-4a64-b91a-7c92260c9ca1"
   },
   "outputs": [],
   "source": [
    "!wget -O catsdogs.zip \"https://drive.google.com/uc?export=download&id=15p_fYM7CscmaLFAE2C0zvGvXpWk1wV6h\""
   ]
  },
  {
   "cell_type": "code",
   "execution_count": null,
   "metadata": {
    "colab": {
     "base_uri": "https://localhost:8080/"
    },
    "id": "Nh92leGInCoP",
    "outputId": "44ef99aa-8d5b-4079-b984-39bfe3917095"
   },
   "outputs": [],
   "source": [
    "!unzip catsdogs.zip"
   ]
  },
  {
   "cell_type": "code",
   "execution_count": null,
   "metadata": {
    "colab": {
     "base_uri": "https://localhost:8080/"
    },
    "id": "Gl-IXJAdnP3l",
    "outputId": "1926c900-774e-4f81-8203-35c1a01ecaed"
   },
   "outputs": [],
   "source": [
    "!ls catsdogs/train"
   ]
  },
  {
   "cell_type": "code",
   "execution_count": null,
   "metadata": {
    "id": "s-9k9yO0nSD4"
   },
   "outputs": [],
   "source": [
    "train_generator = keras.preprocessing.image.ImageDataGenerator(rescale=1./255.)\n",
    "test_generator = keras.preprocessing.image.ImageDataGenerator(rescale=1./255.)"
   ]
  },
  {
   "cell_type": "code",
   "execution_count": null,
   "metadata": {
    "colab": {
     "base_uri": "https://localhost:8080/"
    },
    "id": "CWDo0NopoDhH",
    "outputId": "f909d296-e7d5-4773-f132-edf3fbe26e7d"
   },
   "outputs": [],
   "source": [
    "train = train_generator.flow_from_directory('catsdogs/train', target_size=(224, 224), batch_size=32, class_mode='binary')\n",
    "test = test_generator.flow_from_directory('catsdogs/test', target_size=(224, 224), batch_size=32, class_mode='binary')"
   ]
  },
  {
   "cell_type": "code",
   "execution_count": null,
   "metadata": {
    "id": "kWoyClddonBk"
   },
   "outputs": [],
   "source": [
    "i = keras.layers.Input(shape=(224,224,3))\n",
    "o = keras.layers.Conv2D(16, (5,5), strides=(3,3))(i)\n",
    "o = keras.layers.MaxPool2D((2,2))(o)\n",
    "o = keras.layers.ReLU()(o)\n",
    "o = keras.layers.Conv2D(32, (3,3))(o)\n",
    "o = keras.layers.MaxPool2D((2,2))(o)\n",
    "o = keras.layers.ReLU()(o)\n",
    "o = keras.layers.Conv2D(64, (3,3), strides=(1,1))(o)\n",
    "o = keras.layers.MaxPool2D((2,2))(o)\n",
    "o = keras.layers.ReLU()(o)\n",
    "o = keras.layers.Flatten()(o)\n",
    "o = keras.layers.Dense(1, activation='sigmoid')(o)"
   ]
  },
  {
   "cell_type": "code",
   "execution_count": null,
   "metadata": {
    "colab": {
     "base_uri": "https://localhost:8080/"
    },
    "id": "ytS4qGoFprYD",
    "outputId": "06c7885c-d7bf-42a6-a179-b148e327dead"
   },
   "outputs": [],
   "source": [
    "model = keras.Model(inputs=i, outputs=o)\n",
    "model.compile(optimizer='adam', loss='binary_crossentropy', metrics=['accuracy'])\n",
    "model.summary()"
   ]
  },
  {
   "cell_type": "code",
   "execution_count": null,
   "metadata": {
    "colab": {
     "base_uri": "https://localhost:8080/"
    },
    "id": "vRfV-p5gqiOR",
    "outputId": "75cbd0f8-3275-4735-ce9e-9efee627c38a"
   },
   "outputs": [],
   "source": [
    "model.fit(train, epochs=10, validation_data=test)"
   ]
  },
  {
   "cell_type": "markdown",
   "metadata": {
    "id": "TwSgMwmCzDpe"
   },
   "source": [
    "## Добавим Batch Normalization"
   ]
  },
  {
   "cell_type": "code",
   "execution_count": null,
   "metadata": {
    "id": "ZqjJ6f5yrXu_"
   },
   "outputs": [],
   "source": [
    "i = keras.layers.Input(shape=(224,224,3))\n",
    "o = keras.layers.BatchNormalization()(i)\n",
    "o = keras.layers.Conv2D(16, (5,5), strides=(3,3))(o)\n",
    "o = keras.layers.MaxPool2D((2,2))(o)\n",
    "o = keras.layers.ReLU()(o)\n",
    "o = keras.layers.BatchNormalization()(o)\n",
    "o = keras.layers.Conv2D(32, (3,3))(o)\n",
    "o = keras.layers.MaxPool2D((2,2))(o)\n",
    "o = keras.layers.ReLU()(o)\n",
    "o = keras.layers.BatchNormalization()(o)\n",
    "o = keras.layers.Conv2D(64, (3,3), strides=(1,1))(o)\n",
    "o = keras.layers.MaxPool2D((2,2))(o)\n",
    "o = keras.layers.ReLU()(o)\n",
    "o = keras.layers.BatchNormalization()(o)\n",
    "o = keras.layers.Flatten()(o)\n",
    "o = keras.layers.Dense(1, activation='sigmoid')(o)"
   ]
  },
  {
   "cell_type": "code",
   "execution_count": null,
   "metadata": {
    "colab": {
     "base_uri": "https://localhost:8080/"
    },
    "id": "7IuK1MuUzO3S",
    "outputId": "98bb9dbf-660f-4bce-aae1-700fc7af5825"
   },
   "outputs": [],
   "source": [
    "model = keras.Model(inputs=i, outputs=o)\n",
    "model.compile(optimizer='adam', loss='binary_crossentropy', metrics=['accuracy'])\n",
    "model.summary()"
   ]
  },
  {
   "cell_type": "code",
   "execution_count": null,
   "metadata": {
    "colab": {
     "base_uri": "https://localhost:8080/"
    },
    "id": "rVzXs65xzUG5",
    "outputId": "738a7590-9f37-472d-b3a0-c8dac37b5912"
   },
   "outputs": [],
   "source": [
    "model.fit(train, epochs=10, validation_data=test)"
   ]
  },
  {
   "cell_type": "markdown",
   "metadata": {
    "id": "TEnHkIIkz391"
   },
   "source": [
    "## Готовые архитектуры сети"
   ]
  },
  {
   "cell_type": "code",
   "execution_count": null,
   "metadata": {
    "colab": {
     "base_uri": "https://localhost:8080/"
    },
    "id": "3mUDB47W0LOy",
    "outputId": "13508ca4-cd63-4868-8600-a6288ee4adac"
   },
   "outputs": [],
   "source": [
    "train_generator = keras.preprocessing.image.ImageDataGenerator()\n",
    "test_generator = keras.preprocessing.image.ImageDataGenerator()\n",
    "train = train_generator.flow_from_directory('catsdogs/train', target_size=(224, 224), batch_size=32, class_mode='binary')\n",
    "test = test_generator.flow_from_directory('catsdogs/test', target_size=(224, 224), batch_size=32, class_mode='binary')"
   ]
  },
  {
   "cell_type": "code",
   "execution_count": null,
   "metadata": {
    "id": "DOSkeDPj1Jjg"
   },
   "outputs": [],
   "source": [
    "vgg16 = keras.applications.vgg16.VGG16(include_top=False, weights=None)"
   ]
  },
  {
   "cell_type": "code",
   "execution_count": null,
   "metadata": {
    "id": "MpMLz1OU0qFC"
   },
   "outputs": [],
   "source": [
    "i = keras.layers.Input((224, 224, 3), dtype = tf.uint8)\n",
    "o = tf.cast(i, tf.float32)\n",
    "o = keras.applications.vgg16.preprocess_input(o)\n",
    "o = vgg16(o)\n",
    "o = keras.layers.Flatten()(o)\n",
    "o = keras.layers.Dense(1, activation='sigmoid')(o)"
   ]
  },
  {
   "cell_type": "code",
   "execution_count": null,
   "metadata": {
    "colab": {
     "base_uri": "https://localhost:8080/"
    },
    "id": "VxzHjEQC1GEd",
    "outputId": "1638fb31-c16e-48ed-cefa-c7a131b06e2f"
   },
   "outputs": [],
   "source": [
    "model = keras.Model(inputs=i, outputs=o)\n",
    "model.compile(optimizer='adam', loss='binary_crossentropy', metrics=['accuracy'])\n",
    "model.summary()"
   ]
  },
  {
   "cell_type": "code",
   "execution_count": null,
   "metadata": {
    "colab": {
     "base_uri": "https://localhost:8080/"
    },
    "id": "Nf2e_5auIHTB",
    "outputId": "5bb1444f-0ec5-468e-dfc0-7bb5efea865b"
   },
   "outputs": [],
   "source": [
    "vgg16.summary()"
   ]
  },
  {
   "cell_type": "code",
   "execution_count": null,
   "metadata": {
    "colab": {
     "base_uri": "https://localhost:8080/"
    },
    "id": "inpNlDtQ1MLC",
    "outputId": "8e2510b0-b0a1-4cc1-bd56-7baa1f432cf8"
   },
   "outputs": [],
   "source": [
    "model.fit(train, epochs=10, validation_data=test)"
   ]
  },
  {
   "cell_type": "markdown",
   "metadata": {
    "id": "XC1rJIsO2YLm"
   },
   "source": [
    "## Предобученные архитектуры сети"
   ]
  },
  {
   "cell_type": "code",
   "execution_count": null,
   "metadata": {
    "id": "QEGuar3-1R44"
   },
   "outputs": [],
   "source": [
    "vgg16 = keras.applications.vgg16.VGG16(include_top=False, weights=\"imagenet\")"
   ]
  },
  {
   "cell_type": "code",
   "execution_count": null,
   "metadata": {
    "id": "cob7eik-2ciP"
   },
   "outputs": [],
   "source": [
    "i = keras.layers.Input((224, 224, 3), dtype = tf.uint8)\n",
    "o = tf.cast(i, tf.float32)\n",
    "o = keras.applications.vgg16.preprocess_input(o)\n",
    "o = vgg16(o)\n",
    "o = keras.layers.Flatten()(o)\n",
    "o = keras.layers.Dense(1, activation='sigmoid')(o)"
   ]
  },
  {
   "cell_type": "code",
   "execution_count": null,
   "metadata": {
    "id": "JwYFWzKr2ewO"
   },
   "outputs": [],
   "source": [
    "vgg16.trainable = False"
   ]
  },
  {
   "cell_type": "code",
   "execution_count": null,
   "metadata": {
    "colab": {
     "base_uri": "https://localhost:8080/"
    },
    "id": "2krQAUc_2oKu",
    "outputId": "5741bb7e-b84c-4d82-a6ac-f9d0396f5b5d"
   },
   "outputs": [],
   "source": [
    "model = keras.Model(inputs=i, outputs=o)\n",
    "model.compile(optimizer='adam', loss='binary_crossentropy', metrics=['accuracy'])\n",
    "model.summary()"
   ]
  },
  {
   "cell_type": "code",
   "execution_count": null,
   "metadata": {
    "colab": {
     "base_uri": "https://localhost:8080/"
    },
    "id": "fwoZaz9C2rQq",
    "outputId": "95fa0b53-ab82-4d78-cc45-2cd0e68fc734"
   },
   "outputs": [],
   "source": [
    "model.fit(train, epochs=10, validation_data=test)"
   ]
  },
  {
   "cell_type": "code",
   "execution_count": null,
   "metadata": {
    "id": "3x49SyD-2xy7"
   },
   "outputs": [],
   "source": []
  }
 ],
 "metadata": {
  "accelerator": "GPU",
  "colab": {
   "collapsed_sections": [],
   "name": "Разбор НС.ipynb",
   "provenance": []
  },
  "kernelspec": {
   "display_name": "Python 3",
   "language": "python",
   "name": "python3"
  },
  "language_info": {
   "codemirror_mode": {
    "name": "ipython",
    "version": 3
   },
   "file_extension": ".py",
   "mimetype": "text/x-python",
   "name": "python",
   "nbconvert_exporter": "python",
   "pygments_lexer": "ipython3",
   "version": "3.7.6"
  }
 },
 "nbformat": 4,
 "nbformat_minor": 1
}
