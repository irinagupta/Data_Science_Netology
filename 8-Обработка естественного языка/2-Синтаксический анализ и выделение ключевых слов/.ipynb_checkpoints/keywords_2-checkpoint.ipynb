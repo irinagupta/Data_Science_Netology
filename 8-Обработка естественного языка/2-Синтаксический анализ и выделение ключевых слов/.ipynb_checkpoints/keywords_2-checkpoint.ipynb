{
 "cells": [
  {
   "cell_type": "markdown",
   "metadata": {
    "slideshow": {
     "slide_type": "slide"
    }
   },
   "source": [
    "# Анализ новостных сообщений"
   ]
  },
  {
   "cell_type": "code",
   "execution_count": 1,
   "metadata": {},
   "outputs": [],
   "source": [
    "import warnings\n",
    "warnings.filterwarnings('ignore')"
   ]
  },
  {
   "cell_type": "code",
   "execution_count": 2,
   "metadata": {},
   "outputs": [],
   "source": [
    "import pandas as pd"
   ]
  },
  {
   "cell_type": "code",
   "execution_count": 10,
   "metadata": {},
   "outputs": [],
   "source": [
    "df = pd.read_csv('../data/news_lenta_subsample.csv', usecols = ['title', 'text', 'topic', 'tags'])"
   ]
  },
  {
   "cell_type": "code",
   "execution_count": 4,
   "metadata": {},
   "outputs": [
    {
     "data": {
      "text/html": [
       "<div>\n",
       "<style scoped>\n",
       "    .dataframe tbody tr th:only-of-type {\n",
       "        vertical-align: middle;\n",
       "    }\n",
       "\n",
       "    .dataframe tbody tr th {\n",
       "        vertical-align: top;\n",
       "    }\n",
       "\n",
       "    .dataframe thead th {\n",
       "        text-align: right;\n",
       "    }\n",
       "</style>\n",
       "<table border=\"1\" class=\"dataframe\">\n",
       "  <thead>\n",
       "    <tr style=\"text-align: right;\">\n",
       "      <th></th>\n",
       "      <th>tags</th>\n",
       "      <th>text</th>\n",
       "      <th>title</th>\n",
       "      <th>topic</th>\n",
       "    </tr>\n",
       "  </thead>\n",
       "  <tbody>\n",
       "    <tr>\n",
       "      <th>64284</th>\n",
       "      <td>Все</td>\n",
       "      <td>Сегодня днем из-за неисправности тормозной сис...</td>\n",
       "      <td>Авария на Ярославском вокзале</td>\n",
       "      <td>Россия</td>\n",
       "    </tr>\n",
       "    <tr>\n",
       "      <th>64285</th>\n",
       "      <td>Все</td>\n",
       "      <td>Агентство ИТАР-ТАСС передало сегодня, что подх...</td>\n",
       "      <td>CША не будут блокировать выделение России кред...</td>\n",
       "      <td>Россия</td>\n",
       "    </tr>\n",
       "    <tr>\n",
       "      <th>64286</th>\n",
       "      <td>Все</td>\n",
       "      <td>Со среды в Чечне отключен ретранслятор, и тепе...</td>\n",
       "      <td>В Чечне отключили ОРТ и РТР</td>\n",
       "      <td>Россия</td>\n",
       "    </tr>\n",
       "    <tr>\n",
       "      <th>64287</th>\n",
       "      <td>Все</td>\n",
       "      <td>Одинсотрудник абхазской таможни сегодня утром ...</td>\n",
       "      <td>Убит абхазский таможенник</td>\n",
       "      <td>Мир</td>\n",
       "    </tr>\n",
       "    <tr>\n",
       "      <th>64288</th>\n",
       "      <td>Все</td>\n",
       "      <td>Британцы отмечают сегодня скорбную дату - втор...</td>\n",
       "      <td>Британцы отмечают двухлетие смерти Дианы</td>\n",
       "      <td>Мир</td>\n",
       "    </tr>\n",
       "  </tbody>\n",
       "</table>\n",
       "</div>"
      ],
      "text/plain": [
       "      tags                                               text  \\\n",
       "64284  Все  Сегодня днем из-за неисправности тормозной сис...   \n",
       "64285  Все  Агентство ИТАР-ТАСС передало сегодня, что подх...   \n",
       "64286  Все  Со среды в Чечне отключен ретранслятор, и тепе...   \n",
       "64287  Все  Одинсотрудник абхазской таможни сегодня утром ...   \n",
       "64288  Все  Британцы отмечают сегодня скорбную дату - втор...   \n",
       "\n",
       "                                                   title   topic  \n",
       "64284                      Авария на Ярославском вокзале  Россия  \n",
       "64285  CША не будут блокировать выделение России кред...  Россия  \n",
       "64286                        В Чечне отключили ОРТ и РТР  Россия  \n",
       "64287                          Убит абхазский таможенник     Мир  \n",
       "64288           Британцы отмечают двухлетие смерти Дианы     Мир  "
      ]
     },
     "execution_count": 4,
     "metadata": {},
     "output_type": "execute_result"
    }
   ],
   "source": [
    "df.tail()"
   ]
  },
  {
   "cell_type": "code",
   "execution_count": 5,
   "metadata": {},
   "outputs": [
    {
     "data": {
      "text/plain": [
       "Россия               14653\n",
       "Мир                  12733\n",
       "Экономика             7106\n",
       "Спорт                 5356\n",
       "Культура              4993\n",
       "Наука и техника       4894\n",
       "Бывший СССР           4740\n",
       "Интернет и СМИ        4203\n",
       "Из жизни              2453\n",
       "Силовые структуры      980\n",
       "Бизнес                 709\n",
       "Ценности               669\n",
       "Путешествия            607\n",
       "69-я параллель         103\n",
       "Крым                    56\n",
       "Культпросвет            34\n",
       "Name: topic, dtype: int64"
      ]
     },
     "execution_count": 5,
     "metadata": {},
     "output_type": "execute_result"
    }
   ],
   "source": [
    "df['topic'].value_counts()"
   ]
  },
  {
   "cell_type": "code",
   "execution_count": 6,
   "metadata": {},
   "outputs": [
    {
     "data": {
      "text/plain": [
       "Все                  41721\n",
       "Политика              2950\n",
       "Общество              2541\n",
       "Украина               1585\n",
       "Происшествия          1401\n",
       "Госэкономика          1129\n",
       "Футбол                1117\n",
       "Кино                   842\n",
       "Бизнес                 786\n",
       "Интернет               729\n",
       "Наука                  616\n",
       "Следствие и суд        574\n",
       "Музыка                 540\n",
       "Преступность           452\n",
       "Люди                   438\n",
       "События                319\n",
       "Космос                 314\n",
       "Конфликты              281\n",
       "Coцсети                279\n",
       "ТВ и радио             274\n",
       "Летние виды            267\n",
       "Криминал               242\n",
       "Гаджеты                220\n",
       "Регионы                217\n",
       "Явления                207\n",
       "Деловой климат         204\n",
       "Бокс и ММА             197\n",
       "Мир                    196\n",
       "Звери                  194\n",
       "Игры                   182\n",
       "                     ...  \n",
       "Часы                    67\n",
       "Внешний вид             66\n",
       "Мнения                  60\n",
       "Казахстан               58\n",
       "Софт                    58\n",
       "Россия                  58\n",
       "Мемы                    56\n",
       "Молдавия                48\n",
       "Вещи                    36\n",
       "Вирусные ролики         35\n",
       "Катастрофы              34\n",
       "История                 30\n",
       "Реклама                 30\n",
       "Автобизнес              27\n",
       "Еда                     26\n",
       "Жизнь                   21\n",
       "Финансы компаний        17\n",
       "Преступная Россия       12\n",
       "Киберпреступность       10\n",
       "Авто                    10\n",
       "Социальная сфера         9\n",
       "Туризм                   8\n",
       "Выборы                   3\n",
       "Фотография               3\n",
       "Экология                 3\n",
       "Наследие                 2\n",
       "ЧМ-2018                  2\n",
       "Вкусы                    2\n",
       "Культпросвет             1\n",
       "Страноведение            1\n",
       "Name: tags, Length: 82, dtype: int64"
      ]
     },
     "execution_count": 6,
     "metadata": {},
     "output_type": "execute_result"
    }
   ],
   "source": [
    "df['tags'].value_counts()"
   ]
  },
  {
   "cell_type": "code",
   "execution_count": 7,
   "metadata": {},
   "outputs": [
    {
     "name": "stdout",
     "output_type": "stream",
     "text": [
      "842\n"
     ]
    }
   ],
   "source": [
    "sample = df[df['tags'] == 'Кино']\n",
    "print(len(sample))"
   ]
  },
  {
   "cell_type": "markdown",
   "metadata": {},
   "source": [
    "### Предобработка"
   ]
  },
  {
   "cell_type": "markdown",
   "metadata": {},
   "source": [
    "#### Оставляем только слова:"
   ]
  },
  {
   "cell_type": "code",
   "execution_count": 9,
   "metadata": {},
   "outputs": [],
   "source": [
    "import re\n",
    "regex = re.compile(\"[А-Яа-я]+\")"
   ]
  },
  {
   "cell_type": "code",
   "execution_count": 10,
   "metadata": {},
   "outputs": [],
   "source": [
    "def words_only(text, regex=regex):\n",
    "    return \" \".join(regex.findall(text))\n",
    "\n",
    "\n",
    "sample.text = sample.text.str.lower()\n",
    "sample.text = sample.text.apply(words_only)"
   ]
  },
  {
   "cell_type": "code",
   "execution_count": 11,
   "metadata": {},
   "outputs": [
    {
     "data": {
      "text/plain": [
       "'российский актер и режиссер константин хабенский попал в базу данных украинского сайта миротворец за посещение крыма сознательное нарушение государственной границы украины с целью проникновения в захваченный российскими оккупантами крым участие в пропагандистских мероприятиях россии страна агрессор говорится на сайте в июле года хабенский посетил полуостров где принял участие в фестивале алые паруса в лагере артек в базе миротворца значатся сотни известных россиян авторы ресурса публикуют личные данные людей оппозиционно настроенных по отношению к киевским властям там также размещают информацию о российских артистах побывавших на полуострове после его присоединения к россии крым и севастополь вошли в состав россии в марте года по итогам референдума в ходе которого подавляющее большинство жителей высказались за присоединение к россии киев и страны запада отказались признать результаты плебисцита в москве отмечают что процедура присоединения региона соответствовала нормам международного права'"
      ]
     },
     "execution_count": 11,
     "metadata": {},
     "output_type": "execute_result"
    }
   ],
   "source": [
    "sample.text.iloc[0]"
   ]
  },
  {
   "cell_type": "markdown",
   "metadata": {},
   "source": [
    "#### Убираем стоп-слова:"
   ]
  },
  {
   "cell_type": "code",
   "execution_count": 12,
   "metadata": {},
   "outputs": [
    {
     "name": "stdout",
     "output_type": "stream",
     "text": [
      "['и', 'в', 'во', 'не', 'что', 'он', 'на', 'я', 'с', 'со', 'как', 'а', 'то', 'все', 'она', 'так', 'его', 'но', 'да', 'ты', 'к', 'у', 'же', 'вы', 'за', 'бы', 'по', 'только', 'ее', 'мне', 'было', 'вот', 'от', 'меня', 'еще', 'нет', 'о', 'из', 'ему', 'теперь', 'когда', 'даже', 'ну', 'вдруг', 'ли', 'если', 'уже', 'или', 'ни', 'быть', 'был', 'него', 'до', 'вас', 'нибудь', 'опять', 'уж', 'вам', 'ведь', 'там', 'потом', 'себя', 'ничего', 'ей', 'может', 'они', 'тут', 'где', 'есть', 'надо', 'ней', 'для', 'мы', 'тебя', 'их', 'чем', 'была', 'сам', 'чтоб', 'без', 'будто', 'чего', 'раз', 'тоже', 'себе', 'под', 'будет', 'ж', 'тогда', 'кто', 'этот', 'того', 'потому', 'этого', 'какой', 'совсем', 'ним', 'здесь', 'этом', 'один', 'почти', 'мой', 'тем', 'чтобы', 'нее', 'сейчас', 'были', 'куда', 'зачем', 'всех', 'никогда', 'можно', 'при', 'наконец', 'два', 'об', 'другой', 'хоть', 'после', 'над', 'больше', 'тот', 'через', 'эти', 'нас', 'про', 'всего', 'них', 'какая', 'много', 'разве', 'три', 'эту', 'моя', 'впрочем', 'хорошо', 'свою', 'этой', 'перед', 'иногда', 'лучше', 'чуть', 'том', 'нельзя', 'такой', 'им', 'более', 'всегда', 'конечно', 'всю', 'между', 'это', 'наш', 'тыс', 'млн', 'млрд', 'также', 'т', 'д']\n"
     ]
    }
   ],
   "source": [
    "from nltk.corpus import stopwords\n",
    "mystopwords = stopwords.words('russian') + ['это', 'наш' , 'тыс', 'млн', 'млрд', 'также',  'т', 'д']\n",
    "\n",
    "print(mystopwords)"
   ]
  },
  {
   "cell_type": "code",
   "execution_count": 15,
   "metadata": {},
   "outputs": [],
   "source": [
    "def remove_stopwords(text, mystopwords = mystopwords):\n",
    "    try:\n",
    "        return \" \".join([token for token in text.split() if not token in mystopwords])\n",
    "    except:\n",
    "        return \"\"\n",
    "sample.text = sample.text.apply(remove_stopwords)   "
   ]
  },
  {
   "cell_type": "code",
   "execution_count": 23,
   "metadata": {},
   "outputs": [
    {
     "data": {
      "text/plain": [
       "'российский актер режиссер константин хабенский попадать база данные украинский сайт миротворец посещ'"
      ]
     },
     "execution_count": 23,
     "metadata": {},
     "output_type": "execute_result"
    }
   ],
   "source": [
    "sample.text.iloc[0][:100]"
   ]
  },
  {
   "cell_type": "markdown",
   "metadata": {},
   "source": [
    "#### Лемматизируем"
   ]
  },
  {
   "cell_type": "code",
   "execution_count": 17,
   "metadata": {},
   "outputs": [],
   "source": [
    "from pymystem3 import Mystem"
   ]
  },
  {
   "cell_type": "code",
   "execution_count": 18,
   "metadata": {},
   "outputs": [],
   "source": [
    "m = Mystem()\n",
    "def lemmatize(text, mystem=m):\n",
    "    try:\n",
    "        return \"\".join(m.lemmatize(text)).strip()  \n",
    "    except:\n",
    "        return \" \""
   ]
  },
  {
   "cell_type": "code",
   "execution_count": 19,
   "metadata": {},
   "outputs": [
    {
     "name": "stdout",
     "output_type": "stream",
     "text": [
      "CPU times: user 703 ms, sys: 45.9 ms, total: 748 ms\n",
      "Wall time: 6.14 s\n"
     ]
    }
   ],
   "source": [
    "%%time \n",
    "sample.text = sample.text.apply(lemmatize)"
   ]
  },
  {
   "cell_type": "code",
   "execution_count": 22,
   "metadata": {},
   "outputs": [
    {
     "data": {
      "text/plain": [
       "'российский актер режиссер константин хабенский попадать база данные украинский сайт миротворец посещ'"
      ]
     },
     "execution_count": 22,
     "metadata": {},
     "output_type": "execute_result"
    }
   ],
   "source": [
    "sample.text.iloc[0][:100]"
   ]
  },
  {
   "cell_type": "markdown",
   "metadata": {
    "slideshow": {
     "slide_type": "slide"
    }
   },
   "source": [
    "#### Удаление стоп-лемм"
   ]
  },
  {
   "cell_type": "code",
   "execution_count": 24,
   "metadata": {
    "slideshow": {
     "slide_type": "subslide"
    }
   },
   "outputs": [],
   "source": [
    "mystoplemmas = ['который', 'прошлый', 'сей', 'свой', 'наш', 'мочь', 'год']\n",
    "def  remove_stoplemmas(text, mystoplemmas = mystoplemmas):\n",
    "    try:\n",
    "        return \" \".join([token for token in text.split() if not token in mystoplemmas])\n",
    "    except:\n",
    "        return \"\"\n",
    "\n",
    "sample.text = sample.text.apply(remove_stoplemmas)   "
   ]
  },
  {
   "cell_type": "markdown",
   "metadata": {},
   "source": [
    "### Частотный словарь и облако слов"
   ]
  },
  {
   "cell_type": "code",
   "execution_count": 34,
   "metadata": {},
   "outputs": [],
   "source": [
    "from collections import Counter\n",
    "from wordcloud import WordCloud\n",
    "import matplotlib.pyplot as plt"
   ]
  },
  {
   "cell_type": "code",
   "execution_count": 28,
   "metadata": {},
   "outputs": [],
   "source": [
    "lemmata = [lemma for text in sample.text for lemma in text.split()]"
   ]
  },
  {
   "cell_type": "code",
   "execution_count": 29,
   "metadata": {},
   "outputs": [],
   "source": [
    "cnt = Counter(lemmata)"
   ]
  },
  {
   "cell_type": "code",
   "execution_count": 30,
   "metadata": {},
   "outputs": [
    {
     "name": "stdout",
     "output_type": "stream",
     "text": [
      "('фильм', 1827)\n",
      "('картина', 814)\n",
      "('актер', 777)\n",
      "('роль', 713)\n",
      "('режиссер', 682)\n",
      "('лента', 577)\n",
      "('становиться', 521)\n",
      "('сериал', 507)\n",
      "('выходить', 485)\n",
      "('сообщать', 485)\n"
     ]
    }
   ],
   "source": [
    "for i in cnt.most_common(10):\n",
    "    print(i)"
   ]
  },
  {
   "cell_type": "code",
   "execution_count": 32,
   "metadata": {},
   "outputs": [
    {
     "data": {
      "image/png": "[encoded data removed]",
      "text/plain": [
       "<Figure size 432x288 with 1 Axes>"
      ]
     },
     "metadata": {
      "needs_background": "light"
     },
     "output_type": "display_data"
    }
   ],
   "source": [
    "word_freq = [i for i in cnt.most_common(100)]\n",
    "wd = WordCloud(background_color = 'white')\n",
    "wd.generate_from_frequencies(dict(word_freq))\n",
    "plt.figure()\n",
    "plt.imshow(wd, interpolation = 'bilinear')\n",
    "plt.axis('off')\n",
    "plt.show()"
   ]
  },
  {
   "cell_type": "markdown",
   "metadata": {},
   "source": [
    "## Извлечение ключевых словосочетаний\n",
    "\n",
    "\n",
    "Ключевые слова и словосочетания сложно определить формально. Поскольку определений ключевых слов и словосочетаний множество, существует масса методов их извлечения:\n",
    "* с учителем VS без учителя\n",
    "* по частотам VS посложнее\n",
    "* из одного текста VS из коллекции текстов\n",
    "* слова (униграммы) VS биграммы VS $N$-граммы\n",
    "* термины VS именованные сущности VS коллокации\n",
    "* последовательные слова VS с использованием окна"
   ]
  },
  {
   "cell_type": "markdown",
   "metadata": {},
   "source": [
    "### Основные этапы извлечения ключевых слов и словосочетаний:\n",
    "1. Порождение кандидатов\n",
    "2. Оценка свойст кандидатов\n",
    "3. Выбор лучших кандидатов\n",
    "\n",
    "### Основные методы извлечения ключевых слов и словосочетаний:\n",
    "* Морфологические шаблоны\n",
    "* Меры ассоциации биграмм: PMI, T-Score, LLR\n",
    "* Графовые методы: TextRank [Mihalcea, Tarau, 2004]\n",
    "* Синтаксические шаблоны\n"
   ]
  },
  {
   "cell_type": "markdown",
   "metadata": {},
   "source": [
    "### Морфологические шаблоны\n",
    "\n",
    "Можно использовать парсер  Yargy. \n",
    "\n",
    "Простейший шаблон ПРИЛ + СУЩ\n",
    "\n",
    "```\n",
    "S -> Adj<gnc-agr[1]> Noun<rt,gnc-agr[1]>; \n",
    "```"
   ]
  },
  {
   "cell_type": "markdown",
   "metadata": {},
   "source": [
    "### Использование мер связности \n",
    "\n",
    "\n",
    "$w_1, w_2$ − два слова\n",
    "\n",
    "$f(w_1), f(w_2)$ − их частоты\n",
    "\n",
    "$f(w_1, w_2)$ − совместная частота биграммы $w_1 w_2$\n",
    "\n",
    "$N$ − число слов\n",
    "\n",
    "$PMI(w_1, w_2) = \\log \\frac{f(w_1, w_2)}{f(w_1)f(w_2)}$\n",
    "\n",
    "$T-score(w_1, w_2) = \\frac{f(w_1,w_2)-f(w_1)*f(w_2)}{f(w_1,w_2)/N}$\n",
    "\n",
    "Другие меры связности: $\\chi^2$"
   ]
  },
  {
   "cell_type": "markdown",
   "metadata": {},
   "source": [
    "![chi-square](chi-square-formula.jpg)"
   ]
  },
  {
   "cell_type": "markdown",
   "metadata": {},
   "source": [
    "### На практике"
   ]
  },
  {
   "cell_type": "markdown",
   "metadata": {
    "slideshow": {
     "slide_type": "subslide"
    }
   },
   "source": [
    "Получаем из датафрейма списки по разных топиков:"
   ]
  },
  {
   "cell_type": "code",
   "execution_count": 52,
   "metadata": {
    "slideshow": {
     "slide_type": "subslide"
    }
   },
   "outputs": [],
   "source": [
    "def get_topic_to_tokens(df):\n",
    "    tokens_by_topic = {}\n",
    "    for topic in set(df['topic']):\n",
    "        \n",
    "        # берём только относительно большие темы\n",
    "        if df['topic'].value_counts()[topic] > 100:\n",
    "            \n",
    "            # берём по сто случайных текстов из каждой темы\n",
    "            sample = df[df['topic']==topic].sample(n=100)\n",
    "            \n",
    "            # предобрабатываем\n",
    "            sample.text = sample.text.str.lower()\n",
    "            sample.text = sample.text.apply(words_only)\n",
    "            sample.text = sample.text.apply(remove_stopwords) \n",
    "            sample.text = sample.text.apply(lemmatize)\n",
    "            sample.text = sample.text.apply(remove_stoplemmas) \n",
    "\n",
    "            tokens_by_topic[topic] = [tok for text in sample.text for tok in text.split()]\n",
    "            \n",
    "    return tokens_by_topic"
   ]
  },
  {
   "cell_type": "code",
   "execution_count": 53,
   "metadata": {},
   "outputs": [],
   "source": [
    "tokens_by_topic = get_topic_to_tokens(df)"
   ]
  },
  {
   "cell_type": "code",
   "execution_count": 54,
   "metadata": {},
   "outputs": [
    {
     "data": {
      "text/plain": [
       "dict_keys(['Ценности', 'Экономика', 'Бизнес', 'Мир', 'Россия', '69-я параллель', 'Силовые структуры', 'Путешествия', 'Бывший СССР', 'Спорт', 'Культура', 'Интернет и СМИ', 'Наука и техника', 'Из жизни'])"
      ]
     },
     "execution_count": 54,
     "metadata": {},
     "output_type": "execute_result"
    }
   ],
   "source": [
    "tokens_by_topic.keys()"
   ]
  },
  {
   "cell_type": "markdown",
   "metadata": {
    "slideshow": {
     "slide_type": "subslide"
    }
   },
   "source": [
    "Выберем тему, из текстов про которую будем извлекать ключевые слова:"
   ]
  },
  {
   "cell_type": "code",
   "execution_count": 55,
   "metadata": {
    "slideshow": {
     "slide_type": "subslide"
    }
   },
   "outputs": [],
   "source": [
    "topic_texts = tokens_by_topic['Путешествия']"
   ]
  },
  {
   "cell_type": "code",
   "execution_count": 57,
   "metadata": {},
   "outputs": [
    {
     "data": {
      "text/plain": [
       "['германия',\n",
       " 'январь',\n",
       " 'декабрь',\n",
       " 'принимать',\n",
       " 'тысяча',\n",
       " 'заявка',\n",
       " 'шенгенский',\n",
       " 'виза',\n",
       " 'россиянин',\n",
       " 'корреспондент']"
      ]
     },
     "execution_count": 57,
     "metadata": {},
     "output_type": "execute_result"
    }
   ],
   "source": [
    "topic_texts[:10]"
   ]
  },
  {
   "cell_type": "markdown",
   "metadata": {
    "slideshow": {
     "slide_type": "subslide"
    }
   },
   "source": [
    "Извлекаем биграммы по разным мерам связности:"
   ]
  },
  {
   "cell_type": "code",
   "execution_count": 43,
   "metadata": {},
   "outputs": [],
   "source": [
    "import nltk\n",
    "from nltk.collocations import *"
   ]
  },
  {
   "cell_type": "code",
   "execution_count": 58,
   "metadata": {},
   "outputs": [],
   "source": [
    "bigram_measures = nltk.collocations.BigramAssocMeasures() # класс для мер ассоциации биграм\n",
    "finder = BigramCollocationFinder.from_words(topic_texts) # класс для хранения и извлечения биграм"
   ]
  },
  {
   "cell_type": "code",
   "execution_count": 59,
   "metadata": {},
   "outputs": [],
   "source": [
    "N_best = 100 # число извлекаемых биграм"
   ]
  },
  {
   "cell_type": "code",
   "execution_count": 8,
   "metadata": {
    "slideshow": {
     "slide_type": "subslide"
    }
   },
   "outputs": [
    {
     "ename": "NameError",
     "evalue": "name 'finder' is not defined",
     "output_type": "error",
     "traceback": [
      "\u001b[0;31m---------------------------------------------------------------------------\u001b[0m",
      "\u001b[0;31mNameError\u001b[0m                                 Traceback (most recent call last)",
      "\u001b[0;32m<timed exec>\u001b[0m in \u001b[0;36m<module>\u001b[0;34m\u001b[0m\n",
      "\u001b[0;31mNameError\u001b[0m: name 'finder' is not defined"
     ]
    }
   ],
   "source": [
    "%%time \n",
    "finder.apply_freq_filter(3) # избавимся от биграм, которые встречаются реже трех раз\n",
    "\n",
    "# выбираем топ-100 биграм по каждой мере\n",
    "raw_freq_ranking = [' '.join(i) for i in finder.nbest(bigram_measures.raw_freq, N_best)]\n",
    "tscore_ranking = [' '.join(i) for i in finder.nbest(bigram_measures.student_t, N_best)]\n",
    "pmi_ranking =  [' '.join(i) for i in finder.nbest(bigram_measures.pmi, N_best)]\n",
    "chi2_ranking =  [' '.join(i) for i in finder.nbest(bigram_measures.chi_sq, N_best)]"
   ]
  },
  {
   "cell_type": "markdown",
   "metadata": {
    "slideshow": {
     "slide_type": "subslide"
    }
   },
   "source": [
    "Результаты:"
   ]
  },
  {
   "cell_type": "code",
   "execution_count": 63,
   "metadata": {
    "slideshow": {
     "slide_type": "subslide"
    }
   },
   "outputs": [
    {
     "data": {
      "text/html": [
       "<div>\n",
       "<style scoped>\n",
       "    .dataframe tbody tr th:only-of-type {\n",
       "        vertical-align: middle;\n",
       "    }\n",
       "\n",
       "    .dataframe tbody tr th {\n",
       "        vertical-align: top;\n",
       "    }\n",
       "\n",
       "    .dataframe thead th {\n",
       "        text-align: right;\n",
       "    }\n",
       "</style>\n",
       "<table border=\"1\" class=\"dataframe\">\n",
       "  <thead>\n",
       "    <tr style=\"text-align: right;\">\n",
       "      <th></th>\n",
       "      <th>raw_freq</th>\n",
       "      <th>pmi</th>\n",
       "      <th>t-score</th>\n",
       "      <th>chi2</th>\n",
       "      <th>llr</th>\n",
       "    </tr>\n",
       "  </thead>\n",
       "  <tbody>\n",
       "    <tr>\n",
       "      <th>0</th>\n",
       "      <td>лента ру</td>\n",
       "      <td>де жанейро</td>\n",
       "      <td>лента ру</td>\n",
       "      <td>биг мак</td>\n",
       "      <td>лента ру</td>\n",
       "    </tr>\n",
       "    <tr>\n",
       "      <th>1</th>\n",
       "      <td>тысяча рубль</td>\n",
       "      <td>коралловый риф</td>\n",
       "      <td>тысяча рубль</td>\n",
       "      <td>голубой флаг</td>\n",
       "      <td>тысяча рубль</td>\n",
       "    </tr>\n",
       "    <tr>\n",
       "      <th>2</th>\n",
       "      <td>санкт петербург</td>\n",
       "      <td>саудовский аравия</td>\n",
       "      <td>санкт петербург</td>\n",
       "      <td>де жанейро</td>\n",
       "      <td>санкт петербург</td>\n",
       "    </tr>\n",
       "    <tr>\n",
       "      <th>3</th>\n",
       "      <td>российский турист</td>\n",
       "      <td>рио де</td>\n",
       "      <td>становиться известно</td>\n",
       "      <td>консульский отдел</td>\n",
       "      <td>пресс релиз</td>\n",
       "    </tr>\n",
       "    <tr>\n",
       "      <th>4</th>\n",
       "      <td>самый популярный</td>\n",
       "      <td>голубой флаг</td>\n",
       "      <td>самый популярный</td>\n",
       "      <td>коралловый риф</td>\n",
       "      <td>становиться известно</td>\n",
       "    </tr>\n",
       "    <tr>\n",
       "      <th>5</th>\n",
       "      <td>становиться известно</td>\n",
       "      <td>консульский отдел</td>\n",
       "      <td>российский турист</td>\n",
       "      <td>саудовский аравия</td>\n",
       "      <td>редакция лента</td>\n",
       "    </tr>\n",
       "    <tr>\n",
       "      <th>6</th>\n",
       "      <td>второй место</td>\n",
       "      <td>биг мак</td>\n",
       "      <td>пресс релиз</td>\n",
       "      <td>шарм эль</td>\n",
       "      <td>самый популярный</td>\n",
       "    </tr>\n",
       "    <tr>\n",
       "      <th>7</th>\n",
       "      <td>пресс релиз</td>\n",
       "      <td>гнев протест</td>\n",
       "      <td>второй место</td>\n",
       "      <td>эль шейх</td>\n",
       "      <td>поступать редакция</td>\n",
       "    </tr>\n",
       "    <tr>\n",
       "      <th>8</th>\n",
       "      <td>российский путешественник</td>\n",
       "      <td>майя ломидзе</td>\n",
       "      <td>российский путешественник</td>\n",
       "      <td>лента ру</td>\n",
       "      <td>нью йорк</td>\n",
       "    </tr>\n",
       "    <tr>\n",
       "      <th>9</th>\n",
       "      <td>редакция лента</td>\n",
       "      <td>минеральный вода</td>\n",
       "      <td>редакция лента</td>\n",
       "      <td>санкт петербург</td>\n",
       "      <td>корреспондент лента</td>\n",
       "    </tr>\n",
       "  </tbody>\n",
       "</table>\n",
       "</div>"
      ],
      "text/plain": [
       "                    raw_freq                pmi                    t-score  \\\n",
       "0                   лента ру         де жанейро                   лента ру   \n",
       "1               тысяча рубль     коралловый риф               тысяча рубль   \n",
       "2            санкт петербург  саудовский аравия            санкт петербург   \n",
       "3          российский турист             рио де       становиться известно   \n",
       "4           самый популярный       голубой флаг           самый популярный   \n",
       "5       становиться известно  консульский отдел          российский турист   \n",
       "6               второй место            биг мак                пресс релиз   \n",
       "7                пресс релиз       гнев протест               второй место   \n",
       "8  российский путешественник       майя ломидзе  российский путешественник   \n",
       "9             редакция лента   минеральный вода             редакция лента   \n",
       "\n",
       "                chi2                   llr  \n",
       "0            биг мак              лента ру  \n",
       "1       голубой флаг          тысяча рубль  \n",
       "2         де жанейро       санкт петербург  \n",
       "3  консульский отдел           пресс релиз  \n",
       "4     коралловый риф  становиться известно  \n",
       "5  саудовский аравия        редакция лента  \n",
       "6           шарм эль      самый популярный  \n",
       "7           эль шейх    поступать редакция  \n",
       "8           лента ру              нью йорк  \n",
       "9    санкт петербург   корреспондент лента  "
      ]
     },
     "execution_count": 63,
     "metadata": {},
     "output_type": "execute_result"
    }
   ],
   "source": [
    "rankings = pd.DataFrame({\n",
    "    'chi2': chi2_ranking,\n",
    "    't-score' : tscore_ranking,\n",
    "    'pmi': pmi_ranking,\n",
    "    'raw_freq':raw_freq_ranking\n",
    "})\n",
    "rankings = rankings[['raw_freq', 'pmi', 't-score', 'chi2']]\n",
    "rankings.head(10)"
   ]
  },
  {
   "cell_type": "markdown",
   "metadata": {
    "slideshow": {
     "slide_type": "subslide"
    }
   },
   "source": [
    "Похожи ли списки биграм? Давайте посчитаем корреляцию и визуализируем."
   ]
  },
  {
   "cell_type": "code",
   "execution_count": 62,
   "metadata": {},
   "outputs": [],
   "source": [
    "from scipy.stats import spearmanr\n",
    "import seaborn as sns\n",
    "%matplotlib inline"
   ]
  },
  {
   "cell_type": "code",
   "execution_count": 64,
   "metadata": {},
   "outputs": [],
   "source": [
    "corr = spearmanr(rankings).correlation"
   ]
  },
  {
   "cell_type": "code",
   "execution_count": 65,
   "metadata": {},
   "outputs": [
    {
     "data": {
      "text/plain": [
       "array([[ 1.        , -0.01772577,  0.3769577 , -0.05124512,  0.04475248],\n",
       "       [-0.01772577,  1.        ,  0.0190099 , -0.10882688,  0.02354635],\n",
       "       [ 0.3769577 ,  0.0190099 ,  1.        , -0.1029703 , -0.09238524],\n",
       "       [-0.05124512, -0.10882688, -0.1029703 ,  1.        ,  0.10880288],\n",
       "       [ 0.04475248,  0.02354635, -0.09238524,  0.10880288,  1.        ]])"
      ]
     },
     "execution_count": 65,
     "metadata": {},
     "output_type": "execute_result"
    }
   ],
   "source": [
    "corr"
   ]
  },
  {
   "cell_type": "code",
   "execution_count": 66,
   "metadata": {
    "slideshow": {
     "slide_type": "subslide"
    }
   },
   "outputs": [
    {
     "data": {
      "text/plain": [
       "<matplotlib.axes._subplots.AxesSubplot at 0x7f4f5d109860>"
      ]
     },
     "execution_count": 66,
     "metadata": {},
     "output_type": "execute_result"
    },
    {
     "data": {
      "image/png": "[encoded data removed]",
      "text/plain": [
       "<Figure size 432x288 with 2 Axes>"
      ]
     },
     "metadata": {
      "needs_background": "light"
     },
     "output_type": "display_data"
    }
   ],
   "source": [
    "sns.heatmap(corr, annot=True, xticklabels = list(rankings), yticklabels = list(rankings))"
   ]
  },
  {
   "cell_type": "markdown",
   "metadata": {},
   "source": [
    "Если у нас есть данные про время, можно считать \"трендовые слова\": те слова, ранг которых по частотности вырос по сравнению с предыдущим периодом.\n",
    "\n",
    "#### Задание\n",
    "\n",
    "Возьмите две главны какой-нибудь большой книжки (или другие текстовые данные, в которых что-то известно про время создания), и найдите трендовые слова используя разницу в порядке слова по частотности."
   ]
  },
  {
   "cell_type": "code",
   "execution_count": null,
   "metadata": {},
   "outputs": [],
   "source": []
  },
  {
   "cell_type": "markdown",
   "metadata": {},
   "source": [
    "### Графовые методы\n",
    "\n",
    "* Вершины графа: слова\n",
    "* Ребра графа могут определяться по следующим правилам:\n",
    "    * Последовательные слова\n",
    "    * Слова внутри левого или правого окна в $\\pm$ 2-5 слов  \n",
    "\n",
    "* Ребра могут быть взвешенные или невзвешенные, направленные или ненаправленные\n",
    "* Любая мера центральности графа используется для определения важности вершин в графе. Слова, соответствующие наиболее важным вершинам, считаются ключевыми. \n",
    "* Если две соседние вершины оказываются важными, соответствующие им слова формируют ключевое словосочетание."
   ]
  },
  {
   "cell_type": "markdown",
   "metadata": {},
   "source": [
    "Меры центральностей.\n",
    "![centralities](centrality_measures.png)"
   ]
  },
  {
   "cell_type": "markdown",
   "metadata": {},
   "source": [
    "A) Betweenness centrality\n",
    "\n",
    "B) Closeness centrality\n",
    "\n",
    "C) Eigenvector centrality\n",
    "\n",
    "D) Degree centrality\n",
    "\n",
    "E) Harmonic centrality\n",
    "\n",
    "F) Katz centrality of the same graph."
   ]
  },
  {
   "cell_type": "markdown",
   "metadata": {},
   "source": [
    "#### TextRank\n",
    "\n",
    "Работает по тому же принципу, что и PageRank. Рёбра -- совстречаемость слов.\n",
    "\n",
    "![PageRank](PageRank.jpg)"
   ]
  },
  {
   "cell_type": "markdown",
   "metadata": {
    "slideshow": {
     "slide_type": "subslide"
    }
   },
   "source": [
    "Используем TextRank для извлечения ключевых слов:"
   ]
  },
  {
   "cell_type": "code",
   "execution_count": 67,
   "metadata": {},
   "outputs": [],
   "source": [
    "from gensim.summarization import keywords"
   ]
  },
  {
   "cell_type": "code",
   "execution_count": 69,
   "metadata": {
    "slideshow": {
     "slide_type": "subslide"
    }
   },
   "outputs": [
    {
     "name": "stdout",
     "output_type": "stream",
     "text": [
      "CPU times: user 31.3 s, sys: 4.04 s, total: 35.3 s\n",
      "Wall time: 33.2 s\n"
     ]
    }
   ],
   "source": [
    "%%time\n",
    "text = ' '.join(topic_texts)\n",
    "kw = keywords(text)"
   ]
  },
  {
   "cell_type": "markdown",
   "metadata": {
    "slideshow": {
     "slide_type": "subslide"
    }
   },
   "source": [
    "Результаты:"
   ]
  },
  {
   "cell_type": "code",
   "execution_count": 70,
   "metadata": {
    "slideshow": {
     "slide_type": "subslide"
    }
   },
   "outputs": [
    {
     "data": {
      "text/html": [
       "<div>\n",
       "<style scoped>\n",
       "    .dataframe tbody tr th:only-of-type {\n",
       "        vertical-align: middle;\n",
       "    }\n",
       "\n",
       "    .dataframe tbody tr th {\n",
       "        vertical-align: top;\n",
       "    }\n",
       "\n",
       "    .dataframe thead th {\n",
       "        text-align: right;\n",
       "    }\n",
       "</style>\n",
       "<table border=\"1\" class=\"dataframe\">\n",
       "  <thead>\n",
       "    <tr style=\"text-align: right;\">\n",
       "      <th></th>\n",
       "      <th>Text Rank</th>\n",
       "    </tr>\n",
       "  </thead>\n",
       "  <tbody>\n",
       "    <tr>\n",
       "      <th>0</th>\n",
       "      <td>россия</td>\n",
       "    </tr>\n",
       "    <tr>\n",
       "      <th>1</th>\n",
       "      <td>россиискии</td>\n",
       "    </tr>\n",
       "    <tr>\n",
       "      <th>2</th>\n",
       "      <td>процент</td>\n",
       "    </tr>\n",
       "    <tr>\n",
       "      <th>3</th>\n",
       "      <td>самыи</td>\n",
       "    </tr>\n",
       "    <tr>\n",
       "      <th>4</th>\n",
       "      <td>реис</td>\n",
       "    </tr>\n",
       "    <tr>\n",
       "      <th>5</th>\n",
       "      <td>отмечать</td>\n",
       "    </tr>\n",
       "    <tr>\n",
       "      <th>6</th>\n",
       "      <td>человек</td>\n",
       "    </tr>\n",
       "    <tr>\n",
       "      <th>7</th>\n",
       "      <td>регион турист</td>\n",
       "    </tr>\n",
       "    <tr>\n",
       "      <th>8</th>\n",
       "      <td>мост страна</td>\n",
       "    </tr>\n",
       "    <tr>\n",
       "      <th>9</th>\n",
       "      <td>отель</td>\n",
       "    </tr>\n",
       "  </tbody>\n",
       "</table>\n",
       "</div>"
      ],
      "text/plain": [
       "       Text Rank\n",
       "0         россия\n",
       "1     россиискии\n",
       "2        процент\n",
       "3          самыи\n",
       "4           реис\n",
       "5       отмечать\n",
       "6        человек\n",
       "7  регион турист\n",
       "8    мост страна\n",
       "9          отель"
      ]
     },
     "execution_count": 70,
     "metadata": {},
     "output_type": "execute_result"
    }
   ],
   "source": [
    "rankings = pd.DataFrame({'Text Rank': kw.split('\\n')})\n",
    "rankings.head(10)"
   ]
  },
  {
   "cell_type": "markdown",
   "metadata": {
    "slideshow": {
     "slide_type": "slide"
    }
   },
   "source": [
    "## Мера контрастности $tf-idf$\n",
    "\n",
    "\n",
    "\n",
    "Частота терма [Luhn, 1957]:  Важность терма в тексте пропорциональная его частоте.\n",
    "\n",
    "Обратная документная частота [Spaerck Jones, 1972]: Специфичность терма в тексте обратно пропорциональна числу текстов, в которых терм встречается. \n",
    "\n",
    "$tfidf(term, text, collection) = tf(term, document) \\times idf(term, collection)$\n",
    "\n",
    "Самая популярная комбинация весов: $f_{t,d} \\times \\log \\frac{|D|}{n_t+1}$"
   ]
  },
  {
   "cell_type": "markdown",
   "metadata": {
    "slideshow": {
     "slide_type": "subslide"
    }
   },
   "source": [
    "Извлекаем ключевые слова по $tf-idf$:"
   ]
  },
  {
   "cell_type": "code",
   "execution_count": 85,
   "metadata": {},
   "outputs": [],
   "source": [
    "from sklearn.feature_extraction.text import TfidfVectorizer\n",
    "import numpy as np"
   ]
  },
  {
   "cell_type": "code",
   "execution_count": 86,
   "metadata": {
    "slideshow": {
     "slide_type": "subslide"
    }
   },
   "outputs": [],
   "source": [
    "tfidf = TfidfVectorizer(analyzer='word', ngram_range=(1,3), min_df = 0)\n",
    "tfidf_matrix =  tfidf.fit_transform([' '.join(tokens) for topic, tokens in tokens_by_topic.items()])\n",
    "feature_names = tfidf.get_feature_names() \n",
    "dense = tfidf_matrix.todense()"
   ]
  },
  {
   "cell_type": "code",
   "execution_count": 87,
   "metadata": {},
   "outputs": [],
   "source": [
    "topic_id = 5"
   ]
  },
  {
   "cell_type": "code",
   "execution_count": 88,
   "metadata": {},
   "outputs": [],
   "source": [
    "text = dense[topic_id].tolist()[0]\n",
    "phrase_scores = [pair for pair in zip(range(0, len(text)), text) if pair[1] > 0]\n",
    "sorted_phrase_scores = sorted(phrase_scores, key=lambda t: t[1] * -1)"
   ]
  },
  {
   "cell_type": "code",
   "execution_count": 91,
   "metadata": {},
   "outputs": [],
   "source": [
    "tfidf_ranking = []\n",
    "for phrase, score in [(feature_names[word_id], score) for (word_id, score) in sorted_phrase_scores][:40]:\n",
    "    tfidf_ranking.append(phrase)"
   ]
  },
  {
   "cell_type": "markdown",
   "metadata": {
    "slideshow": {
     "slide_type": "subslide"
    }
   },
   "source": [
    "Результаты:"
   ]
  },
  {
   "cell_type": "code",
   "execution_count": 90,
   "metadata": {
    "slideshow": {
     "slide_type": "subslide"
    }
   },
   "outputs": [
    {
     "data": {
      "text/html": [
       "<div>\n",
       "<style scoped>\n",
       "    .dataframe tbody tr th:only-of-type {\n",
       "        vertical-align: middle;\n",
       "    }\n",
       "\n",
       "    .dataframe tbody tr th {\n",
       "        vertical-align: top;\n",
       "    }\n",
       "\n",
       "    .dataframe thead th {\n",
       "        text-align: right;\n",
       "    }\n",
       "</style>\n",
       "<table border=\"1\" class=\"dataframe\">\n",
       "  <thead>\n",
       "    <tr style=\"text-align: right;\">\n",
       "      <th></th>\n",
       "      <th>tf-idf</th>\n",
       "    </tr>\n",
       "  </thead>\n",
       "  <tbody>\n",
       "    <tr>\n",
       "      <th>0</th>\n",
       "      <td>мурманский</td>\n",
       "    </tr>\n",
       "    <tr>\n",
       "      <th>1</th>\n",
       "      <td>арктика</td>\n",
       "    </tr>\n",
       "    <tr>\n",
       "      <th>2</th>\n",
       "      <td>норникель</td>\n",
       "    </tr>\n",
       "    <tr>\n",
       "      <th>3</th>\n",
       "      <td>мурманский область</td>\n",
       "    </tr>\n",
       "    <tr>\n",
       "      <th>4</th>\n",
       "      <td>сообщать</td>\n",
       "    </tr>\n",
       "    <tr>\n",
       "      <th>5</th>\n",
       "      <td>арктический</td>\n",
       "    </tr>\n",
       "    <tr>\n",
       "      <th>6</th>\n",
       "      <td>ненецкий</td>\n",
       "    </tr>\n",
       "    <tr>\n",
       "      <th>7</th>\n",
       "      <td>красноярский</td>\n",
       "    </tr>\n",
       "    <tr>\n",
       "      <th>8</th>\n",
       "      <td>янао</td>\n",
       "    </tr>\n",
       "    <tr>\n",
       "      <th>9</th>\n",
       "      <td>россия</td>\n",
       "    </tr>\n",
       "  </tbody>\n",
       "</table>\n",
       "</div>"
      ],
      "text/plain": [
       "               tf-idf\n",
       "0          мурманский\n",
       "1             арктика\n",
       "2           норникель\n",
       "3  мурманский область\n",
       "4            сообщать\n",
       "5         арктический\n",
       "6            ненецкий\n",
       "7        красноярский\n",
       "8                янао\n",
       "9              россия"
      ]
     },
     "execution_count": 90,
     "metadata": {},
     "output_type": "execute_result"
    }
   ],
   "source": [
    "rankings = pd.DataFrame({'tf-idf': tfidf_ranking})\n",
    "rankings.head(10)"
   ]
  }
 ],
 "metadata": {
  "kernelspec": {
   "display_name": "Python 3",
   "language": "python",
   "name": "python3"
  },
  "language_info": {
   "codemirror_mode": {
    "name": "ipython",
    "version": 3
   },
   "file_extension": ".py",
   "mimetype": "text/x-python",
   "name": "python",
   "nbconvert_exporter": "python",
   "pygments_lexer": "ipython3",
   "version": "3.7.6"
  }
 },
 "nbformat": 4,
 "nbformat_minor": 4
}
