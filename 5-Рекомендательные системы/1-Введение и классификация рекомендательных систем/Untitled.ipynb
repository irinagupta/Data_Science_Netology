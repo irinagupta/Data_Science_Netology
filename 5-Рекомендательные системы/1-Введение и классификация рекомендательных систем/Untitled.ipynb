{
 "cells": [
  {
   "cell_type": "code",
   "execution_count": null,
   "metadata": {},
   "outputs": [],
   "source": [
    "pip uninstall pynput"
   ]
  },
  {
   "cell_type": "code",
   "execution_count": null,
   "metadata": {},
   "outputs": [],
   "source": [
    "from pynput.keyboard import Key, Controller\n",
    "import time"
   ]
  },
  {
   "cell_type": "code",
   "execution_count": null,
   "metadata": {},
   "outputs": [],
   "source": [
    "keyboard = Controller()\n",
    "running = 0\n",
    "\n",
    "\n",
    "print(\"Click now!\")\n",
    "print(\"Starting in:\")\n",
    "print(\"3\")\n",
    "time.sleep(1)\n",
    "print(\"2\")\n",
    "time.sleep(1)\n",
    "print(\"1\")\n",
    "time.sleep(1)\n",
    "running = 1\n",
    "\n",
    "if running == 1:\n",
    "    print(\"Program has started successfully and is typing!\")\n",
    "else:\n",
    "    print(\"An error occured preventing the program from starting.\")\n",
    "\n",
    "\n",
    "while running == 1:\n",
    "    for char in \" \":\n",
    "        keyboard.press(char)\n",
    "        keyboard.release(char)\n",
    "        time.sleep(0.12)\n",
    "\n",
    "    keyboard.press(Key.enter)\n",
    "    keyboard.release(Key.enter)\n",
    "\n",
    "    time.sleep(0.5)\n",
    "\n",
    "    for char in \" \":\n",
    "        keyboard.press(char)\n",
    "        keyboard.release(char)\n",
    "        time.sleep(0.12)\n",
    "\n",
    "    keyboard.press(Key.enter)\n",
    "    keyboard.release(Key.enter)\n",
    "\n",
    "    time.sleep(0.5)\n",
    "\n",
    "    for char in \" \":\n",
    "        keyboard.press(char)\n",
    "        keyboard.release(char)\n",
    "        time.sleep(0.12)\n",
    "\n",
    "    keyboard.press(Key.enter)\n",
    "    keyboard.release(Key.enter)\n",
    "\n",
    "    time.sleep(60)"
   ]
  }
 ],
 "metadata": {
  "kernelspec": {
   "display_name": "Python 3",
   "language": "python",
   "name": "python3"
  },
  "language_info": {
   "codemirror_mode": {
    "name": "ipython",
    "version": 3
   },
   "file_extension": ".py",
   "mimetype": "text/x-python",
   "name": "python",
   "nbconvert_exporter": "python",
   "pygments_lexer": "ipython3",
   "version": "3.7.6"
  }
 },
 "nbformat": 4,
 "nbformat_minor": 4
}
