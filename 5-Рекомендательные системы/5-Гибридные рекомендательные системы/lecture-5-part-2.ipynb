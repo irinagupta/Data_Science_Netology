{
 "cells": [
  {
   "cell_type": "code",
   "execution_count": 2,
   "metadata": {},
   "outputs": [
    {
     "name": "stderr",
     "output_type": "stream",
     "text": [
      "/Users/arthursaprykin/anaconda3/lib/python3.7/site-packages/lightfm/_lightfm_fast.py:9: UserWarning: LightFM was compiled without OpenMP support. Only a single thread will be used.\n",
      "  warnings.warn('LightFM was compiled without OpenMP support. '\n"
     ]
    }
   ],
   "source": [
    "import numpy as np\n",
    "\n",
    "from lightfm.datasets import fetch_movielens\n",
    "\n",
    "movielens = fetch_movielens()"
   ]
  },
  {
   "cell_type": "code",
   "execution_count": 3,
   "metadata": {},
   "outputs": [
    {
     "name": "stdout",
     "output_type": "stream",
     "text": [
      "train <class 'scipy.sparse.coo.coo_matrix'> (943, 1682)\n",
      "test <class 'scipy.sparse.coo.coo_matrix'> (943, 1682)\n",
      "item_features <class 'scipy.sparse.csr.csr_matrix'> (1682, 1682)\n",
      "item_feature_labels <class 'numpy.ndarray'> (1682,)\n",
      "item_labels <class 'numpy.ndarray'> (1682,)\n"
     ]
    }
   ],
   "source": [
    "for key, value in movielens.items():\n",
    "    print(key, type(value), value.shape)"
   ]
  },
  {
   "cell_type": "code",
   "execution_count": 4,
   "metadata": {},
   "outputs": [],
   "source": [
    "train = movielens['train']\n",
    "test = movielens['test']"
   ]
  },
  {
   "cell_type": "code",
   "execution_count": 5,
   "metadata": {},
   "outputs": [
    {
     "name": "stdout",
     "output_type": "stream",
     "text": [
      "Precision: train 0.45, test 0.13.\n"
     ]
    }
   ],
   "source": [
    "from lightfm import LightFM\n",
    "from lightfm.evaluation import precision_at_k\n",
    "from lightfm.evaluation import auc_score\n",
    "\n",
    "model = LightFM()\n",
    "model.fit(train, epochs=10)\n",
    "\n",
    "train_precision = precision_at_k(model, train, k=10).mean()\n",
    "test_precision = precision_at_k(model, test, k=10, train_interactions=train).mean()\n",
    "\n",
    "print('Precision: train %.2f, test %.2f.' % (train_precision, test_precision))"
   ]
  },
  {
   "cell_type": "code",
   "execution_count": 6,
   "metadata": {},
   "outputs": [
    {
     "name": "stdout",
     "output_type": "stream",
     "text": [
      "Precision: train 0.60, test 0.22.\n"
     ]
    }
   ],
   "source": [
    "model = LightFM(learning_rate=0.05, loss='warp')\n",
    "\n",
    "model.fit_partial(train, epochs=10)\n",
    "\n",
    "train_precision = precision_at_k(model, train, k=10).mean()\n",
    "test_precision = precision_at_k(model, test, k=10, train_interactions=train).mean()\n",
    "\n",
    "print('Precision: train %.2f, test %.2f.' % (train_precision, test_precision))"
   ]
  },
  {
   "cell_type": "code",
   "execution_count": 7,
   "metadata": {},
   "outputs": [],
   "source": [
    "def sample_recommendation(model, data, user_ids):\n",
    "    n_users, n_items = data['train'].shape\n",
    "    for user_id in user_ids:\n",
    "        known_positives = data['item_labels'][data['train'].tocsr()                                    \n",
    "                          [user_id].indices]\n",
    "        \n",
    "        scores = model.predict(user_id, np.arange(n_items))\n",
    "\n",
    "        top_items = data['item_labels'][np.argsort(-scores)]\n",
    "\n",
    "        print(\"User %s\" % user_id)\n",
    "        print(\"     Known positives:\")\n",
    "        \n",
    "        for x in known_positives[:3]:\n",
    "            print(\"        %s\" % x)\n",
    "        \n",
    "        print(\"     Recommended:\")\n",
    "        \n",
    "        for x in top_items[:3]:\n",
    "            print(\"        %s\" % x)"
   ]
  },
  {
   "cell_type": "code",
   "execution_count": 18,
   "metadata": {},
   "outputs": [
    {
     "data": {
      "text/plain": [
       "<943x1682 sparse matrix of type '<class 'numpy.float32'>'\n",
       "\twith 90570 stored elements in Compressed Sparse Row format>"
      ]
     },
     "execution_count": 18,
     "metadata": {},
     "output_type": "execute_result"
    }
   ],
   "source": [
    "movielens['train'].tocsr()"
   ]
  },
  {
   "cell_type": "code",
   "execution_count": 8,
   "metadata": {},
   "outputs": [
    {
     "data": {
      "text/plain": [
       "array([  7,   8,  10,  11,  14,  21,  23,  24,  27,  28,  38,  39,  41,\n",
       "        46,  50,  51,  53,  55,  56,  57,  68,  69,  78,  82,  85,  87,\n",
       "        89,  93,  96,  97,  99, 106, 108, 119, 120, 122, 124, 134, 167,\n",
       "       172, 174, 175, 179, 184, 189, 190, 193, 195, 202, 203, 207, 210,\n",
       "       212, 214, 215, 221, 227, 228, 229, 236, 237, 238, 240, 257, 258,\n",
       "       259, 267, 273, 276, 285, 289, 290, 299, 300, 311, 316, 317, 323,\n",
       "       331, 349, 355, 356, 364, 366, 369, 371, 381, 382, 385, 392, 394,\n",
       "       398, 400, 401, 404, 413, 422, 426, 427, 428, 429, 430, 432, 433,\n",
       "       434, 448, 450, 454, 503, 507, 516, 520, 523, 525, 526, 543, 548,\n",
       "       560, 572, 576, 579, 596, 602, 645, 651, 653, 658, 659, 661, 662,\n",
       "       689, 691, 698, 706, 709, 712, 713, 714, 715, 716, 717, 718, 719,\n",
       "       720, 721, 723, 725, 726, 727, 728, 729, 730, 732, 733, 734, 735,\n",
       "       736, 737, 738, 740, 741, 742, 743, 744, 745, 746, 747, 748, 749,\n",
       "       750, 751], dtype=int32)"
      ]
     },
     "execution_count": 8,
     "metadata": {},
     "output_type": "execute_result"
    }
   ],
   "source": [
    "movielens['train'].tocsr()[10].indices"
   ]
  },
  {
   "cell_type": "code",
   "execution_count": 9,
   "metadata": {},
   "outputs": [
    {
     "data": {
      "text/plain": [
       "array(['Toy Story (1995)', 'GoldenEye (1995)', 'Four Rooms (1995)', ...,\n",
       "       'Sliding Doors (1998)', 'You So Crazy (1994)',\n",
       "       'Scream of Stone (Schrei aus Stein) (1991)'], dtype=object)"
      ]
     },
     "execution_count": 9,
     "metadata": {},
     "output_type": "execute_result"
    }
   ],
   "source": [
    "movielens['item_labels']"
   ]
  },
  {
   "cell_type": "code",
   "execution_count": 10,
   "metadata": {},
   "outputs": [
    {
     "name": "stdout",
     "output_type": "stream",
     "text": [
      "User 10\n",
      "     Known positives:\n",
      "        Babe (1995)\n",
      "        Dead Man Walking (1995)\n",
      "        Seven (Se7en) (1995)\n",
      "     Recommended:\n",
      "        Raiders of the Lost Ark (1981)\n",
      "        Star Wars (1977)\n",
      "        Return of the Jedi (1983)\n",
      "User 25\n",
      "     Known positives:\n",
      "        Toy Story (1995)\n",
      "        Twelve Monkeys (1995)\n",
      "        Dead Man Walking (1995)\n",
      "     Recommended:\n",
      "        Contact (1997)\n",
      "        Scream (1996)\n",
      "        Liar Liar (1997)\n",
      "User 451\n",
      "     Known positives:\n",
      "        Twelve Monkeys (1995)\n",
      "        Babe (1995)\n",
      "        Postino, Il (1994)\n",
      "     Recommended:\n",
      "        Raiders of the Lost Ark (1981)\n",
      "        2001: A Space Odyssey (1968)\n",
      "        Casablanca (1942)\n"
     ]
    }
   ],
   "source": [
    "sample_recommendation(model, movielens, [10, 25, 451])"
   ]
  },
  {
   "cell_type": "code",
   "execution_count": null,
   "metadata": {},
   "outputs": [],
   "source": []
  }
 ],
 "metadata": {
  "kernelspec": {
   "display_name": "Python 3",
   "language": "python",
   "name": "python3"
  },
  "language_info": {
   "codemirror_mode": {
    "name": "ipython",
    "version": 3
   },
   "file_extension": ".py",
   "mimetype": "text/x-python",
   "name": "python",
   "nbconvert_exporter": "python",
   "pygments_lexer": "ipython3",
   "version": "3.7.6"
  }
 },
 "nbformat": 4,
 "nbformat_minor": 4
}
