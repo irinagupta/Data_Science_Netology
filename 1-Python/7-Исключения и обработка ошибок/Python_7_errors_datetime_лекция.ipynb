{
 "cells": [
  {
   "cell_type": "markdown",
   "metadata": {},
   "source": [
    "Внизу есть задача для тех, кто это уже знает"
   ]
  },
  {
   "cell_type": "markdown",
   "metadata": {},
   "source": [
    "# Обработка ошибок\n",
    "1. Текст ошибки указывается в последней строчке\n",
    "2. Все что перед ней - место, где ошибка произошла\n",
    "3. Есть встроенные типы ошибок, но можно создавать и свои"
   ]
  },
  {
   "cell_type": "raw",
   "metadata": {},
   "source": []
  },
  {
   "cell_type": "markdown",
   "metadata": {},
   "source": [
    "Некоторые типы ошибок из документации (точнее [перевода](https://pythonworld.ru/tipy-dannyx-v-python/isklyucheniya-v-python-konstrukciya-try-except-dlya-obrabotki-isklyuchenij.html)):\n",
    "- ZeroDivisionError - деление на ноль\n",
    "- ImportError - не удалось импортирование модуля или его атрибута (надо установить эту библиотеку)\n",
    "- IndexError - индекс не входит в диапазон элементов.\n",
    "- KeyError - несуществующий ключ (в словаре, множестве или другом объекте)\n",
    "- MemoryError - недостаточно памяти\n",
    "- SyntaxError - синтаксическая ошибка (вы опечатались или не закрыли скобку)\n",
    "- TypeError - операция применена к объекту несоответствующего типа\n",
    "- ValueError - функция получает аргумент правильного типа, но некорректного значения\n",
    "- Warning - предупреждение (текст на красном фоне в юпитере это предупреждение, а не ошибка)"
   ]
  },
  {
   "cell_type": "code",
   "execution_count": null,
   "metadata": {},
   "outputs": [],
   "source": [
    "raise Warning('Все сломается')"
   ]
  },
  {
   "cell_type": "code",
   "execution_count": 3,
   "metadata": {},
   "outputs": [],
   "source": [
    "# эту строку можно перевести в число\n",
    "some_num = '123'"
   ]
  },
  {
   "cell_type": "code",
   "execution_count": 4,
   "metadata": {},
   "outputs": [
    {
     "data": {
      "text/plain": [
       "123.0"
      ]
     },
     "execution_count": 4,
     "metadata": {},
     "output_type": "execute_result"
    }
   ],
   "source": [
    "float(some_num)"
   ]
  },
  {
   "cell_type": "code",
   "execution_count": 5,
   "metadata": {},
   "outputs": [],
   "source": [
    "# а эту уже нет (по крайней мере в десятичном счислении)\n",
    "ups = '123a'"
   ]
  },
  {
   "cell_type": "code",
   "execution_count": 6,
   "metadata": {
    "scrolled": true
   },
   "outputs": [
    {
     "ename": "ValueError",
     "evalue": "could not convert string to float: '123a'",
     "output_type": "error",
     "traceback": [
      "\u001b[0;31m---------------------------------------------------------------------------\u001b[0m",
      "\u001b[0;31mValueError\u001b[0m                                Traceback (most recent call last)",
      "\u001b[0;32m<ipython-input-6-b5e45a6d52d0>\u001b[0m in \u001b[0;36m<module>\u001b[0;34m\u001b[0m\n\u001b[1;32m      1\u001b[0m \u001b[0;31m# ValueError - тип ошибки, далее пояснение что произошло\u001b[0m\u001b[0;34m\u001b[0m\u001b[0;34m\u001b[0m\u001b[0m\n\u001b[1;32m      2\u001b[0m \u001b[0;31m# ----> 1 float(ups) - в каком месте кода произошла ошибка\u001b[0m\u001b[0;34m\u001b[0m\u001b[0;34m\u001b[0m\u001b[0m\n\u001b[0;32m----> 3\u001b[0;31m \u001b[0mfloat\u001b[0m\u001b[0;34m(\u001b[0m\u001b[0mups\u001b[0m\u001b[0;34m)\u001b[0m\u001b[0;34m\u001b[0m\u001b[0m\n\u001b[0m",
      "\u001b[0;31mValueError\u001b[0m: could not convert string to float: '123a'"
     ]
    }
   ],
   "source": [
    "# ValueError - тип ошибки, далее пояснение что произошло\n",
    "# ----> 1 float(ups) - в каком месте кода произошла ошибка\n",
    "float(ups)"
   ]
  },
  {
   "cell_type": "markdown",
   "metadata": {},
   "source": [
    "Пример ошибки внутри функции"
   ]
  },
  {
   "cell_type": "code",
   "execution_count": 16,
   "metadata": {},
   "outputs": [],
   "source": [
    "def square_sum(*args):\n",
    "    total_sum = 0\n",
    "    for arg in args:\n",
    "        print(arg)\n",
    "        total_sum += float(arg)**2\n",
    "    \n",
    "    return total_sum"
   ]
  },
  {
   "cell_type": "code",
   "execution_count": 8,
   "metadata": {},
   "outputs": [
    {
     "data": {
      "text/plain": [
       "14"
      ]
     },
     "execution_count": 8,
     "metadata": {},
     "output_type": "execute_result"
    }
   ],
   "source": [
    "square_sum(1, 2, 3)"
   ]
  },
  {
   "cell_type": "code",
   "execution_count": 17,
   "metadata": {},
   "outputs": [
    {
     "name": "stdout",
     "output_type": "stream",
     "text": [
      "1\n",
      "2\n",
      "3\n"
     ]
    },
    {
     "data": {
      "text/plain": [
       "14.0"
      ]
     },
     "execution_count": 17,
     "metadata": {},
     "output_type": "execute_result"
    }
   ],
   "source": [
    "# пытаемся применить к операцию возведения в квадрат к строке\n",
    "# ----> 1 square_sum(1, 2, '3') - в какой функции произошла ошибка\n",
    "# ----> 4         total_sum += arg**2 - в какой именно строке произошла ошибка\n",
    "\n",
    "square_sum(1, 2, '3')"
   ]
  },
  {
   "cell_type": "markdown",
   "metadata": {},
   "source": [
    "## Как сделать, чтобы цикл с расчетом не падал каждый раз"
   ]
  },
  {
   "cell_type": "code",
   "execution_count": 18,
   "metadata": {},
   "outputs": [
    {
     "ename": "ValueError",
     "evalue": "could not convert string to float: '123a'",
     "output_type": "error",
     "traceback": [
      "\u001b[0;31m---------------------------------------------------------------------------\u001b[0m",
      "\u001b[0;31mValueError\u001b[0m                                Traceback (most recent call last)",
      "\u001b[0;32m<ipython-input-18-1fd060d82cd1>\u001b[0m in \u001b[0;36m<module>\u001b[0;34m\u001b[0m\n\u001b[0;32m----> 1\u001b[0;31m \u001b[0mfloat\u001b[0m\u001b[0;34m(\u001b[0m\u001b[0;34m'123a'\u001b[0m\u001b[0;34m)\u001b[0m\u001b[0;34m\u001b[0m\u001b[0m\n\u001b[0m",
      "\u001b[0;31mValueError\u001b[0m: could not convert string to float: '123a'"
     ]
    }
   ],
   "source": [
    "float('123a')"
   ]
  },
  {
   "cell_type": "code",
   "execution_count": 19,
   "metadata": {},
   "outputs": [
    {
     "name": "stdout",
     "output_type": "stream",
     "text": [
      "Ну и забей\n",
      "Работаем дальше\n"
     ]
    }
   ],
   "source": [
    "try:\n",
    "    # ваш код, где может произойти ошибка\n",
    "    float('123a')\n",
    "\n",
    "except:\n",
    "    # код, который выполняется в случае ошибки\n",
    "    print('Ну и забей')\n",
    "    \n",
    "print('Работаем дальше')"
   ]
  },
  {
   "cell_type": "code",
   "execution_count": 28,
   "metadata": {},
   "outputs": [
    {
     "name": "stdout",
     "output_type": "stream",
     "text": [
      "90\n",
      "60\n",
      "90\n"
     ]
    },
    {
     "data": {
      "text/plain": [
       "240"
      ]
     },
     "execution_count": 28,
     "metadata": {},
     "output_type": "execute_result"
    }
   ],
   "source": [
    "data = ['90', '60', '90', 'sdvkjn', 'sdffd', 'dsfdfs']\n",
    "total_sum = 0\n",
    "\n",
    "for num in data:\n",
    "    try:\n",
    "        num = int(num)\n",
    "    except:\n",
    "        continue\n",
    "    \n",
    "    print(num)\n",
    "    \n",
    "    total_sum += num\n",
    "    \n",
    "total_sum"
   ]
  },
  {
   "cell_type": "code",
   "execution_count": 30,
   "metadata": {},
   "outputs": [
    {
     "name": "stdout",
     "output_type": "stream",
     "text": [
      "Ошибка в данных: 240tot\n",
      "Итого cумма 240.0\n",
      "Битых строк 1\n"
     ]
    }
   ],
   "source": [
    "data = ['90', '60', '90', '240tot']\n",
    "total_sum = 0\n",
    "error_counter = 0\n",
    "\n",
    "for num in data:\n",
    "    try:\n",
    "        total_sum += float(num)\n",
    "\n",
    "    except:\n",
    "        print('Ошибка в данных: {}'.format(num))\n",
    "        error_counter += 1\n",
    "    \n",
    "print('Итого cумма', total_sum)\n",
    "print('Битых строк', error_counter)"
   ]
  },
  {
   "cell_type": "code",
   "execution_count": 34,
   "metadata": {},
   "outputs": [
    {
     "data": {
      "text/plain": [
       "'Ошибка в данных: 3.14000'"
      ]
     },
     "execution_count": 34,
     "metadata": {},
     "output_type": "execute_result"
    }
   ],
   "source": [
    "'Ошибка в данных: {:.5f}'.format(3.14)"
   ]
  },
  {
   "cell_type": "code",
   "execution_count": 35,
   "metadata": {},
   "outputs": [
    {
     "data": {
      "text/plain": [
       "'Ошибка в данных: 1'"
      ]
     },
     "execution_count": 35,
     "metadata": {},
     "output_type": "execute_result"
    }
   ],
   "source": [
    "f'Ошибка в данных: {error_counter}'"
   ]
  },
  {
   "cell_type": "markdown",
   "metadata": {},
   "source": [
    "Как сохранить всю информацию об ошибке?"
   ]
  },
  {
   "cell_type": "code",
   "execution_count": 36,
   "metadata": {
    "scrolled": true
   },
   "outputs": [
    {
     "name": "stdout",
     "output_type": "stream",
     "text": [
      "None\n",
      "Проехали\n"
     ]
    },
    {
     "name": "stderr",
     "output_type": "stream",
     "text": [
      "Traceback (most recent call last):\n",
      "  File \"<ipython-input-36-aec2760d579a>\", line 5, in <module>\n",
      "    float('123fff')\n",
      "ValueError: could not convert string to float: '123fff'\n"
     ]
    }
   ],
   "source": [
    "# полная версия traceback\n",
    "import traceback\n",
    "\n",
    "try:\n",
    "    float('123fff')\n",
    "\n",
    "except Exception:\n",
    "    print(traceback.print_exc())\n",
    "    \n",
    "print('Проехали')"
   ]
  },
  {
   "cell_type": "markdown",
   "metadata": {},
   "source": [
    "### Блок finally"
   ]
  },
  {
   "cell_type": "code",
   "execution_count": 37,
   "metadata": {},
   "outputs": [],
   "source": [
    "stats = {}"
   ]
  },
  {
   "cell_type": "code",
   "execution_count": 39,
   "metadata": {},
   "outputs": [
    {
     "name": "stdout",
     "output_type": "stream",
     "text": [
      "Ошибка ключа\n",
      "Эта строчка будет выполнена всегда\n"
     ]
    },
    {
     "ename": "ZeroDivisionError",
     "evalue": "division by zero",
     "output_type": "error",
     "traceback": [
      "\u001b[0;31m---------------------------------------------------------------------------\u001b[0m",
      "\u001b[0;31mKeyError\u001b[0m                                  Traceback (most recent call last)",
      "\u001b[0;32m<ipython-input-39-f6fe70bb823a>\u001b[0m in \u001b[0;36m<module>\u001b[0;34m\u001b[0m\n\u001b[1;32m      1\u001b[0m \u001b[0;32mtry\u001b[0m\u001b[0;34m:\u001b[0m\u001b[0;34m\u001b[0m\u001b[0m\n\u001b[0;32m----> 2\u001b[0;31m     \u001b[0mprint\u001b[0m\u001b[0;34m(\u001b[0m\u001b[0mstats\u001b[0m\u001b[0;34m[\u001b[0m\u001b[0;34m\"wednesday\"\u001b[0m\u001b[0;34m]\u001b[0m\u001b[0;34m)\u001b[0m\u001b[0;34m\u001b[0m\u001b[0m\n\u001b[0m\u001b[1;32m      3\u001b[0m \u001b[0;34m\u001b[0m\u001b[0m\n",
      "\u001b[0;31mKeyError\u001b[0m: 'wednesday'",
      "\nDuring handling of the above exception, another exception occurred:\n",
      "\u001b[0;31mZeroDivisionError\u001b[0m                         Traceback (most recent call last)",
      "\u001b[0;32m<ipython-input-39-f6fe70bb823a>\u001b[0m in \u001b[0;36m<module>\u001b[0;34m\u001b[0m\n\u001b[1;32m      7\u001b[0m \u001b[0;32mexcept\u001b[0m \u001b[0mKeyError\u001b[0m\u001b[0;34m:\u001b[0m\u001b[0;34m\u001b[0m\u001b[0m\n\u001b[1;32m      8\u001b[0m     \u001b[0mprint\u001b[0m\u001b[0;34m(\u001b[0m\u001b[0;34m\"Ошибка ключа\"\u001b[0m\u001b[0;34m)\u001b[0m\u001b[0;34m\u001b[0m\u001b[0m\n\u001b[0;32m----> 9\u001b[0;31m     \u001b[0mprint\u001b[0m\u001b[0;34m(\u001b[0m\u001b[0;36m1\u001b[0m\u001b[0;34m/\u001b[0m\u001b[0;36m0\u001b[0m\u001b[0;34m)\u001b[0m\u001b[0;34m\u001b[0m\u001b[0m\n\u001b[0m\u001b[1;32m     10\u001b[0m \u001b[0;34m\u001b[0m\u001b[0m\n\u001b[1;32m     11\u001b[0m \u001b[0;32mfinally\u001b[0m\u001b[0;34m:\u001b[0m\u001b[0;34m\u001b[0m\u001b[0m\n",
      "\u001b[0;31mZeroDivisionError\u001b[0m: division by zero"
     ]
    }
   ],
   "source": [
    "try:\n",
    "    print(stats[\"wednesday\"])\n",
    "    \n",
    "except IndexError:\n",
    "    print(\"Ошибка индекса\")\n",
    "    \n",
    "except KeyError:\n",
    "    print(\"Ошибка ключа\")\n",
    "    print(1/0)\n",
    "    \n",
    "finally:\n",
    "    print('Эта строчка будет выполнена всегда')\n",
    "    connection.close()"
   ]
  },
  {
   "cell_type": "markdown",
   "metadata": {},
   "source": [
    "### Более жизненный пример"
   ]
  },
  {
   "cell_type": "code",
   "execution_count": 40,
   "metadata": {},
   "outputs": [
    {
     "name": "stdout",
     "output_type": "stream",
     "text": [
      "05.10.16 23:18\t1010\t20,2\n",
      "09.10.2016T 21:40:00\t1036\t15,6\n",
      "05.10.16 3:23\t1041\n",
      "05.10.16 23:19\t1041\n",
      "01.10.16 4:57\t1042\t14,8\n",
      "01.10.16 23:29\t1042\t14,4\n",
      "03.10.16 20:20\t1042\t14\n",
      "04.10.16 0:35\t1042\t20\n",
      "04.10.16 13:46\t1042\t16,2\n",
      "04.10.16 17:34\t1042\t11\n",
      "05.10.16 15:15\t1042\t10800000\n",
      "06.10.16 20:45\t1042\t22,6\n",
      "07.10.16 2:54\t1042\t22,4\n",
      "07.10.16 5:02\t1042\t24,4\n",
      "07.10.16 6:35\t1042\t16,6\n",
      "08.10.2016T 16:46:00\t1042\t8,6\n",
      "01.10.16 13:39\t1047\n",
      "05.10.16 21:41\t1047\n",
      "07.10.16 9:59\t1052\t24\n",
      "08.10.2016T 19:36:00\t1052\t18,8\n",
      "04.10.16 11:12\t1057\n",
      "09.10.2016T 2:47:00\t1057\n",
      "09.10.2016T 16:27:00\t1062\t11,2\n",
      "05.10.16 4:38\t1067\t19\n",
      "04.10.16 9:56\t1078\t23,4\n",
      "04.10.16 14:36\t1085\t17\n",
      "05.10.16 16:41\t1096\t20,8\n",
      "01.10.16 11:55\t1098\t15,6\n",
      "01.10.16 14:16\t1100\n",
      "02.10.16 1:39\t1100\n",
      "02.10.16 2:49\t1100\n",
      "02.10.16 13:05\t1100\n",
      "03.10.16 4:04\t1100\n",
      "03.10.16 6:58\t1100\n",
      "03.10.16 15:01\t1100\n",
      "04.10.16 23:43\t1100\n",
      "05.10.16 5:46\t1100\n",
      "06.10.16 0:31\t1100\n",
      "06.10.16 9:25\t1100\n",
      "08.10.2016T 15:15:00\t1100\n",
      "07.10.16 9:06\t1105\t16,2\n",
      "01.10.16 4:30\t1108\t17,8\n",
      "01.10.16 18:16\t1108\t18,8\n",
      "02.10.16 2:58\t1108\t20000000\n",
      "02.10.16 6:01\t1108\t21\n",
      "02.10.16 20:03\t1108\t16,6\n",
      "04.10.16 2:56\t1108\t20\n",
      "04.10.16 6:57\t1108\t19,8\n",
      "06.10.16 6:46\t1108\t16,8\n",
      "09.10.2016T 8:33:00\t1108\t24000000\n",
      "08.10.2016T 8:02:00\t1111\t12\n",
      "05.10.16 5:25\t1112\t10,2\n",
      "09.10.2016T 0:03:00\t1112\t24\n",
      "06.10.16 10:09\t1113\t15,8\n",
      "09.10.2016T 12:09:00\t1113\t22\n",
      "05.10.16 18:00\t1114\t17,4\n",
      "06.10.16 17:58\t1114\t14,8\n",
      "05.10.16 23:19\t1116\t20\n",
      "01.10.16 23:13\t1118\t11,6\n",
      "09.10.2016T 21:14:00\t1118\t20\n",
      "05.10.16 16:30\t1123\t16\n",
      "06.10.16 5:27\t1123\t11,2\n",
      "01.10.16 17:46\t1128\t12,2\n",
      "04.10.16 5:00\t1134\n",
      "06.10.16 12:01\t1134\n",
      "01.10.16 15:58\t1135\n",
      "02.10.16 3:19\t1135\n",
      "02.10.16 19:24\t1135\n",
      "04.10.16 10:40\t1135\n",
      "06.10.16 6:06\t1135\n",
      "06.10.16 16:08\t1135\n",
      "08.10.2016T 0:31:00\t1135\n",
      "08.10.2016T 10:16:00\t1135\n",
      "08.10.2016T 23:10:00\t1135\n",
      "01.10.16 22:28\t1136\t21,6\n",
      "03.10.16 23:03\t1136\t17,4\n",
      "03.10.16 8:06\t1140\t22\n",
      "04.10.16 10:01\t1140\t22\n",
      "01.10.16 16:53\t1141\t16\n",
      "05.10.16 3:31\t1145\t16\n",
      "06.10.16 4:00\t1145\t20\n",
      "02.10.16 8:08\t1149\t10\n",
      "07.10.16 16:12\t1149\t21,2\n",
      "08.10.2016T 6:55:00\t1149\t30,4\n",
      "08.10.2016T 22:55:00\t1149\t18800000\n",
      "09.10.2016T 4:10:00\t1149\t14\n",
      "09.10.2016T 10:26:00\t1149\t22\n",
      "09.10.2016T 22:22:00\t1149\t16\n",
      "07.10.16 6:57\t1150\t12,6\n",
      "02.10.16 12:03\t1154\t13,4\n",
      "04.10.16 22:51\t1154\t13,6\n",
      "04.10.16 9:28\t1159\t10,2\n",
      "04.10.16 13:34\t1159\t17,4\n",
      "08.10.2016T 9:43:00\t1164\t22,4\n",
      "07.10.16 14:57\t1167\t11,4\n",
      "07.10.16 20:25\t1175\t14\n",
      "06.10.16 12:48\t1181\t22,4\n",
      "07.10.16 9:54\t1182\t18\n",
      "10.10.16 2:35\t1182\t17\n",
      "04.10.16 13:49\t1193\t24800000\n",
      "09.10.2016T 20:49:00\t1193\t16,6\n",
      "01.10.16 5:12\t1198\t17,8\n",
      "06.10.16 7:52\t1198\t9\n",
      "06.10.16 5:15\t1201\t10,6\n",
      "05.10.16 13:55\t1203\n",
      "06.10.16 5:56\t1203\n",
      "01.10.16 16:10\t1207\t16,6\n",
      "02.10.16 1:24\t1207\t24,2\n",
      "02.10.16 21:17\t1207\t20,4\n",
      "03.10.16 16:08\t1207\t25,6\n",
      "04.10.16 17:29\t1207\t19,8\n",
      "05.10.16 1:39\t1207\t16,4\n",
      "05.10.16 6:33\t1207\t16,2\n",
      "05.10.16 18:57\t1207\t17\n",
      "05.10.16 20:51\t1207\t16,8\n",
      "07.10.16 8:55\t1207\t19,8\n",
      "07.10.16 17:40\t1207\t15,6\n",
      "08.10.2016T 23:36:00\t1207\t19,2\n",
      "09.10.2016T 10:25:00\t1207\t23,2\n",
      "09.10.2016T 21:04:00\t1207\t10,8\n",
      "04.10.16 7:38\t1208\t24,4\n",
      "09.10.2016T 14:53:00\t1208\t13,4\n",
      "05.10.16 17:15\t1209\t12\n",
      "03.10.16 6:16\t1213\t18,6\n",
      "06.10.16 10:04\t1213\t16,6\n",
      "01.10.16 16:52\t1218\t12200000\n",
      "09.10.2016T 19:10:00\t1218\t22400000\n",
      "02.10.16 8:42\t1219\t15,4\n",
      "03.10.16 19:32\t1223\t17,2\n",
      "06.10.16 22:11\t1223\t17600000\n",
      "08.10.2016T 15:18:00\t1224\t16,4\n",
      "01.10.16 4:41\t1226\n",
      "03.10.16 9:32\t1226\n",
      "07.10.16 18:32\t1228\t18,8\n",
      "08.10.2016T 13:21:00\t1228\t17,6\n",
      "03.10.16 15:47\t1230\t20,6\n",
      "01.10.16 9:02\t1233\n",
      "01.10.16 10:27\t1233\n",
      "02.10.16 22:01\t1236\t17,4\n",
      "05.10.16 5:27\t1238\t13,6\n",
      "09.10.2016T 14:43:00\t1238\t17,6\n",
      "04.10.16 22:25\t1242\t18,4\n",
      "06.10.16 4:54\t1243\t20,4\n",
      "06.10.16 14:28\t1243\t20\n",
      "01.10.16 4:27\t1246\t17,8\n",
      "02.10.16 4:27\t1246\n",
      "02.10.16 8:45\t1246\n",
      "02.10.16 16:58\t1246\n",
      "02.10.16 17:30\t1246\n",
      "02.10.16 19:46\t1246\n",
      "03.10.16 2:05\t1246\n",
      "03.10.16 2:57\t1246\n",
      "03.10.16 7:19\t1246\n",
      "03.10.16 12:15\t1246\n",
      "03.10.16 14:58\t1246\n",
      "03.10.16 19:43\t1246\n",
      "04.10.16 7:27\t1246\n",
      "04.10.16 9:08\t1246\n",
      "04.10.16 13:52\t1246\n",
      "04.10.16 16:34\t1246\n",
      "05.10.16 0:27\t1246\n",
      "05.10.16 6:36\t1246\n",
      "05.10.16 12:59\t1246\n",
      "05.10.16 16:52\t1246\n",
      "05.10.16 17:26\t1246\n",
      "06.10.16 6:48\t1246\n",
      "08.10.2016T 2:53:00\t1246\n",
      "10.10.16 0:59\t1246\n",
      "01.10.16 16:30\t1248\t13,2\n",
      "01.10.16 21:06\t1248\t28,8\n",
      "02.10.16 7:12\t1252\t22\n",
      "04.10.16 13:51\t1252\t15,6\n",
      "01.10.16 12:36\t1253\t13,6\n",
      "04.10.16 17:11\t1253\t8,6\n",
      "02.10.16 16:22\t1258\t22\n",
      "08.10.2016T 19:34:00\t1258\t20\n",
      "02.10.16 10:36\t1263\t12,6\n",
      "03.10.16 6:10\t1263\t18\n",
      "02.10.16 21:42\t1267\n",
      "04.10.16 9:02\t1267\n",
      "04.10.16 12:10\t1267\n",
      "04.10.16 15:40\t1267\n",
      "04.10.16 18:37\t1267\n",
      "04.10.16 21:29\t1267\n",
      "05.10.16 21:11\t1267\n",
      "05.10.16 22:09\t1267\n",
      "06.10.16 3:58\t1267\n",
      "06.10.16 11:16\t1267\n",
      "06.10.16 19:20\t1267\n",
      "07.10.16 10:18\t1267\n",
      "08.10.2016T 18:18:00\t1267\n",
      "09.10.2016T 4:41:00\t1267\n",
      "09.10.2016T 9:13:00\t1267\n",
      "09.10.2016T 15:37:00\t1267\n",
      "09.10.2016T 18:56:00\t1267\n",
      "05.10.16 2:48\t1268\t16,4\n",
      "07.10.16 19:36\t1268\t16\n",
      "02.10.16 14:12\t1269\t22\n",
      "07.10.16 3:29\t1270\t21,8\n",
      "01.10.16 8:56\t1273\t14,6\n",
      "08.10.2016T 13:49:00\t1273\t22\n",
      "07.10.16 6:00\t1274\t25\n",
      "04.10.16 13:47\t1278\t15,6\n",
      "07.10.16 6:42\t1278\t17,8\n",
      "08.10.2016T 3:24:00\t1279\t14,8\n",
      "03.10.16 1:03\t1281\t18,2\n",
      "02.10.16 6:11\t1283\t12,6\n",
      "02.10.16 19:24\t1283\t11,8\n",
      "07.10.16 13:37\t1288\t16\n",
      "08.10.2016T 19:46:00\t1288\t30,4\n",
      "07.10.16 2:41\t1291\t13,4\n",
      "01.10.16 17:29\t1293\t18,4\n",
      "02.10.16 20:12\t1293\t20\n",
      "02.10.16 23:36\t1294\t17\n",
      "07.10.16 10:32\t1296\t26\n",
      "03.10.16 20:41\t1298\t21\n",
      "03.10.16 22:35\t1298\t19,4\n",
      "05.10.16 12:19\t1298\t16\n",
      "02.10.16 11:43\t1300\t12,8\n",
      "03.10.16 23:18\t1300\t14\n",
      "03.10.16 18:28\t1302\t21800000\n",
      "02.10.16 8:06\t1303\t11,8\n",
      "06.10.16 6:23\t1303\t25,8\n",
      "03.10.16 10:42\t1308\t18\n",
      "06.10.16 18:52\t1308\t10,2\n",
      "06.10.16 16:16\t1313\t12\n",
      "08.10.2016T 18:12:00\t1313\t13,8\n",
      "02.10.16 14:04\t1315\t16,6\n",
      "03.10.16 14:10\t1318\n",
      "03.10.16 18:15\t1318\n",
      "03.10.16 18:27\t1318\n",
      "04.10.16 17:09\t1318\n",
      "05.10.16 11:07\t1318\n",
      "06.10.16 1:46\t1318\n",
      "06.10.16 22:29\t1318\n",
      "07.10.16 0:44\t1318\n",
      "07.10.16 10:17\t1318\n",
      "07.10.16 11:29\t1318\n",
      "08.10.2016T 23:18:00\t1318\n",
      "09.10.2016T 1:37:00\t1318\n",
      "09.10.2016T 7:48:00\t1318\n",
      "09.10.2016T 22:27:00\t1318\n",
      "06.10.16 17:08\t1320\t18\n",
      "09.10.2016T 2:35:00\t1323\t16\n",
      "09.10.2016T 10:08:00\t1323\t28,6\n",
      "05.10.16 7:29\t1328\t18,4\n",
      "05.10.16 11:58\t1328\t18,8\n",
      "03.10.16 0:36\t1330\t17,8\n",
      "09.10.2016T 2:08:00\t1331\t16,8\n",
      "03.10.16 2:19\t1332\t19,4\n",
      "04.10.16 22:01\t1333\t20\n",
      "08.10.2016T 3:48:00\t1334\t16\n",
      "03.10.16 1:32\t1343\t22\n",
      "08.10.2016T 4:34:00\t1350\t12800000\n",
      "04.10.16 4:09\t1351\t20\n",
      "06.10.16 19:09\t1353\t17,4\n",
      "03.10.16 1:30\t1354\t15,6\n",
      "02.10.16 23:30\t1355\t22\n",
      "08.10.2016T 6:50:00\t1359\t14,4\n",
      "02.10.16 13:33\t1362\t12,2\n",
      "05.10.16 21:36\t1363\t12,2\n",
      "04.10.16 22:06\t1364\t20\n",
      "01.10.16 5:29\t1366\t13000000\n",
      "07.10.16 9:40\t1367\t22,4\n",
      "04.10.16 7:31\t1371\t13,6\n",
      "04.10.16 1:36\t1372\t30,4\n",
      "07.10.16 17:25\t1374\t12,4\n",
      "05.10.16 23:06\t1377\t16\n",
      "06.10.16 14:29\t1380\t30,4\n",
      "09.10.2016T 4:55:00\t1382\t23,2\n",
      "05.10.16 21:24\t1383\t20\n",
      "05.10.16 8:14\t1386\t12,6\n",
      "03.10.16 11:43\t1387\t14,6\n",
      "01.10.16 6:21\t1388\t11,8\n",
      "03.10.16 6:03\t1392\t20,2\n",
      "06.10.16 5:34\t1393\t10\n",
      "04.10.16 23:55\t1394\t12,8\n",
      "05.10.16 5:01\t1397\t20,6\n",
      "05.10.16 22:54\t1398\t18\n",
      "01.10.16 17:01\t1424\n",
      "03.10.16 6:50\t1424\n",
      "04.10.16 5:27\t1424\n",
      "04.10.16 16:14\t1424\n",
      "04.10.16 18:21\t1424\n",
      "05.10.16 23:33\t1424\n",
      "06.10.16 7:27\t1424\n",
      "07.10.16 3:01\t1424\n",
      "07.10.16 16:08\t1424\n",
      "07.10.16 16:12\t1424\n",
      "08.10.2016T 12:41:00\t1424\n",
      "08.10.2016T 15:26:00\t1424\n",
      "08.10.2016T 17:21:00\t1424\n",
      "09.10.2016T 8:00:00\t1424\n",
      "10.10.16 1:24\t1424\n"
     ]
    }
   ],
   "source": [
    "with open('real_data.txt', 'r') as f:\n",
    "    for line in f:\n",
    "        print(line.strip())"
   ]
  },
  {
   "cell_type": "markdown",
   "metadata": {},
   "source": [
    "Чем прекрасен этот файл:\n",
    "1. Даты имеют разный формат: за 8 и 9 октября формат с \"09.10.2016 21:40\" сменился на \"09.10.2016T 21:40:00\" (добавилась буква T и секунды). Разработчики объяснили этот тем, что сбились настройки после обновления одной из баз данных.\n",
    "2. У покупок некоторых пользователей неизвестно значение выручки, из-за чего количество столбцов в строке уменьшается на один.\n",
    "3. У некоторых строк реальная сумма покупки умножена на миллион. Так иногда действительно делают, чтобы избежать дробных чисел и работать только с целыми."
   ]
  },
  {
   "cell_type": "markdown",
   "metadata": {},
   "source": [
    "Необходимо посчитать сумму выручки из третьего столбца."
   ]
  },
  {
   "cell_type": "code",
   "execution_count": 50,
   "metadata": {},
   "outputs": [
    {
     "name": "stdout",
     "output_type": "stream",
     "text": [
      "3346.000000000002\n"
     ]
    }
   ],
   "source": [
    "total_sum = 0\n",
    "error_lines_count = 0\n",
    "\n",
    "with open('real_data.txt', 'r') as f:\n",
    "    for i, line in enumerate(f):\n",
    "        try:\n",
    "            date, user_id, revenue = line.strip().split('\\t')\n",
    "        except:\n",
    "            error_lines_count += 1\n",
    "            continue\n",
    "            \n",
    "        revenue = float(revenue.replace(',', '.'))\n",
    "        # print(date, user_id, revenue)\n",
    "        \n",
    "        if revenue > 10**5:\n",
    "            revenue /= 10**6  # источник №4 умножает все на миллион\n",
    "        \n",
    "        total_sum += revenue\n",
    "#         if i > 5:\n",
    "#             break\n",
    "\n",
    "print(total_sum)"
   ]
  },
  {
   "cell_type": "code",
   "execution_count": null,
   "metadata": {},
   "outputs": [],
   "source": []
  },
  {
   "cell_type": "code",
   "execution_count": null,
   "metadata": {},
   "outputs": [],
   "source": []
  },
  {
   "cell_type": "markdown",
   "metadata": {},
   "source": [
    "# Даты"
   ]
  },
  {
   "cell_type": "code",
   "execution_count": null,
   "metadata": {},
   "outputs": [],
   "source": [
    "# иногда импортируют так\n",
    "import datetime"
   ]
  },
  {
   "cell_type": "code",
   "execution_count": 52,
   "metadata": {
    "scrolled": true
   },
   "outputs": [
    {
     "ename": "AttributeError",
     "evalue": "type object 'datetime.datetime' has no attribute 'datetime'",
     "output_type": "error",
     "traceback": [
      "\u001b[0;31m---------------------------------------------------------------------------\u001b[0m",
      "\u001b[0;31mAttributeError\u001b[0m                            Traceback (most recent call last)",
      "\u001b[0;32m<ipython-input-52-6c256710f542>\u001b[0m in \u001b[0;36m<module>\u001b[0;34m\u001b[0m\n\u001b[0;32m----> 1\u001b[0;31m \u001b[0mdatetime\u001b[0m\u001b[0;34m.\u001b[0m\u001b[0mdatetime\u001b[0m\u001b[0;34m.\u001b[0m\u001b[0mstrptime\u001b[0m\u001b[0;34m\u001b[0m\u001b[0m\n\u001b[0m",
      "\u001b[0;31mAttributeError\u001b[0m: type object 'datetime.datetime' has no attribute 'datetime'"
     ]
    }
   ],
   "source": [
    "dt.datetime.strptime"
   ]
  },
  {
   "cell_type": "code",
   "execution_count": null,
   "metadata": {},
   "outputs": [],
   "source": [
    "# можно и так\n",
    "import datetime as dt"
   ]
  },
  {
   "cell_type": "code",
   "execution_count": 51,
   "metadata": {},
   "outputs": [],
   "source": [
    "# у нас будет вариант покороче (но это не одно и то же)\n",
    "from datetime import datetime"
   ]
  },
  {
   "cell_type": "code",
   "execution_count": 55,
   "metadata": {},
   "outputs": [],
   "source": [
    "date_string = '09.05.2018  09:00'"
   ]
  },
  {
   "cell_type": "code",
   "execution_count": null,
   "metadata": {},
   "outputs": [],
   "source": [
    "# сейчас date_string это просто строка\n",
    "type(date_string)"
   ]
  },
  {
   "cell_type": "code",
   "execution_count": 53,
   "metadata": {},
   "outputs": [
    {
     "data": {
      "text/plain": [
       "datetime.datetime(2018, 5, 9, 9, 0)"
      ]
     },
     "execution_count": 53,
     "metadata": {},
     "output_type": "execute_result"
    }
   ],
   "source": [
    "datetime.strptime('09.05.2018 09:00', '%d.%m.%Y %H:%M')"
   ]
  },
  {
   "cell_type": "code",
   "execution_count": null,
   "metadata": {},
   "outputs": [],
   "source": [
    "datetime.strptime('09.05.2018 09:00', '%d.%m.%Y %H:%M')"
   ]
  },
  {
   "cell_type": "code",
   "execution_count": 56,
   "metadata": {},
   "outputs": [
    {
     "data": {
      "text/plain": [
       "datetime.datetime(2018, 5, 9, 9, 0)"
      ]
     },
     "execution_count": 56,
     "metadata": {},
     "output_type": "execute_result"
    }
   ],
   "source": [
    "# https://docs.python.org/3/library/datetime.html\n",
    "\n",
    "date_datetime = datetime.strptime( date_string, '%d.%m.%Y %H:%M' )\n",
    "date_datetime"
   ]
  },
  {
   "cell_type": "code",
   "execution_count": 57,
   "metadata": {},
   "outputs": [
    {
     "data": {
      "text/plain": [
       "datetime.datetime"
      ]
     },
     "execution_count": 57,
     "metadata": {},
     "output_type": "execute_result"
    }
   ],
   "source": [
    "# теперь можем работать с датами\n",
    "type(date_datetime)"
   ]
  },
  {
   "cell_type": "code",
   "execution_count": 58,
   "metadata": {},
   "outputs": [
    {
     "data": {
      "text/plain": [
       "(2018, 9)"
      ]
     },
     "execution_count": 58,
     "metadata": {},
     "output_type": "execute_result"
    }
   ],
   "source": [
    "# получить номер года и часа\n",
    "date_datetime.year, date_datetime.hour"
   ]
  },
  {
   "cell_type": "code",
   "execution_count": 59,
   "metadata": {},
   "outputs": [
    {
     "data": {
      "text/plain": [
       "2"
      ]
     },
     "execution_count": 59,
     "metadata": {},
     "output_type": "execute_result"
    }
   ],
   "source": [
    "# день недели\n",
    "date_datetime.weekday()"
   ]
  },
  {
   "cell_type": "code",
   "execution_count": 60,
   "metadata": {},
   "outputs": [
    {
     "data": {
      "text/plain": [
       "3"
      ]
     },
     "execution_count": 60,
     "metadata": {},
     "output_type": "execute_result"
    }
   ],
   "source": [
    "date_datetime.isoweekday()"
   ]
  },
  {
   "cell_type": "code",
   "execution_count": 67,
   "metadata": {},
   "outputs": [
    {
     "data": {
      "text/plain": [
       "datetime.datetime(2020, 7, 13, 20, 38, 25, 988731)"
      ]
     },
     "execution_count": 67,
     "metadata": {},
     "output_type": "execute_result"
    }
   ],
   "source": [
    "# сегодня\n",
    "datetime.now()"
   ]
  },
  {
   "cell_type": "markdown",
   "metadata": {},
   "source": [
    "### Упражнение\n",
    "С помощью метода datetime.strptime переведите строку 'May 25 2017 5:00AM' в формат datetime."
   ]
  },
  {
   "cell_type": "code",
   "execution_count": 66,
   "metadata": {
    "scrolled": true
   },
   "outputs": [
    {
     "data": {
      "text/plain": [
       "datetime.datetime(2017, 5, 25, 5, 0)"
      ]
     },
     "execution_count": 66,
     "metadata": {},
     "output_type": "execute_result"
    }
   ],
   "source": [
    "datetime.strptime('May 25 2017 5:00AM', '%b %d %Y %I:%MAM')"
   ]
  },
  {
   "cell_type": "code",
   "execution_count": 62,
   "metadata": {},
   "outputs": [
    {
     "data": {
      "text/plain": [
       "datetime.datetime(2017, 5, 25, 17, 0)"
      ]
     },
     "execution_count": 62,
     "metadata": {},
     "output_type": "execute_result"
    }
   ],
   "source": [
    "datetime.strptime('May 25 2017 5:00PM', '%B %d %Y %I:%M%p')"
   ]
  },
  {
   "cell_type": "code",
   "execution_count": 64,
   "metadata": {},
   "outputs": [
    {
     "data": {
      "text/plain": [
       "datetime.datetime(2017, 5, 25, 5, 0)"
      ]
     },
     "execution_count": 64,
     "metadata": {},
     "output_type": "execute_result"
    }
   ],
   "source": [
    "datetime.strptime('May 25 2017 5:00AM', '%B %d %Y %I:%M%p')"
   ]
  },
  {
   "cell_type": "markdown",
   "metadata": {},
   "source": [
    "### Прибавление интервала к датам"
   ]
  },
  {
   "cell_type": "code",
   "execution_count": 68,
   "metadata": {},
   "outputs": [],
   "source": [
    "from datetime import timedelta"
   ]
  },
  {
   "cell_type": "code",
   "execution_count": 69,
   "metadata": {},
   "outputs": [],
   "source": [
    "start_date = '2018-01-01'\n",
    "end_date = '2018-01-07'"
   ]
  },
  {
   "cell_type": "code",
   "execution_count": 70,
   "metadata": {},
   "outputs": [
    {
     "data": {
      "text/plain": [
       "str"
      ]
     },
     "execution_count": 70,
     "metadata": {},
     "output_type": "execute_result"
    }
   ],
   "source": [
    "type(start_date)"
   ]
  },
  {
   "cell_type": "code",
   "execution_count": 74,
   "metadata": {},
   "outputs": [
    {
     "data": {
      "text/plain": [
       "True"
      ]
     },
     "execution_count": 74,
     "metadata": {},
     "output_type": "execute_result"
    }
   ],
   "source": [
    "'logs_2017-12-31.csv' < 'logs_2018-01-01.csv'"
   ]
  },
  {
   "cell_type": "code",
   "execution_count": null,
   "metadata": {},
   "outputs": [],
   "source": [
    "'logs_31.12.2017.csv'"
   ]
  },
  {
   "cell_type": "code",
   "execution_count": 71,
   "metadata": {},
   "outputs": [
    {
     "data": {
      "text/plain": [
       "datetime.datetime(2018, 1, 1, 0, 0)"
      ]
     },
     "execution_count": 71,
     "metadata": {},
     "output_type": "execute_result"
    }
   ],
   "source": [
    "start_date_datetime = datetime.strptime(start_date, '%Y-%m-%d')\n",
    "start_date_datetime"
   ]
  },
  {
   "cell_type": "code",
   "execution_count": 75,
   "metadata": {},
   "outputs": [
    {
     "data": {
      "text/plain": [
       "datetime.datetime(2018, 1, 2, 0, 0)"
      ]
     },
     "execution_count": 75,
     "metadata": {},
     "output_type": "execute_result"
    }
   ],
   "source": [
    "start_date_datetime + timedelta(days=1)"
   ]
  },
  {
   "cell_type": "code",
   "execution_count": 76,
   "metadata": {
    "scrolled": true
   },
   "outputs": [
    {
     "data": {
      "text/plain": [
       "datetime.datetime(2017, 12, 24, 23, 59)"
      ]
     },
     "execution_count": 76,
     "metadata": {},
     "output_type": "execute_result"
    }
   ],
   "source": [
    "start_date_datetime + timedelta(days=-7, minutes=-1)"
   ]
  },
  {
   "cell_type": "code",
   "execution_count": null,
   "metadata": {},
   "outputs": [],
   "source": [
    "from datetime import date, time"
   ]
  },
  {
   "cell_type": "markdown",
   "metadata": {},
   "source": [
    "### Перевод обратно в строку"
   ]
  },
  {
   "cell_type": "code",
   "execution_count": 77,
   "metadata": {},
   "outputs": [
    {
     "data": {
      "text/plain": [
       "datetime.datetime(2018, 9, 1, 20, 47, 30)"
      ]
     },
     "execution_count": 77,
     "metadata": {},
     "output_type": "execute_result"
    }
   ],
   "source": [
    "date = datetime(2018, 9, 1, 20, 47, 30)\n",
    "date"
   ]
  },
  {
   "cell_type": "code",
   "execution_count": 78,
   "metadata": {},
   "outputs": [
    {
     "data": {
      "text/plain": [
       "'2018-09-01'"
      ]
     },
     "execution_count": 78,
     "metadata": {},
     "output_type": "execute_result"
    }
   ],
   "source": [
    "date.strftime('%Y-%m-%d')"
   ]
  },
  {
   "cell_type": "code",
   "execution_count": 79,
   "metadata": {
    "scrolled": false
   },
   "outputs": [
    {
     "data": {
      "text/plain": [
       "'September 01 2018 08:47PM'"
      ]
     },
     "execution_count": 79,
     "metadata": {},
     "output_type": "execute_result"
    }
   ],
   "source": [
    "date.strftime('%B %d %Y %I:%M%p')"
   ]
  },
  {
   "cell_type": "code",
   "execution_count": null,
   "metadata": {},
   "outputs": [],
   "source": [
    "datetime.now().strftime('%Y-%m-01')"
   ]
  },
  {
   "cell_type": "code",
   "execution_count": null,
   "metadata": {},
   "outputs": [],
   "source": [
    "# как получить первый день месяца\n",
    "\n",
    "date.strftime('%Y-%m-01')"
   ]
  },
  {
   "cell_type": "code",
   "execution_count": 80,
   "metadata": {},
   "outputs": [],
   "source": [
    "start_date = '2018-01-01'\n",
    "end_date = '2018-01-07'"
   ]
  },
  {
   "cell_type": "code",
   "execution_count": 81,
   "metadata": {},
   "outputs": [
    {
     "data": {
      "text/plain": [
       "('2018-01-01', '2018-01-07')"
      ]
     },
     "execution_count": 81,
     "metadata": {},
     "output_type": "execute_result"
    }
   ],
   "source": [
    "start_date, end_date"
   ]
  },
  {
   "cell_type": "code",
   "execution_count": 82,
   "metadata": {},
   "outputs": [
    {
     "name": "stdout",
     "output_type": "stream",
     "text": [
      "2018-01-01 00:00:00 2018-01-07 00:00:00\n"
     ]
    }
   ],
   "source": [
    "start_date_dt = datetime.strptime(start_date, '%Y-%m-%d')\n",
    "end_date_dt = datetime.strptime(end_date, '%Y-%m-%d')\n",
    "\n",
    "print(start_date_dt, end_date_dt)"
   ]
  },
  {
   "cell_type": "code",
   "execution_count": 83,
   "metadata": {},
   "outputs": [
    {
     "name": "stdout",
     "output_type": "stream",
     "text": [
      "1\n",
      "2\n",
      "3\n",
      "4\n",
      "5\n",
      "6\n",
      "7\n",
      "8\n",
      "9\n",
      "10\n"
     ]
    }
   ],
   "source": [
    "i = 0\n",
    "\n",
    "while i < 10:\n",
    "    # ...\n",
    "    i += 1\n",
    "    print(i)"
   ]
  },
  {
   "cell_type": "code",
   "execution_count": 84,
   "metadata": {
    "scrolled": true
   },
   "outputs": [
    {
     "name": "stdout",
     "output_type": "stream",
     "text": [
      "2018-01-01\n",
      "2018-01-02\n",
      "2018-01-03\n",
      "2018-01-04\n",
      "2018-01-05\n",
      "2018-01-06\n",
      "2018-01-07\n"
     ]
    }
   ],
   "source": [
    "current_dt = start_date_dt\n",
    "\n",
    "while current_dt <= end_date_dt:\n",
    "    print(current_dt.strftime('%Y-%m-%d'))\n",
    "    \n",
    "    current_dt += timedelta(days=1)"
   ]
  },
  {
   "cell_type": "code",
   "execution_count": null,
   "metadata": {},
   "outputs": [],
   "source": [
    "current_dt = start_date_dt\n",
    "\n",
    "while current_dt.strftime('%Y-%m-%d') <= end_date:\n",
    "    print(current_dt.strftime('%Y-%m-%d'))\n",
    "    \n",
    "    current_dt += timedelta(days=1)"
   ]
  },
  {
   "cell_type": "code",
   "execution_count": null,
   "metadata": {},
   "outputs": [],
   "source": [
    "# можно и с помощью list comprehension\n",
    "[(start_date_dt + timedelta(days=x)).strftime('%Y-%m-%d') for x in range(10)]"
   ]
  },
  {
   "cell_type": "markdown",
   "metadata": {},
   "source": [
    "### Нагрузка на систему по часам"
   ]
  },
  {
   "cell_type": "code",
   "execution_count": 86,
   "metadata": {},
   "outputs": [
    {
     "name": "stdout",
     "output_type": "stream",
     "text": [
      "2018-04-30T21:37:41Z\n",
      "21\n"
     ]
    },
    {
     "data": {
      "text/plain": [
       "{}"
      ]
     },
     "execution_count": 86,
     "metadata": {},
     "output_type": "execute_result"
    }
   ],
   "source": [
    "stats = {}\n",
    "\n",
    "with open('logs.csv', 'r') as f:\n",
    "    for line in f:\n",
    "        line = line.strip()\n",
    "        print(line)\n",
    "        \n",
    "        # datetime.strptime(line, '').hour\n",
    "        print(line[11:13])\n",
    "        \n",
    "        break\n",
    "        \n",
    "        # вычисления нагрузки на систему...\n",
    "        \n",
    "# результат\n",
    "stats"
   ]
  },
  {
   "cell_type": "code",
   "execution_count": null,
   "metadata": {},
   "outputs": [],
   "source": [
    "# а в процентном соотношении?\n"
   ]
  },
  {
   "cell_type": "code",
   "execution_count": null,
   "metadata": {},
   "outputs": [],
   "source": []
  },
  {
   "cell_type": "code",
   "execution_count": null,
   "metadata": {},
   "outputs": [],
   "source": []
  },
  {
   "cell_type": "code",
   "execution_count": null,
   "metadata": {},
   "outputs": [],
   "source": []
  },
  {
   "cell_type": "markdown",
   "metadata": {},
   "source": [
    "###  Unixtime\n",
    "Количество секунд, прошедших с 1 января 1970 года по UTC"
   ]
  },
  {
   "cell_type": "code",
   "execution_count": 87,
   "metadata": {},
   "outputs": [],
   "source": [
    "import time\n",
    "from datetime import date\n",
    "from datetime import datetime"
   ]
  },
  {
   "cell_type": "code",
   "execution_count": 91,
   "metadata": {
    "scrolled": true
   },
   "outputs": [
    {
     "data": {
      "text/plain": [
       "69"
      ]
     },
     "execution_count": 91,
     "metadata": {},
     "output_type": "execute_result"
    }
   ],
   "source": [
    "'2018-04-30T21:37:41Z'.__sizeof__()"
   ]
  },
  {
   "cell_type": "code",
   "execution_count": 92,
   "metadata": {},
   "outputs": [
    {
     "data": {
      "text/plain": [
       "24"
      ]
     },
     "execution_count": 92,
     "metadata": {},
     "output_type": "execute_result"
    }
   ],
   "source": [
    "d = date(2019, 3, 11)\n",
    "\n",
    "unixtime = time.mktime(d.timetuple())\n",
    "unixtime.__sizeof__()"
   ]
  },
  {
   "cell_type": "code",
   "execution_count": 93,
   "metadata": {},
   "outputs": [],
   "source": [
    "from datetime import datetime"
   ]
  },
  {
   "cell_type": "code",
   "execution_count": 94,
   "metadata": {},
   "outputs": [
    {
     "data": {
      "text/plain": [
       "datetime.datetime(2019, 3, 11, 0, 0)"
      ]
     },
     "execution_count": 94,
     "metadata": {},
     "output_type": "execute_result"
    }
   ],
   "source": [
    "datetime.fromtimestamp(1552251600)"
   ]
  },
  {
   "cell_type": "markdown",
   "metadata": {},
   "source": [
    "На практике все сложнее https://habr.com/ru/post/452584/"
   ]
  },
  {
   "cell_type": "markdown",
   "metadata": {},
   "source": [
    "# Задача про интервалы\n",
    "Имеется список отсортированных по возрастанию целых чисел data. А также целое число n, которое лежит между минимальным и максимальным значениями из списка data. Вам необходимо определить минимальное ближайшее число к n из списка data.\n",
    "\n",
    "Пример:\n",
    "```python\n",
    "data = [1, 7, 17, 23, 27, 35, 65]\n",
    "n = 20\n",
    "```\n",
    "\n",
    "Ответ: 17\n",
    "\n",
    "Подобные алгоритмы используются для классификации объекта по значению одной метрики. Например, это может пригодиться для классификации учащегося по его возрасту:\n",
    "```python\n",
    "ages = {\n",
    "    1: 'дети',\n",
    "    7: 'школьники',\n",
    "    17: 'студенты',\n",
    "    23: 'аспиранты',\n",
    "    27: 'молодые ученые',\n",
    "    35: 'преподаватели',\n",
    "    65: 'пенсионеры',\n",
    "}\n",
    "```\n",
    "\n",
    "Итого напишите функцию, которая по списку data и числу n возвращает минимальное ближайшее к n число. Список может быть любым, поэтому не рассчитывайте на написание цепочки условий через if.\n",
    "\n",
    "Бонусные варианты:\n",
    "1. Рассмотрите ситуацию, в которой при фиксированном списке data вам необходимо классифицировать большое количество пользователей с разными значениями n. Например, вам необходимо классифицировать базу из 100 миллионов человек по возрастам по словарю ages из примера выше. Можно ли в таком случае ускорить проход по такому числу пользователей?\n",
    "\n",
    "2. Если вы решали основное задание перебором элементов списка data и сравнением с n, то сложность такого алгоритма O(N). Т. е. при увеличении числа элементов списка data в N раз время работы алгоритма тоже вырастет в N раз. Попробуйте ускорить этот алгоритм. Например, с помощью аналога бинарного поиска."
   ]
  }
 ],
 "metadata": {
  "kernelspec": {
   "display_name": "Python 3",
   "language": "python",
   "name": "python3"
  },
  "language_info": {
   "codemirror_mode": {
    "name": "ipython",
    "version": 3
   },
   "file_extension": ".py",
   "mimetype": "text/x-python",
   "name": "python",
   "nbconvert_exporter": "python",
   "pygments_lexer": "ipython3",
   "version": "3.7.6"
  }
 },
 "nbformat": 4,
 "nbformat_minor": 2
}
