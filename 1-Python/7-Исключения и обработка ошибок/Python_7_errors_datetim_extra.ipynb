{
 "cells": [
  {
   "cell_type": "markdown",
   "metadata": {},
   "source": [
    "Задание 1\n",
    "Печатные газеты использовали свой формат дат для каждого выпуска. Для каждой газеты из списка напишите формат указанной даты для перевода в объект datetime:\n",
    "The Moscow Times - Wednesday, October 2, 2002\n",
    "The Guardian - Friday, 11.10.13\n",
    "Daily News - Thursday, 18 August 1977"
   ]
  },
  {
   "cell_type": "code",
   "execution_count": 1,
   "metadata": {},
   "outputs": [
    {
     "name": "stdout",
     "output_type": "stream",
     "text": [
      "The Moscow Times - 2002-10-02 00:00:00\n",
      "The Guardian - 2013-10-11 00:00:00\n",
      "Daily News - 1977-08-18 00:00:00\n"
     ]
    }
   ],
   "source": [
    "from datetime import datetime\n",
    "print(f\"The Moscow Times - {datetime.strptime('Wednesday, October 2, 2002', '%A, %B %d, %Y')}\")\n",
    "print(f\"The Guardian - {datetime.strptime('Friday, 11.10.13', '%A, %d.%m.%y')}\")\n",
    "print(f\"Daily News - {datetime.strptime('Thursday, 18 August 1977', '%A, %d %B %Y')}\")"
   ]
  },
  {
   "cell_type": "markdown",
   "metadata": {},
   "source": [
    "Задание 2\n",
    "Дан поток дат в формате YYYY-MM-DD, в которых встречаются некорректные значения:\n",
    "stream = ['2018-04-02', '2018-02-29', '2018-19-02']\n",
    "\n",
    "Напишите функцию, которая проверяет эти даты на корректность. Т. е. для каждой даты возвращает True (дата корректна) или False (некорректная дата). \n"
   ]
  },
  {
   "cell_type": "code",
   "execution_count": 2,
   "metadata": {},
   "outputs": [
    {
     "name": "stdout",
     "output_type": "stream",
     "text": [
      "True\n",
      "False\n",
      "False\n"
     ]
    }
   ],
   "source": [
    "def check_formate(s):\n",
    "    \"\"\"проверяет даты на корректность\"\"\"\n",
    "    try:\n",
    "        datetime.strptime(s, '%Y-%m-%d')\n",
    "        return True\n",
    "    except:\n",
    "        return False\n",
    "           \n",
    "        \n",
    "from datetime import datetime        \n",
    "stream = ['2018-04-30', '2018-02-29', '2018-19-02']\n",
    "for st in stream:\n",
    "    print(check_formate(st))"
   ]
  },
  {
   "cell_type": "markdown",
   "metadata": {},
   "source": [
    "Задание 3\n",
    "Напишите функцию date_range, которая возвращает список дат за период от start_date до end_date. Даты должны вводиться в формате YYYY-MM-DD. В случае неверного формата или при start_date > end_date должен возвращаться пустой список.\n"
   ]
  },
  {
   "cell_type": "code",
   "execution_count": 3,
   "metadata": {},
   "outputs": [
    {
     "name": "stdout",
     "output_type": "stream",
     "text": [
      "Введите начальную дату в формате YYYY-MM-DD:2020-02-28\n",
      "Введите конечную дату в формате YYYY-MM-DD:2020-03-05\n",
      "['2020-02-29', '2020-03-01', '2020-03-02', '2020-03-03', '2020-03-04', '2020-03-05']\n"
     ]
    }
   ],
   "source": [
    "def date_range(s_d, e_d):\n",
    "    \"\"\"возвращает список дат за период\"\"\"\n",
    "    d_r_list = []\n",
    "    try:\n",
    "        s_d = datetime.strptime(start_date, '%Y-%m-%d')\n",
    "        e_d = datetime.strptime(end_date, '%Y-%m-%d')\n",
    "        if s_d > e_d:\n",
    "            print('Начальная дата больше конечной')\n",
    "        else:\n",
    "            d_r = s_d\n",
    "            while d_r != e_d:\n",
    "                d_r += timedelta(days=1)\n",
    "                d_r_list.append(d_r.strftime('%Y-%m-%d'))\n",
    "    except ValueError:\n",
    "        print('Неверный формат дат')\n",
    "    finally:\n",
    "        return(d_r_list)\n",
    "\n",
    "    \n",
    "from datetime import datetime, timedelta\n",
    "start_date = input('Введите начальную дату в формате YYYY-MM-DD:')\n",
    "end_date = input('Введите конечную дату в формате YYYY-MM-DD:')\n",
    "print(date_range(start_date, end_date))"
   ]
  },
  {
   "cell_type": "raw",
   "metadata": {},
   "source": [
    "Задание 4 (бонусное)\n",
    "Ваш коллега прислал код функции:\n",
    "\n",
    "DEFAULT_USER_COUNT = 3\n",
    "\n",
    "def delete_and_return_last_user(region, default_list=['A100', 'A101', 'A102']):\n",
    "    \"\"\"\n",
    "    Удаляет из списка default_list последнего пользователя \n",
    "    и возвращает ID нового последнего пользователя.\n",
    "    \"\"\"\n",
    "    element_to_delete = default_list[-1]\n",
    "    default_list.remove(element_to_delete)\n",
    "    \n",
    "    return default_list[DEFAULT_USER_COUNT-2]\n",
    "\n",
    "При однократном вызове этой функции все работает корректно:\n",
    "delete_and_return_last_user(1)\n",
    "'A101'\n",
    "\n",
    "Однако, при повторном вызове получается ошибка IndexError: list index out of range.\n",
    "\n",
    "Задание:\n",
    "1. Что значит ошибка list index out of range?\n",
    "2. Почему при первом запуске функция работает корректно, а при втором - нет?"
   ]
  },
  {
   "cell_type": "markdown",
   "metadata": {},
   "source": [
    "1. Ошибка list index out of range - значит, что вызываемый индекс элемента списка вне допустимого диапазона\n",
    "2. При втором вызове функции выдается ошибка, потому что после второго прохода в списке остается единственный элемент с индексом [0], а    эта строка:\n",
    "        return default_list[DEFAULT_USER_COUNT-2]\n",
    "   пытается обратиться к элементу с индексом [1]"
   ]
  },
  {
   "cell_type": "code",
   "execution_count": null,
   "metadata": {},
   "outputs": [],
   "source": []
  },
  {
   "cell_type": "markdown",
   "metadata": {},
   "source": [
    "Задача про интервалы (из лекции)\n",
    "\n",
    "Имеется список отсортированных по возрастанию целых чисел data. А также целое число n, которое лежит между минимальным и максимальным значениями из списка data. Вам необходимо определить минимальное ближайшее число к n из списка data.\n",
    "\n",
    "Пример:\n",
    "\n",
    "data = [1, 7, 17, 23, 27, 35, 65]\n",
    "n = 20\n",
    "Ответ: 17\n",
    "\n",
    "Подобные алгоритмы используются для классификации объекта по значению одной метрики. Например, это может пригодиться для классификации учащегося по его возрасту:\n",
    "\n",
    "ages = {\n",
    "    1: 'дети',\n",
    "    7: 'школьники',\n",
    "    17: 'студенты',\n",
    "    23: 'аспиранты',\n",
    "    27: 'молодые ученые',\n",
    "    35: 'преподаватели',\n",
    "    65: 'пенсионеры',\n",
    "}\n",
    "Итого напишите функцию, которая по списку data и числу n возвращает минимальное ближайшее к n число. Список может быть любым, поэтому не рассчитывайте на написание цепочки условий через if.\n",
    "\n",
    "Бонусные варианты:\n",
    "\n",
    "Рассмотрите ситуацию, в которой при фиксированном списке data вам необходимо классифицировать большое количество пользователей с разными значениями n. Например, вам необходимо классифицировать базу из 100 миллионов человек по возрастам по словарю ages из примера выше. Можно ли в таком случае ускорить проход по такому числу пользователей?\n",
    "\n",
    "Если вы решали основное задание перебором элементов списка data и сравнением с n, то сложность такого алгоритма O(N). Т. е. при увеличении числа элементов списка data в N раз время работы алгоритма тоже вырастет в N раз. Попробуйте ускорить этот алгоритм. Например, с помощью аналога бинарного поиска."
   ]
  },
  {
   "cell_type": "code",
   "execution_count": null,
   "metadata": {},
   "outputs": [],
   "source": []
  },
  {
   "cell_type": "markdown",
   "metadata": {},
   "source": [
    "Получилось два способа перебора. Какой из них удачнее? И попробовала бинарный поиск."
   ]
  },
  {
   "cell_type": "code",
   "execution_count": 4,
   "metadata": {},
   "outputs": [
    {
     "name": "stdout",
     "output_type": "stream",
     "text": [
      "17\n"
     ]
    }
   ],
   "source": [
    "def nearest_smaller(data, n):\n",
    "    \"\"\"возвращает минимальное ближайшее к n число перебором\"\"\"\n",
    "    dt = []\n",
    "    for d in data:\n",
    "        if d <= n:\n",
    "           dt.append(d)\n",
    "    return max(dt)\n",
    "\n",
    "data = [1, 7, 17, 23, 27, 35, 65]\n",
    "n = 20\n",
    "print(nearest_smaller(data, n))\n",
    "\n"
   ]
  },
  {
   "cell_type": "code",
   "execution_count": 5,
   "metadata": {},
   "outputs": [
    {
     "name": "stdout",
     "output_type": "stream",
     "text": [
      "17\n"
     ]
    }
   ],
   "source": [
    "def nearest_smaller(data, n):\n",
    "    \"\"\"возвращает минимальное ближайшее к n число перебором\"\"\"\n",
    "    dt = []\n",
    "    d_m = min(data)\n",
    "    for d in data:\n",
    "        if d <= n:\n",
    "            if d > d_m:\n",
    "                d_m = d\n",
    "    return d_m\n",
    "\n",
    "data = [1, 7, 17, 23, 27, 35, 65]\n",
    "n = 20\n",
    "print(nearest_smaller(data, n))"
   ]
  },
  {
   "cell_type": "code",
   "execution_count": 6,
   "metadata": {},
   "outputs": [
    {
     "name": "stdout",
     "output_type": "stream",
     "text": [
      "17\n"
     ]
    }
   ],
   "source": [
    "def binary_search(data, n):\n",
    "    \"\"\"возвращает минимальное ближайшее к n число аналогом бинарного поиска\"\"\"\n",
    "    first = 0\n",
    "    last = len(data) - 1\n",
    "    if data[first] == n or data[last] == n:\n",
    "        return n\n",
    "    while (last - first) != 1:\n",
    "        middle = (first + last) // 2\n",
    "        if data[middle] == n:\n",
    "            return n\n",
    "        elif data[middle] > n:\n",
    "            last = middle\n",
    "        elif data[middle] < n:\n",
    "            first = middle\n",
    "    else:\n",
    "        return min(data[first], data[last])\n",
    "            \n",
    "data = [1, 7, 17, 23, 27, 35, 65]\n",
    "n = 20\n",
    "print(binary_search(data, n))    "
   ]
  }
 ],
 "metadata": {
  "kernelspec": {
   "display_name": "Python 3",
   "language": "python",
   "name": "python3"
  },
  "language_info": {
   "codemirror_mode": {
    "name": "ipython",
    "version": 3
   },
   "file_extension": ".py",
   "mimetype": "text/x-python",
   "name": "python",
   "nbconvert_exporter": "python",
   "pygments_lexer": "ipython3",
   "version": "3.7.6"
  }
 },
 "nbformat": 4,
 "nbformat_minor": 4
}
