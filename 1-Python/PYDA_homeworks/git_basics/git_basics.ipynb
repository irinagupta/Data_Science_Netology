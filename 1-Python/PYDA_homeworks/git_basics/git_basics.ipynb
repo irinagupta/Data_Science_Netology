{
 "cells": [
  {
   "cell_type": "markdown",
   "metadata": {},
   "source": [
    "# Домашнее задание к лекции \"Настройка среды и работа с GIT\""
   ]
  },
  {
   "cell_type": "markdown",
   "metadata": {},
   "source": [
    "## Задание 1"
   ]
  },
  {
   "cell_type": "markdown",
   "metadata": {},
   "source": [
    "Мы должны удостовериться, что вы установили требуемое ПО перед содержательной частью курса. Необходимо прикрепить скриншот запущенного Jupyter Notebook на вашем ПК. Можно использовать сервис https://pastenow.ru/."
   ]
  },
  {
   "cell_type": "markdown",
   "metadata": {},
   "source": [
    "## Задание 2"
   ]
  },
  {
   "cell_type": "markdown",
   "metadata": {},
   "source": [
    "### Обязательная часть"
   ]
  },
  {
   "cell_type": "markdown",
   "metadata": {},
   "source": [
    "Пришлите скриншоты, которые будут демонстрировать, что вы прошли первые 4 уровня из раздела \"Основы\" и первые 6 уровней из раздела \"Удаленные репозитории\" на [интерактивном тренажере Git](https://learngitbranching.js.org/?locale=ru_RU)."
   ]
  },
  {
   "cell_type": "markdown",
   "metadata": {},
   "source": [
    "### Дополнительная часть (необязательная)"
   ]
  },
  {
   "cell_type": "markdown",
   "metadata": {},
   "source": [
    "Пришлите скриншоты, которые будут демонстрировать, что вы выполнили все упражнения на [интерактивном тренажере Git](https://learngitbranching.js.org/?locale=ru_RU)."
   ]
  },
  {
   "cell_type": "markdown",
   "metadata": {},
   "source": [
    "## Задание 3"
   ]
  },
  {
   "cell_type": "markdown",
   "metadata": {},
   "source": [
    "Подготовьте и пришлите ссылку на репозиторий, в котором вы будете размещать домашние работы по курсу. Структура репозитория может быть любая, но самый очевидный вариант – своя отдельная папка для каждой лекции.  \n",
    "*Внимание!* Git не работает с пустыми папками. О том, как решить эту проблему, можете почитать, например, [здесь](https://ru.stackoverflow.com/questions/623608/%d0%9a%d0%b0%d0%ba-%d0%b4%d0%be%d0%b1%d0%b0%d0%b2%d0%b8%d1%82%d1%8c-%d0%bf%d1%83%d1%81%d1%82%d1%83%d1%8e-%d0%bf%d0%b0%d0%bf%d0%ba%d1%83-%d0%b2-%d1%80%d0%b5%d0%bf%d0%be%d0%b7%d0%b8%d1%82%d0%be%d1%80%d0%b8%d0%b8-git).  \n",
    "Или вы можете сделать [fork](https://git-scm.com/book/ru/v2/GitHub-%D0%92%D0%BD%D0%B5%D1%81%D0%B5%D0%BD%D0%B8%D0%B5-%D1%81%D0%BE%D0%B1%D1%81%D1%82%D0%B2%D0%B5%D0%BD%D0%BD%D0%BE%D0%B3%D0%BE-%D0%B2%D0%BA%D0%BB%D0%B0%D0%B4%D0%B0-%D0%B2-%D0%BF%D1%80%D0%BE%D0%B5%D0%BA%D1%82%D1%8B) моего репозитория с условиями ДЗ и потом работать прямо в этих файлах. Тогда просто отправьте ссылку на свою копию этого репозиторию на github.com."
   ]
  },
  {
   "cell_type": "markdown",
   "metadata": {},
   "source": [
    "## Задание 4 (необязательное)"
   ]
  },
  {
   "cell_type": "markdown",
   "metadata": {},
   "source": [
    "Если вы еще недостаточно уверенно чувствуете себя в работе в командной строке, то изучите [разнообразие доступных графических клиентов для Git](https://techrocks.ru/2020/04/24/best-git-gui-for-mac-linux-windows/). Выберете и освойте любой из них и напишите об этом."
   ]
  }
 ],
 "metadata": {
  "kernelspec": {
   "display_name": "Python 3",
   "language": "python",
   "name": "python3"
  },
  "language_info": {
   "codemirror_mode": {
    "name": "ipython",
    "version": 3
   },
   "file_extension": ".py",
   "mimetype": "text/x-python",
   "name": "python",
   "nbconvert_exporter": "python",
   "pygments_lexer": "ipython3",
   "version": "3.7.6"
  }
 },
 "nbformat": 4,
 "nbformat_minor": 2
}
