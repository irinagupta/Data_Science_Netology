{
 "cells": [
  {
   "cell_type": "markdown",
   "metadata": {},
   "source": [
    "**Задание 1**. Даны 2 строки: *long_phrase* и *short_phrase*. \n",
    "Напишите код, который проверяет действительно ли длинная фраза *long_phrase* длиннее короткой *short_phrase*. И выводит *True* или *False* в зависимости от результата сравнения."
   ]
  },
  {
   "cell_type": "code",
   "execution_count": 1,
   "metadata": {},
   "outputs": [],
   "source": [
    "long_phrase = 'Насколько проще было бы писать программы, если бы не заказчики'\n",
    "short_phrase = '640Кб должно хватить для любых задач. Билл Гейтс (по легенде)'"
   ]
  },
  {
   "cell_type": "code",
   "execution_count": 2,
   "metadata": {},
   "outputs": [
    {
     "name": "stdout",
     "output_type": "stream",
     "text": [
      "True\n"
     ]
    }
   ],
   "source": [
    "print(len(long_phrase) > len(short_phrase))\n"
   ]
  },
  {
   "cell_type": "markdown",
   "metadata": {},
   "source": [
    "**Задание 2**. Дано значение объема файла в байтах (*в мегабайте 2^20 байт*). Напишите перевод этого значения в мегабайты в формате: \"*Объем файла равен 213.68Mb*\"."
   ]
  },
  {
   "cell_type": "code",
   "execution_count": 3,
   "metadata": {},
   "outputs": [
    {
     "name": "stdout",
     "output_type": "stream",
     "text": [
      "Введите объем файла в байтах1000000\n",
      "Объем файла равен 0.95367431640625 Mb\n"
     ]
    }
   ],
   "source": [
    "file = int(input('Введите объем файла в байтах'))\n",
    "print('Объем файла равен', file / 2**20, 'Mb')"
   ]
  },
  {
   "cell_type": "markdown",
   "metadata": {},
   "source": [
    "**Задание 3**. Разработать приложение для определения знака зодиака по дате рождения. Пример:\n",
    "\n",
    "Введите месяц: март\n",
    "\n",
    "Введите число: 6\n",
    "\n",
    "Вывод:\n",
    "Рыбы"
   ]
  },
  {
   "cell_type": "code",
   "execution_count": 4,
   "metadata": {},
   "outputs": [
    {
     "name": "stdout",
     "output_type": "stream",
     "text": [
      "Введите месяц:Октябрь\n",
      "Введите число:6\n",
      "Знак зодиака: Весы\n"
     ]
    }
   ],
   "source": [
    "month = input('Введите месяц:')\n",
    "date = int(input('Введите число:'))\n",
    "if ((month == 'декабрь' or month == 'Декабрь') and 22 <= date <=31) or ((month == 'январь' or month == 'Январь') and 1 <= date <=21):\n",
    "    print('Знак зодиака: Козерог')\n",
    "elif ((month == 'январь' or month == 'Январь') and 22 <= date <=31) or ((month == 'февраль' or month == 'Февраль') and 1 <= date <=19):\n",
    "    print('Знак зодиака: Водолей')\n",
    "elif ((month == 'февраль' or month == 'Февраль') and 20 <= date <=29) or ((month == 'март' or month == 'Март') and 1 <= date <=20):\n",
    "    print('Знак зодиака: Рыбы')\n",
    "elif ((month == 'март' or month == 'Март') and 21 <= date <=31) or ((month == 'апрель' or month == 'Апрель') and 1 <= date <=20):\n",
    "    print('Знак зодиака: Овен')\n",
    "elif ((month == 'апрель' or month == 'Апрель') and 21 <= date <=30) or ((month == 'май' or month == 'Май') and 1 <= date <=21):\n",
    "    print('Знак зодиака: Телец')\n",
    "elif ((month == 'май' or month == 'Май') and 22 <= date <=30) or ((month == 'июнь' or month == 'Июнь') and 1 <= date <=21):\n",
    "    print('Знак зодиака: Близнецы')\n",
    "elif ((month == 'июнь' or month == 'Июнь') and 22 <= date <=30) or ((month == 'июль' or month == 'Июль') and 1 <= date <=23):\n",
    "    print('Знак зодиака: Рак')\n",
    "elif ((month == 'июль' or month == 'Июль') and 24 <= date <=31) or ((month == 'август' or month == 'Август') and 1 <= date <=23):\n",
    "    print('Знак зодиака: Лев')\n",
    "elif ((month == 'август' or month == 'Август') and 24 <= date <=31) or ((month == 'сентябрь' or month == 'Cентябрь') and 1 <= date <=23):\n",
    "    print('Знак зодиака: Дева')\n",
    "elif ((month == 'сентябрь'  or month == 'Cентябрь') and 24 <= date <=30) or ((month == 'октябрь' or month == 'Октябрь') and 1 <= date <=23):\n",
    "    print('Знак зодиака: Весы')\n",
    "elif ((month == 'октябрь' or month == 'Октябрь') and 24 <= date <=31) or ((month == 'ноябрь' or month == 'Ноябрь') and 1 <= date <=22):\n",
    "    print('Знак зодиака: Скорпион')\n",
    "elif ((month == 'ноябрь' or month == 'Ноябрь') and 23 <= date <=30) or ((month == 'декабрь'or month == 'Декабрь') and 1 <= date <=21):\n",
    "    print('Знак зодиака: Стрелец')\n",
    "else:\n",
    "    print('Неверно введен месяц или число')"
   ]
  },
  {
   "cell_type": "markdown",
   "metadata": {},
   "source": [
    "**Задание 4**. Нужно разработать приложение для финансового планирования.\n",
    "Приложение учитывает сколько уходит на ипотеку, \"на жизнь\" и сколько нужно отложить на пенсию.\n",
    "Пользователь вводит:\n",
    "- заработанную плату в месяц.\n",
    "- сколько процентов от ЗП уходит на ипотеку.\n",
    "- сколько процентов от ЗП уходит \"на жизнь\".\n",
    "- сколько раз приходит премия в год.\n",
    "\n",
    "Остальная часть заработанной платы откладывается на пенсию.\n",
    "\n",
    "Также пользователю приходит премия в размере зарплаты, от которой половина уходит на отпуск, а вторая половина откладывается.\n",
    "\n",
    "Программа должна учитывать сколько премий было в год.\n",
    "\n",
    "Нужно вывести сколько денег тратит пользователь на ипотеку и сколько он накопит за год.\n",
    "\n",
    "Пример:\n",
    "\n",
    "Введите заработанную плату в месяц: 100000\n",
    "\n",
    "Введите сколько процентов уходит на ипотеку: 30\n",
    "\n",
    "Введите сколько процентов уходит на жизнь: 50\n",
    "\n",
    "Введите количество премий за год: 2\n",
    "\n",
    "Вывод:\n",
    "На ипотеку было потрачено: 360000 рублей\n",
    "Было накоплено: 340000 рублей"
   ]
  },
  {
   "cell_type": "code",
   "execution_count": 5,
   "metadata": {},
   "outputs": [
    {
     "name": "stdout",
     "output_type": "stream",
     "text": [
      "Введите заработанную плату в месяц:100000\n",
      "Введите сколько процентов уходит на ипотеку:30\n",
      "Введите сколько процентов уходит на жизнь:50\n",
      "Введите количество премий за год:2\n",
      "Вывод: На ипотеку было потрачено: 360000.0 рублей. Было накоплено: 340000.0 рублей.\n"
     ]
    }
   ],
   "source": [
    "zarplata = int(input('Введите заработанную плату в месяц:'))\n",
    "ipoteka = int(input('Введите сколько процентов уходит на ипотеку:'))\n",
    "zhizn = int(input('Введите сколько процентов уходит на жизнь:'))\n",
    "premii_kolich = int(input('Введите количество премий за год:'))\n",
    "ipoteka_month = zarplata * (ipoteka * 0.01)\n",
    "zhizn_month = zarplata * (zhizn * 0.01)\n",
    "premii_nakopl = (premii_kolich * zarplata) / 2\n",
    "nakopl = (zarplata - ipoteka_month - zhizn_month) * 12 + premii_nakopl\n",
    "print('Вывод: На ипотеку было потрачено:', ipoteka_month * 12, 'рублей.', 'Было накоплено:', nakopl, 'рублей.')"
   ]
  },
  {
   "cell_type": "code",
   "execution_count": null,
   "metadata": {},
   "outputs": [],
   "source": []
  }
 ],
 "metadata": {
  "kernelspec": {
   "display_name": "Python 3",
   "language": "python",
   "name": "python3"
  },
  "language_info": {
   "codemirror_mode": {
    "name": "ipython",
    "version": 3
   },
   "file_extension": ".py",
   "mimetype": "text/x-python",
   "name": "python",
   "nbconvert_exporter": "python",
   "pygments_lexer": "ipython3",
   "version": "3.7.6"
  }
 },
 "nbformat": 4,
 "nbformat_minor": 2
}
