{
 "cells": [
  {
   "cell_type": "markdown",
   "metadata": {},
   "source": [
    "# Домашнее задание к лекции \"Регулярные выражения\"\n",
    "\n",
    "Внимание! При реализации всех заданий необходимо использовать именно функционал регулярных выражений для обработки текста."
   ]
  },
  {
   "cell_type": "markdown",
   "metadata": {},
   "source": [
    "## Задание 1\n",
    "\n",
    "Напишите функцию, которая принимает на вход строку и проверяет является ли она валидным транспортным номером (1 буква, 3 цифры, 2 буквы, 2-3 цифры). Обратите внимание, что не все буквы кириллического алфавита используются в транспортных номерах.\n",
    "\n",
    "Если номер валиден, то функция должна возвращать отдельно номер и регион.\n",
    "\n",
    "Примеры работы программы:  \n",
    "\n",
    "1. `car_id = 'АВ222С96'`\n",
    "\n",
    "Результат: \n",
    "`Номер АВ222С валиден. Регион: 96`\n",
    "\n",
    "2. `car_id = 'АБ22ВВ193'`\n",
    "\n",
    "Результат: \n",
    "`Номер не валиден`"
   ]
  },
  {
   "cell_type": "code",
   "execution_count": 1,
   "metadata": {},
   "outputs": [
    {
     "name": "stdout",
     "output_type": "stream",
     "text": [
      "Введите транспортный номер: с654кв78\n",
      "Номер с654кв валиден. Регион: 78\n"
     ]
    }
   ],
   "source": [
    "def validity_car_id(car_id):\n",
    "    \"\"\"Проверяет валидность транспортного номера\"\"\"\n",
    "    regex_car_id = re.fullmatch(r'([авекмнорстух])(\\d{3})([авекмнорстух]{2})(?P<region>\\d{2,3})', car_id, flags=re.IGNORECASE)\n",
    "    if regex_car_id:\n",
    "        reg_number = regex_car_id.group(1) + regex_car_id.group(2) + regex_car_id.group(3)\n",
    "        reg_region = regex_car_id.group(4)\n",
    "        return (reg_number, reg_region)\n",
    "    else:\n",
    "        return None\n",
    "    \n",
    "import re\n",
    "val_c_id = validity_car_id(input('Введите транспортный номер: '))\n",
    "if val_c_id != None:\n",
    "    print(f'Номер {val_c_id[0]} валиден. Регион: {val_c_id[1]}')\n",
    "else:\n",
    "    print('Номер не валиден')"
   ]
  },
  {
   "cell_type": "markdown",
   "metadata": {},
   "source": [
    "## Задание 2\n",
    "\n",
    "Напишите функцию, которая будет удалять все последовательные повторы слов из заданной строки при помощи регулярных выражений.\n",
    "\n",
    "Пример работы программы:  \n",
    "\n",
    "`some_string = 'Напишите функцию функцию, которая будет будет будет будет удалять все все все все последовательные повторы слов из из из из заданной строки строки при помощи регулярных выражений'`\n",
    "\n",
    "Результат: \n",
    "`Напишите функцию, которая будет удалять все последовательные повторы слов из заданной строки при помощи регулярных выражений.`"
   ]
  },
  {
   "cell_type": "code",
   "execution_count": 2,
   "metadata": {},
   "outputs": [
    {
     "name": "stdout",
     "output_type": "stream",
     "text": [
      "Напишите функцию, которая будет удалять все последовательные повторы слов из заданной строки при помощи регулярных выражений\n"
     ]
    }
   ],
   "source": [
    "def delete_repeat(string):\n",
    "    \"\"\"Удаляет повторы слов из строки\"\"\"\n",
    "    string_no_repeat = re.sub(r'(\\b\\S+)(?:\\s+\\1\\b)+', r'\\1',string)\n",
    "    return string_no_repeat\n",
    "\n",
    "import re\n",
    "some_string = 'Напишите функцию функцию, которая будет будет будет будет удалять все все все все последовательные повторы слов из из из из заданной строки строки при помощи регулярных выражений'\n",
    "print(delete_repeat(some_string))"
   ]
  },
  {
   "cell_type": "markdown",
   "metadata": {},
   "source": [
    "## Задание 3\n",
    "\n",
    "Напишите функцию, которая будет возвращать акроним по переданной в нее строке со словами.\n",
    "\n",
    "Примеры работы программы:  \n",
    "\n",
    "1. `some_words = 'Информационные технологии'`\n",
    "\n",
    "Результат: \n",
    "`ИТ`\n",
    "\n",
    "2. `some_words = 'Near Field Communication'`\n",
    "\n",
    "Результат: \n",
    "`NFC`"
   ]
  },
  {
   "cell_type": "code",
   "execution_count": 3,
   "metadata": {},
   "outputs": [
    {
     "name": "stdout",
     "output_type": "stream",
     "text": [
      "ИТ\n",
      "NFC\n"
     ]
    }
   ],
   "source": [
    "def return_acronym(string):\n",
    "    \"\"\"Возвращает акроним строки\"\"\"\n",
    "    string_acronim = ''.join(re.findall(r'\\b\\w', string.title()))\n",
    "    return string_acronim\n",
    "\n",
    "import re\n",
    "print(return_acronym('Информационные технологии'))\n",
    "print(return_acronym('Near Field Communication'))"
   ]
  },
  {
   "cell_type": "markdown",
   "metadata": {},
   "source": [
    "## Задание 4\n",
    "\n",
    "Напишите функцию, которая будет принимать на вход список email-адресов и выводить их распределение по доменным зонам.\n",
    "\n",
    "Пример работы программы:  \n",
    "\n",
    "`emails = ['test@gmail.com, xyz@test.in, test@ya.ru, xyz@mail.ru, xyz@ya.ru', xyz@gmail.com]`\n",
    "\n",
    "Результат: \n",
    "```\n",
    "gmail.com: 2\n",
    "test.in: 1 \n",
    "ya.ru: 2 \n",
    "mail.ru: 1\n",
    "```"
   ]
  },
  {
   "cell_type": "code",
   "execution_count": 4,
   "metadata": {},
   "outputs": [
    {
     "name": "stdout",
     "output_type": "stream",
     "text": [
      "gmail.com: 2\n",
      "test.in: 1\n",
      "ya.ru: 2\n",
      "mail.ru: 1\n"
     ]
    }
   ],
   "source": [
    "def by_domain_zones(emails):\n",
    "    \"\"\"Вычисление распределения списка email-адресов по доменным зонам\"\"\"\n",
    "    zones_dict = {}\n",
    "    for e_m in emails:\n",
    "        em = re.findall(r'(?<=@)\\w+.\\w+', e_m)\n",
    "        if em[0] not in zones_dict:\n",
    "            zones_dict[em[0]] = 1\n",
    "        else:\n",
    "            zones_dict[em[0]] += 1\n",
    "    for k, v in zones_dict.items():\n",
    "        print(f'{k}: {v}')\n",
    "        \n",
    "import re\n",
    "emails_list = ['test@gmail.com', 'xyz@test.in', 'test@ya.ru', 'xyz@mail.ru', 'xyz@ya.ru', 'xyz@gmail.com']\n",
    "by_domain_zones(emails_list)\n"
   ]
  },
  {
   "cell_type": "markdown",
   "metadata": {},
   "source": [
    "## Задание 5 (необязательное)\n",
    "\n",
    "Напишите функцию, которая будет подсчитывать сколько слов начинается на гласные, а сколько на согласные буквы в тексте (текст может быть написан как с использованием букв кириллицы, так и латиницы).\n",
    "\n",
    "Пример работы программы:  \n",
    "\n",
    "`some_text = 'Эталонной реализацией Python является интерпретатор CPython, поддерживающий большинство активно используемых платформ. Он распространяется под свободной лицензией Python Software Foundation License, позволяющей использовать его без ограничений в любых приложениях, включая проприетарные.'`\n",
    "\n",
    "Результат: \n",
    "```\n",
    "Слов на гласные буквы: 9\n",
    "Слов на согласные буквы: 21 \n",
    "```"
   ]
  },
  {
   "cell_type": "code",
   "execution_count": 5,
   "metadata": {},
   "outputs": [
    {
     "name": "stdout",
     "output_type": "stream",
     "text": [
      "Слов на гласные буквы:  9 \n",
      "Слов на согласные буквы:  21\n"
     ]
    }
   ],
   "source": [
    "def counting_vowels_consonants(string):\n",
    "    \"\"\"Подсчитавает сколько слов начинается на гласные, а сколько на согласные буквы в тексте\"\"\"\n",
    "    letters = re.findall(r'\\b\\w', string.lower())\n",
    "    vowels = sum(1 for l in letters if l in 'aeiouyаеёиоуыэюя')\n",
    "    consonants = sum(1 for l in letters if l in 'bcdfghjklmnpqrstvwxzбвгджзклмнпрстфхцчшщ')\n",
    "    print(f'Слов на гласные буквы: ',vowels,'\\nСлов на согласные буквы: ',consonants)\n",
    "\n",
    "import re\n",
    "some_text = 'Эталонной реализацией Python является интерпретатор CPython, поддерживающий большинство активно используемых платформ. Он распространяется под свободной лицензией Python Software Foundation License, позволяющей использовать его без ограничений в любых приложениях, включая проприетарные.'\n",
    "counting_vowels_consonants(some_text)"
   ]
  },
  {
   "cell_type": "markdown",
   "metadata": {},
   "source": [
    "## Задание 6 (необязательное)\n",
    "Напишите функцию, которая будет проверять номер сотового телефона на валидность, если он валиден, то переводить его в формат:   \n",
    "+7-xxx-xxx-xx-xx  \n",
    "Постарайтесь предусмотреть как можно больше адекватных форматов изначального ввода номера.\n",
    "Примеры работы программы:  \n",
    "\n",
    "1. `phone = '+7 955 555-55-55'`\n",
    "\n",
    "Результат: \n",
    "`+7-950-555-55-55`\n",
    "\n",
    "2. `phone = '8(955)555-55-55'`\n",
    "\n",
    "Результат: \n",
    "`+7-950-555-55-55`\n",
    "\n",
    "3. `phone = '+7 955 555 55 55'`\n",
    "\n",
    "Результат: \n",
    "`+7-950-555-55-55`\n",
    "\n",
    "4. `phone = '7(955) 555-55-55'`\n",
    "\n",
    "Результат: \n",
    "`+7-950-555-55-55`\n",
    "\n",
    "5. `phone = '423-555-55-5555'`\n",
    "\n",
    "Результат: \n",
    "`Номер не валиден`\n",
    "\n",
    "6. `phone = '123-456-789'`\n",
    "\n",
    "Результат: \n",
    "`Номер не валиден`"
   ]
  },
  {
   "cell_type": "code",
   "execution_count": 6,
   "metadata": {},
   "outputs": [
    {
     "name": "stdout",
     "output_type": "stream",
     "text": [
      "+7-955-555-55-55\n"
     ]
    }
   ],
   "source": [
    "def check_number_validity(phone_number):\n",
    "    \"\"\"Проверяет номер сотового телефона на валидность\"\"\"\n",
    "    number = re.fullmatch(r'(7|8|\\+7)([\\s(-]*)(\\d{3})([\\s)-]*)(\\d{3})([\\s-]*)(\\d{2})([\\s-]*)(\\d{2})', phone_number)\n",
    "    if number:\n",
    "        print(f'+7-', number.group(3), '-', number.group(5), '-', number.group(7), '-', number.group(9), sep = '')\n",
    "    else:\n",
    "        print('Номер не валиден')\n",
    "\n",
    "import re\n",
    "check_number_validity('8(955)555-55-55')\n"
   ]
  },
  {
   "cell_type": "code",
   "execution_count": null,
   "metadata": {},
   "outputs": [],
   "source": []
  }
 ],
 "metadata": {
  "kernelspec": {
   "display_name": "Python 3",
   "language": "python",
   "name": "python3"
  },
  "language_info": {
   "codemirror_mode": {
    "name": "ipython",
    "version": 3
   },
   "file_extension": ".py",
   "mimetype": "text/x-python",
   "name": "python",
   "nbconvert_exporter": "python",
   "pygments_lexer": "ipython3",
   "version": "3.7.6"
  }
 },
 "nbformat": 4,
 "nbformat_minor": 2
}
