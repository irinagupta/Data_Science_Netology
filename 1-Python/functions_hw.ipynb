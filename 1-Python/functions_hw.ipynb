{
 "cells": [
  {
   "cell_type": "markdown",
   "metadata": {},
   "source": [
    "Вы работаете секретарем и вам постоянно приходят различные документы. Вы должны быть очень внимательны, чтобы не потерять ни один документ. Каталог документов хранится в следующем виде:"
   ]
  },
  {
   "cell_type": "code",
   "execution_count": null,
   "metadata": {},
   "outputs": [],
   "source": [
    "documents = [\n",
    "    {'type': 'passport', 'number': '2207 876234', 'name': 'Василий Гупкин'},\n",
    "    {'type': 'invoice', 'number': '11-2', 'name': 'Геннадий Покемонов'},\n",
    "    {'type': 'insurance', 'number': '10006', 'name': 'Аристарх Павлов'}\n",
    "]"
   ]
  },
  {
   "cell_type": "markdown",
   "metadata": {},
   "source": [
    "Перечень полок, на которых находятся документы хранится в следующем виде:"
   ]
  },
  {
   "cell_type": "code",
   "execution_count": null,
   "metadata": {},
   "outputs": [],
   "source": [
    "directories = {\n",
    "    '1': ['2207 876234', '11-2'],\n",
    "    '2': ['10006'],\n",
    "    '3': []\n",
    "}"
   ]
  },
  {
   "cell_type": "code",
   "execution_count": null,
   "metadata": {},
   "outputs": [],
   "source": []
  },
  {
   "cell_type": "code",
   "execution_count": 1,
   "metadata": {},
   "outputs": [
    {
     "name": "stdout",
     "output_type": "stream",
     "text": [
      "Введите команду:  s\n",
      "Введите номер документа:  10006\n",
      "Документ находится на - 2 полке\n",
      "Введите команду:  end\n"
     ]
    }
   ],
   "source": [
    "documents = [\n",
    "    {'type': 'passport', 'number': '2207 876234', 'name': 'Василий Гупкин'},\n",
    "    {'type': 'invoice', 'number': '11-2', 'name': 'Геннадий Покемонов'},\n",
    "    {'type': 'insurance', 'number': '10006', 'name': 'Аристарх Павлов'}\n",
    "]\n",
    "directories = {\n",
    "    '1': ['2207 876234', '11-2'],\n",
    "    '2': ['10006'],\n",
    "    '3': []\n",
    "}\n",
    "\n",
    "\n",
    "def document_number(docum):\n",
    "    \"\"\"принимает и проверяет номер документа\"\"\"\n",
    "    while True:\n",
    "        user_input_doc = input('Введите номер документа:  ')\n",
    "        for doc in docum:\n",
    "            if doc['number'] == user_input_doc:\n",
    "                return user_input_doc\n",
    "        print('Такого документа нет в базе!')\n",
    "\n",
    "def shelf_number(shelf):\n",
    "    \"\"\"принимает и проверяет номер полки\"\"\"\n",
    "    while True:\n",
    "        user_input_sh = input('Введите номер полки:  ')\n",
    "        if user_input_sh in shelf.keys():\n",
    "            return user_input_sh\n",
    "        print('Такой полки не существует!')\n",
    "\n",
    "def print_list():\n",
    "    \"\"\"выводит список всех документов\"\"\"\n",
    "    for doc in documents:\n",
    "        print('\"\"'.join(doc.values()))\n",
    "            \n",
    "def print_name():\n",
    "    \"\"\"выводит имя владельца документа\"\"\"\n",
    "    d_n = document_number(documents)\n",
    "    for doc in documents:\n",
    "        if doc['number'] == d_n:    \n",
    "            print(f\"Документ принадлежит - {doc['name']}\")\n",
    "                    \n",
    "def shelf_print():\n",
    "    \"\"\"выводит номер полки на которой хранится документ\"\"\"\n",
    "    d_n = document_number(documents)\n",
    "    for key, value in directories.items():\n",
    "        for v in value:\n",
    "            if v == d_n:\n",
    "                print(f\"Документ находится на - {key} полке\")\n",
    "                \n",
    "def delete_record():\n",
    "    \"\"\"удаляет всю запись и документ с полки\"\"\"\n",
    "    d_n = document_number(documents)\n",
    "    for doc in documents:\n",
    "        if doc['number'] == d_n:\n",
    "            documents.remove(doc)\n",
    "    for v in directories.values():\n",
    "        if d_n in v:\n",
    "            v.remove(d_n)\n",
    "    print(f\"Документ с номером {d_n} удален\")\n",
    "    print(documents)\n",
    "    print(directories)\n",
    "        \n",
    "def shelf_add(shelf):\n",
    "    \"\"\"добавляет новую полку\"\"\"\n",
    "    while True:\n",
    "        user_input_sh = input('Введите номер новой полки:  ')\n",
    "        if user_input_sh not in shelf.keys():\n",
    "            shelf[user_input_sh] = []\n",
    "            print(f\"Добавлена новая полка номер {user_input_sh}\")\n",
    "            print(directories)\n",
    "            return user_input_sh\n",
    "        print('Такая полка уже существует!')\n",
    "\n",
    "def document_move():\n",
    "    \"\"\"переносит документ на другую полку\"\"\"\n",
    "    d_n = document_number(documents)\n",
    "    print('На какую полку переместить?')\n",
    "    s_n = shelf_number(directories)\n",
    "    if d_n in directories[s_n]:\n",
    "        print('Документ уже на этой полке.')\n",
    "    else:\n",
    "        for v in directories.values():\n",
    "            if d_n in v:\n",
    "                v.remove(d_n)\n",
    "        directories[s_n].append(d_n)\n",
    "        print(f\"Документ номер {d_n} премещен на полку {s_n}\")\n",
    "        print(directories)      \n",
    "\n",
    "def new_record():\n",
    "    \"\"\"заносит новую запись в базу и на полку\"\"\"\n",
    "    print('Добавляем новый документ: ')\n",
    "    d_n = input('Введите номер нового документа:  ')\n",
    "    d_t = input('Введите тип нового документа:  ')\n",
    "    n = input('Введите имя владельца:  ')\n",
    "    s_n = shelf_number(directories)\n",
    "    doc_n ={'type': d_t, 'number': d_n, 'name': n}\n",
    "    documents.append(doc_n)\n",
    "    directories[s_n].append(d_n)\n",
    "    print(f'Новый документ добавлен в базу на {s_n} полку: ')\n",
    "    print(documents)\n",
    "    print(directories)\n",
    "\n",
    "while True:          \n",
    "        user_input = input('Введите команду:  ')\n",
    "        if user_input == 'l':\n",
    "            print_list()\n",
    "            continue\n",
    "        elif user_input == 'p':\n",
    "            print_name()\n",
    "            continue\n",
    "        elif user_input == 's':\n",
    "            shelf_print()\n",
    "            continue\n",
    "        elif user_input == 'd':\n",
    "            delete_record()\n",
    "            continue\n",
    "        elif user_input == 'as':\n",
    "            shelf_add(directories)\n",
    "            continue\n",
    "        elif user_input == 'm':\n",
    "            document_move()\n",
    "            continue\n",
    "        elif user_input == 'a':\n",
    "            new_record()\n",
    "            continue\n",
    "        elif user_input == 'end':\n",
    "            break\n",
    "        else:\n",
    "            print('Несуществующая команда')\n",
    " "
   ]
  },
  {
   "cell_type": "markdown",
   "metadata": {},
   "source": [
    "### "
   ]
  },
  {
   "cell_type": "markdown",
   "metadata": {},
   "source": [
    "Необходимо реализовать пользовательские команды (внимание! это не название функций, которые должны быть выразительными, а команды, которые вводит пользователь, чтобы получить необходимый результат):\n",
    "  \n",
    "- p – people – команда, которая спросит номер документа и выведет имя человека, которому он принадлежит;  \n",
    "- s – shelf – команда, которая спросит номер документа и выведет номер полки, на которой он находится  \n",
    "*Правильно обработайте ситуации, когда пользователь будет вводить несуществующий документ*.\n",
    "- l – list – команда, которая выведет список всех документов в формате   \n",
    "**passport \"2207 876234\" \"Василий Гупкин\"**  \n",
    "- as – add shelf – команда, которая спросит номер новой полки и добавит ее в перечень. *Предусмотрите случай, когда пользователь добавляет полку, которая уже существует*.\n",
    "- d – delete – команда, которая спросит номер документа и удалит его из каталога и из перечня полок. *Предусмотрите сценарий, когда пользователь вводит несуществующий документ*;  \n",
    "- m – move – команда, которая спросит номер документа и целевую полку и переместит его с текущей полки на целевую. *Корректно обработайте кейсы, когда пользователь пытается переместить несуществующий документ или переместить документ на несуществующую полку*;  \n",
    "- a – add – команда, которая добавит новый документ в каталог и в перечень полок, спросив его номер, тип, имя владельца и номер полки, на котором он будет храниться. *Корректно обработайте ситуацию, когда пользователь будет пытаться добавить документ на несуществующую полку*."
   ]
  }
 ],
 "metadata": {
  "kernelspec": {
   "display_name": "Python 3",
   "language": "python",
   "name": "python3"
  },
  "language_info": {
   "codemirror_mode": {
    "name": "ipython",
    "version": 3
   },
   "file_extension": ".py",
   "mimetype": "text/x-python",
   "name": "python",
   "nbconvert_exporter": "python",
   "pygments_lexer": "ipython3",
   "version": "3.7.6"
  }
 },
 "nbformat": 4,
 "nbformat_minor": 2
}
