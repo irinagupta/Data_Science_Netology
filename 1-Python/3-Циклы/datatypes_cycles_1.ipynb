{
 "cells": [
  {
   "cell_type": "markdown",
   "metadata": {},
   "source": [
    "**Задача 1**. Дано слово из латинских букв. Напишите скрипт, который выводит на экран букву из середины слова (если число букв нечетное). Если букв четное число, то на экран выводятся две буквы из середины.  \n",
    "\n",
    "Пример: для 'test' должно выводится 'es', для 'testing' - 't'"
   ]
  },
  {
   "cell_type": "code",
   "execution_count": 1,
   "metadata": {},
   "outputs": [
    {
     "name": "stdout",
     "output_type": "stream",
     "text": [
      "Введите слово латинскими буквами:moscow\n",
      "sc\n"
     ]
    }
   ],
   "source": [
    "word = input('Введите слово латинскими буквами:')\n",
    "word_lenth = len(word)\n",
    "if word_lenth % 2 != 0:\n",
    "    print(word[word_lenth // 2])\n",
    "else:\n",
    "    print(word[((word_lenth // 2) - 1):((word_lenth // 2)+1)])"
   ]
  },
  {
   "cell_type": "markdown",
   "metadata": {},
   "source": [
    "**Задача 2**. Мы делаем MVP dating-сервиса, и у нас есть список парней и девушек (их число может варьироваться):"
   ]
  },
  {
   "cell_type": "code",
   "execution_count": 2,
   "metadata": {},
   "outputs": [
    {
     "name": "stdout",
     "output_type": "stream",
     "text": [
      "Идеальные пары:\n",
      "Alex и Emma\n",
      "Arthur и Kate\n",
      "John и Kira\n",
      "Peter и Liza\n",
      "Richard и Trisha\n"
     ]
    }
   ],
   "source": [
    "boys = ['Peter', 'Alex', 'John', 'Arthur', 'Richard']\n",
    "girls = ['Kate', 'Liza', 'Kira', 'Emma', 'Trisha']\n",
    "if len(boys) == len(girls):\n",
    "    pair = zip(sorted(boys), sorted(girls))\n",
    "    print('Идеальные пары:')\n",
    "    for boys in pair:\n",
    "        print(boys[0], 'и', boys[1])\n",
    "else:\n",
    "    print('Количество парней и девушек не совпадает, кто-то может остаться без пары!')"
   ]
  },
  {
   "cell_type": "markdown",
   "metadata": {},
   "source": [
    "Выдвигаем гипотезу: лучшие рекомендации мы получим, если просто отсортируем имена по алфавиту и познакомим людей с одинаковыми индексами после сортировки! \"Познакомить\" пары нам поможет функция zip, а в цикле распакуем zip-объект и выведем информацию в виде:\n",
    "\n",
    "Идеальные пары:  \n",
    "Alex и Emma  \n",
    "Arthur и Kate  \n",
    "John и Kira  \n",
    "Peter и Liza  \n",
    "Richard и Trisha  "
   ]
  },
  {
   "cell_type": "markdown",
   "metadata": {},
   "source": [
    "**Внимание! Если количество людей в списках будет не совпадать, то мы никого знакомить не будет и выведем пользователю предупреждение, что кто-то может остаться без пары!**"
   ]
  },
  {
   "cell_type": "markdown",
   "metadata": {},
   "source": [
    "**Задача 3**. У нас есть список, содержащий информацию о среднедневной температуре в Фаренгейтах за недельный период по странам.\n",
    "Необходимо написать код, который рассчитает среднюю температуру за неделю в Цельсиях для каждой страны."
   ]
  },
  {
   "cell_type": "code",
   "execution_count": 3,
   "metadata": {},
   "outputs": [
    {
     "name": "stdout",
     "output_type": "stream",
     "text": [
      "В Thailand среднедневная температура за неделю ~ 23.9 °C\n",
      "В Germany среднедневная температура за неделю ~ 13.7 °C\n",
      "В Russia среднедневная температура за неделю ~ 3.7 °C\n",
      "В Poland среднедневная температура за неделю ~ 11.9 °C\n"
     ]
    }
   ],
   "source": [
    "countries_temperature = [\n",
    " ['Thailand', [75.2, 77, 78.8, 73.4, 68, 75.2, 77]],\n",
    " ['Germany', [57.2, 55.4, 59, 59, 53.6, 55.4, 57.2]],\n",
    " ['Russia', [35.6, 37.4, 39.2, 41, 42.8, 39.2, 35.6]],\n",
    " ['Poland', [50, 50, 53.6, 57.2, 55.4, 55.4, 51.8]],\n",
    "]\n",
    "\n",
    "i = 0\n",
    "while i != len(countries_temperature):\n",
    "    countries_temperature[i][1] = round((5 / 9)*(((sum(countries_temperature[i][1])) / 7) - 32), 1)\n",
    "    i += 1\n",
    "for countries in countries_temperature:\n",
    "    print('В', countries[0], 'среднедневная температура за неделю ~', countries[1], '°C')\n",
    "    "
   ]
  },
  {
   "cell_type": "markdown",
   "metadata": {},
   "source": [
    "**Задача 4.** Дан поток логов по количеству просмотренных страниц для каждого пользователя. Список отсортирован по ID пользователя. Вам необходимо написать алгоритм, который считает среднее значение просмотров на пользователя. \n",
    "Т. е. надо посчитать отношение суммы всех просмотров к количеству уникальных пользователей."
   ]
  },
  {
   "cell_type": "code",
   "execution_count": 4,
   "metadata": {},
   "outputs": [
    {
     "name": "stdout",
     "output_type": "stream",
     "text": [
      "Cреднее значение просмотров на пользователя ~ 22.25\n"
     ]
    }
   ],
   "source": [
    "stream = [\n",
    "    '2018-01-01,user1,3',\n",
    "    '2018-01-07,user1,4',\n",
    "    '2018-03-29,user1,1',\n",
    "    '2018-04-04,user1,13',\n",
    "    '2018-01-05,user2,7',\n",
    "    '2018-06-14,user3,4',\n",
    "    '2018-07-02,user3,10',\n",
    "    '2018-03-21,user4,19',\n",
    "    '2018-04-22,user4,8',\n",
    "    '2018-05-03,user4,9',\n",
    "    '2018-05-11,user4,11',\n",
    "]\n",
    "\n",
    "stream_list = []\n",
    "unique_list = []\n",
    "views_count = []\n",
    "i = 0\n",
    "while i != len(stream):\n",
    "    stream_list.append(stream[i].split(','))\n",
    "    if stream_list[i][1] not in unique_list:\n",
    "        unique_list.append(stream_list[i][1])\n",
    "    views_count.append(int(stream_list[i][2]))\n",
    "    i+=1\n",
    "average_views = sum(views_count) / len(unique_list)    \n",
    "print('Cреднее значение просмотров на пользователя ~', average_views)"
   ]
  },
  {
   "cell_type": "markdown",
   "metadata": {},
   "source": [
    "**Задача 5**. Дана статистика рекламных кампаний по дням. Напишите алгоритм, который по паре дата-кампания ищет значение численного столбца. \n",
    "Т. е. для даты '2018-01-01' и 'google' нужно получить число 25. \n",
    "Считайте, что все комбинации дата-кампания уникальны."
   ]
  },
  {
   "cell_type": "code",
   "execution_count": 5,
   "metadata": {},
   "outputs": [
    {
     "name": "stdout",
     "output_type": "stream",
     "text": [
      "Выберите дату: 1) 2018-01-01,  2) 2018-01-02,  3) 2018-01-03 --> 5\n",
      "Дата выбрана неверно\n",
      "Выберите дату: 1) 2018-01-01,  2) 2018-01-02,  3) 2018-01-03 --> 1\n",
      "Выберите компанию: 1) google,  2) yandex, 3) market --> 8\n",
      "Компания выбрана неверно\n",
      "Выберите компанию: 1) google,  2) yandex, 3) market --> 2\n",
      "65 - Статистика yandex на дату 2018-01-01\n"
     ]
    }
   ],
   "source": [
    "stats = [\n",
    "    ['2018-01-01', 'google', 25],\n",
    "    ['2018-01-01', 'yandex', 65],\n",
    "    ['2018-01-01', 'market', 89],\n",
    "    ['2018-01-02', 'google', 574],\n",
    "    ['2018-01-02', 'yandex', 249],\n",
    "    ['2018-01-02', 'market', 994],\n",
    "    ['2018-01-03', 'google', 1843],\n",
    "    ['2018-01-03', 'yandex', 1327],\n",
    "    ['2018-01-03', 'market', 1764],\n",
    "]\n",
    "\n",
    "while True:\n",
    "    user_input1 = input('Выберите дату: 1) 2018-01-01,  2) 2018-01-02,  3) 2018-01-03 --> ')\n",
    "\n",
    "    if user_input1 == '1':\n",
    "        user_date = '2018-01-01'\n",
    "        break\n",
    "    elif user_input1 == '2':\n",
    "        user_date = '2018-01-02'\n",
    "        break\n",
    "    elif user_input1 == '3':\n",
    "        user_date = '2018-01-03'\n",
    "        break\n",
    "    else:\n",
    "        print('Дата выбрана неверно')\n",
    "\n",
    "while True:\n",
    "    user_input2 = input('Выберите компанию: 1) google,  2) yandex, 3) market --> ')\n",
    "    \n",
    "    if user_input2 == '1':\n",
    "        user_company = 'google'\n",
    "        break\n",
    "    elif user_input2 == '2':\n",
    "        user_company = 'yandex'\n",
    "        break\n",
    "    elif user_input2 == '3':\n",
    "        user_company = 'market'\n",
    "        break\n",
    "    else:\n",
    "        print('Компания выбрана неверно')\n",
    "    \n",
    "i = 0\n",
    "while i != len(stats):\n",
    "    if stats[i][0] == user_date and stats[i][1] == user_company:\n",
    "        print(stats[i][2], '- Статистика', stats[i][1], 'на дату', stats[i][0])\n",
    "    i=i+1\n",
    "    \n"
   ]
  },
  {
   "cell_type": "markdown",
   "metadata": {},
   "source": [
    "**Задача 6**. Дан список вида:"
   ]
  },
  {
   "cell_type": "code",
   "execution_count": 6,
   "metadata": {},
   "outputs": [
    {
     "name": "stdout",
     "output_type": "stream",
     "text": [
      "103\n"
     ]
    }
   ],
   "source": [
    "data = [\n",
    "    [13, 25, 23, 34],\n",
    "    [45, 32, 44, 47],\n",
    "    [12, 33, 23, 95],\n",
    "    [13, 53, 34, 35]\n",
    "]\n",
    "\n",
    "diagonal_sum = []\n",
    "x = 0\n",
    "while x != len(data):\n",
    "    diagonal_sum.append(data[x][x])\n",
    "    x+=1\n",
    "print(sum(diagonal_sum))\n",
    "    "
   ]
  },
  {
   "cell_type": "markdown",
   "metadata": {},
   "source": [
    "Напишите код, который будет вычислять сумму элементов на диагонали. Т. е. 13+32+23+35.  \n",
    "Список может быть любой длины, но всегда является \"квадратным\" (количество элементов во вложенных списках равно их количеству)."
   ]
  }
 ],
 "metadata": {
  "kernelspec": {
   "display_name": "Python 3",
   "language": "python",
   "name": "python3"
  },
  "language_info": {
   "codemirror_mode": {
    "name": "ipython",
    "version": 3
   },
   "file_extension": ".py",
   "mimetype": "text/x-python",
   "name": "python",
   "nbconvert_exporter": "python",
   "pygments_lexer": "ipython3",
   "version": "3.7.6"
  }
 },
 "nbformat": 4,
 "nbformat_minor": 2
}
