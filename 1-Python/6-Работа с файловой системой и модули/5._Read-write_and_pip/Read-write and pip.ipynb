{
 "cells": [
  {
   "cell_type": "markdown",
   "metadata": {},
   "source": [
    "# Домашнее задание\n",
    "1. Переведите содержимое файла purchase_log.txt в словарь purchases вида:\n",
    "```python\n",
    "{'1840e0b9d4': 'Продукты', ...}\n",
    "```\n",
    "\n",
    "2. Для каждого user_id в файле visit_log.csv определите третий столбец с категорией покупки (если покупка была, сам файл visit_log.csv изменять не надо). Запишите в файл funnel.csv визиты из файла visit_log.csv, в которых были покупки с указанием категории.\n",
    "\n",
    "Учтите условия на данные:\n",
    "- содержимое purchase_log.txt помещается в оперативную память компьютера\n",
    "- содержимое visit_log.csv - нет; используйте только построчную обработку этого файла"
   ]
  },
  {
   "cell_type": "code",
   "execution_count": null,
   "metadata": {},
   "outputs": [],
   "source": [
    "import json\n",
    "with open('purchase_log.txt', 'r', encoding='utf-8') as fp:\n",
    "    content = fp.readlines()\n",
    "    purchases = {}\n",
    "    for lines in content:\n",
    "        l = json.loads(lines)\n",
    "        purchases[l['user_id']] = l['category']\n",
    "    purchases.pop('user_id', None)\n",
    "    print(purchases)\n",
    "fp.close()\n",
    "\n",
    "        \n",
    "     \n",
    "    "
   ]
  },
  {
   "cell_type": "code",
   "execution_count": null,
   "metadata": {},
   "outputs": [],
   "source": [
    "with open('visit_log.csv', 'r', encoding='utf-8') as fv:\n",
    "    with open('funnel.csv', 'w') as f2write:\n",
    "        for line in fv:\n",
    "            ln = list(line.strip().split(','))\n",
    "            for key, value in purchases.items():\n",
    "                if key == ln[0]:\n",
    "                    ln.insert(2, value)\n",
    "                    f2write.write(f'{ln}\\n')\n",
    "f2write.close()\n",
    "fv.close()"
   ]
  }
 ],
 "metadata": {
  "kernelspec": {
   "display_name": "Python 3",
   "language": "python",
   "name": "python3"
  },
  "language_info": {
   "codemirror_mode": {
    "name": "ipython",
    "version": 3
   },
   "file_extension": ".py",
   "mimetype": "text/x-python",
   "name": "python",
   "nbconvert_exporter": "python",
   "pygments_lexer": "ipython3",
   "version": "3.7.6"
  }
 },
 "nbformat": 4,
 "nbformat_minor": 2
}
