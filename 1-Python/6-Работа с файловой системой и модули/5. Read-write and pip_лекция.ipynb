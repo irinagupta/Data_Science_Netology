{
 "cells": [
  {
   "cell_type": "markdown",
   "metadata": {},
   "source": [
    "### Задача с собеседований\n",
    "\n",
    "Дана строчка sequence с последовательностью натуральных чисел, разделенных пробелом. Посчитайте:\n",
    "1. Количество четных и нечетных чисел в этой строке\n",
    "2. Если четных больше, то укажите номер позиции первого \"лишнего\" нечетного числа\n",
    "3. Если нечетных больше, то укажите позицию первого \"лишнего\" четного числа\n",
    "4. Как бонусный вариант оформите код в виде функции"
   ]
  },
  {
   "cell_type": "code",
   "execution_count": 1,
   "metadata": {},
   "outputs": [],
   "source": [
    "sequence = '2 3 1 5 9 22 3 5'"
   ]
  },
  {
   "cell_type": "markdown",
   "metadata": {},
   "source": [
    "Может пригодиться:"
   ]
  },
  {
   "cell_type": "code",
   "execution_count": null,
   "metadata": {},
   "outputs": [],
   "source": [
    "# получить список из строки\n",
    "sequence.split(' ')"
   ]
  },
  {
   "cell_type": "code",
   "execution_count": null,
   "metadata": {},
   "outputs": [],
   "source": [
    "# перевод строки в целое число\n",
    "int('2')"
   ]
  },
  {
   "cell_type": "code",
   "execution_count": null,
   "metadata": {},
   "outputs": [],
   "source": [
    "# проверка четности\n",
    "22 % 2 == 0"
   ]
  },
  {
   "cell_type": "code",
   "execution_count": 14,
   "metadata": {},
   "outputs": [
    {
     "data": {
      "text/plain": [
       "[2, 3, 1, 5, 9, 22, 3, 5]"
      ]
     },
     "execution_count": 14,
     "metadata": {},
     "output_type": "execute_result"
    }
   ],
   "source": [
    "sequence_list = [int(x) for x in sequence.split(' ')]\n",
    "sequence_list"
   ]
  },
  {
   "cell_type": "code",
   "execution_count": 9,
   "metadata": {},
   "outputs": [
    {
     "data": {
      "text/plain": [
       "[2, 22]"
      ]
     },
     "execution_count": 9,
     "metadata": {},
     "output_type": "execute_result"
    }
   ],
   "source": [
    "even_list = [int(x) for x in sequence.split(' ') if int(x) % 2 == 0]\n",
    "even_list"
   ]
  },
  {
   "cell_type": "code",
   "execution_count": 10,
   "metadata": {},
   "outputs": [
    {
     "data": {
      "text/plain": [
       "[3, 1, 5, 9, 3, 5]"
      ]
     },
     "execution_count": 10,
     "metadata": {},
     "output_type": "execute_result"
    }
   ],
   "source": [
    "odd_list = [int(x) for x in sequence.split(' ') if int(x) % 2 != 0]\n",
    "odd_list"
   ]
  },
  {
   "cell_type": "code",
   "execution_count": 16,
   "metadata": {},
   "outputs": [
    {
     "name": "stdout",
     "output_type": "stream",
     "text": [
      "0\n"
     ]
    }
   ],
   "source": [
    "if len(even_list) < len(odd_list):\n",
    "    for i in sequence_list:\n",
    "        if i % 2 == 0:\n",
    "            print(sequence_list.index(i))\n",
    "            break"
   ]
  },
  {
   "cell_type": "code",
   "execution_count": 19,
   "metadata": {},
   "outputs": [
    {
     "name": "stdout",
     "output_type": "stream",
     "text": [
      "0\n"
     ]
    }
   ],
   "source": [
    "if len(even_list) < len(odd_list):\n",
    "    print(sequence_list.index(even_list[0]))\n",
    "else:\n",
    "    print(sequence_list.index(odd_list[0]))"
   ]
  },
  {
   "cell_type": "code",
   "execution_count": 20,
   "metadata": {},
   "outputs": [
    {
     "name": "stdout",
     "output_type": "stream",
     "text": [
      "1\n"
     ]
    }
   ],
   "source": [
    "print(sequence_list.index(odd_list[0]))"
   ]
  },
  {
   "cell_type": "markdown",
   "metadata": {},
   "source": [
    "# Чтение файлов\n",
    "Рассматриваем задачу сквозной аналитики. Будем работать с этими файлами:\n",
    "- visit_log.csv\n",
    "- purchase_log.txt"
   ]
  },
  {
   "cell_type": "markdown",
   "metadata": {},
   "source": [
    "### Способ 1. Делаем все пошагово\n",
    "Опции при открытии файлов:\n",
    "- 'r' открыть для чтения. Файл при этом не меняется\n",
    "- 'w' открыть файл для записи. Файл при этом полностью чистится (!)\n",
    "- 'a' открыть файл для добавления. Файл не меняется, все записи добавляются в конец"
   ]
  },
  {
   "cell_type": "code",
   "execution_count": 50,
   "metadata": {},
   "outputs": [],
   "source": [
    "# открываем файл для чтения (опция r)\n",
    "f = open('visit_log.csv', 'r', encoding='utf-8')"
   ]
  },
  {
   "cell_type": "code",
   "execution_count": null,
   "metadata": {},
   "outputs": [],
   "source": [
    "r'C:\\users\\'"
   ]
  },
  {
   "cell_type": "code",
   "execution_count": 22,
   "metadata": {},
   "outputs": [
    {
     "data": {
      "text/plain": [
       "<_io.TextIOWrapper name='visit_log.csv' mode='r' encoding='utf-8'>"
      ]
     },
     "execution_count": 22,
     "metadata": {},
     "output_type": "execute_result"
    }
   ],
   "source": [
    "f"
   ]
  },
  {
   "cell_type": "code",
   "execution_count": 39,
   "metadata": {
    "scrolled": true
   },
   "outputs": [
    {
     "data": {
      "text/plain": [
       "'user_id,source\\n'"
      ]
     },
     "execution_count": 39,
     "metadata": {},
     "output_type": "execute_result"
    }
   ],
   "source": [
    "# прочитать первую строчку\n",
    "f.readline()"
   ]
  },
  {
   "cell_type": "code",
   "execution_count": 40,
   "metadata": {},
   "outputs": [
    {
     "data": {
      "text/plain": [
       "'6450655ae8,other\\n'"
      ]
     },
     "execution_count": 40,
     "metadata": {},
     "output_type": "execute_result"
    }
   ],
   "source": [
    "# прочитать еще одну\n",
    "f.readline()"
   ]
  },
  {
   "cell_type": "code",
   "execution_count": 41,
   "metadata": {},
   "outputs": [
    {
     "data": {
      "text/plain": [
       "'b4ea53e670,other\\n'"
      ]
     },
     "execution_count": 41,
     "metadata": {},
     "output_type": "execute_result"
    }
   ],
   "source": [
    "# можно и так\n",
    "next(f)"
   ]
  },
  {
   "cell_type": "code",
   "execution_count": 46,
   "metadata": {},
   "outputs": [
    {
     "data": {
      "text/plain": [
       "0"
      ]
     },
     "execution_count": 46,
     "metadata": {},
     "output_type": "execute_result"
    }
   ],
   "source": [
    "f.seek(0)"
   ]
  },
  {
   "cell_type": "code",
   "execution_count": 47,
   "metadata": {},
   "outputs": [],
   "source": [
    "# прочитать все содержимое файла в переменную content\n",
    "content = f.readlines()"
   ]
  },
  {
   "cell_type": "code",
   "execution_count": 48,
   "metadata": {},
   "outputs": [
    {
     "data": {
      "text/plain": [
       "['user_id,source\\n',\n",
       " '6450655ae8,other\\n',\n",
       " 'b4ea53e670,other\\n',\n",
       " '0e37347152,other\\n',\n",
       " '96064ae9e0,other\\n']"
      ]
     },
     "execution_count": 48,
     "metadata": {},
     "output_type": "execute_result"
    }
   ],
   "source": [
    "content[:5]"
   ]
  },
  {
   "cell_type": "code",
   "execution_count": 51,
   "metadata": {},
   "outputs": [
    {
     "name": "stdout",
     "output_type": "stream",
     "text": [
      "user_id,source\n",
      "\n"
     ]
    }
   ],
   "source": [
    "# построчное чтение файла\n",
    "for line in f:\n",
    "    print(line)\n",
    "    \n",
    "    break"
   ]
  },
  {
   "cell_type": "code",
   "execution_count": 52,
   "metadata": {},
   "outputs": [
    {
     "name": "stdout",
     "output_type": "stream",
     "text": [
      "6450655ae8,other\n",
      "\n",
      "b4ea53e670,other\n",
      "\n",
      "0e37347152,other\n",
      "\n",
      "96064ae9e0,other\n",
      "\n",
      "e1bd168161,context\n",
      "\n",
      "71bcf169b4,other\n",
      "\n",
      "e0aee73c5d,other\n",
      "\n"
     ]
    }
   ],
   "source": [
    "# построчное чтение файла\n",
    "for i, line in enumerate(f):\n",
    "    print(line)\n",
    "    \n",
    "    if i > 5:\n",
    "        break"
   ]
  },
  {
   "cell_type": "markdown",
   "metadata": {},
   "source": [
    "Часто используется конструкция \n",
    "```python\n",
    "another_line.strip().split(',')\n",
    "```"
   ]
  },
  {
   "cell_type": "code",
   "execution_count": 1,
   "metadata": {},
   "outputs": [
    {
     "ename": "NameError",
     "evalue": "name 'f' is not defined",
     "output_type": "error",
     "traceback": [
      "\u001b[1;31m---------------------------------------------------------------------------\u001b[0m",
      "\u001b[1;31mNameError\u001b[0m                                 Traceback (most recent call last)",
      "\u001b[1;32m<ipython-input-1-2320413b673e>\u001b[0m in \u001b[0;36m<module>\u001b[1;34m\u001b[0m\n\u001b[1;32m----> 1\u001b[1;33m \u001b[0manother_line\u001b[0m \u001b[1;33m=\u001b[0m \u001b[0mf\u001b[0m\u001b[1;33m.\u001b[0m\u001b[0mreadline\u001b[0m\u001b[1;33m(\u001b[0m\u001b[1;33m)\u001b[0m\u001b[1;33m\u001b[0m\u001b[1;33m\u001b[0m\u001b[0m\n\u001b[0m\u001b[0;32m      2\u001b[0m \u001b[0manother_line\u001b[0m\u001b[1;33m\u001b[0m\u001b[1;33m\u001b[0m\u001b[0m\n",
      "\u001b[1;31mNameError\u001b[0m: name 'f' is not defined"
     ]
    }
   ],
   "source": [
    "another_line = f.readline()\n",
    "another_line"
   ]
  },
  {
   "cell_type": "code",
   "execution_count": 54,
   "metadata": {},
   "outputs": [
    {
     "data": {
      "text/plain": [
       "'1f8845e157,context'"
      ]
     },
     "execution_count": 54,
     "metadata": {},
     "output_type": "execute_result"
    }
   ],
   "source": [
    "# удаляем перенос строки и лишние пробелы\n",
    "another_line.strip()"
   ]
  },
  {
   "cell_type": "code",
   "execution_count": 58,
   "metadata": {},
   "outputs": [
    {
     "data": {
      "text/plain": [
       "['1f8845e157', 'context']"
      ]
     },
     "execution_count": 58,
     "metadata": {},
     "output_type": "execute_result"
    }
   ],
   "source": [
    "';1f8845e157\\tcontext;;---'.strip(';-').split('\\t')"
   ]
  },
  {
   "cell_type": "code",
   "execution_count": 59,
   "metadata": {},
   "outputs": [
    {
     "data": {
      "text/plain": [
       "['1f8845e157', 'context']"
      ]
     },
     "execution_count": 59,
     "metadata": {},
     "output_type": "execute_result"
    }
   ],
   "source": [
    "# разбиваем столбцы\n",
    "another_line.strip().split(',')"
   ]
  },
  {
   "cell_type": "code",
   "execution_count": 60,
   "metadata": {},
   "outputs": [],
   "source": [
    "# закрытие файла\n",
    "f.close()"
   ]
  },
  {
   "cell_type": "code",
   "execution_count": 61,
   "metadata": {},
   "outputs": [
    {
     "ename": "ValueError",
     "evalue": "I/O operation on closed file.",
     "output_type": "error",
     "traceback": [
      "\u001b[0;31m---------------------------------------------------------------------------\u001b[0m",
      "\u001b[0;31mValueError\u001b[0m                                Traceback (most recent call last)",
      "\u001b[0;32m<ipython-input-61-f561c2044435>\u001b[0m in \u001b[0;36m<module>\u001b[0;34m\u001b[0m\n\u001b[1;32m      1\u001b[0m \u001b[0;31m# после закрытия не получится прочитать\u001b[0m\u001b[0;34m\u001b[0m\u001b[0;34m\u001b[0m\u001b[0m\n\u001b[0;32m----> 2\u001b[0;31m \u001b[0mf\u001b[0m\u001b[0;34m.\u001b[0m\u001b[0mreadline\u001b[0m\u001b[0;34m(\u001b[0m\u001b[0;34m)\u001b[0m\u001b[0;34m\u001b[0m\u001b[0m\n\u001b[0m",
      "\u001b[0;31mValueError\u001b[0m: I/O operation on closed file."
     ]
    }
   ],
   "source": [
    "# после закрытия не получится прочитать\n",
    "f.readline()"
   ]
  },
  {
   "cell_type": "code",
   "execution_count": 62,
   "metadata": {},
   "outputs": [],
   "source": [
    "# прочитать все строчки файла в список (т. е. в оперативную память)\n",
    "f = open('visit_log.csv', 'r')\n",
    "\n",
    "content = f.readlines()\n",
    "\n",
    "f.close()"
   ]
  },
  {
   "cell_type": "code",
   "execution_count": 63,
   "metadata": {},
   "outputs": [
    {
     "data": {
      "text/plain": [
       "['user_id,source\\n',\n",
       " '6450655ae8,other\\n',\n",
       " 'b4ea53e670,other\\n',\n",
       " '0e37347152,other\\n',\n",
       " '96064ae9e0,other\\n']"
      ]
     },
     "execution_count": 63,
     "metadata": {},
     "output_type": "execute_result"
    }
   ],
   "source": [
    "content[:5]"
   ]
  },
  {
   "cell_type": "code",
   "execution_count": 68,
   "metadata": {},
   "outputs": [
    {
     "name": "stdout",
     "output_type": "stream",
     "text": [
      "user_id,source user_id,source\n",
      "\n",
      "6450655ae8,other 6450655ae8,other\n",
      "\n",
      "b4ea53e670,other b4ea53e670,other user_id,source\n",
      "\n"
     ]
    }
   ],
   "source": [
    "f = open('visit_log.csv')\n",
    "r = open('visit_log.csv')\n",
    "p = open('visit_log.csv')\n",
    "\n",
    "print(f.readline().strip(), r.readline())\n",
    "print(f.readline().strip(), r.readline())\n",
    "print(f.readline().strip(), r.readline().strip(), p.readline())"
   ]
  },
  {
   "cell_type": "markdown",
   "metadata": {},
   "source": [
    "### Упражнение\n",
    "Напишите функцию (или просто код), который возвращает список из первых N строк файла purchase_log.txt без записи всего содержимого файла в оперативную память."
   ]
  },
  {
   "cell_type": "code",
   "execution_count": 69,
   "metadata": {},
   "outputs": [
    {
     "data": {
      "text/plain": [
       "['{\"user_id\": \"user_id\", \"category\": \"category\"}\\n',\n",
       " '{\"user_id\": \"1840e0b9d4\", \"category\": \"Продукты\"}\\n',\n",
       " '{\"user_id\": \"4e4f90fcfb\", \"category\": \"Электроника\"}\\n',\n",
       " '{\"user_id\": \"afea8d72fc\", \"category\": \"Электроника\"}\\n',\n",
       " '{\"user_id\": \"373a6055fe\", \"category\": \"Бытовая техника\"}\\n']"
      ]
     },
     "execution_count": 69,
     "metadata": {},
     "output_type": "execute_result"
    }
   ],
   "source": [
    "f = open('purchase_log.txt', 'r') \n",
    "content = f.readlines() \n",
    "content[:5]"
   ]
  },
  {
   "cell_type": "code",
   "execution_count": 71,
   "metadata": {},
   "outputs": [
    {
     "data": {
      "text/plain": [
       "['{\"user_id\": \"user_id\", \"category\": \"category\"}',\n",
       " '{\"user_id\": \"1840e0b9d4\", \"category\": \"Продукты\"}',\n",
       " '{\"user_id\": \"4e4f90fcfb\", \"category\": \"Электроника\"}',\n",
       " '{\"user_id\": \"afea8d72fc\", \"category\": \"Электроника\"}']"
      ]
     },
     "execution_count": 71,
     "metadata": {},
     "output_type": "execute_result"
    }
   ],
   "source": [
    "def read_lines(lines_num, fname='purchase_log.txt'): \n",
    "    f = open(fname, 'r') \n",
    "    res = [next(f).strip() for i in range(1, lines_num)] \n",
    "    f.close() \n",
    "    \n",
    "    return res\n",
    "\n",
    "read_lines(5)"
   ]
  },
  {
   "cell_type": "code",
   "execution_count": 72,
   "metadata": {
    "scrolled": true
   },
   "outputs": [
    {
     "data": {
      "text/plain": [
       "['{\"user_id\": \"user_id\", \"category\": \"category\"}',\n",
       " '{\"user_id\": \"1840e0b9d4\", \"category\": \"Продукты\"}',\n",
       " '{\"user_id\": \"4e4f90fcfb\", \"category\": \"Электроника\"}',\n",
       " '{\"user_id\": \"afea8d72fc\", \"category\": \"Электроника\"}']"
      ]
     },
     "execution_count": 72,
     "metadata": {},
     "output_type": "execute_result"
    }
   ],
   "source": [
    "def read_lines_small(lines_num, fname='purchase_log.txt'): \n",
    "    with open(fname, 'r') as f: \n",
    "        return [next(f).strip() for i in range(1, lines_num)]\n",
    "    \n",
    "read_lines_small(5)"
   ]
  },
  {
   "cell_type": "code",
   "execution_count": 76,
   "metadata": {},
   "outputs": [
    {
     "data": {
      "text/plain": [
       "['{\"user_id\": \"user_id\", \"category\": \"category\"}\\n',\n",
       " '{\"user_id\": \"1840e0b9d4\", \"category\": \"Продукты\"}\\n',\n",
       " '{\"user_id\": \"4e4f90fcfb\", \"category\": \"Электроника\"}\\n',\n",
       " '{\"user_id\": \"afea8d72fc\", \"category\": \"Электроника\"}\\n',\n",
       " '{\"user_id\": \"373a6055fe\", \"category\": \"Бытовая техника\"}\\n']"
      ]
     },
     "execution_count": 76,
     "metadata": {},
     "output_type": "execute_result"
    }
   ],
   "source": [
    "f = open('purchase_log.txt')\n",
    "[f.readline() for _ in range(5)]"
   ]
  },
  {
   "cell_type": "code",
   "execution_count": 73,
   "metadata": {},
   "outputs": [],
   "source": [
    "def readfile(filename, string_amount): \n",
    "    f = open(filename, 'r') \n",
    "    result = [] \n",
    "    counter = 0 \n",
    "    \n",
    "    while counter < string_amount: \n",
    "        result.append(f.readline()) \n",
    "        counter +=1 \n",
    "        f.close \n",
    "        \n",
    "    return result"
   ]
  },
  {
   "cell_type": "code",
   "execution_count": 75,
   "metadata": {},
   "outputs": [
    {
     "name": "stdout",
     "output_type": "stream",
     "text": [
      "['{\"user_id\": \"user_id\", \"category\": \"category\"}\\n', '{\"user_id\": \"1840e0b9d4\", \"category\": \"Продукты\"}\\n', '{\"user_id\": \"4e4f90fcfb\", \"category\": \"Электроника\"}\\n', '{\"user_id\": \"afea8d72fc\", \"category\": \"Электроника\"}\\n', '{\"user_id\": \"373a6055fe\", \"category\": \"Бытовая техника\"}\\n']\n"
     ]
    }
   ],
   "source": [
    "print(readfile('purchase_log.txt', 5))"
   ]
  },
  {
   "cell_type": "markdown",
   "metadata": {},
   "source": [
    "# Запись в файл\n",
    "Зачем все-таки открывать и закрывать файлы?"
   ]
  },
  {
   "cell_type": "code",
   "execution_count": 77,
   "metadata": {},
   "outputs": [],
   "source": [
    "f = open('results.csv', 'w')"
   ]
  },
  {
   "cell_type": "code",
   "execution_count": 78,
   "metadata": {},
   "outputs": [
    {
     "data": {
      "text/plain": [
       "32"
      ]
     },
     "execution_count": 78,
     "metadata": {},
     "output_type": "execute_result"
    }
   ],
   "source": [
    "f.write('Начинаю запись первой строки...\\n')"
   ]
  },
  {
   "cell_type": "code",
   "execution_count": 79,
   "metadata": {
    "scrolled": true
   },
   "outputs": [
    {
     "data": {
      "text/plain": [
       "32"
      ]
     },
     "execution_count": 79,
     "metadata": {},
     "output_type": "execute_result"
    }
   ],
   "source": [
    "f.write('Начинаю запись второй строки...\\n')"
   ]
  },
  {
   "cell_type": "markdown",
   "metadata": {},
   "source": [
    "Здесь кто-то еще хочет в него записать"
   ]
  },
  {
   "cell_type": "code",
   "execution_count": 80,
   "metadata": {},
   "outputs": [],
   "source": [
    "my_friend_results = open('results.csv', 'w')"
   ]
  },
  {
   "cell_type": "code",
   "execution_count": 81,
   "metadata": {},
   "outputs": [
    {
     "data": {
      "text/plain": [
       "23"
      ]
     },
     "execution_count": 81,
     "metadata": {},
     "output_type": "execute_result"
    }
   ],
   "source": [
    "my_friend_results.write('Тут еще результаты есть')"
   ]
  },
  {
   "cell_type": "code",
   "execution_count": 82,
   "metadata": {},
   "outputs": [],
   "source": [
    "# пишем свой результат\n",
    "f.close()"
   ]
  },
  {
   "cell_type": "code",
   "execution_count": 83,
   "metadata": {},
   "outputs": [],
   "source": [
    "# и наш результат перезатирается\n",
    "my_friend_results.close()"
   ]
  },
  {
   "cell_type": "markdown",
   "metadata": {},
   "source": [
    "### Контекстный менеджер\n",
    "Как обезопасить себя от подобных накладок"
   ]
  },
  {
   "cell_type": "code",
   "execution_count": 84,
   "metadata": {},
   "outputs": [],
   "source": [
    "with open('results.csv', 'w') as f:\n",
    "    f.write('Начинаю запись первой строки...\\n')\n",
    "    f.write('Начинаю запись второй строки...\\n')\n",
    "    \n",
    "    my_friend_results = open('results.csv', 'w')\n",
    "    my_friend_results.write('Тут еще результаты есть')\n",
    "    my_friend_results.close()"
   ]
  },
  {
   "cell_type": "code",
   "execution_count": 86,
   "metadata": {},
   "outputs": [],
   "source": [
    "with open('results.csv', 'w') as f:\n",
    "    f.write('Начинаю запись первой строки...\\n')\n",
    "    f.write('Начинаю запись второй строки...\\n')\n",
    "    \n",
    "my_friend_results = open('results.csv', 'a')\n",
    "my_friend_results.write('Тут еще результаты есть')\n",
    "my_friend_results.close()"
   ]
  },
  {
   "cell_type": "markdown",
   "metadata": {},
   "source": [
    "### А можно читать и сразу в файл записывать?\n",
    "Напишите функцию, которая фильтрует файл visit_log.csv по источнику context и пишет результат в visits_context.csv. Используйте функцию из второго упражнения для проверки результата."
   ]
  },
  {
   "cell_type": "code",
   "execution_count": 2,
   "metadata": {},
   "outputs": [],
   "source": [
    "with open('visit_log.csv', 'r') as f:\n",
    "    with open('visits_context.csv', 'w') as f2write:\n",
    "        for line in f:\n",
    "            if 'context' in line:\n",
    "                f2write.write(line)"
   ]
  },
  {
   "cell_type": "code",
   "execution_count": 90,
   "metadata": {},
   "outputs": [
    {
     "name": "stdout",
     "output_type": "stream",
     "text": [
      "['user_id,source\\n']\n",
      "['6450655ae8,other\\n', 'b4ea53e670,other\\n', '0e37347152,other\\n', '96064ae9e0,other\\n', 'e1bd168161,context\\n']\n",
      "['71bcf169b4,other\\n', 'e0aee73c5d,other\\n', '1f8845e157,context\\n', '78d22c5c78,other\\n', 'dd85040770,other\\n']\n",
      "['2301051b25,other\\n', '86835b81ac,context\\n', '90d9a575a2,other\\n', '1b75c4f23f,other\\n', 'd94b908660,None\\n']\n",
      "['f697206af5,other\\n', '8a9a2de36e,other\\n', 'dd3d43c266,context\\n', 'f6401d302f,context\\n', 'b18d58560b,email\\n']\n",
      "['ed79586589,other\\n', '1840e0b9d4,other\\n', 'b4afdc5ccc,other\\n', '470248aabf,other\\n', '948d9be43c,other\\n']\n",
      "['03592d16ac,other\\n', '8554e1a9f9,context\\n', 'ceda3a4603,other\\n', '282d7418ae,context\\n', '6074c89112,context\\n']\n"
     ]
    }
   ],
   "source": [
    "batch = []\n",
    "\n",
    "with open('visit_log.csv', 'r') as f:\n",
    "    for i, line in enumerate(f):\n",
    "        batch.append(line)\n",
    "        \n",
    "        if i % 5 == 0:\n",
    "            print(batch)\n",
    "            batch = []\n",
    "            \n",
    "        if i > 30:\n",
    "            break"
   ]
  },
  {
   "cell_type": "code",
   "execution_count": null,
   "metadata": {},
   "outputs": [],
   "source": []
  },
  {
   "cell_type": "markdown",
   "metadata": {},
   "source": [
    "# Чтение списков и словарей из файла\n",
    "Смотрим что в файле purchase_log.txt. Похоже тут не строки, а словари"
   ]
  },
  {
   "cell_type": "code",
   "execution_count": 91,
   "metadata": {},
   "outputs": [
    {
     "name": "stdout",
     "output_type": "stream",
     "text": [
      "['{\"user_id\": \"user_id\", \"category\": \"category\"}\\n', '{\"user_id\": \"1840e0b9d4\", \"category\": \"Продукты\"}\\n', '{\"user_id\": \"4e4f90fcfb\", \"category\": \"Электроника\"}\\n', '{\"user_id\": \"afea8d72fc\", \"category\": \"Электроника\"}\\n', '{\"user_id\": \"373a6055fe\", \"category\": \"Бытовая техника\"}\\n']\n"
     ]
    }
   ],
   "source": [
    "with open('purchase_log.txt') as f:\n",
    "    print([next(f) for x in range(5)])"
   ]
  },
  {
   "cell_type": "code",
   "execution_count": 4,
   "metadata": {},
   "outputs": [],
   "source": [
    "import json"
   ]
  },
  {
   "cell_type": "code",
   "execution_count": 5,
   "metadata": {},
   "outputs": [
    {
     "name": "stdout",
     "output_type": "stream",
     "text": [
      "{'a': 1, 'b': 2}\n"
     ]
    },
    {
     "data": {
      "text/plain": [
       "dict"
      ]
     },
     "execution_count": 5,
     "metadata": {},
     "output_type": "execute_result"
    }
   ],
   "source": [
    "# перевод строки в словарь\n",
    "dict_in_string = '{\"a\": 1, \"b\": 2}'\n",
    "print(json.loads(dict_in_string))\n",
    "type(json.loads(dict_in_string))"
   ]
  },
  {
   "cell_type": "code",
   "execution_count": 6,
   "metadata": {},
   "outputs": [
    {
     "data": {
      "text/plain": [
       "2"
      ]
     },
     "execution_count": 6,
     "metadata": {},
     "output_type": "execute_result"
    }
   ],
   "source": [
    "json.loads(dict_in_string)['b']"
   ]
  },
  {
   "cell_type": "code",
   "execution_count": 7,
   "metadata": {},
   "outputs": [
    {
     "data": {
      "text/plain": [
       "3"
      ]
     },
     "execution_count": 7,
     "metadata": {},
     "output_type": "execute_result"
    }
   ],
   "source": [
    "# перевод строки в список\n",
    "list_in_string = '[1, 2, 3]'\n",
    "\n",
    "json.loads(list_in_string)[-1]"
   ]
  },
  {
   "cell_type": "code",
   "execution_count": 97,
   "metadata": {},
   "outputs": [
    {
     "name": "stdout",
     "output_type": "stream",
     "text": [
      "{'user_id': 'user_id', 'category': 'category'} <class 'dict'>\n",
      "{'user_id': '1840e0b9d4', 'category': 'Продукты'} <class 'dict'>\n",
      "{'user_id': '4e4f90fcfb', 'category': 'Электроника'} <class 'dict'>\n",
      "{'user_id': 'afea8d72fc', 'category': 'Электроника'} <class 'dict'>\n",
      "{'user_id': '373a6055fe', 'category': 'Бытовая техника'} <class 'dict'>\n",
      "{'user_id': '9b2ab046f3', 'category': 'Электроника'} <class 'dict'>\n"
     ]
    }
   ],
   "source": [
    "i = 0\n",
    "with open('purchase_log.txt') as f:\n",
    "    for line in f:\n",
    "        line = line.strip()\n",
    "        \n",
    "        dict_ = json.loads(line)\n",
    "        print(dict_, type(dict_))\n",
    "        \n",
    "        i += 1\n",
    "        if i > 5:\n",
    "            break"
   ]
  },
  {
   "cell_type": "markdown",
   "metadata": {},
   "source": [
    "### Из словаря в строку тоже можно"
   ]
  },
  {
   "cell_type": "code",
   "execution_count": 98,
   "metadata": {},
   "outputs": [],
   "source": [
    "data = {'user_id': '1840e0b9d4', 'category': 'Продукты'}"
   ]
  },
  {
   "cell_type": "code",
   "execution_count": 100,
   "metadata": {
    "scrolled": false
   },
   "outputs": [
    {
     "data": {
      "text/plain": [
       "'{\"user_id\": \"1840e0b9d4\", \"category\": \"\\\\u041f\\\\u0440\\\\u043e\\\\u0434\\\\u0443\\\\u043a\\\\u0442\\\\u044b\"}'"
      ]
     },
     "execution_count": 100,
     "metadata": {},
     "output_type": "execute_result"
    }
   ],
   "source": [
    "json.dumps(data)"
   ]
  },
  {
   "cell_type": "code",
   "execution_count": 101,
   "metadata": {},
   "outputs": [
    {
     "data": {
      "text/plain": [
       "str"
      ]
     },
     "execution_count": 101,
     "metadata": {},
     "output_type": "execute_result"
    }
   ],
   "source": [
    "type(json.dumps(data))"
   ]
  },
  {
   "cell_type": "markdown",
   "metadata": {},
   "source": [
    "# Модуль pickle\n",
    "Запись объекта сразу в файл как поток байтов"
   ]
  },
  {
   "cell_type": "code",
   "execution_count": 102,
   "metadata": {},
   "outputs": [],
   "source": [
    "import pickle"
   ]
  },
  {
   "cell_type": "code",
   "execution_count": 103,
   "metadata": {},
   "outputs": [],
   "source": [
    "data = {'user_id': '1840e0b9d4', 'category': 'Продукты'}"
   ]
  },
  {
   "cell_type": "code",
   "execution_count": 104,
   "metadata": {},
   "outputs": [],
   "source": [
    "with open('data.pickle', 'wb') as f:\n",
    "    pickle.dump(data, f)"
   ]
  },
  {
   "cell_type": "code",
   "execution_count": 106,
   "metadata": {},
   "outputs": [
    {
     "data": {
      "text/plain": [
       "{'user_id': '1840e0b9d4', 'category': 'Продукты'}"
      ]
     },
     "execution_count": 106,
     "metadata": {},
     "output_type": "execute_result"
    }
   ],
   "source": [
    "# прочитать объект из такого файла\n",
    "\n",
    "with open('data.pickle', 'rb') as f:\n",
    "    dict_ = pickle.load(f)\n",
    "    \n",
    "dict_"
   ]
  },
  {
   "cell_type": "code",
   "execution_count": 107,
   "metadata": {},
   "outputs": [
    {
     "data": {
      "text/plain": [
       "'1840e0b9d4'"
      ]
     },
     "execution_count": 107,
     "metadata": {},
     "output_type": "execute_result"
    }
   ],
   "source": [
    "dict_['user_id']"
   ]
  },
  {
   "cell_type": "markdown",
   "metadata": {},
   "source": [
    "# Чтение файлов из папки"
   ]
  },
  {
   "cell_type": "code",
   "execution_count": 108,
   "metadata": {},
   "outputs": [],
   "source": [
    "import os"
   ]
  },
  {
   "cell_type": "code",
   "execution_count": 110,
   "metadata": {},
   "outputs": [
    {
     "name": "stdout",
     "output_type": "stream",
     "text": [
      "file_2.csv\n",
      "file_3.csv\n",
      "file_1.csv\n"
     ]
    }
   ],
   "source": [
    "# чтение файлов и папок\n",
    "for file in os.listdir('data'):\n",
    "    if '.csv' in file:\n",
    "        print(file)"
   ]
  },
  {
   "cell_type": "code",
   "execution_count": 111,
   "metadata": {},
   "outputs": [
    {
     "name": "stdout",
     "output_type": "stream",
     "text": [
      "data ['more_data'] ['.DS_Store', 'file_2.csv', 'file_3.csv', 'file_1.csv']\n",
      "data/more_data [] ['file_4.csv', 'file_5.csv']\n"
     ]
    }
   ],
   "source": [
    "# чтение всех файлов и папок, в том числе вложенных\n",
    "for root, directory, file in os.walk('data'):\n",
    "    print(root, directory, file)"
   ]
  },
  {
   "cell_type": "markdown",
   "metadata": {},
   "source": [
    "# Каталог пакетов pip (Python Package Index)\n",
    "Варианты установки\n",
    "1. С помощью Anaconda Navigator\n",
    "2. В командной строке (Terminal на маке)\n",
    "```bash\n",
    "pip install package_name\n",
    "```\n",
    "3. Скачать версию с github и установить вручную\n",
    "```bash\n",
    "pip install .\n",
    "```\n",
    "\n",
    "Пакеты устанавливаются в определенное окружение! Вам пригодится virtualenv"
   ]
  },
  {
   "cell_type": "code",
   "execution_count": null,
   "metadata": {},
   "outputs": [],
   "source": [
    "pip install sklearn --user"
   ]
  },
  {
   "cell_type": "code",
   "execution_count": null,
   "metadata": {},
   "outputs": [],
   "source": [
    "!pip install pyyaml"
   ]
  },
  {
   "cell_type": "code",
   "execution_count": 113,
   "metadata": {},
   "outputs": [
    {
     "ename": "ModuleNotFoundError",
     "evalue": "No module named 'plotly123'",
     "output_type": "error",
     "traceback": [
      "\u001b[0;31m---------------------------------------------------------------------------\u001b[0m",
      "\u001b[0;31mModuleNotFoundError\u001b[0m                       Traceback (most recent call last)",
      "\u001b[0;32m<ipython-input-113-db5968321198>\u001b[0m in \u001b[0;36m<module>\u001b[0;34m\u001b[0m\n\u001b[0;32m----> 1\u001b[0;31m \u001b[0;32mimport\u001b[0m \u001b[0mplotly123\u001b[0m\u001b[0;34m\u001b[0m\u001b[0m\n\u001b[0m",
      "\u001b[0;31mModuleNotFoundError\u001b[0m: No module named 'plotly123'"
     ]
    }
   ],
   "source": [
    "import plotly123"
   ]
  },
  {
   "cell_type": "markdown",
   "metadata": {},
   "source": [
    "# Простой импорт"
   ]
  },
  {
   "cell_type": "code",
   "execution_count": null,
   "metadata": {},
   "outputs": [],
   "source": [
    "import sys\n",
    "sys.path"
   ]
  },
  {
   "cell_type": "code",
   "execution_count": null,
   "metadata": {},
   "outputs": [],
   "source": [
    "# добавляем в список библиотек папку libs\n",
    "sys.path.append('libs')\n",
    "sys.path"
   ]
  },
  {
   "cell_type": "code",
   "execution_count": null,
   "metadata": {},
   "outputs": [],
   "source": [
    "from useful_codes import CATEGORIES"
   ]
  },
  {
   "cell_type": "code",
   "execution_count": null,
   "metadata": {},
   "outputs": [],
   "source": [
    "CATEGORIES"
   ]
  },
  {
   "cell_type": "code",
   "execution_count": null,
   "metadata": {},
   "outputs": [],
   "source": [
    "from useful_codes import word_count"
   ]
  },
  {
   "cell_type": "code",
   "execution_count": null,
   "metadata": {},
   "outputs": [],
   "source": [
    "# посмотреть документацию функции\n",
    "\n",
    "?word_count"
   ]
  },
  {
   "cell_type": "code",
   "execution_count": null,
   "metadata": {},
   "outputs": [],
   "source": [
    "word_count('Посчитай количество слов в тексте')"
   ]
  },
  {
   "cell_type": "markdown",
   "metadata": {},
   "source": [
    "# Домашнее задание\n",
    "1. Переведите содержимое файла purchase_log.txt в словарь purchases вида:\n",
    "```python\n",
    "{'1840e0b9d4': 'Продукты', ...}\n",
    "```\n",
    "\n",
    "2. Для каждого user_id в файле visit_log.csv определите третий столбец с категорией покупки (если покупка была, сам файл visit_log.csv изменять не надо). Запишите в файл funnel.csv визиты из файла visit_log.csv, в которых были покупки с указанием категории.\n",
    "\n",
    "Учтите условия на данные:\n",
    "- содержимое purchase_log.txt помещается в оперативную память компьютера\n",
    "- содержимое visit_log.csv - нет; используйте только построчную обработку этого файла"
   ]
  },
  {
   "cell_type": "code",
   "execution_count": null,
   "metadata": {},
   "outputs": [],
   "source": []
  },
  {
   "cell_type": "code",
   "execution_count": null,
   "metadata": {},
   "outputs": [],
   "source": []
  },
  {
   "cell_type": "code",
   "execution_count": null,
   "metadata": {},
   "outputs": [],
   "source": []
  }
 ],
 "metadata": {
  "kernelspec": {
   "display_name": "Python 3",
   "language": "python",
   "name": "python3"
  },
  "language_info": {
   "codemirror_mode": {
    "name": "ipython",
    "version": 3
   },
   "file_extension": ".py",
   "mimetype": "text/x-python",
   "name": "python",
   "nbconvert_exporter": "python",
   "pygments_lexer": "ipython3",
   "version": "3.7.6"
  }
 },
 "nbformat": 4,
 "nbformat_minor": 2
}
