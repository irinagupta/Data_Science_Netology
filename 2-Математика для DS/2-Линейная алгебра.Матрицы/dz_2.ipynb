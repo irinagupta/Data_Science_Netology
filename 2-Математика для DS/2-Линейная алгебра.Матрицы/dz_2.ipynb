{
  "nbformat": 4,
  "nbformat_minor": 0,
  "metadata": {
    "colab": {
      "name": "Untitled2.ipynb",
      "provenance": [],
      "include_colab_link": true
    },
    "kernelspec": {
      "name": "python3",
      "display_name": "Python 3"
    }
  },
  "cells": [
    {
      "cell_type": "markdown",
      "metadata": {
        "id": "view-in-github",
        "colab_type": "text"
      },
      "source": [
        "<a href=\"https://colab.research.google.com/github/yustinaivanova/math_netology_2/blob/master/dz_2.ipynb\" target=\"_parent\"><img src=\"https://colab.research.google.com/assets/colab-badge.svg\" alt=\"Open In Colab\"/></a>"
      ]
    },
    {
      "cell_type": "markdown",
      "metadata": {
        "id": "hTHl3kyDWIGO",
        "colab_type": "text"
      },
      "source": [
        "# Математики для data science.\n",
        "# Домашнее задание 2."
      ]
    },
    {
      "cell_type": "markdown",
      "metadata": {
        "id": "OAJG6826Pnft",
        "colab_type": "text"
      },
      "source": [
        "**Задание на отображение множеств.**"
      ]
    },
    {
      "cell_type": "markdown",
      "metadata": {
        "id": "lHtJSvE3Pt9i",
        "colab_type": "text"
      },
      "source": [
        "**Задание 1.**"
      ]
    },
    {
      "cell_type": "markdown",
      "metadata": {
        "id": "pRTF1ROCPxoR",
        "colab_type": "text"
      },
      "source": [
        "Написать функцию отображения элементов одного множества в другое. Первое множество - художники, второе множество - картины художников.\n",
        "Множество художников - Серов, Левитан, Репин, Васнецов, Шишкин. \n",
        "Множество картин - \"Утро в сосновом бору\", \"Богатыри\", \"Золотая осень\", \"Девочка с персиками\", \"Запорожцы\", \"Буралки на Волге\", \"Март\", \"Алёнушка\". \n"
      ]
    },
    {
      "cell_type": "markdown",
      "metadata": {
        "id": "4QwS5m7CWXY3",
        "colab_type": "text"
      },
      "source": [
        "**Полиномиальные функции.**"
      ]
    },
    {
      "cell_type": "markdown",
      "metadata": {
        "id": "thQjcSL7WbIY",
        "colab_type": "text"
      },
      "source": [
        "**Задание 2**. Найти из следующих функций те, которые являются полиномиальной функцией."
      ]
    },
    {
      "cell_type": "markdown",
      "metadata": {
        "id": "GbDQjj-pWjqm",
        "colab_type": "text"
      },
      "source": [
        "*  $$f(x)=\\frac{1}{2}x^{6}-1\\frac{5}{6}x+\\frac{1}{3}$$\n",
        "*  $$f(x)=\\frac{3x^{6}-11x+2}{6}$$\n",
        "*  $$f(x)=\\frac{3x^{6}-11x+2}{6x}$$\n",
        "*  $$f(x)=x^{5}-3x^{2}+7x^{-2}$$\n",
        "*  $$f(x)=(5x^{2}-2)^3-\\frac{1}{2}x^{3}$$\n",
        "*  $$f(x)=(1+\\sqrt{x})^{3}-5(1+\\sqrt{x})$$\n",
        "*  $$f(x)=\\pi $$\n",
        "\n"
      ]
    },
    {
      "cell_type": "markdown",
      "metadata": {
        "id": "2SOZDLZQW9vK",
        "colab_type": "text"
      },
      "source": [
        "**Задание 3**. Раскрыть скобки для следующего полинома $$(2x+1)^{2}(x-1)-x(4x^{2}-1)-x(4x^{2}-1)=ax^3+bx^2+cx+d$$ найти коэффициенты для a, b, c, d."
      ]
    },
    {
      "cell_type": "markdown",
      "metadata": {
        "id": "FW0p4xjzIdRZ",
        "colab_type": "text"
      },
      "source": [
        "Для данного задания полезно использовать следующие формулы сокращенного умножения:\n",
        "![alt text](https://sun9-38.userapi.com/c851232/v851232044/19c5b0/7Yy6qz-MUHA.jpg)"
      ]
    },
    {
      "cell_type": "markdown",
      "metadata": {
        "id": "hETFA0bzXYdw",
        "colab_type": "text"
      },
      "source": [
        "Чему равна степень полинома?"
      ]
    },
    {
      "cell_type": "markdown",
      "metadata": {
        "id": "EH8FFbsvt64f",
        "colab_type": "text"
      },
      "source": [
        "Нарисовать график для полинома."
      ]
    },
    {
      "cell_type": "code",
      "metadata": {
        "id": "wk89rocGSoYC",
        "colab_type": "code",
        "colab": {}
      },
      "source": [
        "def func1(x):\n",
        "  # написать функцию\n",
        "  \n",
        "# создаем вектор x\n",
        "x1 = np.linspace(-3.0, 3.0, 100)\n",
        "# на основе вектора x строим значения для вектора y\n",
        "y1 = [func(x1[i]) for i in range(len(x1))]\n",
        "\n",
        "plt.plot(x1, y1)\n",
        "plt.title('График функции')\n",
        "plt.ylabel('y')\n",
        "plt.xlabel('x')\n",
        "\n",
        "plt.show()"
      ],
      "execution_count": 0,
      "outputs": []
    },
    {
      "cell_type": "markdown",
      "metadata": {
        "id": "YnGld7mvZNUB",
        "colab_type": "text"
      },
      "source": [
        "**Задание 3**.\n",
        "Для заданных функций найти подходящий график (не все функции имеют график):\n",
        "$\\frac{3}{4}x-1$,  $\\frac{3}{4}x+2$, $2-2x$, $2+2x$, $\\frac{1}{4}(x+1)^{2}-2 $, $\\frac{1}{4}(x-1)^2-2$, $(x-1)(x-3)$, $(x+1)(x+3)$, $2-x^2$, $2-\\frac{1}{4}x^2$"
      ]
    },
    {
      "cell_type": "markdown",
      "metadata": {
        "id": "8TCnR4urZX_A",
        "colab_type": "text"
      },
      "source": [
        "![alt text](https://pp.userapi.com/c855532/v855532908/aadd4/uWjIZGDfw0s.jpg)"
      ]
    },
    {
      "cell_type": "markdown",
      "metadata": {
        "id": "v4PsJSrlbGni",
        "colab_type": "text"
      },
      "source": [
        "**Задание 4.** Найти минимальную степень следующего полинома:\n",
        "\n",
        "![alt text](https://pp.userapi.com/c855532/v855532908/aadcd/PZdPYTQT02A.jpg)"
      ]
    },
    {
      "cell_type": "markdown",
      "metadata": {
        "id": "In-LISkBGJ1u",
        "colab_type": "text"
      },
      "source": [
        "**Задания повышенного уровня**"
      ]
    },
    {
      "cell_type": "markdown",
      "metadata": {
        "id": "FGmhJtvceZO6",
        "colab_type": "text"
      },
      "source": [
        "Почему следующие функции не являются полиномиальными?\n",
        "$$y=5x^{-2}+1$$\n",
        "$$y=3x^{1/2}+2$$\n",
        "$$y=(5x+1)/(3x)$$"
      ]
    },
    {
      "cell_type": "markdown",
      "metadata": {
        "id": "XyzbTtgEezLl",
        "colab_type": "text"
      },
      "source": [
        "Найдите наибольшее и наименьшее значение функции $y = x^3 + 2x^2 + x + 3 $ на отрезке [-4;-1]. "
      ]
    },
    {
      "cell_type": "markdown",
      "metadata": {
        "id": "zZwKoyIwf4SV",
        "colab_type": "text"
      },
      "source": [
        "Пример линейной регрессии - это применение полиномов на практике. В следующем примере дан датасет x, y, сгенерированный рандомно. Мы можем использовать линейную регрессию, чтобы предсказать значение переменной y от x. "
      ]
    },
    {
      "cell_type": "code",
      "metadata": {
        "id": "wyWYYrGnWHVk",
        "colab_type": "code",
        "outputId": "85df8263-3022-4a15-8a64-204ec3ec56a6",
        "colab": {
          "base_uri": "https://localhost:8080/",
          "height": 269
        }
      },
      "source": [
        "import numpy as np\n",
        "import matplotlib.pyplot as plt\n",
        "\n",
        "from sklearn.linear_model import LinearRegression\n",
        "\n",
        "np.random.seed(0)\n",
        "x = 2 - 3 * np.random.normal(0, 1, 20)\n",
        "y = x - 2 * (x ** 2) + 0.5 * (x ** 3) + np.random.normal(-3, 3, 20)\n",
        "\n",
        "# transforming the data to include another axis\n",
        "x = x[:, np.newaxis]\n",
        "y = y[:, np.newaxis]\n",
        "\n",
        "model = LinearRegression()\n",
        "# написать линейную регрессию"
      ],
      "execution_count": 0,
      "outputs": [
        {
          "output_type": "display_data",
          "data": {
            "image/png": "[encoded data removed]",
            "text/plain": [
              "<Figure size 432x288 with 1 Axes>"
            ]
          },
          "metadata": {
            "tags": []
          }
        }
      ]
    },
    {
      "cell_type": "markdown",
      "metadata": {
        "id": "_jdDSF1KhGCA",
        "colab_type": "text"
      },
      "source": [
        "В данном примере найден полином первой степени. Как можно улучшить данную модель? Написать пример. "
      ]
    }
  ]
}