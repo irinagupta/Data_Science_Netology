{
 "cells": [
  {
   "cell_type": "code",
   "execution_count": 1,
   "metadata": {
    "colab": {},
    "colab_type": "code",
    "id": "ffBf5cS-4L7Z"
   },
   "outputs": [],
   "source": [
    "import numpy as np\n",
    "import matplotlib.pyplot as plt\n",
    "import pandas as pd\n",
    "%matplotlib inline\n"
   ]
  },
  {
   "cell_type": "markdown",
   "metadata": {
    "colab_type": "text",
    "id": "n-H_wCGwiF0-"
   },
   "source": [
    "# Основы математики для data science"
   ]
  },
  {
   "cell_type": "markdown",
   "metadata": {
    "colab_type": "text",
    "id": "sZivAPVGiMFM"
   },
   "source": [
    "**Функция (отражение, оператор, преобразование)** - в математике соответствие между элементами двух множеств, установленное по такому правилу, что каждому элементу одного множества ставится в соответствие некоторый элемент из другого множества."
   ]
  },
  {
   "cell_type": "markdown",
   "metadata": {
    "colab_type": "text",
    "id": "jhSmadmWis5h"
   },
   "source": [
    "Функция может быть представлена несколькими способами:\n",
    "\n",
    "\n",
    "*   математически (с помощью формулы)\n",
    "*   графически (график)\n",
    "*   таблично (с помощью таблицы)\n",
    "*   программно (python код)\n",
    "\n"
   ]
  },
  {
   "cell_type": "markdown",
   "metadata": {
    "colab_type": "text",
    "id": "f4BrYrGzuY31"
   },
   "source": [
    "# Пример представления функции для датасета о фильмах"
   ]
  },
  {
   "cell_type": "markdown",
   "metadata": {
    "colab_type": "text",
    "id": "B5LHDBaAuf_y"
   },
   "source": [
    "Напишем код для функции, которая для каждого актера и актрисы из имеющегося множества будет находить фильмы, в которых они играли. Для этого будем использовать Set представление в python."
   ]
  },
  {
   "cell_type": "code",
   "execution_count": 2,
   "metadata": {
    "colab": {},
    "colab_type": "code",
    "id": "IiFTOp-Curqg"
   },
   "outputs": [],
   "source": [
    "actors = set(['Сергей Бодров', 'Сергей Безруков', 'Чулпан Хаматова', 'Анастасия Задорожная'])"
   ]
  },
  {
   "cell_type": "markdown",
   "metadata": {
    "colab_type": "text",
    "id": "QIOo0dbGvStu"
   },
   "source": [
    "Для написания функции отображения актеров в подпространство фильмов будем использовать словари (dictionary) в python"
   ]
  },
  {
   "cell_type": "code",
   "execution_count": 3,
   "metadata": {
    "colab": {},
    "colab_type": "code",
    "id": "OXbiZWmpvmCB"
   },
   "outputs": [],
   "source": [
    "dict_actors = dict()\n",
    "dict_actors['Сергей Бодров'] = 'Брат'\n",
    "dict_actors['Сергей Безруков'] = 'Бригада'\n",
    "dict_actors['Чулпан Хаматова'] = 'Дети Арбата'\n",
    "dict_actors['Анастасия Задорожная'] = 'Плохая соседка'"
   ]
  },
  {
   "cell_type": "markdown",
   "metadata": {
    "colab_type": "text",
    "id": "G58IXRicwNL0"
   },
   "source": [
    "Теперь для каждого актера в словаре dict_actors хранится название фильма, в котором он/она участвовали.\n",
    "\n",
    "Можно проверить, что все элементы множества actors отображаются в подпространство фильмов правильно."
   ]
  },
  {
   "cell_type": "code",
   "execution_count": 4,
   "metadata": {
    "colab": {
     "base_uri": "https://localhost:8080/",
     "height": 85
    },
    "colab_type": "code",
    "id": "KgBZ4nLewU94",
    "outputId": "635f1bb6-de41-419d-ffc0-4e315e958496"
   },
   "outputs": [
    {
     "name": "stdout",
     "output_type": "stream",
     "text": [
      "Сергей Безруков: Бригада\n",
      "Анастасия Задорожная: Плохая соседка\n",
      "Сергей Бодров: Брат\n",
      "Чулпан Хаматова: Дети Арбата\n"
     ]
    }
   ],
   "source": [
    "for el in actors:\n",
    "  print(el + ': ' + dict_actors[el])"
   ]
  },
  {
   "cell_type": "markdown",
   "metadata": {
    "colab_type": "text",
    "id": "jZgfOPZETG8W"
   },
   "source": [
    "**Хэш-таблица**"
   ]
  },
  {
   "cell_type": "markdown",
   "metadata": {
    "colab_type": "text",
    "id": "LMejU2zITQxa"
   },
   "source": [
    "Хэш-таблица отличается от функции тем, что для одного аргумента может быть несколько значений."
   ]
  },
  {
   "cell_type": "markdown",
   "metadata": {
    "colab_type": "text",
    "id": "uaqEJgsvwucL"
   },
   "source": [
    "В примере выше каждый актёр встречается только в одном фильме. Совсем иначе придется продумывать структуру данных, если актёры встречается в более чем одном фильме. В этом случае словарь необходимо заменить на таблицу словарей (хэш-таблицу)."
   ]
  },
  {
   "cell_type": "code",
   "execution_count": 5,
   "metadata": {
    "colab": {},
    "colab_type": "code",
    "id": "uAg3u2CCxNmK"
   },
   "outputs": [],
   "source": [
    "dict_actors_2 = dict()\n",
    "dict_actors_2['Сергей Бодров'] = ['Брат', 'Брат2']\n",
    "dict_actors_2['Сергей Безруков'] = ['Бригада', 'Есенин','Кинопоэзия','Таинственная страсть']\n",
    "dict_actors_2['Чулпан Хаматова'] = ['Дети Арбата', 'Гуд бай, Ленин!','Кинопоэзия', 'Таинственная страсть']\n",
    "dict_actors_2['Анастасия Задорожная'] = ['Плохая соседка']"
   ]
  },
  {
   "cell_type": "markdown",
   "metadata": {
    "colab_type": "text",
    "id": "x_J4QCFxzMgY"
   },
   "source": [
    "Напечатаем фильмы, в которых участвовали актеры:"
   ]
  },
  {
   "cell_type": "code",
   "execution_count": 6,
   "metadata": {
    "colab": {
     "base_uri": "https://localhost:8080/",
     "height": 85
    },
    "colab_type": "code",
    "id": "yBRQquATydMJ",
    "outputId": "1fc8e887-23c9-4221-cfbd-e9c0a6f7ca6b"
   },
   "outputs": [
    {
     "name": "stdout",
     "output_type": "stream",
     "text": [
      "Сергей Безруков: Бригада, Есенин, Кинопоэзия, Таинственная страсть, \n",
      "Анастасия Задорожная: Плохая соседка, \n",
      "Сергей Бодров: Брат, Брат2, \n",
      "Чулпан Хаматова: Дети Арбата, Гуд бай, Ленин!, Кинопоэзия, Таинственная страсть, \n"
     ]
    }
   ],
   "source": [
    "for el in actors:\n",
    "  films = ''\n",
    "  for film in dict_actors_2[el]:\n",
    "    films += film + ', '\n",
    "  print(el + ': '+ films)"
   ]
  },
  {
   "cell_type": "markdown",
   "metadata": {
    "colab_type": "text",
    "id": "3wEty8WOzQ4z"
   },
   "source": [
    "Если мы хотим проверить, в каких фильмах участвовали Сергей Бодров и Чулпан Хаматова совместно, достаточно проверить пересечение множества фильмов одного актера и другого:"
   ]
  },
  {
   "cell_type": "code",
   "execution_count": 7,
   "metadata": {
    "colab": {
     "base_uri": "https://localhost:8080/",
     "height": 51
    },
    "colab_type": "code",
    "id": "XPLqN8brzd8V",
    "outputId": "e259ddd7-d20b-44af-a971-1724d7c0169d"
   },
   "outputs": [
    {
     "name": "stdout",
     "output_type": "stream",
     "text": [
      "Кинопоэзия\n",
      "Таинственная страсть\n"
     ]
    }
   ],
   "source": [
    "for film in dict_actors_2['Чулпан Хаматова']:\n",
    "  if film in dict_actors_2['Сергей Безруков']:\n",
    "    print(film)\n",
    "  "
   ]
  },
  {
   "cell_type": "markdown",
   "metadata": {
    "colab_type": "text",
    "id": "33jK6HtJ2PqC"
   },
   "source": [
    "Заметьте, в данном случае мы использовали встроенную команду **in**, которая проверяет, имеется ли элемент в списке list. "
   ]
  },
  {
   "cell_type": "markdown",
   "metadata": {
    "colab_type": "text",
    "id": "mjoSpiMN2mVi"
   },
   "source": [
    "# Способы представления функций."
   ]
  },
  {
   "cell_type": "markdown",
   "metadata": {
    "colab_type": "text",
    "id": "f5iR2aYF3B5b"
   },
   "source": [
    "**Программный способ представления.**\n",
    "\n",
    "Дана функция: ![alt text](https://pp.userapi.com/c854520/v854520891/aaadd/f5M6W-fRFjg.jpg). Напишем для неё код."
   ]
  },
  {
   "cell_type": "code",
   "execution_count": 8,
   "metadata": {
    "colab": {},
    "colab_type": "code",
    "id": "gaSr3WsN3FR9"
   },
   "outputs": [],
   "source": [
    "from math import pow\n",
    "def func(x):\n",
    "  stepen = 1/4*pow(x, 5) - pow(x, 4) + 1/4*pow(x, 3) + 3/2*pow(x, 2) +1\n",
    "  y = 1 - pow(2, stepen)\n",
    "  return y"
   ]
  },
  {
   "cell_type": "markdown",
   "metadata": {
    "colab_type": "text",
    "id": "-4u1dtoO6ShC"
   },
   "source": [
    "**Графический способ представления функции.**"
   ]
  },
  {
   "cell_type": "markdown",
   "metadata": {
    "colab_type": "text",
    "id": "eet3Sy743pmn"
   },
   "source": [
    "Нарисуем график написанной функции:"
   ]
  },
  {
   "cell_type": "code",
   "execution_count": 10,
   "metadata": {
    "colab": {
     "base_uri": "https://localhost:8080/",
     "height": 295
    },
    "colab_type": "code",
    "id": "2DAj41p-3tJi",
    "outputId": "71428f3a-8336-4b1d-8f52-926a6c5966c5"
   },
   "outputs": [
    {
     "data": {
      "image/png": "[encoded data removed]",
      "text/plain": [
       "<Figure size 432x288 with 1 Axes>"
      ]
     },
     "metadata": {
      "needs_background": "light"
     },
     "output_type": "display_data"
    }
   ],
   "source": [
    "# создаем вектор x\n",
    "x1 = np.linspace(-3.0, 3.0, 100)\n",
    "# на основе вектора x строим значения для вектора y\n",
    "y1 = [func(x1[i]) for i in range(len(x1))]\n",
    "\n",
    "plt.plot(x1, y1, '.')\n",
    "plt.title('График функции')\n",
    "plt.ylabel('y')\n",
    "plt.xlabel('x')\n",
    "\n",
    "plt.show()"
   ]
  },
  {
   "cell_type": "markdown",
   "metadata": {
    "colab_type": "text",
    "id": "Q_vZhou46b0l"
   },
   "source": [
    "**Представление функции ввиде формулы.**"
   ]
  },
  {
   "cell_type": "markdown",
   "metadata": {
    "colab_type": "text",
    "id": "sE0QpYBTlICN"
   },
   "source": [
    "Иногда удобно представить функцию ввиде нескольких формул вместо одной. Например, функция y=abs(x). Если мы хотим записать алгоритм функции, легче всего разделить пространство аргументов на плоскости на 2 отрезка: от $-\\infty$ до 0 включительно и от 0 до $+\\infty $"
   ]
  },
  {
   "cell_type": "markdown",
   "metadata": {
    "colab_type": "text",
    "id": "7I7cBeQRlF4F"
   },
   "source": [
    "![alt text](https://pp.userapi.com/c858028/v858028826/2c07f/SOjKZptkdXU.jpg)"
   ]
  },
  {
   "cell_type": "markdown",
   "metadata": {
    "colab_type": "text",
    "id": "tkVoVg9R6ly6"
   },
   "source": [
    "**Некоторые замечания.**"
   ]
  },
  {
   "cell_type": "markdown",
   "metadata": {
    "colab_type": "text",
    "id": "zil1HUcIoqYW"
   },
   "source": [
    "На графике функции различают точки, не включенные в график, с помощью \"выколотых\" точек (точка (0, 1) на графике). Точку, ключенную в график, показывают увеличенного размера (точка (0, 2) на графике)"
   ]
  },
  {
   "cell_type": "markdown",
   "metadata": {
    "colab_type": "text",
    "id": "uE0mmE4eooTn"
   },
   "source": [
    "![alt text](https://prod-edxapp.edx-cdn.org/assets/courseware/v1/1373e2e5713de274ce4c2ed8bd2697cc/asset-v1:DelftX+Calc001x+2T2019+type@asset+block/1.2_graph_with_jump.png)"
   ]
  },
  {
   "cell_type": "markdown",
   "metadata": {
    "colab_type": "text",
    "id": "_zO4X1fLpruw"
   },
   "source": [
    "Напишем код для задания функции и отрисовки графика функции."
   ]
  },
  {
   "cell_type": "code",
   "execution_count": 11,
   "metadata": {
    "colab": {
     "base_uri": "https://localhost:8080/",
     "height": 295
    },
    "colab_type": "code",
    "id": "xZq3xa85vw1Q",
    "outputId": "7f4fa3ce-2719-4bdd-d8bb-4fc0afc26e30"
   },
   "outputs": [
    {
     "data": {
      "image/png": "[encoded data removed]",
      "text/plain": [
       "<Figure size 432x288 with 1 Axes>"
      ]
     },
     "metadata": {
      "needs_background": "light"
     },
     "output_type": "display_data"
    }
   ],
   "source": [
    "x1 = np.linspace(-3.0, 3.0, 100)\n",
    "\n",
    "y1 = [1 for _ in range(len(x1))]\n",
    "y1[len(x1)//2] = 2\n",
    "\n",
    "plt.scatter(x1, y1, marker='o')\n",
    "plt.scatter(0, 1, s=100, marker='o')\n",
    "plt.scatter(0, 1, s=50, marker='o', c='white')\n",
    "plt.title('График функции с включенной и выколотой точкой')\n",
    "plt.ylabel('y')\n",
    "plt.xlabel('x')\n",
    "plt.ylim(0, 3)\n",
    "\n",
    "plt.show()"
   ]
  },
  {
   "cell_type": "markdown",
   "metadata": {
    "colab_type": "text",
    "id": "MEJQ3DTsQTrz"
   },
   "source": [
    "# Полиномиальные функции или многочлены."
   ]
  },
  {
   "cell_type": "markdown",
   "metadata": {
    "colab_type": "text",
    "id": "p41NVHbmQnAn"
   },
   "source": [
    "Целая рациональная функция (также полиномиальная функция) — числовая функция одного действительного переменного вида:\n",
    "$$f(x) = a_{n}x^{n}+a_{n-1}x^{n-1}+...+a_{2}x^{2}+a_{1}x+a_{0}=\\sum_{i=0}^{n}a_{i}x^{i}$$,\n",
    "где $n\\in \\mathbb{N}, a_{n},a_{n-1},...,a_{2},a_{1},a_{0}\\in \\mathbb{R}, a_{n}\\neq 0$"
   ]
  },
  {
   "cell_type": "markdown",
   "metadata": {
    "colab_type": "text",
    "id": "EA0c0k0wtxJv"
   },
   "source": [
    "**Пример построения полинома: степень = 0.**"
   ]
  },
  {
   "cell_type": "code",
   "execution_count": 12,
   "metadata": {
    "colab": {
     "base_uri": "https://localhost:8080/",
     "height": 295
    },
    "colab_type": "code",
    "id": "Zylfchnat2Uv",
    "outputId": "f84ac607-2d6f-403b-c241-8b0b8e504eae"
   },
   "outputs": [
    {
     "data": {
      "image/png": "[encoded data removed]",
      "text/plain": [
       "<Figure size 432x288 with 1 Axes>"
      ]
     },
     "metadata": {
      "needs_background": "light"
     },
     "output_type": "display_data"
    }
   ],
   "source": [
    "x1 = np.linspace(-3.0, 3.0, 100)\n",
    "y1 = [3 for _ in range(len(x1))]\n",
    "plt.plot(x1, y1, '-o')\n",
    "plt.title('График функции')\n",
    "plt.ylabel('y')\n",
    "plt.xlabel('x')\n",
    "\n",
    "plt.show()"
   ]
  },
  {
   "cell_type": "markdown",
   "metadata": {
    "colab_type": "text",
    "id": "swK9wSktA_nl"
   },
   "source": [
    "**Пример построения полинома степени 2: подбрасывание мяча (слайд 20)**"
   ]
  },
  {
   "cell_type": "code",
   "execution_count": 13,
   "metadata": {
    "colab": {},
    "colab_type": "code",
    "id": "C6Lrf1PtBSvi"
   },
   "outputs": [],
   "source": [
    "def polynom_2(x):\n",
    "  y = -4.9*x*x + 6.1*x + 1.4\n",
    "  return y"
   ]
  },
  {
   "cell_type": "code",
   "execution_count": 14,
   "metadata": {
    "colab": {
     "base_uri": "https://localhost:8080/",
     "height": 295
    },
    "colab_type": "code",
    "id": "K9yoRIlGBE42",
    "outputId": "abb69c98-2a18-438b-cb52-bb12f84f1461"
   },
   "outputs": [
    {
     "data": {
      "image/png": "[encoded data removed]",
      "text/plain": [
       "<Figure size 432x288 with 1 Axes>"
      ]
     },
     "metadata": {
      "needs_background": "light"
     },
     "output_type": "display_data"
    }
   ],
   "source": [
    "x1 = np.linspace(-0.25, 1.5, 100)\n",
    "y1 = [polynom_2(x1[i]) for i in range(len(x1))]\n",
    "plt.plot(x1, y1, '-o')\n",
    "plt.title('График функции полинома степени 2: траектория мяча')\n",
    "plt.ylabel('y')\n",
    "plt.xlabel('x')\n",
    "\n",
    "plt.show()"
   ]
  },
  {
   "cell_type": "markdown",
   "metadata": {
    "colab_type": "text",
    "id": "GYn8TX2ODMOG"
   },
   "source": [
    "**Пример построения полинома степени 2: Golden Gate в Сан-Франсиско (слайд 21)**"
   ]
  },
  {
   "cell_type": "code",
   "execution_count": 15,
   "metadata": {
    "colab": {},
    "colab_type": "code",
    "id": "qUQM9Yv3DK9t"
   },
   "outputs": [],
   "source": [
    "def polynom_golden_gate(x):\n",
    "  y = 0.00037*x*x - 0.475*x + 230\n",
    "  return y"
   ]
  },
  {
   "cell_type": "code",
   "execution_count": 16,
   "metadata": {
    "colab": {
     "base_uri": "https://localhost:8080/",
     "height": 295
    },
    "colab_type": "code",
    "id": "7rja3-knEYt4",
    "outputId": "58ab1915-f620-4ec6-f9dc-93325046ce5e"
   },
   "outputs": [
    {
     "data": {
      "image/png": "[encoded data removed]",
      "text/plain": [
       "<Figure size 432x288 with 1 Axes>"
      ]
     },
     "metadata": {
      "needs_background": "light"
     },
     "output_type": "display_data"
    }
   ],
   "source": [
    "x1 = np.linspace(-1000, 2300, 100)\n",
    "y1 = [polynom_golden_gate(x1[i]) for i in range(len(x1))]\n",
    "plt.plot(x1, y1, '-o')\n",
    "plt.title('График функции полинома степени 2: Golden Gate в Сан-Франсиско')\n",
    "plt.ylabel('y')\n",
    "plt.xlabel('x')\n",
    "\n",
    "plt.show()"
   ]
  },
  {
   "cell_type": "markdown",
   "metadata": {
    "colab_type": "text",
    "id": "aXjhJIWUFHrD"
   },
   "source": [
    "**Влияние коэффициентов на параболу.**"
   ]
  },
  {
   "cell_type": "markdown",
   "metadata": {
    "colab_type": "text",
    "id": "cdKNpDTOG-Op"
   },
   "source": [
    "Дана функция вида: \n",
    "![alt text](https://pp.userapi.com/c857436/v857436897/31ac2/UrfFLiDjv30.jpg)"
   ]
  },
  {
   "cell_type": "markdown",
   "metadata": {
    "colab_type": "text",
    "id": "KbTWhVlkHCOs"
   },
   "source": [
    "Посмотрим график функции."
   ]
  },
  {
   "cell_type": "code",
   "execution_count": 17,
   "metadata": {
    "colab": {},
    "colab_type": "code",
    "id": "VDJfHP_rHQHA"
   },
   "outputs": [],
   "source": [
    "def polynom_(x, a):\n",
    "  y = a*x*x  + x + 0\n",
    "  return y"
   ]
  },
  {
   "cell_type": "code",
   "execution_count": 18,
   "metadata": {
    "colab": {},
    "colab_type": "code",
    "id": "e41Bs83wFNPR"
   },
   "outputs": [],
   "source": [
    "x1 = np.linspace(-50, 50, 100)\n",
    "y1 = [polynom_(x1[i], 1/2) for i in range(len(x1))]\n",
    "y2 = [polynom_(x1[i], 1) for i in range(len(x1))]\n",
    "y3 = [polynom_(x1[i], 2) for i in range(len(x1))]\n",
    "y4 = [polynom_(x1[i], -1/2) for i in range(len(x1))]\n",
    "y5 = [polynom_(x1[i], -1) for i in range(len(x1))]\n",
    "y6 = [polynom_(x1[i], -2) for i in range(len(x1))]"
   ]
  },
  {
   "cell_type": "code",
   "execution_count": 19,
   "metadata": {
    "colab": {
     "base_uri": "https://localhost:8080/",
     "height": 417
    },
    "colab_type": "code",
    "id": "BBVfuhJ2Jgk3",
    "outputId": "70b65b47-738e-4b51-ea5f-9dccf355e890"
   },
   "outputs": [
    {
     "data": {
      "image/png": "[encoded data removed]",
      "text/plain": [
       "<Figure size 864x432 with 6 Axes>"
      ]
     },
     "metadata": {
      "needs_background": "light"
     },
     "output_type": "display_data"
    }
   ],
   "source": [
    "plt.figure(figsize=(12, 6))\n",
    "\n",
    "plt.subplot(231)\n",
    "plt.plot(x1,y1)\n",
    "plt.axvline(0, color='r')\n",
    "plt.ylim(0, 500)\n",
    "plt.title('a=1/2')\n",
    "\n",
    "plt.subplot(232)\n",
    "plt.plot(x1,y2)\n",
    "plt.ylim(0, 500)\n",
    "plt.axvline(0, color='r')\n",
    "plt.title('a=1')\n",
    "\n",
    "plt.subplot(233)\n",
    "plt.plot(x1,y3)\n",
    "plt.ylim(0, 500)\n",
    "plt.axvline(0, color='r')\n",
    "plt.title('a=2')\n",
    "\n",
    "plt.subplot(234)\n",
    "plt.plot(x1,y4)\n",
    "plt.ylim(-500, 0)\n",
    "plt.axvline(0, color='r')\n",
    "plt.title('a=-1/2')\n",
    "\n",
    "plt.subplot(235)\n",
    "plt.plot(x1,y5)\n",
    "plt.ylim(-500, 0)\n",
    "plt.axvline(0, color='r')\n",
    "plt.title('a=-1')\n",
    "\n",
    "plt.subplot(236)\n",
    "plt.plot(x1,y6)\n",
    "plt.ylim(-500, 0)\n",
    "plt.axvline(0, color='r')\n",
    "plt.title('a=-2')\n",
    "\n",
    "plt.suptitle('Зависимость графика от коэффициента a')\n",
    "plt.show()"
   ]
  },
  {
   "cell_type": "markdown",
   "metadata": {
    "colab_type": "text",
    "id": "Sfi3dNUtOC6b"
   },
   "source": [
    "Можно заметить, что при положительном параметре a ветви параболы направлены вверх, а при отрицательном a ветви параболы направлены вниз. Чем больше a по абсолютному значению, тем тоньще график. Чем ближе значение a к 0, тем толще график параболы."
   ]
  },
  {
   "cell_type": "markdown",
   "metadata": {
    "colab_type": "text",
    "id": "4NgpUvsxHfji"
   },
   "source": [
    "Рассмотрим следующую функцию: ![alt text](https://pp.userapi.com/c854224/v854224862/ac7fa/3eMdMqi0jDM.jpg)"
   ]
  },
  {
   "cell_type": "markdown",
   "metadata": {
    "colab_type": "text",
    "id": "DSEz5lLVMU7I"
   },
   "source": [
    "Посмотрим влияние коэффициентов на функцию."
   ]
  },
  {
   "cell_type": "code",
   "execution_count": 20,
   "metadata": {
    "colab": {},
    "colab_type": "code",
    "id": "m86lKH2CMZ96"
   },
   "outputs": [],
   "source": [
    "def polynom_bc(x, b, c):\n",
    "  y = x*x  + b*x + c\n",
    "  return y"
   ]
  },
  {
   "cell_type": "code",
   "execution_count": 21,
   "metadata": {
    "colab": {},
    "colab_type": "code",
    "id": "CcSJX1A4Mvo2"
   },
   "outputs": [],
   "source": [
    "x1 = np.linspace(-10, 10, 100)\n",
    "y1 = [polynom_bc(x1[i], -10, 0) for i in range(len(x1))]\n",
    "y2 = [polynom_bc(x1[i], -5, 0) for i in range(len(x1))]\n",
    "y3 = [polynom_bc(x1[i], 0, 0) for i in range(len(x1))]\n",
    "y4 = [polynom_bc(x1[i], 5, 0) for i in range(len(x1))]\n",
    "y5 = [polynom_bc(x1[i], 10, 0) for i in range(len(x1))]"
   ]
  },
  {
   "cell_type": "code",
   "execution_count": 22,
   "metadata": {
    "colab": {
     "base_uri": "https://localhost:8080/",
     "height": 294
    },
    "colab_type": "code",
    "id": "tV9HVqsKNApy",
    "outputId": "dcd784d2-f020-4715-ce86-87f0e0396018"
   },
   "outputs": [
    {
     "data": {
      "image/png": "[encoded data removed]",
      "text/plain": [
       "<Figure size 864x288 with 5 Axes>"
      ]
     },
     "metadata": {
      "needs_background": "light"
     },
     "output_type": "display_data"
    }
   ],
   "source": [
    "plt.figure(figsize=(12, 4))\n",
    "\n",
    "plt.subplot(151)\n",
    "plt.plot(x1,y1)\n",
    "plt.axvline(0, color='r')\n",
    "plt.axhline(0, color='r')\n",
    "\n",
    "plt.title('b=-10, c=0')\n",
    "plt.subplot(152)\n",
    "plt.axvline(0, color='r')\n",
    "plt.axhline(0, color='r')\n",
    "plt.plot(x1,y2)\n",
    "\n",
    "plt.title('b=-5, c=0')\n",
    "plt.subplot(153)\n",
    "plt.axvline(0, color='r')\n",
    "plt.axhline(0, color='r')\n",
    "plt.plot(x1,y3)\n",
    "\n",
    "plt.title('b=0, c=0')\n",
    "plt.subplot(154)\n",
    "plt.axvline(0, color='r')\n",
    "plt.axhline(0, color='r')\n",
    "plt.plot(x1,y4)\n",
    "\n",
    "\n",
    "plt.title('b=5, c=0')\n",
    "plt.subplot(155)\n",
    "plt.axvline(0, color='r')\n",
    "plt.axhline(0, color='r')\n",
    "plt.plot(x1,y5)\n",
    "\n",
    "plt.title('b=10, c=0')\n",
    "plt.suptitle('Зависимость графика от коэффициентов b и c')\n",
    "plt.show()"
   ]
  },
  {
   "cell_type": "code",
   "execution_count": 23,
   "metadata": {
    "colab": {},
    "colab_type": "code",
    "id": "448yR0HujN1f"
   },
   "outputs": [],
   "source": [
    "x1 = np.linspace(-10, 10, 100)\n",
    "y1 = [polynom_bc(x1[i], 0, -10) for i in range(len(x1))]\n",
    "y2 = [polynom_bc(x1[i], 0, -5) for i in range(len(x1))]\n",
    "y3 = [polynom_bc(x1[i], 0, 0) for i in range(len(x1))]\n",
    "y4 = [polynom_bc(x1[i], 0, 5) for i in range(len(x1))]\n",
    "y5 = [polynom_bc(x1[i], 0, 10) for i in range(len(x1))]"
   ]
  },
  {
   "cell_type": "code",
   "execution_count": 24,
   "metadata": {
    "colab": {
     "base_uri": "https://localhost:8080/",
     "height": 294
    },
    "colab_type": "code",
    "id": "dACVq8fcjens",
    "outputId": "fb2dc5ed-6b88-49e4-dc67-330301ed5dc8"
   },
   "outputs": [
    {
     "data": {
      "image/png": "[encoded data removed]",
      "text/plain": [
       "<Figure size 864x288 with 5 Axes>"
      ]
     },
     "metadata": {
      "needs_background": "light"
     },
     "output_type": "display_data"
    }
   ],
   "source": [
    "plt.figure(figsize=(12, 4))\n",
    "\n",
    "plt.subplot(151)\n",
    "plt.plot(x1,y1)\n",
    "plt.axvline(0, color='r')\n",
    "plt.axhline(0, color='r')\n",
    "\n",
    "plt.title('b=0, c=-10')\n",
    "plt.subplot(152)\n",
    "plt.axvline(0, color='r')\n",
    "plt.axhline(0, color='r')\n",
    "plt.plot(x1,y2)\n",
    "\n",
    "plt.title('b=0, c=-5')\n",
    "plt.subplot(153)\n",
    "plt.axvline(0, color='r')\n",
    "plt.axhline(0, color='r')\n",
    "plt.plot(x1,y3)\n",
    "\n",
    "plt.title('b=0, c=0')\n",
    "plt.subplot(154)\n",
    "plt.axvline(0, color='r')\n",
    "plt.axhline(0, color='r')\n",
    "plt.plot(x1,y4)\n",
    "\n",
    "\n",
    "plt.title('b=0, c=5')\n",
    "plt.subplot(155)\n",
    "plt.axvline(0, color='r')\n",
    "plt.axhline(0, color='r')\n",
    "plt.plot(x1,y5)\n",
    "\n",
    "plt.title('b=0, c=10')\n",
    "plt.suptitle('Зависимость графика от коэффициентов b и c')\n",
    "plt.show()"
   ]
  },
  {
   "cell_type": "markdown",
   "metadata": {
    "colab_type": "text",
    "id": "kA9WzwgCOfio"
   },
   "source": [
    "Можно заметить, что параметр c сдвигает вершину параболы по оси Oy на число, заданное c. Параметр b сдвигает вершину параболы по оси Ox. "
   ]
  },
  {
   "cell_type": "markdown",
   "metadata": {
    "colab_type": "text",
    "id": "5MO_RigJPU7Y"
   },
   "source": [
    "# Как представить следующие функцию ввиде графика?"
   ]
  },
  {
   "cell_type": "markdown",
   "metadata": {
    "colab_type": "text",
    "id": "QTg7QEJ1zG3r"
   },
   "source": [
    "Не все функции можно представить ввиде единой формулы, но любую функцию можно представить ввиде нескольких формул. Допустим, имеются следующие графики:"
   ]
  },
  {
   "cell_type": "markdown",
   "metadata": {
    "colab_type": "text",
    "id": "rtbQ4VyRzVqo"
   },
   "source": [
    "![alt text](https://prod-edxapp.edx-cdn.org/assets/courseware/v1/463b9a96e26ca1a2f31e0e0565bdae47/asset-v1:DelftX+Calc001x+2T2019+type@asset+block/1.2_multigraph.png)"
   ]
  },
  {
   "cell_type": "markdown",
   "metadata": {
    "colab_type": "text",
    "id": "9ywvYH5GzX21"
   },
   "source": [
    "Чтобы определить количество необходимых функций для графиков, можно применить **правило вертикальной линии**: проводим вертикальную линию на всем промежутке аргумента функции и считаем, сколько раз линия графика пересекает данную линию. Количество пересечений линий - это и есть минимально необходимое количество функций для преставления графика. "
   ]
  },
  {
   "cell_type": "markdown",
   "metadata": {
    "colab_type": "text",
    "id": "jO17GYXtz5N1"
   },
   "source": [
    "Получается, что для графика A необходимо минимум 3 линии, описанные своими фуункциями, для графика B - 4 линии (или 2 уравнения окружности). "
   ]
  },
  {
   "cell_type": "code",
   "execution_count": 25,
   "metadata": {
    "colab": {
     "base_uri": "https://localhost:8080/",
     "height": 295
    },
    "colab_type": "code",
    "id": "QMoubQEXIld3",
    "outputId": "062beaa7-a101-4313-c907-49f414657a56"
   },
   "outputs": [
    {
     "data": {
      "image/png": "[encoded data removed]",
      "text/plain": [
       "<Figure size 432x288 with 1 Axes>"
      ]
     },
     "metadata": {
      "needs_background": "light"
     },
     "output_type": "display_data"
    }
   ],
   "source": [
    "import math\n",
    "x1 = np.linspace(-1.0, 1.0, 100)\n",
    "y1 = [math.pow((1 - (x1[i])**2), 0.5) for i in range(len(x1))]\n",
    "\n",
    "x2 = np.linspace(-1.0, 1.0, 100)\n",
    "y2 = [-math.pow((1 - (x1[i])**2), 0.5) for i in range(len(x1))]\n",
    "\n",
    "plt.plot(x1, y1, x2, y2)\n",
    "plt.title('График окружности из двух полиномов')\n",
    "plt.ylabel('y')\n",
    "plt.xlabel('x')\n",
    "plt.legend(['полином 1: x^2+y^2=1', 'Полином 2: x^2+y^2=-1'])\n",
    "\n",
    "plt.show()"
   ]
  },
  {
   "cell_type": "code",
   "execution_count": 26,
   "metadata": {
    "colab": {
     "base_uri": "https://localhost:8080/",
     "height": 295
    },
    "colab_type": "code",
    "id": "tTK2koDuK9EK",
    "outputId": "2cb2ff52-f904-4c84-f352-d7ed5e61869b"
   },
   "outputs": [
    {
     "data": {
      "image/png": "[encoded data removed]",
      "text/plain": [
       "<Figure size 432x288 with 1 Axes>"
      ]
     },
     "metadata": {
      "needs_background": "light"
     },
     "output_type": "display_data"
    }
   ],
   "source": [
    "x1 = np.linspace(-3.0, 1.0, 100)\n",
    "y1 = [math.pow((4 - (x1[i]+1)**2), 0.5) for i in range(len(x1))]\n",
    "\n",
    "x2 = np.linspace(-1.0, 3.0, 100)\n",
    "y2 = [math.pow((4 - (x2[i]-1)**2), 0.5) for i in range(len(x1))]\n",
    "\n",
    "x3 = np.linspace(-3.0, 1.0, 100)\n",
    "y3 = [-math.pow((4 - (x3[i]+1)**2), 0.5) for i in range(len(x1))]\n",
    "\n",
    "x4 = np.linspace(-1.0, 3.0, 100)\n",
    "y4 = [-math.pow((4 - (x4[i]-1)**2), 0.5) for i in range(len(x1))]\n",
    "\n",
    "plt.plot(x1, y1, x2, y2, x3, y3, x4, y4)\n",
    "plt.title('График окружности из двух полиномов')\n",
    "plt.ylabel('y')\n",
    "plt.xlabel('x')\n",
    "plt.legend(['полином 1', 'Полином 2', 'Полином 3', 'Полином 4'])\n",
    "\n",
    "plt.show()"
   ]
  },
  {
   "cell_type": "markdown",
   "metadata": {
    "colab_type": "text",
    "id": "qaKxadGIaXU9"
   },
   "source": [
    "# Вычисление корней полинома."
   ]
  },
  {
   "cell_type": "markdown",
   "metadata": {
    "colab_type": "text",
    "id": "oUZ97rynadFr"
   },
   "source": [
    "Полином задан ввиде списка коэффициентов. \n",
    "Например, полином $y=x^4-2x^2+1/2$ будет задан ввиде p=[1, 0, -2, 0, 1/2]"
   ]
  },
  {
   "cell_type": "code",
   "execution_count": 27,
   "metadata": {
    "colab": {
     "base_uri": "https://localhost:8080/",
     "height": 34
    },
    "colab_type": "code",
    "id": "lLgV0EmGaabj",
    "outputId": "522c0a72-22b4-4b8c-8299-1dea802cb66b"
   },
   "outputs": [
    {
     "data": {
      "text/plain": [
       "array([-1.30656296,  1.30656296, -0.5411961 ,  0.5411961 ])"
      ]
     },
     "execution_count": 27,
     "metadata": {},
     "output_type": "execute_result"
    }
   ],
   "source": [
    "import numpy as np\n",
    "from numpy import roots\n",
    "p = [1, 0, -2, 0, 0.5]\n",
    "roots(p)"
   ]
  },
  {
   "cell_type": "markdown",
   "metadata": {
    "colab_type": "text",
    "id": "c-JA6tkAbDNa"
   },
   "source": [
    "Построим график полинома:"
   ]
  },
  {
   "cell_type": "code",
   "execution_count": 28,
   "metadata": {
    "colab": {
     "base_uri": "https://localhost:8080/",
     "height": 295
    },
    "colab_type": "code",
    "id": "KrDzY3YPbGyS",
    "outputId": "957d4f02-2ded-4498-c2ca-50d16078b534"
   },
   "outputs": [
    {
     "data": {
      "image/png": "[encoded data removed]",
      "text/plain": [
       "<Figure size 432x288 with 1 Axes>"
      ]
     },
     "metadata": {
      "needs_background": "light"
     },
     "output_type": "display_data"
    }
   ],
   "source": [
    "x = np.linspace(-2.0, 2.0, 100)\n",
    "y = [x[i]**4 - 2*x[i]**2 + 0.5 for i in range(len(x))]\n",
    "plt.plot(x, y)\n",
    "plt.axvline(0, color='r')\n",
    "plt.axhline(0, color='r')\n",
    "plt.title('График полинома y=x^4-2x^2+1/2')\n",
    "plt.ylabel('y')\n",
    "plt.xlabel('x')\n",
    "\n",
    "plt.show()"
   ]
  },
  {
   "cell_type": "markdown",
   "metadata": {
    "colab_type": "text",
    "id": "fzbzcwf9bzcD"
   },
   "source": [
    "Можно заметить, что корни, найденные в предыдущем примере, действительно совпадают с тем, что можно увидеть на графике."
   ]
  },
  {
   "cell_type": "markdown",
   "metadata": {
    "colab_type": "text",
    "id": "WN5c00p1T8TG"
   },
   "source": [
    "# Вычисление производной функции."
   ]
  },
  {
   "cell_type": "markdown",
   "metadata": {
    "colab_type": "text",
    "id": "ObmV0ID6UknW"
   },
   "source": [
    "библиотека SymPy (от слов Symbolic math и Python):"
   ]
  },
  {
   "cell_type": "code",
   "execution_count": 30,
   "metadata": {
    "colab": {
     "base_uri": "https://localhost:8080/",
     "height": 34
    },
    "colab_type": "code",
    "id": "XXFIz6EhiCvG",
    "outputId": "cd9e5374-f11d-469f-fe1b-85e2fc4a6d9b"
   },
   "outputs": [
    {
     "data": {
      "text/latex": [
       "$\\displaystyle - \\sin{\\left(x \\right)}$"
      ],
      "text/plain": [
       "-sin(x)"
      ]
     },
     "execution_count": 30,
     "metadata": {},
     "output_type": "execute_result"
    }
   ],
   "source": [
    "from sympy import diff, symbols, cos, sin\n",
    "x, y = symbols('x y')\n",
    "diff(cos(x))"
   ]
  },
  {
   "cell_type": "code",
   "execution_count": 31,
   "metadata": {
    "colab": {
     "base_uri": "https://localhost:8080/",
     "height": 34
    },
    "colab_type": "code",
    "id": "taylKfnDUwzl",
    "outputId": "62785783-6205-47d6-b6d6-8681ffba9aa8"
   },
   "outputs": [
    {
     "data": {
      "text/latex": [
       "$\\displaystyle - \\sin{\\left(x \\right)}$"
      ],
      "text/plain": [
       "-sin(x)"
      ]
     },
     "execution_count": 31,
     "metadata": {},
     "output_type": "execute_result"
    }
   ],
   "source": [
    "diff(cos(x) + 1j*sin(y), x)"
   ]
  },
  {
   "cell_type": "code",
   "execution_count": 32,
   "metadata": {
    "colab": {
     "base_uri": "https://localhost:8080/",
     "height": 34
    },
    "colab_type": "code",
    "id": "utEpr7jWUzlg",
    "outputId": "28458346-7b13-4b5d-b1ad-89dc661f558d"
   },
   "outputs": [
    {
     "data": {
      "text/latex": [
       "$\\displaystyle 1.0 i \\cos{\\left(y \\right)}$"
      ],
      "text/plain": [
       "1.0*I*cos(y)"
      ]
     },
     "execution_count": 32,
     "metadata": {},
     "output_type": "execute_result"
    }
   ],
   "source": [
    "diff(cos(x) + 1j*sin(y), y)"
   ]
  },
  {
   "cell_type": "markdown",
   "metadata": {
    "colab_type": "text",
    "id": "-qf9atWpY1ee"
   },
   "source": [
    "# Вычисление минимума и максимума функции."
   ]
  },
  {
   "cell_type": "markdown",
   "metadata": {
    "colab_type": "text",
    "id": "ve_dpTAeY7EV"
   },
   "source": [
    "Есть функция: \n",
    "\n",
    "$$y=x^4-2x^2+1/2$$"
   ]
  },
  {
   "cell_type": "markdown",
   "metadata": {
    "colab_type": "text",
    "id": "ekaei0upZrYQ"
   },
   "source": [
    "Найдем минимум и максимум функции.\n",
    "\n",
    "1) сгенерируем отрезок, на котором будем искать минимум и максимум;\n",
    "\n",
    "2) найдем значение функции на данном отрезке;\n",
    "\n",
    "3) найдем минимум и максимум."
   ]
  },
  {
   "cell_type": "code",
   "execution_count": 33,
   "metadata": {
    "colab": {
     "base_uri": "https://localhost:8080/",
     "height": 85
    },
    "colab_type": "code",
    "id": "9ZDQv2h9Zqg_",
    "outputId": "7aa4bac5-8906-4a44-f46b-7cb740e4bf85"
   },
   "outputs": [
    {
     "name": "stdout",
     "output_type": "stream",
     "text": [
      "x значение, при котором y минимально:  -0.9898989898989898\n",
      "минимальное значение функции:  -0.4995959904101622\n",
      "x значение, при котором y максимально:  -2.0\n",
      "максимальное значение функции:  8.5\n"
     ]
    }
   ],
   "source": [
    "x = np.linspace(-2.0, 2.0, 100)\n",
    "y = [x[i]**4 - 2*x[i]**2 + 0.5 for i in range(len(x))]\n",
    "min_x = np.argmin(y)\n",
    "print('x значение, при котором y минимально: ', x[min_x])\n",
    "min_y = min(y)\n",
    "print('минимальное значение функции: ', y[min_x])\n",
    "max_x = np.argmax(y)\n",
    "print('x значение, при котором y максимально: ', x[max_x])\n",
    "print('максимальное значение функции: ', y[max_x])"
   ]
  },
  {
   "cell_type": "markdown",
   "metadata": {
    "colab_type": "text",
    "id": "XLwxhYsqp7Zl"
   },
   "source": [
    "# Линейная регрессия"
   ]
  },
  {
   "cell_type": "markdown",
   "metadata": {
    "colab_type": "text",
    "id": "JGt1q8HOp_Eo"
   },
   "source": [
    "Линейная регрессия - подбор параметров кривой полинома к данным. "
   ]
  },
  {
   "cell_type": "code",
   "execution_count": 34,
   "metadata": {
    "colab": {},
    "colab_type": "code",
    "id": "Kcgna_lqskuR"
   },
   "outputs": [],
   "source": [
    "from sklearn.datasets import load_boston\n",
    "boston_dataset = load_boston()"
   ]
  },
  {
   "cell_type": "markdown",
   "metadata": {
    "colab_type": "text",
    "id": "qs4ezV5ywwBI"
   },
   "source": [
    "Каждая колонка - это определенный параметр, от которого зависит цена дома. "
   ]
  },
  {
   "cell_type": "code",
   "execution_count": 35,
   "metadata": {
    "colab": {
     "base_uri": "https://localhost:8080/",
     "height": 204
    },
    "colab_type": "code",
    "id": "gXjlWlU-wQaX",
    "outputId": "fb8c1ff0-9934-47a7-fe42-214bd7149c7b"
   },
   "outputs": [
    {
     "data": {
      "text/html": [
       "<div>\n",
       "<style scoped>\n",
       "    .dataframe tbody tr th:only-of-type {\n",
       "        vertical-align: middle;\n",
       "    }\n",
       "\n",
       "    .dataframe tbody tr th {\n",
       "        vertical-align: top;\n",
       "    }\n",
       "\n",
       "    .dataframe thead th {\n",
       "        text-align: right;\n",
       "    }\n",
       "</style>\n",
       "<table border=\"1\" class=\"dataframe\">\n",
       "  <thead>\n",
       "    <tr style=\"text-align: right;\">\n",
       "      <th></th>\n",
       "      <th>CRIM</th>\n",
       "      <th>ZN</th>\n",
       "      <th>INDUS</th>\n",
       "      <th>CHAS</th>\n",
       "      <th>NOX</th>\n",
       "      <th>RM</th>\n",
       "      <th>AGE</th>\n",
       "      <th>DIS</th>\n",
       "      <th>RAD</th>\n",
       "      <th>TAX</th>\n",
       "      <th>PTRATIO</th>\n",
       "      <th>B</th>\n",
       "      <th>LSTAT</th>\n",
       "    </tr>\n",
       "  </thead>\n",
       "  <tbody>\n",
       "    <tr>\n",
       "      <th>0</th>\n",
       "      <td>0.00632</td>\n",
       "      <td>18.0</td>\n",
       "      <td>2.31</td>\n",
       "      <td>0.0</td>\n",
       "      <td>0.538</td>\n",
       "      <td>6.575</td>\n",
       "      <td>65.2</td>\n",
       "      <td>4.0900</td>\n",
       "      <td>1.0</td>\n",
       "      <td>296.0</td>\n",
       "      <td>15.3</td>\n",
       "      <td>396.90</td>\n",
       "      <td>4.98</td>\n",
       "    </tr>\n",
       "    <tr>\n",
       "      <th>1</th>\n",
       "      <td>0.02731</td>\n",
       "      <td>0.0</td>\n",
       "      <td>7.07</td>\n",
       "      <td>0.0</td>\n",
       "      <td>0.469</td>\n",
       "      <td>6.421</td>\n",
       "      <td>78.9</td>\n",
       "      <td>4.9671</td>\n",
       "      <td>2.0</td>\n",
       "      <td>242.0</td>\n",
       "      <td>17.8</td>\n",
       "      <td>396.90</td>\n",
       "      <td>9.14</td>\n",
       "    </tr>\n",
       "    <tr>\n",
       "      <th>2</th>\n",
       "      <td>0.02729</td>\n",
       "      <td>0.0</td>\n",
       "      <td>7.07</td>\n",
       "      <td>0.0</td>\n",
       "      <td>0.469</td>\n",
       "      <td>7.185</td>\n",
       "      <td>61.1</td>\n",
       "      <td>4.9671</td>\n",
       "      <td>2.0</td>\n",
       "      <td>242.0</td>\n",
       "      <td>17.8</td>\n",
       "      <td>392.83</td>\n",
       "      <td>4.03</td>\n",
       "    </tr>\n",
       "    <tr>\n",
       "      <th>3</th>\n",
       "      <td>0.03237</td>\n",
       "      <td>0.0</td>\n",
       "      <td>2.18</td>\n",
       "      <td>0.0</td>\n",
       "      <td>0.458</td>\n",
       "      <td>6.998</td>\n",
       "      <td>45.8</td>\n",
       "      <td>6.0622</td>\n",
       "      <td>3.0</td>\n",
       "      <td>222.0</td>\n",
       "      <td>18.7</td>\n",
       "      <td>394.63</td>\n",
       "      <td>2.94</td>\n",
       "    </tr>\n",
       "    <tr>\n",
       "      <th>4</th>\n",
       "      <td>0.06905</td>\n",
       "      <td>0.0</td>\n",
       "      <td>2.18</td>\n",
       "      <td>0.0</td>\n",
       "      <td>0.458</td>\n",
       "      <td>7.147</td>\n",
       "      <td>54.2</td>\n",
       "      <td>6.0622</td>\n",
       "      <td>3.0</td>\n",
       "      <td>222.0</td>\n",
       "      <td>18.7</td>\n",
       "      <td>396.90</td>\n",
       "      <td>5.33</td>\n",
       "    </tr>\n",
       "  </tbody>\n",
       "</table>\n",
       "</div>"
      ],
      "text/plain": [
       "      CRIM    ZN  INDUS  CHAS    NOX     RM   AGE     DIS  RAD    TAX  \\\n",
       "0  0.00632  18.0   2.31   0.0  0.538  6.575  65.2  4.0900  1.0  296.0   \n",
       "1  0.02731   0.0   7.07   0.0  0.469  6.421  78.9  4.9671  2.0  242.0   \n",
       "2  0.02729   0.0   7.07   0.0  0.469  7.185  61.1  4.9671  2.0  242.0   \n",
       "3  0.03237   0.0   2.18   0.0  0.458  6.998  45.8  6.0622  3.0  222.0   \n",
       "4  0.06905   0.0   2.18   0.0  0.458  7.147  54.2  6.0622  3.0  222.0   \n",
       "\n",
       "   PTRATIO       B  LSTAT  \n",
       "0     15.3  396.90   4.98  \n",
       "1     17.8  396.90   9.14  \n",
       "2     17.8  392.83   4.03  \n",
       "3     18.7  394.63   2.94  \n",
       "4     18.7  396.90   5.33  "
      ]
     },
     "execution_count": 35,
     "metadata": {},
     "output_type": "execute_result"
    }
   ],
   "source": [
    "\n",
    "boston = pd.DataFrame(boston_dataset.data, columns=boston_dataset.feature_names)\n",
    "boston.head()"
   ]
  },
  {
   "cell_type": "markdown",
   "metadata": {
    "colab_type": "text",
    "id": "4-O4gHVevjKO"
   },
   "source": [
    "Значение цены на дом - это boston_dataset.target"
   ]
  },
  {
   "cell_type": "code",
   "execution_count": 36,
   "metadata": {
    "colab": {},
    "colab_type": "code",
    "id": "pEbORTLevnBq"
   },
   "outputs": [],
   "source": [
    "price = boston_dataset.target"
   ]
  },
  {
   "cell_type": "markdown",
   "metadata": {},
   "source": [
    "Отобразим точечную зависимость LSTAT параметра и MEDV параметра"
   ]
  },
  {
   "cell_type": "code",
   "execution_count": 37,
   "metadata": {
    "colab": {
     "base_uri": "https://localhost:8080/",
     "height": 295
    },
    "colab_type": "code",
    "id": "uCdh--gCv0PL",
    "outputId": "306878d4-bb85-4abc-b3b3-612bdb5112d3"
   },
   "outputs": [
    {
     "data": {
      "image/png": "[encoded data removed]",
      "text/plain": [
       "<Figure size 432x288 with 1 Axes>"
      ]
     },
     "metadata": {
      "needs_background": "light"
     },
     "output_type": "display_data"
    }
   ],
   "source": [
    "x = boston['LSTAT']\n",
    "y = price\n",
    "plt.scatter(x, y, marker='o')\n",
    "plt.title('LSTAT')\n",
    "plt.xlabel('LSTAT')\n",
    "plt.ylabel('MEDV')\n",
    "plt.show()"
   ]
  },
  {
   "cell_type": "markdown",
   "metadata": {
    "colab_type": "text",
    "id": "-ph7K66Gw5vj"
   },
   "source": [
    "Построим регрессионную модель на параметр LSTAT."
   ]
  },
  {
   "cell_type": "markdown",
   "metadata": {
    "colab_type": "text",
    "id": "2vK4fjpsxX-c"
   },
   "source": [
    "Линейная регрессия (полином первой степени)"
   ]
  },
  {
   "cell_type": "code",
   "execution_count": 38,
   "metadata": {
    "colab": {},
    "colab_type": "code",
    "id": "G-VjqRfxyJJ-"
   },
   "outputs": [],
   "source": [
    "x = np.array(x).reshape(-1, 1)"
   ]
  },
  {
   "cell_type": "code",
   "execution_count": 39,
   "metadata": {
    "colab": {
     "base_uri": "https://localhost:8080/",
     "height": 34
    },
    "colab_type": "code",
    "id": "e6O3Tp24xcoH",
    "outputId": "babddb30-4973-4217-b4dc-c91b78a0ac14"
   },
   "outputs": [
    {
     "data": {
      "text/plain": [
       "LinearRegression(copy_X=True, fit_intercept=True, n_jobs=None, normalize=False)"
      ]
     },
     "execution_count": 39,
     "metadata": {},
     "output_type": "execute_result"
    }
   ],
   "source": [
    "from sklearn.linear_model import LinearRegression\n",
    "from sklearn.metrics import mean_squared_error\n",
    "\n",
    "lin_model = LinearRegression()\n",
    "lin_model.fit(x, y)"
   ]
  },
  {
   "cell_type": "code",
   "execution_count": 40,
   "metadata": {
    "colab": {},
    "colab_type": "code",
    "id": "0FfDFw5kxy08"
   },
   "outputs": [],
   "source": [
    "y_predict = lin_model.predict(x)"
   ]
  },
  {
   "cell_type": "code",
   "execution_count": 41,
   "metadata": {
    "colab": {
     "base_uri": "https://localhost:8080/",
     "height": 295
    },
    "colab_type": "code",
    "id": "mSchU7qCyNx5",
    "outputId": "e25c240f-affd-47dc-c5e0-21582bccfff8"
   },
   "outputs": [
    {
     "data": {
      "image/png": "[encoded data removed]",
      "text/plain": [
       "<Figure size 432x288 with 1 Axes>"
      ]
     },
     "metadata": {
      "needs_background": "light"
     },
     "output_type": "display_data"
    }
   ],
   "source": [
    "plt.scatter(x, y, marker='o')\n",
    "plt.scatter(x, y_predict, marker='x')\n",
    "plt.title('LSTAT')\n",
    "plt.xlabel('LSTAT')\n",
    "plt.ylabel('MEDV')\n",
    "plt.legend(['исходные данные', 'полином 1ой степени'])\n",
    "plt.show()"
   ]
  },
  {
   "cell_type": "markdown",
   "metadata": {
    "colab_type": "text",
    "id": "XFsK8R_9yoTa"
   },
   "source": [
    "**Полиномиальная регрессия**"
   ]
  },
  {
   "cell_type": "code",
   "execution_count": 42,
   "metadata": {
    "colab": {},
    "colab_type": "code",
    "id": "n7pAr1Ejzeai"
   },
   "outputs": [],
   "source": [
    "from sklearn.preprocessing import PolynomialFeatures \n",
    "  \n",
    "poly = PolynomialFeatures(degree = 2) \n",
    "X_poly = poly.fit_transform(x) \n",
    "  \n",
    "poly.fit(X_poly, y) \n",
    "lin2 = LinearRegression()\n",
    "model = lin2.fit(X_poly, y) "
   ]
  },
  {
   "cell_type": "code",
   "execution_count": 43,
   "metadata": {
    "colab": {
     "base_uri": "https://localhost:8080/",
     "height": 295
    },
    "colab_type": "code",
    "id": "WLDPVXamzjcw",
    "outputId": "b0c2626e-61d0-4cd8-e6ad-430b3b137b2f"
   },
   "outputs": [
    {
     "data": {
      "image/png": "[encoded data removed]",
      "text/plain": [
       "<Figure size 432x288 with 1 Axes>"
      ]
     },
     "metadata": {
      "needs_background": "light"
     },
     "output_type": "display_data"
    }
   ],
   "source": [
    "y_pred = model.predict(poly.fit_transform(x))\n",
    "plt.scatter(x, y, marker='o')\n",
    "plt.scatter(x, y_pred, marker='x')\n",
    "plt.title('LSTAT')\n",
    "plt.xlabel('LSTAT')\n",
    "plt.ylabel('MEDV')\n",
    "plt.legend(['исходные данные', 'полином 2ой степени'])\n",
    "plt.show()"
   ]
  },
  {
   "cell_type": "code",
   "execution_count": null,
   "metadata": {},
   "outputs": [],
   "source": []
  }
 ],
 "metadata": {
  "colab": {
   "include_colab_link": true,
   "name": "Untitled",
   "provenance": [],
   "version": "0.3.2"
  },
  "kernelspec": {
   "display_name": "Python 3",
   "language": "python",
   "name": "python3"
  },
  "language_info": {
   "codemirror_mode": {
    "name": "ipython",
    "version": 3
   },
   "file_extension": ".py",
   "mimetype": "text/x-python",
   "name": "python",
   "nbconvert_exporter": "python",
   "pygments_lexer": "ipython3",
   "version": "3.6.9"
  }
 },
 "nbformat": 4,
 "nbformat_minor": 1
}
