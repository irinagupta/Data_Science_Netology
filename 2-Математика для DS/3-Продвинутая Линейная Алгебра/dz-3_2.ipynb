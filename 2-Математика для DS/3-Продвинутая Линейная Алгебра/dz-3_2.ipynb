{
 "cells": [
  {
   "cell_type": "markdown",
   "metadata": {},
   "source": [
    "Постройте зависимость качества восстановления рукописных цифр (MNIST) в зависимости от различного количества компонент PCA. В качестве метрики различия предлагаю использовать MSE. *\n",
    "\n",
    "У PCA есть метод transform и inverse_transofrm. Первый - снижает размерность, второй - восстанавливает оригинальные данные с потерей информации\n",
    "Надо посчитать насколько в среднем точно восстанавливается оригинальная картинка в зависимости от количества компонент в PCA\n",
    "В качестве справки можно использовать:"
   ]
  },
  {
   "cell_type": "code",
   "execution_count": 1,
   "metadata": {},
   "outputs": [],
   "source": [
    "import numpy as np\n",
    "import pandas as pd\n",
    "from sklearn.datasets import load_digits\n",
    "import matplotlib.pyplot as plt \n",
    "from sklearn.decomposition import PCA\n",
    "from sklearn.metrics import mean_squared_error\n",
    "float_formatter = lambda x: \"%.2f\" % x\n",
    "np.set_printoptions(formatter={'float_kind':float_formatter})"
   ]
  },
  {
   "cell_type": "code",
   "execution_count": 2,
   "metadata": {},
   "outputs": [
    {
     "name": "stdout",
     "output_type": "stream",
     "text": [
      "[[1 2]\n",
      " [2 3]]\n"
     ]
    }
   ],
   "source": [
    "# спектральное разложение\n",
    "m = np.array([[1, 2], [2,3]]) \n",
    "print(m)"
   ]
  },
  {
   "cell_type": "code",
   "execution_count": 3,
   "metadata": {},
   "outputs": [
    {
     "name": "stdout",
     "output_type": "stream",
     "text": [
      "Eigenvalues:\n",
      "[-0.24 4.24]\n",
      "\n",
      "Eigenvectors:\n",
      "[[-0.85 -0.53]\n",
      " [0.53 -0.85]]\n"
     ]
    }
   ],
   "source": [
    "a, U = np.linalg.eig(m)\n",
    "print('Eigenvalues:')\n",
    "print(np.array(a, dtype=float))\n",
    "print('\\nEigenvectors:')\n",
    "print(U)"
   ]
  },
  {
   "cell_type": "code",
   "execution_count": 4,
   "metadata": {},
   "outputs": [
    {
     "name": "stdout",
     "output_type": "stream",
     "text": [
      "[[1.00 2.00]\n",
      " [2.00 3.00]]\n"
     ]
    }
   ],
   "source": [
    "print(np.array(U.dot(np.diag(a)).dot(U.T), dtype=float))"
   ]
  },
  {
   "cell_type": "markdown",
   "metadata": {},
   "source": [
    "График зависимости качества восстановления рукописных цифр (MNIST) в зависимости от различного количества компонент PCA"
   ]
  },
  {
   "cell_type": "code",
   "execution_count": 6,
   "metadata": {},
   "outputs": [
    {
     "data": {
      "text/plain": [
       "<Figure size 432x288 with 0 Axes>"
      ]
     },
     "metadata": {},
     "output_type": "display_data"
    },
    {
     "data": {
      "image/png": "[encoded data removed]",
      "text/plain": [
       "<Figure size 288x288 with 1 Axes>"
      ]
     },
     "metadata": {
      "needs_background": "light"
     },
     "output_type": "display_data"
    }
   ],
   "source": [
    "# загружаем цифры и выбираем 0\n",
    "digits = load_digits()\n",
    "plt.gray() \n",
    "plt.matshow(digits.images[0]) \n",
    "plt.show()"
   ]
  },
  {
   "cell_type": "code",
   "execution_count": 7,
   "metadata": {},
   "outputs": [
    {
     "data": {
      "text/plain": [
       "array([[0.00, 0.00, 5.00, 13.00, 9.00, 1.00, 0.00, 0.00],\n",
       "       [0.00, 0.00, 13.00, 15.00, 10.00, 15.00, 5.00, 0.00],\n",
       "       [0.00, 3.00, 15.00, 2.00, 0.00, 11.00, 8.00, 0.00],\n",
       "       [0.00, 4.00, 12.00, 0.00, 0.00, 8.00, 8.00, 0.00],\n",
       "       [0.00, 5.00, 8.00, 0.00, 0.00, 9.00, 8.00, 0.00],\n",
       "       [0.00, 4.00, 11.00, 0.00, 1.00, 12.00, 7.00, 0.00],\n",
       "       [0.00, 2.00, 14.00, 5.00, 10.00, 12.00, 0.00, 0.00],\n",
       "       [0.00, 0.00, 6.00, 13.00, 10.00, 0.00, 0.00, 0.00]])"
      ]
     },
     "execution_count": 7,
     "metadata": {},
     "output_type": "execute_result"
    }
   ],
   "source": [
    "d = digits.images[0]\n",
    "digits.images[0]"
   ]
  },
  {
   "cell_type": "code",
   "execution_count": 8,
   "metadata": {},
   "outputs": [],
   "source": [
    "# создаем график для оценки качества восстановления цифр в заваисимотси от кол-ва компонент PCA\n",
    "d = digits.images[0]\n",
    "pca_dict = {}\n",
    "for n in range(1,9):\n",
    "    pca = PCA(n_components=n)\n",
    "    tranformed = pca.fit_transform(d)\n",
    "    new = pca.inverse_transform(tranformed)\n",
    "    mse = mean_squared_error(d, new, squared=True)\n",
    "    pca_dict[n] = mse"
   ]
  },
  {
   "cell_type": "code",
   "execution_count": 9,
   "metadata": {},
   "outputs": [
    {
     "data": {
      "image/png": "[encoded data removed]",
      "text/plain": [
       "<Figure size 432x288 with 1 Axes>"
      ]
     },
     "metadata": {
      "needs_background": "light"
     },
     "output_type": "display_data"
    }
   ],
   "source": [
    "# График\n",
    "pca_list = sorted(pca_dict.items())\n",
    "x, y = zip(*pca_list) \n",
    "\n",
    "plt.plot(x, y)\n",
    "plt.ylabel('mean_squared_error')\n",
    "plt.xlabel('n_components')\n",
    "plt.title('mean_squared_error by n_components')\n",
    "plt.show()"
   ]
  },
  {
   "cell_type": "code",
   "execution_count": null,
   "metadata": {},
   "outputs": [],
   "source": []
  }
 ],
 "metadata": {
  "kernelspec": {
   "display_name": "Python 3",
   "language": "python",
   "name": "python3"
  },
  "language_info": {
   "codemirror_mode": {
    "name": "ipython",
    "version": 3
   },
   "file_extension": ".py",
   "mimetype": "text/x-python",
   "name": "python",
   "nbconvert_exporter": "python",
   "pygments_lexer": "ipython3",
   "version": "3.7.6"
  }
 },
 "nbformat": 4,
 "nbformat_minor": 4
}
