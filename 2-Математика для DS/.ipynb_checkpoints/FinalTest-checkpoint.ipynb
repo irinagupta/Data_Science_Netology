{
 "cells": [
  {
   "cell_type": "code",
   "execution_count": 1,
   "metadata": {},
   "outputs": [],
   "source": [
    "import matplotlib.pyplot as plt\n",
    "import numpy as np\n",
    "import math\n",
    "\n",
    "from scipy.optimize import *\n",
    "%matplotlib inline"
   ]
  },
  {
   "cell_type": "markdown",
   "metadata": {},
   "source": [
    "### Задание 1"
   ]
  },
  {
   "cell_type": "markdown",
   "metadata": {},
   "source": [
    "Дана матрица рейтингов фильмов (строки - пользователи (10 человек), столбцы - фильмы (15 фильмов))"
   ]
  },
  {
   "cell_type": "code",
   "execution_count": 2,
   "metadata": {},
   "outputs": [],
   "source": [
    "raitings = np.array([[ 4,  4,  9,  4,  1,  6, 10,  7,  9,  6,  9,  2,  8,  6,  6],\n",
    "                     [ 9,  2,  5, 10,  7,  8, 10,  5,  6,  2,  1,  6,  8,  9,  7],\n",
    "                     [ 1,  6,  8,  8,  4,  9,  3,  8, 10,  5,  2,  6,  8,  1,  6],\n",
    "                     [ 6,  1,  9,  7,  7,  9,  2,  3,  5,  1,  6,  6,  3,  2,  7],\n",
    "                     [ 3,  7,  3,  5,  7,  9,  9,  6,  2,  9,  1,  2,  8, 10,  6],\n",
    "                     [ 8,  3,  7,  3,  8,  6,  1,  8,  8,  6,  1,  9,  4, 10,  1],\n",
    "                     [ 9,  8,  4,  8,  8, 10,  6,  1,  1,  2,  9,  5,  2,  7,  2],\n",
    "                     [ 4,  1,  6,  4,  3, 10,  4,  4,  2,  8,  7,  9,  3,  8,  3],\n",
    "                     [ 2,  7,  7,  6, 10,  6,  8,  9,  8,  6, 10,  1,  7, 10,  4],\n",
    "                     [ 5, 10,  8,  8,  9,  7,  2,  9,  9, 10,  8,  8,  8,  6, 10]])"
   ]
  },
  {
   "cell_type": "markdown",
   "metadata": {},
   "source": [
    "<b> a) </b> Необходимо найти наиболее похожего пользователя по косинусной метрике для каждого из (ответ: 10 пар вида (x, y), где y - наиболее похожий пользователь на пользователя x)."
   ]
  },
  {
   "cell_type": "code",
   "execution_count": 3,
   "metadata": {},
   "outputs": [
    {
     "name": "stdout",
     "output_type": "stream",
     "text": [
      "На 0 пользователя больше всего похож пользователь 8\n",
      "На 1 пользователя больше всего похож пользователь 4\n",
      "На 2 пользователя больше всего похож пользователь 9\n",
      "На 3 пользователя больше всего похож пользователь 9\n",
      "На 4 пользователя больше всего похож пользователь 8\n",
      "На 5 пользователя больше всего похож пользователь 9\n",
      "На 6 пользователя больше всего похож пользователь 3\n",
      "На 7 пользователя больше всего похож пользователь 5\n",
      "На 8 пользователя больше всего похож пользователь 0\n",
      "На 9 пользователя больше всего похож пользователь 2\n"
     ]
    }
   ],
   "source": [
    "for i in range(0, 10):\n",
    "    similar_user = 0\n",
    "    for j in range(0, 10):\n",
    "        if i != j:\n",
    "            x1 = raitings[i]\n",
    "            x2 = raitings[j]\n",
    "\n",
    "            cos_users = np.dot(x1, x2) / (np.linalg.norm(x1) * np.linalg.norm(x2))\n",
    "            \n",
    "            if cos_users > similar_user:\n",
    "                similar_user = cos_users\n",
    "                user = j\n",
    "    print(f'На {i} пользователя больше всего похож пользователь {user}')"
   ]
  },
  {
   "cell_type": "markdown",
   "metadata": {},
   "source": [
    "<b> b) </b>Предположим, вы захотели сжать признаковые описания пользователя с 15 фильмов, до, скажем, 5-ти признаков, как вы это сделаете?"
   ]
  },
  {
   "cell_type": "markdown",
   "metadata": {},
   "source": [
    "Можно использовать SVD метод"
   ]
  },
  {
   "cell_type": "code",
   "execution_count": 4,
   "metadata": {},
   "outputs": [],
   "source": [
    "from sklearn.decomposition import TruncatedSVD"
   ]
  },
  {
   "cell_type": "code",
   "execution_count": 5,
   "metadata": {},
   "outputs": [
    {
     "data": {
      "text/plain": [
       "array([[23.41982063, -5.36092136,  3.83196779, -4.06950174,  1.10267269],\n",
       "       [24.76774917,  4.52188701,  1.35815965,  1.58128545,  8.59912002],\n",
       "       [22.27728589, -6.96492049, -4.84461485, -0.47661647,  3.37152266],\n",
       "       [19.4257757 ,  2.64575227, -6.86014009, -4.76604765,  1.96075707],\n",
       "       [22.8146354 ,  0.51464093,  7.70180188,  4.42379773,  1.29124163],\n",
       "       [21.76961656,  1.94294987, -4.56934779,  8.32306487, -2.21887359],\n",
       "       [21.23427453,  9.78047778,  1.16340271, -4.86074521, -2.60815471],\n",
       "       [19.97476815,  4.00048677, -1.67456316,  1.1512346 , -3.5637169 ],\n",
       "       [26.39306998, -3.03090482,  5.86422753, -1.67503491, -3.71500141],\n",
       "       [29.94016844, -4.82012297, -3.48912415,  0.05527083, -3.62526487]])"
      ]
     },
     "execution_count": 5,
     "metadata": {},
     "output_type": "execute_result"
    }
   ],
   "source": [
    "svd = TruncatedSVD(n_components=5)\n",
    "new_raitings = svd.fit_transform(raitings)\n",
    "new_raitings"
   ]
  },
  {
   "cell_type": "markdown",
   "metadata": {},
   "source": [
    "### Задание 2"
   ]
  },
  {
   "cell_type": "markdown",
   "metadata": {},
   "source": [
    "Вычислите производную $tg^2(sin(x) + cos(2x+3))$ в точке $x_0=1$ на python."
   ]
  },
  {
   "cell_type": "code",
   "execution_count": 6,
   "metadata": {},
   "outputs": [],
   "source": [
    "from sympy import diff, cos, sin, tan, symbols\n",
    "from scipy.misc import derivative"
   ]
  },
  {
   "cell_type": "code",
   "execution_count": 7,
   "metadata": {},
   "outputs": [
    {
     "name": "stdout",
     "output_type": "stream",
     "text": [
      "f'(x) = 2*(-2*sin(2*x + 3) + cos(x))*(tan(sin(x) + cos(2*x + 3))**2 + 1)*tan(sin(x) + cos(2*x + 3))\n",
      "f'(1) = 55.3859176433136\n"
     ]
    }
   ],
   "source": [
    "def f(x):\n",
    "    return (tan(sin(x) + cos(2*x+3)))**2\n",
    "\n",
    "x = symbols('x')\n",
    "print(f\"f'(x) = {diff(f(x))}\")\n",
    "print(f\"f'(1) = {derivative(f, 1.0, dx=1e-6)}\")"
   ]
  },
  {
   "cell_type": "markdown",
   "metadata": {},
   "source": [
    "и на бумаге (просто подставить точку в производную и ничего не упрощать)"
   ]
  },
  {
   "cell_type": "markdown",
   "metadata": {},
   "source": [
    "f'(1) = 2*(-2*sin(5) + cos(1))*(tan(sin(1) + cos(5))**2 + 1)*tan(sin(1) + cos(5))"
   ]
  },
  {
   "cell_type": "markdown",
   "metadata": {},
   "source": [
    "### Задание 3"
   ]
  },
  {
   "cell_type": "markdown",
   "metadata": {},
   "source": [
    "Дана функция с неизвестными параметрами a и b, вам также известны значения функции fx в точках x. Найдите оптимальные параметры a, b, минимизирующие абсолютную ошибку <b>error</b>"
   ]
  },
  {
   "cell_type": "code",
   "execution_count": 8,
   "metadata": {},
   "outputs": [],
   "source": [
    "def f(x, a, b):\n",
    "    return np.e**a * np.sin(b*x) + x"
   ]
  },
  {
   "cell_type": "code",
   "execution_count": 9,
   "metadata": {},
   "outputs": [],
   "source": [
    "x = np.array([0.        , 0.26315789, 0.52631579, 0.78947368, 1.05263158,\n",
    "              1.31578947, 1.57894737, 1.84210526, 2.10526316, 2.36842105,\n",
    "              2.63157895, 2.89473684, 3.15789474, 3.42105263, 3.68421053,\n",
    "              3.94736842, 4.21052632, 4.47368421, 4.73684211, 5.        ])"
   ]
  },
  {
   "cell_type": "code",
   "execution_count": 10,
   "metadata": {},
   "outputs": [],
   "source": [
    "fx = np.array([  0.        , -12.01819092, -18.90968634, -17.68786571,\n",
    "                -8.7529108 ,   4.27524517,  16.06801336,  21.81250213,\n",
    "                19.22059845,   9.48411207,  -3.22273056, -13.48576488,\n",
    "               -16.91096359, -11.95866834,  -0.58630088,  12.56873816,\n",
    "                22.12489421,  24.20292139,  18.04522521,   6.33211092])"
   ]
  },
  {
   "cell_type": "code",
   "execution_count": 11,
   "metadata": {},
   "outputs": [
    {
     "data": {
      "image/png": "[encoded data removed]",
      "text/plain": [
       "<Figure size 432x288 with 1 Axes>"
      ]
     },
     "metadata": {
      "needs_background": "light"
     },
     "output_type": "display_data"
    }
   ],
   "source": [
    "plt.plot(x, fx)\n",
    "plt.grid()\n",
    "plt.show()"
   ]
  },
  {
   "cell_type": "code",
   "execution_count": 12,
   "metadata": {},
   "outputs": [],
   "source": [
    "def error(params):\n",
    "    return np.sum(np.abs(fx - f(x, params[0], params[1])))"
   ]
  },
  {
   "cell_type": "code",
   "execution_count": 13,
   "metadata": {},
   "outputs": [
    {
     "name": "stdout",
     "output_type": "stream",
     "text": [
      "a = 2.4299592460351045\n",
      "b = 0.20160452218345778\n"
     ]
    }
   ],
   "source": [
    "params = [0, 0]\n",
    "\n",
    "res = minimize(error, params)\n",
    "\n",
    "print('a =', res.x[0])\n",
    "print('b =', res.x[1])"
   ]
  },
  {
   "cell_type": "markdown",
   "metadata": {},
   "source": [
    "### Задание 4"
   ]
  },
  {
   "cell_type": "markdown",
   "metadata": {},
   "source": [
    "Создайте собственную дискретную случайную величину с 20 значениями. Сгенерируйте 1000 выборок размера 50. Посчитайте среднее для каждой выборки. Постройте гистограмму распределения средних."
   ]
  },
  {
   "cell_type": "code",
   "execution_count": 14,
   "metadata": {},
   "outputs": [
    {
     "data": {
      "image/png": "[encoded data removed]",
      "text/plain": [
       "<Figure size 432x288 with 1 Axes>"
      ]
     },
     "metadata": {
      "needs_background": "light"
     },
     "output_type": "display_data"
    }
   ],
   "source": [
    "sp = range(20)\n",
    "data = [np.mean([np.random.choice(sp) for i in range(50)]) for j in range(1000)]\n",
    "\n",
    "plt.hist(data, density=True)\n",
    "plt.ylabel('samples means')\n",
    "plt.xlabel('x')\n",
    "plt.show()"
   ]
  },
  {
   "cell_type": "markdown",
   "metadata": {},
   "source": [
    "### Задание 5"
   ]
  },
  {
   "cell_type": "markdown",
   "metadata": {},
   "source": [
    "Найдите собственные значения и собственные вектора матрицы (на python)\n",
    "\n",
    "[[1, 4],\n",
    "\n",
    " [1, 1]]"
   ]
  },
  {
   "cell_type": "code",
   "execution_count": 15,
   "metadata": {},
   "outputs": [
    {
     "name": "stdout",
     "output_type": "stream",
     "text": [
      "Собственное значение 3.0000000000000004\n",
      "соответствующий ему собственный вектор [ 0.89442719 -0.89442719]\n",
      "Собственное значение -0.9999999999999996\n",
      "соответствующий ему собственный вектор [0.4472136 0.4472136]\n"
     ]
    }
   ],
   "source": [
    "#собственные вектора\n",
    "m = np.array([[1, 4], [1, 1]])\n",
    "\n",
    "w, v = np.linalg.eig(m)\n",
    "for i in range(len(w)):\n",
    "    print(f\"Собственное значение {w[i]}\")\n",
    "    print(f\"соответствующий ему собственный вектор {v[i]}\")"
   ]
  },
  {
   "cell_type": "markdown",
   "metadata": {},
   "source": [
    "#### и на бумаге"
   ]
  },
  {
   "cell_type": "markdown",
   "metadata": {},
   "source": [
    "Матрица $\\begin{pmatrix}1 & 4\\\\ 1 & 1\\end{pmatrix} $"
   ]
  },
  {
   "cell_type": "markdown",
   "metadata": {},
   "source": [
    "Определитель матрицы $\\begin{vmatrix}1 - \\lambda & 4\\\\ 1 & 1 - \\lambda\\end{vmatrix} = 0 $"
   ]
  },
  {
   "cell_type": "markdown",
   "metadata": {},
   "source": [
    "$(1 - \\lambda)^2-4 = 0$"
   ]
  },
  {
   "cell_type": "markdown",
   "metadata": {},
   "source": [
    "$(1 - \\lambda)^2 = 4$"
   ]
  },
  {
   "cell_type": "markdown",
   "metadata": {},
   "source": [
    "$1 - \\lambda = 2 ;  1 - \\lambda = -2$"
   ]
  },
  {
   "cell_type": "markdown",
   "metadata": {},
   "source": [
    "$\\lambda_1 = -1 ; \\lambda_2 = 3 $"
   ]
  },
  {
   "cell_type": "markdown",
   "metadata": {},
   "source": [
    "$\\begin{equation*}\n",
    "     \\begin{cases}\n",
    "       2x + 4y = 0\n",
    "       \\\\\n",
    "       x + 2y = 0\n",
    "    \\end{cases}\n",
    "   \\end{equation*}\\;\\;$"
   ]
  },
  {
   "cell_type": "markdown",
   "metadata": {},
   "source": [
    "$\\Rightarrow\\;$ $ x = -2y$"
   ]
  },
  {
   "cell_type": "markdown",
   "metadata": {},
   "source": [
    "$\\begin{pmatrix}2 \\\\ -1\\end{pmatrix} $ - первый собственный вектор"
   ]
  },
  {
   "cell_type": "markdown",
   "metadata": {},
   "source": [
    "$\\begin{equation*}\n",
    " \\begin{cases}\n",
    "   -2x + 4y = 0, \n",
    "   \\\\\n",
    "   x - 2y = 0.\n",
    " \\end{cases}\n",
    "\\end{equation*}\\;\\;$"
   ]
  },
  {
   "cell_type": "markdown",
   "metadata": {},
   "source": [
    "$\\Rightarrow\\;$ $ x = 2y$"
   ]
  },
  {
   "cell_type": "markdown",
   "metadata": {},
   "source": [
    "$\\begin{pmatrix}2 \\\\ 1\\end{pmatrix} $ - второй собственный вектор"
   ]
  }
 ],
 "metadata": {
  "kernelspec": {
   "display_name": "Python 3",
   "language": "python",
   "name": "python3"
  },
  "language_info": {
   "codemirror_mode": {
    "name": "ipython",
    "version": 3
   },
   "file_extension": ".py",
   "mimetype": "text/x-python",
   "name": "python",
   "nbconvert_exporter": "python",
   "pygments_lexer": "ipython3",
   "version": "3.7.6"
  }
 },
 "nbformat": 4,
 "nbformat_minor": 2
}
