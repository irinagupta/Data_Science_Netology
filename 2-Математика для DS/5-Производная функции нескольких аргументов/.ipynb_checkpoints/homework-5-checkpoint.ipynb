{
 "cells": [
  {
   "cell_type": "code",
   "execution_count": 1,
   "metadata": {},
   "outputs": [],
   "source": [
    "import numpy as np\n",
    "from scipy.optimize import approx_fprime, minimize\n",
    "from sympy import *\n",
    "import math as math"
   ]
  },
  {
   "cell_type": "markdown",
   "metadata": {},
   "source": [
    "### Задание 1: \n",
    "Посчитайте частные производные функций\n",
    "(как обычно, необходимо решение на бумажке или в LaTeX и на scipy):"
   ]
  },
  {
   "cell_type": "markdown",
   "metadata": {},
   "source": [
    "1) $f(x,y)=2x^2y^3 + 1/x + y^2x + 7$, а для этой функции также градиент в точке $(1,2)$\n",
    "\n"
   ]
  },
  {
   "cell_type": "code",
   "execution_count": 2,
   "metadata": {},
   "outputs": [
    {
     "data": {
      "text/plain": [
       "array([35.00000024, 28.00000024])"
      ]
     },
     "execution_count": 2,
     "metadata": {},
     "output_type": "execute_result"
    }
   ],
   "source": [
    "def f1(x, c0, c1, c2):\n",
    "    return c0 * x[0]**2 * x[1]**3 + c1 / x[0] + c2 * x[1]**2 * x[0]\n",
    "\n",
    "x = np.array([1, 2])\n",
    "c0, c1, c2 = (2, 1, 1)\n",
    "eps = np.sqrt(np.finfo(float).eps)\n",
    "approx_fprime(x, f1, [eps, eps], c0, c1, c2)"
   ]
  },
  {
   "cell_type": "markdown",
   "metadata": {},
   "source": [
    "2) $f(x,y)=x^2y - sin(xy) + cos(x^2) + 6y$"
   ]
  },
  {
   "cell_type": "code",
   "execution_count": 3,
   "metadata": {},
   "outputs": [
    {
     "data": {
      "text/plain": [
       "array([3.14935184, 7.41614687])"
      ]
     },
     "execution_count": 3,
     "metadata": {},
     "output_type": "execute_result"
    }
   ],
   "source": [
    "def f2(x, c0, c1):\n",
    "    return c0*(x[0]**2)*x[1] - math.sin(x[0]*x[1]) + math.cos(x[0]*x[0]) + c1*x[1]\n",
    "\n",
    "c0, c1 = (1,6)\n",
    "eps = np.sqrt(np.finfo(float).eps)\n",
    "approx_fprime(x, f2, [eps, eps], c0, c1)"
   ]
  },
  {
   "cell_type": "code",
   "execution_count": 4,
   "metadata": {},
   "outputs": [],
   "source": [
    "x, y = symbols('x y')\n",
    "df_dx = diff(x**2*y - sin(x*y) + cos(x**2) + 6*y, x)\n",
    "df_dy = diff(x**2*y - sin(x*y) + cos(x**2) + 6*y, y)"
   ]
  },
  {
   "cell_type": "code",
   "execution_count": 5,
   "metadata": {},
   "outputs": [
    {
     "data": {
      "text/latex": [
       "$\\displaystyle 2 x y - 2 x \\sin{\\left(x^{2} \\right)} - y \\cos{\\left(x y \\right)}$"
      ],
      "text/plain": [
       "2*x*y - 2*x*sin(x**2) - y*cos(x*y)"
      ]
     },
     "execution_count": 5,
     "metadata": {},
     "output_type": "execute_result"
    }
   ],
   "source": [
    "df_dx"
   ]
  },
  {
   "cell_type": "code",
   "execution_count": 6,
   "metadata": {},
   "outputs": [
    {
     "data": {
      "text/latex": [
       "$\\displaystyle x^{2} - x \\cos{\\left(x y \\right)} + 6$"
      ],
      "text/plain": [
       "x**2 - x*cos(x*y) + 6"
      ]
     },
     "execution_count": 6,
     "metadata": {},
     "output_type": "execute_result"
    }
   ],
   "source": [
    "df_dy"
   ]
  },
  {
   "cell_type": "markdown",
   "metadata": {},
   "source": [
    "### Задание 2:\n",
    "\n",
    "Градиентный спуск своими руками"
   ]
  },
  {
   "cell_type": "code",
   "execution_count": 7,
   "metadata": {},
   "outputs": [
    {
     "name": "stdout",
     "output_type": "stream",
     "text": [
      "[5.09259042e-08 1.01851802e-07] grad\n",
      "[5.09259042e-09 1.01851802e-08] dx\n",
      "[1.29197811e-08 3.32901401e-08] new x\n",
      "\n",
      " f(x) = 0.0\n"
     ]
    }
   ],
   "source": [
    "def f1(x):\n",
    "    return (x[0]**2) + (x[1]**2) \n",
    "\n",
    "x = np.array([100, 200])\n",
    "learning_rate = 0.1\n",
    "y = f1(x)\n",
    "for i in range(100):\n",
    "    eps = np.sqrt(np.finfo(float).eps)\n",
    "    grad =  approx_fprime(x, f1, eps) # градиент в х\n",
    "    dx = learning_rate * grad\n",
    "    x = x - dx # следующее х\n",
    "    y = round(f1(x),6)  #  значение функции в новой х\n",
    "print(f'{grad} grad\\n{dx} dx\\n{x} new x\\n')\n",
    "print(f' f(x) = {y}')"
   ]
  },
  {
   "cell_type": "markdown",
   "metadata": {},
   "source": [
    "Проверка с помощью встроенной функции numpy: "
   ]
  },
  {
   "cell_type": "code",
   "execution_count": 8,
   "metadata": {},
   "outputs": [
    {
     "name": "stdout",
     "output_type": "stream",
     "text": [
      "Optimization terminated successfully.\n",
      "         Current function value: 0.000000\n",
      "         Iterations: 85\n",
      "         Function evaluations: 164\n"
     ]
    }
   ],
   "source": [
    "def f2(x):\n",
    "    return (x[0]**2) + (x[1]**2)\n",
    "\n",
    "x0 = np.array([100, 200])\n",
    "res = minimize(f2, x0, method='nelder-mead', options={'xtol': 1e-8, 'disp':True})"
   ]
  },
  {
   "cell_type": "code",
   "execution_count": null,
   "metadata": {},
   "outputs": [],
   "source": []
  }
 ],
 "metadata": {
  "kernelspec": {
   "display_name": "Python 3",
   "language": "python",
   "name": "python3"
  },
  "language_info": {
   "codemirror_mode": {
    "name": "ipython",
    "version": 3
   },
   "file_extension": ".py",
   "mimetype": "text/x-python",
   "name": "python",
   "nbconvert_exporter": "python",
   "pygments_lexer": "ipython3",
   "version": "3.7.6"
  }
 },
 "nbformat": 4,
 "nbformat_minor": 2
}
