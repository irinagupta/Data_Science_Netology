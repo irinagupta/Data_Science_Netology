{
  "nbformat": 4,
  "nbformat_minor": 0,
  "metadata": {
    "colab": {
      "name": "Untitled",
      "provenance": []
    },
    "kernelspec": {
      "name": "python3",
      "display_name": "Python 3"
    }
  },
  "cells": [
    {
      "cell_type": "markdown",
      "metadata": {
        "id": "OpSmzcKfp3SU",
        "colab_type": "text"
      },
      "source": [
        "# Математика для Data Science.\n",
        "# Домашнее задание №1."
      ]
    },
    {
      "cell_type": "markdown",
      "metadata": {
        "id": "ihQLrzZbjoY0",
        "colab_type": "text"
      },
      "source": [
        "Загрузим датасет о ценах на дома в Бостоне. "
      ]
    },
    {
      "cell_type": "code",
      "metadata": {
        "id": "douSu7wTjKRH",
        "colab_type": "code",
        "outputId": "0eaa2574-d438-4f5c-afd3-4059a17497b9",
        "colab": {
          "base_uri": "https://localhost:8080/",
          "height": 34
        }
      },
      "source": [
        "from sklearn.datasets import load_boston\n",
        "boston = load_boston()\n",
        "print(boston.data.shape)"
      ],
      "execution_count": 1,
      "outputs": [
        {
          "output_type": "stream",
          "text": [
            "(506, 13)\n"
          ],
          "name": "stdout"
        }
      ]
    },
    {
      "cell_type": "markdown",
      "metadata": {
        "id": "PDTdKB5akONC",
        "colab_type": "text"
      },
      "source": [
        "Каждый дом - это вектор в 13-мерном пространстве. \n",
        "Написать код для подсчета скалярного произведения двух первых домов из датасета."
      ]
    },
    {
      "cell_type": "code",
      "metadata": {
        "id": "jNVvfGCskcIk",
        "colab_type": "code",
        "colab": {}
      },
      "source": [
        "x1 = boston.data[0] # дом 1\n",
        "x2 = boston.data[1] # дом 2"
      ],
      "execution_count": 0,
      "outputs": []
    },
    {
      "cell_type": "code",
      "metadata": {
        "id": "S6Hm7OQ7lVyZ",
        "colab_type": "code",
        "outputId": "0f18860a-1f36-4a64-b9b9-e1ac9ca397db",
        "colab": {
          "base_uri": "https://localhost:8080/",
          "height": 34
        }
      },
      "source": [
        ""
      ],
      "execution_count": 0,
      "outputs": [
        {
          "output_type": "execute_result",
          "data": {
            "text/plain": [
              "234704.86490859918"
            ]
          },
          "metadata": {
            "tags": []
          },
          "execution_count": 7
        }
      ]
    },
    {
      "cell_type": "markdown",
      "metadata": {
        "id": "38tBlmuV-KAv",
        "colab_type": "text"
      },
      "source": [
        "этап 2: взять два атрибута и посчитать скалярное произведение двух векторов (2 дома), начертить 2 дома как вектора в двухмерном пространстве, и сравниваем графически и через скалярное произведение.\n"
      ]
    },
    {
      "cell_type": "code",
      "metadata": {
        "id": "5uNrOesT91Lt",
        "colab_type": "code",
        "colab": {}
      },
      "source": [
        ""
      ],
      "execution_count": 0,
      "outputs": []
    },
    {
      "cell_type": "markdown",
      "metadata": {
        "id": "2AknD0-RGEZC",
        "colab_type": "text"
      },
      "source": [
        "Нарисовать два дома в 3-мерном пространстве (атрибуты выбрать самостоятельно)"
      ]
    },
    {
      "cell_type": "code",
      "metadata": {
        "id": "eurji0KYGNSC",
        "colab_type": "code",
        "colab": {}
      },
      "source": [
        ""
      ],
      "execution_count": 0,
      "outputs": []
    },
    {
      "cell_type": "markdown",
      "metadata": {
        "id": "ffAL_WZulPzJ",
        "colab_type": "text"
      },
      "source": [
        "Найти косинус угла между векторами x1 и x2, где x1 и x2 - это два дома из 2ух атрибутов, полученных на этапе 2."
      ]
    },
    {
      "cell_type": "markdown",
      "metadata": {
        "id": "jKUuUpQMmB2r",
        "colab_type": "text"
      },
      "source": [
        "Найти расстояние между точками x1 и x2."
      ]
    },
    {
      "cell_type": "code",
      "metadata": {
        "id": "lnEoZI3BC7ck",
        "colab_type": "code",
        "colab": {}
      },
      "source": [
        ""
      ],
      "execution_count": 0,
      "outputs": []
    },
    {
      "cell_type": "markdown",
      "metadata": {
        "id": "wozKOh5GC8D9",
        "colab_type": "text"
      },
      "source": [
        "# Задание повышенного уровня."
      ]
    },
    {
      "cell_type": "markdown",
      "metadata": {
        "id": "z1Er_O3JDKxz",
        "colab_type": "text"
      },
      "source": [
        "Задан объект в пространстве 2D. \n",
        "Изменить положение объекта (сместить по оси x на 300 пикселей, по оси y на 200 пикселей)."
      ]
    },
    {
      "cell_type": "code",
      "metadata": {
        "id": "unC4PyXwDKST",
        "colab_type": "code",
        "outputId": "23cca84e-8f47-4487-ebce-9b3b68654d8f",
        "colab": {
          "base_uri": "https://localhost:8080/",
          "height": 286
        }
      },
      "source": [
        "import numpy as np\n",
        "import matplotlib.pyplot as plt\n",
        "\n",
        "A = [\n",
        "    [-100, -100, 1],\n",
        "    [-100, 100, 1],\n",
        "    [100, 100, 1],\n",
        "    [0, 0, 1],\n",
        "    [100, -100, 1],\n",
        "    [-100, -100, 1]\n",
        "    ]\n",
        "A = np.array(A)\n",
        "x = A[:,0]\n",
        "y = A[:,1]\n",
        "plt.plot(x, y)\n",
        "plt.ylim([-200, 200])\n",
        "plt.xlim([-200, 200])"
      ],
      "execution_count": 0,
      "outputs": [
        {
          "output_type": "execute_result",
          "data": {
            "text/plain": [
              "(-200, 200)"
            ]
          },
          "metadata": {
            "tags": []
          },
          "execution_count": 5
        },
        {
          "output_type": "display_data",
          "data": {
            "image/png": "[encoded data removed]",
            "text/plain": [
              "<Figure size 432x288 with 1 Axes>"
            ]
          },
          "metadata": {
            "tags": []
          }
        }
      ]
    },
    {
      "cell_type": "markdown",
      "metadata": {
        "id": "FWbkXv7VEmuI",
        "colab_type": "text"
      },
      "source": [
        "Уменьшить объект в два раза."
      ]
    },
    {
      "cell_type": "code",
      "metadata": {
        "id": "AoPVk99vEpk_",
        "colab_type": "code",
        "colab": {}
      },
      "source": [
        ""
      ],
      "execution_count": 0,
      "outputs": []
    },
    {
      "cell_type": "markdown",
      "metadata": {
        "id": "8IqwJAaDEhfk",
        "colab_type": "text"
      },
      "source": [
        "Повернуть на 130 градусов."
      ]
    },
    {
      "cell_type": "code",
      "metadata": {
        "id": "6FYVVgkjEkXs",
        "colab_type": "code",
        "colab": {}
      },
      "source": [
        ""
      ],
      "execution_count": 0,
      "outputs": []
    },
    {
      "cell_type": "markdown",
      "metadata": {
        "id": "yqh6o8z3Ek1q",
        "colab_type": "text"
      },
      "source": [
        "Отразить объект относительно прямой y=x"
      ]
    },
    {
      "cell_type": "code",
      "metadata": {
        "id": "ox3_9-6BExFW",
        "colab_type": "code",
        "colab": {}
      },
      "source": [
        ""
      ],
      "execution_count": 0,
      "outputs": []
    },
    {
      "cell_type": "markdown",
      "metadata": {
        "id": "CUbiGMEa-4Kn",
        "colab_type": "text"
      },
      "source": [
        "Выполнить смещение объекта и масштабирование (применить 2 матрицы трансформаций). Смещение на (200, 300) и масштабирование на (0.5, 1,2)"
      ]
    }
  ]
}