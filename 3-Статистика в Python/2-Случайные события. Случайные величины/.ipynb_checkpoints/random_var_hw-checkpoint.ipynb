{
 "cells": [
  {
   "cell_type": "markdown",
   "metadata": {},
   "source": [
    "Домашнее задание\n",
    "\n",
    "Смоделировать игру против лотерейного автомата\n",
    "типа \"777\". Игрок платит 1 руб., после чего выпадает\n",
    "случайное целое число, равномерно распределенное\n",
    "от 0 до 999. При некоторых значениях числа игрок\n",
    "получает выигрыш (см. справа)\n",
    "\n",
    "● Выгодна ли игра игроку?\n",
    "\n",
    "● Сколько в среднем приобретает\n",
    "или теряет игрок за одну игру?"
   ]
  },
  {
   "cell_type": "markdown",
   "metadata": {},
   "source": [
    "777: 200 руб.\n",
    "999: 100 руб.\n",
    "555: 50 руб.\n",
    "333: 15 руб.\n",
    "111: 10 руб.\n",
    "*77: 5 руб.\n",
    "**7: 3 руб.\n",
    "*00: 2 руб.\n",
    "**0: 1 руб.\n",
    "* – любая цифра"
   ]
  },
  {
   "cell_type": "code",
   "execution_count": 1,
   "metadata": {},
   "outputs": [],
   "source": [
    "import numpy as np"
   ]
  },
  {
   "cell_type": "code",
   "execution_count": 2,
   "metadata": {},
   "outputs": [
    {
     "name": "stdout",
     "output_type": "stream",
     "text": [
      "Выйграно 593 рублей в 208 играх из 1000 попыток\n",
      "Вероятность выйгрыша 0.208, выгода/убыток -407 руб\n"
     ]
    }
   ],
   "source": [
    "trials = 1000  # Кол-ва игр\n",
    "wins = 0 # Кол-во побед\n",
    "money = 0 # Денежный выигрыш.\n",
    "for i in range(trials):\n",
    "    random_score = np.random.randint(0,1000)\n",
    "    if random_score == 777:\n",
    "        money += 200\n",
    "        wins += 1\n",
    "    elif random_score == 999:\n",
    "        money += 100\n",
    "        wins += 1\n",
    "    elif random_score == 555:\n",
    "        money += 50\n",
    "        wins += 1\n",
    "    elif random_score == 333:\n",
    "        money += 15\n",
    "        wins += 1\n",
    "    elif random_score == 111:\n",
    "        money += 10\n",
    "        wins += 1\n",
    "    elif random_score % 100 == 77:\n",
    "        money += 5\n",
    "        wins += 1\n",
    "    elif random_score % 10 == 7:\n",
    "        money += 3\n",
    "        wins += 1\n",
    "    elif random_score % 100 == 0:\n",
    "        money += 2 \n",
    "        wins += 1\n",
    "    elif random_score % 10 == 0:\n",
    "        money += 1\n",
    "        wins += 1\n",
    "p_monte_carlo = wins / trials\n",
    "profit = money - trials\n",
    "print(f'Выйграно {money} рублей в {wins} играх из {trials} попыток')\n",
    "print(f'Вероятность выйгрыша {p_monte_carlo}, выгода/убыток {profit} руб')"
   ]
  },
  {
   "cell_type": "markdown",
   "metadata": {},
   "source": [
    "Дополнительное задание повышенной\n",
    "сложности. \n",
    "\n",
    "Теоретически рассчитать средний\n",
    "выигрыш (проигрыш) и сравнить с результатами\n",
    "моделирования"
   ]
  },
  {
   "cell_type": "code",
   "execution_count": 3,
   "metadata": {},
   "outputs": [
    {
     "name": "stdout",
     "output_type": "stream",
     "text": [
      "Теоретический выигрыш на каждую затраченную 1000 рублей:\n",
      "800\n"
     ]
    }
   ],
   "source": [
    "print('Теоретический выигрыш на каждую затраченную 1000 рублей:')\n",
    "print(200 * 1 + 100 * 1 + 50 * 1 + 15 * 1 + 10 * 1 + 5 * 9 + 3 * 90 + 2 * 10 + 1 * 90)"
   ]
  }
 ],
 "metadata": {
  "kernelspec": {
   "display_name": "Python 3",
   "language": "python",
   "name": "python3"
  },
  "language_info": {
   "codemirror_mode": {
    "name": "ipython",
    "version": 3
   },
   "file_extension": ".py",
   "mimetype": "text/x-python",
   "name": "python",
   "nbconvert_exporter": "python",
   "pygments_lexer": "ipython3",
   "version": "3.7.6"
  }
 },
 "nbformat": 4,
 "nbformat_minor": 4
}
