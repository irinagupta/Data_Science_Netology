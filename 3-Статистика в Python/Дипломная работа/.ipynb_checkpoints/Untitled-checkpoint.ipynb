{
 "cells": [
  {
   "cell_type": "markdown",
   "metadata": {},
   "source": [
    "Задание\n",
    "\n",
    "Дан файл HR.csv с данными по опросу уровня удовлетворенности сотрудниками работой.\n",
    "\n",
    "Файл доступен тут -\n",
    "\n",
    "https://drive.google.com/file/d/1INgo03nal-vwFJe7Lec5vOUtOwfJdUr1/view?usp=sharing\n",
    "\n",
    "Признаки:\n",
    "\n",
    "1. satisfaction_level - Уровень удовлетворенности работой\n",
    "\n",
    "2. Last_evaluation - Время с момента последней оценки в годах\n",
    "\n",
    "3. number_projects - Количество проектов, выполненных за время работы\n",
    "\n",
    "4. average_monthly_hours - Среднее количество часов на рабочем месте в месяц\n",
    "\n",
    "5. time_spend_company - Стаж работы в компании в годах\n",
    "\n",
    "6. work_accident - Происходили ли несчастные случаи на рабочем месте с сотрудником\n",
    "\n",
    "7. left - уволился ли сотрудник\n",
    "\n",
    "8. promotion_last_5years - повышался ли сотрудник за последние пять лет\n",
    "\n",
    "9. department - отдел в котором работает сотрудник\n",
    "\n",
    "10. salary - относительный уровень зарплаты\n",
    "\n",
    "Требуется выполнить следующее задание:"
   ]
  },
  {
   "cell_type": "markdown",
   "metadata": {},
   "source": [
    "1 Загрузите файл HR.csv в pandas dataframe - 5 Баллов"
   ]
  },
  {
   "cell_type": "code",
   "execution_count": null,
   "metadata": {},
   "outputs": [],
   "source": []
  },
  {
   "cell_type": "markdown",
   "metadata": {},
   "source": [
    "2 Рассчитайте основные статистики для переменных\n",
    "(среднее,медиана,мода,мин/макс,сред.отклонение) - \n",
    "10 Баллов\n"
   ]
  },
  {
   "cell_type": "code",
   "execution_count": null,
   "metadata": {},
   "outputs": [],
   "source": []
  },
  {
   "cell_type": "markdown",
   "metadata": {},
   "source": [
    "3  Рассчитайте и визуализировать корреляционную матрицу для\n",
    "количественных переменных.\n",
    "\n",
    "Определите две самые скоррелированные и две наименее\n",
    "скоррелированные переменные - 10 Баллов\n",
    "\n"
   ]
  },
  {
   "cell_type": "code",
   "execution_count": null,
   "metadata": {},
   "outputs": [],
   "source": []
  },
  {
   "cell_type": "markdown",
   "metadata": {},
   "source": [
    "4 Рассчитайте сколько сотрудников работает в каждом\n",
    "департаменте - 5 Баллов\n"
   ]
  },
  {
   "cell_type": "code",
   "execution_count": null,
   "metadata": {},
   "outputs": [],
   "source": []
  },
  {
   "cell_type": "markdown",
   "metadata": {},
   "source": [
    "5 Показать распределение сотрудников по зарплатам - 5 Баллов\n"
   ]
  },
  {
   "cell_type": "code",
   "execution_count": null,
   "metadata": {},
   "outputs": [],
   "source": []
  },
  {
   "cell_type": "markdown",
   "metadata": {},
   "source": [
    "6 Показать распределение сотрудников по зарплатам в каждом\n",
    "департаменте по отдельности - 5 Баллов\n"
   ]
  },
  {
   "cell_type": "code",
   "execution_count": null,
   "metadata": {},
   "outputs": [],
   "source": []
  },
  {
   "cell_type": "markdown",
   "metadata": {},
   "source": [
    "7 Проверить гипотезу, что сотрудники с высоким окладом\n",
    "проводят на работе больше времени, чем сотрудники с низким\n",
    "окладом - 10 Баллов\n"
   ]
  },
  {
   "cell_type": "code",
   "execution_count": null,
   "metadata": {},
   "outputs": [],
   "source": []
  },
  {
   "cell_type": "markdown",
   "metadata": {},
   "source": [
    "8 Рассчитать следующие показатели среди уволившихся и не\n",
    "уволившихся сотрудников (по отдельности): - 10 Баллов\n",
    "\n",
    "● Доля сотрудников с повышением за последние 5 лет\n",
    "\n",
    "● Средняя степень удовлетворенности\n",
    "\n",
    "● Среднее количество проектов\n"
   ]
  },
  {
   "cell_type": "code",
   "execution_count": null,
   "metadata": {},
   "outputs": [],
   "source": []
  },
  {
   "cell_type": "markdown",
   "metadata": {},
   "source": [
    "9 Разделить данные на тестовую и обучающую выборки\n",
    "Построить модель LDA, предсказывающую уволился ли\n",
    "сотрудник на основе имеющихся факторов (кроме department и\n",
    "salary)\n",
    "\n",
    "Оценить качество модели на тестовой выборки - 20 Баллов\n"
   ]
  },
  {
   "cell_type": "code",
   "execution_count": null,
   "metadata": {},
   "outputs": [],
   "source": []
  },
  {
   "cell_type": "markdown",
   "metadata": {},
   "source": [
    "10 Загрузить jupyter notebook с решение на github и прислать ссылку - 5 Баллов\n",
    " \n",
    "Итого - максимум 85 баллов\n",
    "\n",
    "Для зачета необходимо набрать минимум 55"
   ]
  }
 ],
 "metadata": {
  "kernelspec": {
   "display_name": "Python 3",
   "language": "python",
   "name": "python3"
  },
  "language_info": {
   "codemirror_mode": {
    "name": "ipython",
    "version": 3
   },
   "file_extension": ".py",
   "mimetype": "text/x-python",
   "name": "python",
   "nbconvert_exporter": "python",
   "pygments_lexer": "ipython3",
   "version": "3.7.6"
  }
 },
 "nbformat": 4,
 "nbformat_minor": 4
}
