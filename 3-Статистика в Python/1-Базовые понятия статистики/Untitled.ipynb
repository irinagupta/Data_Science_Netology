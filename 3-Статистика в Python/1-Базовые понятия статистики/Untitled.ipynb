{
 "cells": [
  {
   "cell_type": "code",
   "execution_count": 32,
   "metadata": {},
   "outputs": [
    {
     "name": "stdout",
     "output_type": "stream",
     "text": [
      "100\n",
      "200\n",
      "300\n",
      "300\n",
      "200\n"
     ]
    }
   ],
   "source": [
    "def fun1():\n",
    "    x=100\n",
    "    def fun2():\n",
    "        nonlocal x\n",
    "        x=200\n",
    "        print(x)\n",
    "        def fun3():\n",
    "            nonlocal x\n",
    "            x=300\n",
    "        fun3()\n",
    "        print(x)\n",
    "    print(x)\n",
    "    fun2()\n",
    "    print(x)\n",
    "fun1()\n",
    "print(x)\n",
    "# fun1()\n",
    "# print(x)"
   ]
  },
  {
   "cell_type": "code",
   "execution_count": null,
   "metadata": {},
   "outputs": [],
   "source": []
  }
 ],
 "metadata": {
  "kernelspec": {
   "display_name": "Python 3",
   "language": "python",
   "name": "python3"
  },
  "language_info": {
   "codemirror_mode": {
    "name": "ipython",
    "version": 3
   },
   "file_extension": ".py",
   "mimetype": "text/x-python",
   "name": "python",
   "nbconvert_exporter": "python",
   "pygments_lexer": "ipython3",
   "version": "3.7.6"
  }
 },
 "nbformat": 4,
 "nbformat_minor": 4
}
